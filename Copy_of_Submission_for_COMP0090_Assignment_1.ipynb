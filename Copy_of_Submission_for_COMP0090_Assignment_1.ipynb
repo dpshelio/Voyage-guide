{
  "nbformat": 4,
  "nbformat_minor": 0,
  "metadata": {
    "kernelspec": {
      "name": "julia-1.0",
      "display_name": "Julia 1.0"
    },
    "accelerator": "GPU",
    "colab": {
      "name": "Copy of Submission for COMP0090 Assignment 1",
      "provenance": [],
      "collapsed_sections": [
        "-SmXUwcNjO3p",
        "QUjhytK5jaHz"
      ],
      "include_colab_link": true
    }
  },
  "cells": [
    {
      "cell_type": "markdown",
      "metadata": {
        "id": "view-in-github",
        "colab_type": "text"
      },
      "source": [
        "<a href=\"https://colab.research.google.com/github/bassmang/Travel-guide/blob/master/Copy_of_Submission_for_COMP0090_Assignment_1.ipynb\" target=\"_parent\"><img src=\"https://colab.research.google.com/assets/colab-badge.svg\" alt=\"Open In Colab\"/></a>"
      ]
    },
    {
      "cell_type": "markdown",
      "metadata": {
        "id": "Q7S9cpFJqfXy",
        "colab_type": "text"
      },
      "source": [
        "## Julia on Colaboratory ##\n",
        "\n",
        "[Colaboratory](https://colab.research.google.com) does not provide native support for the [Julia programming language](https://julialang.org). However, since Colaboratory gives you root access to the machine that runs your notebook (the *“runtime”* in Colaboratory terminology), we can install Julia support by uploading a specially crafted Julia notebook  – *this* notebook. We then install Julia and [IJulia](https://github.com/JuliaLang/IJulia.jl) ([Jupyter](https://jupyter.org)/Colaboratory notebook support) and reload the notebook so that Colaboratory detects and initiates what we installed.\n",
        "\n",
        "In brief:\n",
        "\n",
        "1. **Run the cell below**\n",
        "2. **Reload the page**\n",
        "3. **Edit the notebook name and start hacking Julia code below**\n",
        "\n",
        "**If your runtime resets**, either manually or if left idle for some time, **repeat steps 1 and 2**.\n",
        "\n",
        "### Acknowledgements ###\n",
        "\n",
        "This hack by Pontus Stenetorp is an adaptation of [James Bradbury’s original Colaboratory Julia hack](https://discourse.julialang.org/t/julia-on-google-colab-free-gpu-accelerated-shareable-notebooks/15319/27), that broke some time in September 2019 as Colaboratory increased their level of notebook runtime isolation. There also appears to be CUDA compilation support installed by default for each notebook runtime type in October 2019, which shaves off a good 15 minutes or so from the original hack’s installation time."
      ]
    },
    {
      "cell_type": "code",
      "metadata": {
        "id": "BrHjOFFsxf7W",
        "colab_type": "code",
        "colab": {}
      },
      "source": [
        "%%shell\n",
        "if ! command -v julia 2>&1 > /dev/null\n",
        "then\n",
        "    wget 'https://julialang-s3.julialang.org/bin/linux/x64/1.0/julia-1.0.5-linux-x86_64.tar.gz' \\\n",
        "        -O /tmp/julia.tar.gz\n",
        "    tar -x -f /tmp/julia.tar.gz -C /usr/local --strip-components 1\n",
        "    rm /tmp/julia.tar.gz\n",
        "fi\n",
        "julia -e 'using Pkg; pkg\"add IJulia; precompile;\"'"
      ],
      "execution_count": 0,
      "outputs": []
    },
    {
      "cell_type": "code",
      "metadata": {
        "id": "0n7VXuQ-ahBB",
        "colab_type": "code",
        "colab": {}
      },
      "source": [
        "using Pkg\n",
        "\n",
        "pkg\"add FiniteDifferences; precompile;\"\n",
        "using FiniteDifferences\n",
        "\n",
        "pkg\"add NamedArrays; precompile;\"\n",
        "using NamedArrays\n",
        "\n",
        "pkg\"add NPZ; precompile;\"\n",
        "using NPZ\n",
        "\n",
        "pkg\"add Plots; precompile;\"\n",
        "using Plots\n",
        "\n",
        "using LinearAlgebra\n",
        "using Random"
      ],
      "execution_count": 0,
      "outputs": []
    },
    {
      "cell_type": "markdown",
      "metadata": {
        "id": "REu2nLTIa8pE",
        "colab_type": "text"
      },
      "source": [
        "# Assignment 1: “Bag, not bag” #"
      ]
    },
    {
      "cell_type": "code",
      "metadata": {
        "id": "dViXXQqfbQKL",
        "colab_type": "code",
        "colab": {}
      },
      "source": [
        "# Download and extract the dataset.\n",
        "run(`curl -fsS http://udon.stacken.kth.se/\\~ninjin/comp0090_assignment_1_data.tar.gz -o /tmp/data.tar.gz`)\n",
        "run(`tar -x -z -f /tmp/data.tar.gz`)\n",
        "run(`rm -f /tmp/data.tar.gz`);"
      ],
      "execution_count": 0,
      "outputs": []
    },
    {
      "cell_type": "code",
      "metadata": {
        "id": "_qKxqXKFbGr2",
        "colab_type": "code",
        "colab": {}
      },
      "source": [
        "# Then load it into RAM.\n",
        "trainxs = npzread(\"comp0090_assignment_1_data/fashion-train-imgs.npz\")\n",
        "trainys = npzread(\"comp0090_assignment_1_data/fashion-train-labels.npz\")\n",
        "devxs   = npzread(\"comp0090_assignment_1_data/fashion-dev-imgs.npz\")\n",
        "devys   = npzread(\"comp0090_assignment_1_data/fashion-dev-labels.npz\")\n",
        "testxs  = npzread(\"comp0090_assignment_1_data/fashion-test-imgs.npz\")\n",
        "testys  = npzread(\"comp0090_assignment_1_data/fashion-test-labels.npz\");"
      ],
      "execution_count": 0,
      "outputs": []
    },
    {
      "cell_type": "code",
      "metadata": {
        "id": "jioIY8p9eYB_",
        "colab_type": "code",
        "outputId": "c6f30c9f-0851-46d9-86f5-c1998b7b8fed",
        "colab": {
          "base_uri": "https://localhost:8080/",
          "height": 421
        }
      },
      "source": [
        "# Let us plot some random training samples.\n",
        "plt = plot(layout=(4, 4))\n",
        "for i in 1:4^2\n",
        "    heatmap!(plt, trainxs[:, :, rand(1:size(trainxs, 3))]',\n",
        "        subplot=i, yflip=true, color=:grays, colorbar = false)\n",
        "end\n",
        "plt"
      ],
      "execution_count": 0,
      "outputs": [
        {
          "output_type": "execute_result",
          "data": {
            "image/svg+xml": "<?xml version=\"1.0\" encoding=\"utf-8\"?>\n<svg xmlns=\"http://www.w3.org/2000/svg\" xmlns:xlink=\"http://www.w3.org/1999/xlink\" width=\"600\" height=\"400\" viewBox=\"0 0 2400 1600\">\n<defs>\n  <clipPath id=\"clip1200\">\n    <rect x=\"0\" y=\"0\" width=\"2400\" height=\"1600\"/>\n  </clipPath>\n</defs>\n<path clip-path=\"url(#clip1200)\" d=\"\nM0 1600 L2400 1600 L2400 0 L0 0  Z\n  \" fill=\"#ffffff\" fill-rule=\"evenodd\" fill-opacity=\"1\"/>\n<defs>\n  <clipPath id=\"clip1201\">\n    <rect x=\"480\" y=\"0\" width=\"1681\" height=\"1600\"/>\n  </clipPath>\n</defs>\n<path clip-path=\"url(#clip1200)\" d=\"\nM140.517 287.475 L552.756 287.475 L552.756 47.2441 L140.517 47.2441  Z\n  \" fill=\"#ffffff\" fill-rule=\"evenodd\" fill-opacity=\"1\"/>\n<defs>\n  <clipPath id=\"clip1202\">\n    <rect x=\"140\" y=\"47\" width=\"413\" height=\"241\"/>\n  </clipPath>\n</defs>\n<polyline clip-path=\"url(#clip1202)\" style=\"stroke:#000000; stroke-width:2; stroke-opacity:0.1; fill:none\" points=\"\n  206.77,47.2441 206.77,287.475 \n  \"/>\n<polyline clip-path=\"url(#clip1202)\" style=\"stroke:#000000; stroke-width:2; stroke-opacity:0.1; fill:none\" points=\"\n  280.384,47.2441 280.384,287.475 \n  \"/>\n<polyline clip-path=\"url(#clip1202)\" style=\"stroke:#000000; stroke-width:2; stroke-opacity:0.1; fill:none\" points=\"\n  353.998,47.2441 353.998,287.475 \n  \"/>\n<polyline clip-path=\"url(#clip1202)\" style=\"stroke:#000000; stroke-width:2; stroke-opacity:0.1; fill:none\" points=\"\n  427.612,47.2441 427.612,287.475 \n  \"/>\n<polyline clip-path=\"url(#clip1202)\" style=\"stroke:#000000; stroke-width:2; stroke-opacity:0.1; fill:none\" points=\"\n  501.226,47.2441 501.226,287.475 \n  \"/>\n<polyline clip-path=\"url(#clip1202)\" style=\"stroke:#000000; stroke-width:2; stroke-opacity:0.1; fill:none\" points=\"\n  140.517,85.8526 552.756,85.8526 \n  \"/>\n<polyline clip-path=\"url(#clip1202)\" style=\"stroke:#000000; stroke-width:2; stroke-opacity:0.1; fill:none\" points=\"\n  140.517,128.751 552.756,128.751 \n  \"/>\n<polyline clip-path=\"url(#clip1202)\" style=\"stroke:#000000; stroke-width:2; stroke-opacity:0.1; fill:none\" points=\"\n  140.517,171.649 552.756,171.649 \n  \"/>\n<polyline clip-path=\"url(#clip1202)\" style=\"stroke:#000000; stroke-width:2; stroke-opacity:0.1; fill:none\" points=\"\n  140.517,214.548 552.756,214.548 \n  \"/>\n<polyline clip-path=\"url(#clip1202)\" style=\"stroke:#000000; stroke-width:2; stroke-opacity:0.1; fill:none\" points=\"\n  140.517,257.446 552.756,257.446 \n  \"/>\n<polyline clip-path=\"url(#clip1200)\" style=\"stroke:#000000; stroke-width:4; stroke-opacity:1; fill:none\" points=\"\n  140.517,287.475 552.756,287.475 \n  \"/>\n<polyline clip-path=\"url(#clip1200)\" style=\"stroke:#000000; stroke-width:4; stroke-opacity:1; fill:none\" points=\"\n  140.517,47.2441 140.517,287.475 \n  \"/>\n<polyline clip-path=\"url(#clip1200)\" style=\"stroke:#000000; stroke-width:4; stroke-opacity:1; fill:none\" points=\"\n  206.77,287.475 206.77,283.871 \n  \"/>\n<polyline clip-path=\"url(#clip1200)\" style=\"stroke:#000000; stroke-width:4; stroke-opacity:1; fill:none\" points=\"\n  280.384,287.475 280.384,283.871 \n  \"/>\n<polyline clip-path=\"url(#clip1200)\" style=\"stroke:#000000; stroke-width:4; stroke-opacity:1; fill:none\" points=\"\n  353.998,287.475 353.998,283.871 \n  \"/>\n<polyline clip-path=\"url(#clip1200)\" style=\"stroke:#000000; stroke-width:4; stroke-opacity:1; fill:none\" points=\"\n  427.612,287.475 427.612,283.871 \n  \"/>\n<polyline clip-path=\"url(#clip1200)\" style=\"stroke:#000000; stroke-width:4; stroke-opacity:1; fill:none\" points=\"\n  501.226,287.475 501.226,283.871 \n  \"/>\n<polyline clip-path=\"url(#clip1200)\" style=\"stroke:#000000; stroke-width:4; stroke-opacity:1; fill:none\" points=\"\n  140.517,85.8526 146.7,85.8526 \n  \"/>\n<polyline clip-path=\"url(#clip1200)\" style=\"stroke:#000000; stroke-width:4; stroke-opacity:1; fill:none\" points=\"\n  140.517,128.751 146.7,128.751 \n  \"/>\n<polyline clip-path=\"url(#clip1200)\" style=\"stroke:#000000; stroke-width:4; stroke-opacity:1; fill:none\" points=\"\n  140.517,171.649 146.7,171.649 \n  \"/>\n<polyline clip-path=\"url(#clip1200)\" style=\"stroke:#000000; stroke-width:4; stroke-opacity:1; fill:none\" points=\"\n  140.517,214.548 146.7,214.548 \n  \"/>\n<polyline clip-path=\"url(#clip1200)\" style=\"stroke:#000000; stroke-width:4; stroke-opacity:1; fill:none\" points=\"\n  140.517,257.446 146.7,257.446 \n  \"/>\n<g clip-path=\"url(#clip1200)\">\n<text style=\"fill:#000000; fill-opacity:1; font-family:Arial,Helvetica Neue,Helvetica,sans-serif; font-size:48px; text-anchor:middle;\" transform=\"rotate(0, 206.77, 341.475)\" x=\"206.77\" y=\"341.475\">5</text>\n</g>\n<g clip-path=\"url(#clip1200)\">\n<text style=\"fill:#000000; fill-opacity:1; font-family:Arial,Helvetica Neue,Helvetica,sans-serif; font-size:48px; text-anchor:middle;\" transform=\"rotate(0, 280.384, 341.475)\" x=\"280.384\" y=\"341.475\">10</text>\n</g>\n<g clip-path=\"url(#clip1200)\">\n<text style=\"fill:#000000; fill-opacity:1; font-family:Arial,Helvetica Neue,Helvetica,sans-serif; font-size:48px; text-anchor:middle;\" transform=\"rotate(0, 353.998, 341.475)\" x=\"353.998\" y=\"341.475\">15</text>\n</g>\n<g clip-path=\"url(#clip1200)\">\n<text style=\"fill:#000000; fill-opacity:1; font-family:Arial,Helvetica Neue,Helvetica,sans-serif; font-size:48px; text-anchor:middle;\" transform=\"rotate(0, 427.612, 341.475)\" x=\"427.612\" y=\"341.475\">20</text>\n</g>\n<g clip-path=\"url(#clip1200)\">\n<text style=\"fill:#000000; fill-opacity:1; font-family:Arial,Helvetica Neue,Helvetica,sans-serif; font-size:48px; text-anchor:middle;\" transform=\"rotate(0, 501.226, 341.475)\" x=\"501.226\" y=\"341.475\">25</text>\n</g>\n<g clip-path=\"url(#clip1200)\">\n<text style=\"fill:#000000; fill-opacity:1; font-family:Arial,Helvetica Neue,Helvetica,sans-serif; font-size:48px; text-anchor:end;\" transform=\"rotate(0, 116.517, 103.353)\" x=\"116.517\" y=\"103.353\">5</text>\n</g>\n<g clip-path=\"url(#clip1200)\">\n<text style=\"fill:#000000; fill-opacity:1; font-family:Arial,Helvetica Neue,Helvetica,sans-serif; font-size:48px; text-anchor:end;\" transform=\"rotate(0, 116.517, 146.251)\" x=\"116.517\" y=\"146.251\">10</text>\n</g>\n<g clip-path=\"url(#clip1200)\">\n<text style=\"fill:#000000; fill-opacity:1; font-family:Arial,Helvetica Neue,Helvetica,sans-serif; font-size:48px; text-anchor:end;\" transform=\"rotate(0, 116.517, 189.149)\" x=\"116.517\" y=\"189.149\">15</text>\n</g>\n<g clip-path=\"url(#clip1200)\">\n<text style=\"fill:#000000; fill-opacity:1; font-family:Arial,Helvetica Neue,Helvetica,sans-serif; font-size:48px; text-anchor:end;\" transform=\"rotate(0, 116.517, 232.048)\" x=\"116.517\" y=\"232.048\">20</text>\n</g>\n<g clip-path=\"url(#clip1200)\">\n<text style=\"fill:#000000; fill-opacity:1; font-family:Arial,Helvetica Neue,Helvetica,sans-serif; font-size:48px; text-anchor:end;\" transform=\"rotate(0, 116.517, 274.946)\" x=\"116.517\" y=\"274.946\">25</text>\n</g>\n<g clip-path=\"url(#clip1202)\">\n<image width=\"412\" height=\"240\" xlink:href=\"data:image/png;base64,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\n\" transform=\"translate(141, 47)\"/>\n</g>\n<path clip-path=\"url(#clip1200)\" d=\"\nM740.517 287.475 L1152.76 287.475 L1152.76 47.2441 L740.517 47.2441  Z\n  \" fill=\"#ffffff\" fill-rule=\"evenodd\" fill-opacity=\"1\"/>\n<defs>\n  <clipPath id=\"clip1203\">\n    <rect x=\"740\" y=\"47\" width=\"413\" height=\"241\"/>\n  </clipPath>\n</defs>\n<polyline clip-path=\"url(#clip1203)\" style=\"stroke:#000000; stroke-width:2; stroke-opacity:0.1; fill:none\" points=\"\n  806.77,47.2441 806.77,287.475 \n  \"/>\n<polyline clip-path=\"url(#clip1203)\" style=\"stroke:#000000; stroke-width:2; stroke-opacity:0.1; fill:none\" points=\"\n  880.384,47.2441 880.384,287.475 \n  \"/>\n<polyline clip-path=\"url(#clip1203)\" style=\"stroke:#000000; stroke-width:2; stroke-opacity:0.1; fill:none\" points=\"\n  953.998,47.2441 953.998,287.475 \n  \"/>\n<polyline clip-path=\"url(#clip1203)\" style=\"stroke:#000000; stroke-width:2; stroke-opacity:0.1; fill:none\" points=\"\n  1027.61,47.2441 1027.61,287.475 \n  \"/>\n<polyline clip-path=\"url(#clip1203)\" style=\"stroke:#000000; stroke-width:2; stroke-opacity:0.1; fill:none\" points=\"\n  1101.23,47.2441 1101.23,287.475 \n  \"/>\n<polyline clip-path=\"url(#clip1203)\" style=\"stroke:#000000; stroke-width:2; stroke-opacity:0.1; fill:none\" points=\"\n  740.517,85.8526 1152.76,85.8526 \n  \"/>\n<polyline clip-path=\"url(#clip1203)\" style=\"stroke:#000000; stroke-width:2; stroke-opacity:0.1; fill:none\" points=\"\n  740.517,128.751 1152.76,128.751 \n  \"/>\n<polyline clip-path=\"url(#clip1203)\" style=\"stroke:#000000; stroke-width:2; stroke-opacity:0.1; fill:none\" points=\"\n  740.517,171.649 1152.76,171.649 \n  \"/>\n<polyline clip-path=\"url(#clip1203)\" style=\"stroke:#000000; stroke-width:2; stroke-opacity:0.1; fill:none\" points=\"\n  740.517,214.548 1152.76,214.548 \n  \"/>\n<polyline clip-path=\"url(#clip1203)\" style=\"stroke:#000000; stroke-width:2; stroke-opacity:0.1; fill:none\" points=\"\n  740.517,257.446 1152.76,257.446 \n  \"/>\n<polyline clip-path=\"url(#clip1200)\" style=\"stroke:#000000; stroke-width:4; stroke-opacity:1; fill:none\" points=\"\n  740.517,287.475 1152.76,287.475 \n  \"/>\n<polyline clip-path=\"url(#clip1200)\" style=\"stroke:#000000; stroke-width:4; stroke-opacity:1; fill:none\" points=\"\n  740.517,47.2441 740.517,287.475 \n  \"/>\n<polyline clip-path=\"url(#clip1200)\" style=\"stroke:#000000; stroke-width:4; stroke-opacity:1; fill:none\" points=\"\n  806.77,287.475 806.77,283.871 \n  \"/>\n<polyline clip-path=\"url(#clip1200)\" style=\"stroke:#000000; stroke-width:4; stroke-opacity:1; fill:none\" points=\"\n  880.384,287.475 880.384,283.871 \n  \"/>\n<polyline clip-path=\"url(#clip1200)\" style=\"stroke:#000000; stroke-width:4; stroke-opacity:1; fill:none\" points=\"\n  953.998,287.475 953.998,283.871 \n  \"/>\n<polyline clip-path=\"url(#clip1200)\" style=\"stroke:#000000; stroke-width:4; stroke-opacity:1; fill:none\" points=\"\n  1027.61,287.475 1027.61,283.871 \n  \"/>\n<polyline clip-path=\"url(#clip1200)\" style=\"stroke:#000000; stroke-width:4; stroke-opacity:1; fill:none\" points=\"\n  1101.23,287.475 1101.23,283.871 \n  \"/>\n<polyline clip-path=\"url(#clip1200)\" style=\"stroke:#000000; stroke-width:4; stroke-opacity:1; fill:none\" points=\"\n  740.517,85.8526 746.7,85.8526 \n  \"/>\n<polyline clip-path=\"url(#clip1200)\" style=\"stroke:#000000; stroke-width:4; stroke-opacity:1; fill:none\" points=\"\n  740.517,128.751 746.7,128.751 \n  \"/>\n<polyline clip-path=\"url(#clip1200)\" style=\"stroke:#000000; stroke-width:4; stroke-opacity:1; fill:none\" points=\"\n  740.517,171.649 746.7,171.649 \n  \"/>\n<polyline clip-path=\"url(#clip1200)\" style=\"stroke:#000000; stroke-width:4; stroke-opacity:1; fill:none\" points=\"\n  740.517,214.548 746.7,214.548 \n  \"/>\n<polyline clip-path=\"url(#clip1200)\" style=\"stroke:#000000; stroke-width:4; stroke-opacity:1; fill:none\" points=\"\n  740.517,257.446 746.7,257.446 \n  \"/>\n<g clip-path=\"url(#clip1200)\">\n<text style=\"fill:#000000; fill-opacity:1; font-family:Arial,Helvetica Neue,Helvetica,sans-serif; font-size:48px; text-anchor:middle;\" transform=\"rotate(0, 806.77, 341.475)\" x=\"806.77\" y=\"341.475\">5</text>\n</g>\n<g clip-path=\"url(#clip1200)\">\n<text style=\"fill:#000000; fill-opacity:1; font-family:Arial,Helvetica Neue,Helvetica,sans-serif; font-size:48px; text-anchor:middle;\" transform=\"rotate(0, 880.384, 341.475)\" x=\"880.384\" y=\"341.475\">10</text>\n</g>\n<g clip-path=\"url(#clip1200)\">\n<text style=\"fill:#000000; fill-opacity:1; font-family:Arial,Helvetica Neue,Helvetica,sans-serif; font-size:48px; text-anchor:middle;\" transform=\"rotate(0, 953.998, 341.475)\" x=\"953.998\" y=\"341.475\">15</text>\n</g>\n<g clip-path=\"url(#clip1200)\">\n<text style=\"fill:#000000; fill-opacity:1; font-family:Arial,Helvetica Neue,Helvetica,sans-serif; font-size:48px; text-anchor:middle;\" transform=\"rotate(0, 1027.61, 341.475)\" x=\"1027.61\" y=\"341.475\">20</text>\n</g>\n<g clip-path=\"url(#clip1200)\">\n<text style=\"fill:#000000; fill-opacity:1; font-family:Arial,Helvetica Neue,Helvetica,sans-serif; font-size:48px; text-anchor:middle;\" transform=\"rotate(0, 1101.23, 341.475)\" x=\"1101.23\" y=\"341.475\">25</text>\n</g>\n<g clip-path=\"url(#clip1200)\">\n<text style=\"fill:#000000; fill-opacity:1; font-family:Arial,Helvetica Neue,Helvetica,sans-serif; font-size:48px; text-anchor:end;\" transform=\"rotate(0, 716.517, 103.353)\" x=\"716.517\" y=\"103.353\">5</text>\n</g>\n<g clip-path=\"url(#clip1200)\">\n<text style=\"fill:#000000; fill-opacity:1; font-family:Arial,Helvetica Neue,Helvetica,sans-serif; font-size:48px; text-anchor:end;\" transform=\"rotate(0, 716.517, 146.251)\" x=\"716.517\" y=\"146.251\">10</text>\n</g>\n<g clip-path=\"url(#clip1200)\">\n<text style=\"fill:#000000; fill-opacity:1; font-family:Arial,Helvetica Neue,Helvetica,sans-serif; font-size:48px; text-anchor:end;\" transform=\"rotate(0, 716.517, 189.149)\" x=\"716.517\" y=\"189.149\">15</text>\n</g>\n<g clip-path=\"url(#clip1200)\">\n<text style=\"fill:#000000; fill-opacity:1; font-family:Arial,Helvetica Neue,Helvetica,sans-serif; font-size:48px; text-anchor:end;\" transform=\"rotate(0, 716.517, 232.048)\" x=\"716.517\" y=\"232.048\">20</text>\n</g>\n<g clip-path=\"url(#clip1200)\">\n<text style=\"fill:#000000; fill-opacity:1; font-family:Arial,Helvetica Neue,Helvetica,sans-serif; font-size:48px; text-anchor:end;\" transform=\"rotate(0, 716.517, 274.946)\" x=\"716.517\" y=\"274.946\">25</text>\n</g>\n<g clip-path=\"url(#clip1203)\">\n<image width=\"412\" height=\"240\" xlink:href=\"data:image/png;base64,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\nDgAtFA4ALf4Do8QTnXF7TXgAAAAASUVORK5CYII=\n\" transform=\"translate(741, 47)\"/>\n</g>\n<path clip-path=\"url(#clip1200)\" d=\"\nM1340.52 287.475 L1752.76 287.475 L1752.76 47.2441 L1340.52 47.2441  Z\n  \" fill=\"#ffffff\" fill-rule=\"evenodd\" fill-opacity=\"1\"/>\n<defs>\n  <clipPath id=\"clip1204\">\n    <rect x=\"1340\" y=\"47\" width=\"413\" height=\"241\"/>\n  </clipPath>\n</defs>\n<polyline clip-path=\"url(#clip1204)\" style=\"stroke:#000000; stroke-width:2; stroke-opacity:0.1; fill:none\" points=\"\n  1406.77,47.2441 1406.77,287.475 \n  \"/>\n<polyline clip-path=\"url(#clip1204)\" style=\"stroke:#000000; stroke-width:2; stroke-opacity:0.1; fill:none\" points=\"\n  1480.38,47.2441 1480.38,287.475 \n  \"/>\n<polyline clip-path=\"url(#clip1204)\" style=\"stroke:#000000; stroke-width:2; stroke-opacity:0.1; fill:none\" points=\"\n  1554,47.2441 1554,287.475 \n  \"/>\n<polyline clip-path=\"url(#clip1204)\" style=\"stroke:#000000; stroke-width:2; stroke-opacity:0.1; fill:none\" points=\"\n  1627.61,47.2441 1627.61,287.475 \n  \"/>\n<polyline clip-path=\"url(#clip1204)\" style=\"stroke:#000000; stroke-width:2; stroke-opacity:0.1; fill:none\" points=\"\n  1701.23,47.2441 1701.23,287.475 \n  \"/>\n<polyline clip-path=\"url(#clip1204)\" style=\"stroke:#000000; stroke-width:2; stroke-opacity:0.1; fill:none\" points=\"\n  1340.52,85.8526 1752.76,85.8526 \n  \"/>\n<polyline clip-path=\"url(#clip1204)\" style=\"stroke:#000000; stroke-width:2; stroke-opacity:0.1; fill:none\" points=\"\n  1340.52,128.751 1752.76,128.751 \n  \"/>\n<polyline clip-path=\"url(#clip1204)\" style=\"stroke:#000000; stroke-width:2; stroke-opacity:0.1; fill:none\" points=\"\n  1340.52,171.649 1752.76,171.649 \n  \"/>\n<polyline clip-path=\"url(#clip1204)\" style=\"stroke:#000000; stroke-width:2; stroke-opacity:0.1; fill:none\" points=\"\n  1340.52,214.548 1752.76,214.548 \n  \"/>\n<polyline clip-path=\"url(#clip1204)\" style=\"stroke:#000000; stroke-width:2; stroke-opacity:0.1; fill:none\" points=\"\n  1340.52,257.446 1752.76,257.446 \n  \"/>\n<polyline clip-path=\"url(#clip1200)\" style=\"stroke:#000000; stroke-width:4; stroke-opacity:1; fill:none\" points=\"\n  1340.52,287.475 1752.76,287.475 \n  \"/>\n<polyline clip-path=\"url(#clip1200)\" style=\"stroke:#000000; stroke-width:4; stroke-opacity:1; fill:none\" points=\"\n  1340.52,47.2441 1340.52,287.475 \n  \"/>\n<polyline clip-path=\"url(#clip1200)\" style=\"stroke:#000000; stroke-width:4; stroke-opacity:1; fill:none\" points=\"\n  1406.77,287.475 1406.77,283.871 \n  \"/>\n<polyline clip-path=\"url(#clip1200)\" style=\"stroke:#000000; stroke-width:4; stroke-opacity:1; fill:none\" points=\"\n  1480.38,287.475 1480.38,283.871 \n  \"/>\n<polyline clip-path=\"url(#clip1200)\" style=\"stroke:#000000; stroke-width:4; stroke-opacity:1; fill:none\" points=\"\n  1554,287.475 1554,283.871 \n  \"/>\n<polyline clip-path=\"url(#clip1200)\" style=\"stroke:#000000; stroke-width:4; stroke-opacity:1; fill:none\" points=\"\n  1627.61,287.475 1627.61,283.871 \n  \"/>\n<polyline clip-path=\"url(#clip1200)\" style=\"stroke:#000000; stroke-width:4; stroke-opacity:1; fill:none\" points=\"\n  1701.23,287.475 1701.23,283.871 \n  \"/>\n<polyline clip-path=\"url(#clip1200)\" style=\"stroke:#000000; stroke-width:4; stroke-opacity:1; fill:none\" points=\"\n  1340.52,85.8526 1346.7,85.8526 \n  \"/>\n<polyline clip-path=\"url(#clip1200)\" style=\"stroke:#000000; stroke-width:4; stroke-opacity:1; fill:none\" points=\"\n  1340.52,128.751 1346.7,128.751 \n  \"/>\n<polyline clip-path=\"url(#clip1200)\" style=\"stroke:#000000; stroke-width:4; stroke-opacity:1; fill:none\" points=\"\n  1340.52,171.649 1346.7,171.649 \n  \"/>\n<polyline clip-path=\"url(#clip1200)\" style=\"stroke:#000000; stroke-width:4; stroke-opacity:1; fill:none\" points=\"\n  1340.52,214.548 1346.7,214.548 \n  \"/>\n<polyline clip-path=\"url(#clip1200)\" style=\"stroke:#000000; stroke-width:4; stroke-opacity:1; fill:none\" points=\"\n  1340.52,257.446 1346.7,257.446 \n  \"/>\n<g clip-path=\"url(#clip1200)\">\n<text style=\"fill:#000000; fill-opacity:1; font-family:Arial,Helvetica Neue,Helvetica,sans-serif; font-size:48px; text-anchor:middle;\" transform=\"rotate(0, 1406.77, 341.475)\" x=\"1406.77\" y=\"341.475\">5</text>\n</g>\n<g clip-path=\"url(#clip1200)\">\n<text style=\"fill:#000000; fill-opacity:1; font-family:Arial,Helvetica Neue,Helvetica,sans-serif; font-size:48px; text-anchor:middle;\" transform=\"rotate(0, 1480.38, 341.475)\" x=\"1480.38\" y=\"341.475\">10</text>\n</g>\n<g clip-path=\"url(#clip1200)\">\n<text style=\"fill:#000000; fill-opacity:1; font-family:Arial,Helvetica Neue,Helvetica,sans-serif; font-size:48px; text-anchor:middle;\" transform=\"rotate(0, 1554, 341.475)\" x=\"1554\" y=\"341.475\">15</text>\n</g>\n<g clip-path=\"url(#clip1200)\">\n<text style=\"fill:#000000; fill-opacity:1; font-family:Arial,Helvetica Neue,Helvetica,sans-serif; font-size:48px; text-anchor:middle;\" transform=\"rotate(0, 1627.61, 341.475)\" x=\"1627.61\" y=\"341.475\">20</text>\n</g>\n<g clip-path=\"url(#clip1200)\">\n<text style=\"fill:#000000; fill-opacity:1; font-family:Arial,Helvetica Neue,Helvetica,sans-serif; font-size:48px; text-anchor:middle;\" transform=\"rotate(0, 1701.23, 341.475)\" x=\"1701.23\" y=\"341.475\">25</text>\n</g>\n<g clip-path=\"url(#clip1200)\">\n<text style=\"fill:#000000; fill-opacity:1; font-family:Arial,Helvetica Neue,Helvetica,sans-serif; font-size:48px; text-anchor:end;\" transform=\"rotate(0, 1316.52, 103.353)\" x=\"1316.52\" y=\"103.353\">5</text>\n</g>\n<g clip-path=\"url(#clip1200)\">\n<text style=\"fill:#000000; fill-opacity:1; font-family:Arial,Helvetica Neue,Helvetica,sans-serif; font-size:48px; text-anchor:end;\" transform=\"rotate(0, 1316.52, 146.251)\" x=\"1316.52\" y=\"146.251\">10</text>\n</g>\n<g clip-path=\"url(#clip1200)\">\n<text style=\"fill:#000000; fill-opacity:1; font-family:Arial,Helvetica Neue,Helvetica,sans-serif; font-size:48px; text-anchor:end;\" transform=\"rotate(0, 1316.52, 189.149)\" x=\"1316.52\" y=\"189.149\">15</text>\n</g>\n<g clip-path=\"url(#clip1200)\">\n<text style=\"fill:#000000; fill-opacity:1; font-family:Arial,Helvetica Neue,Helvetica,sans-serif; font-size:48px; text-anchor:end;\" transform=\"rotate(0, 1316.52, 232.048)\" x=\"1316.52\" y=\"232.048\">20</text>\n</g>\n<g clip-path=\"url(#clip1200)\">\n<text style=\"fill:#000000; fill-opacity:1; font-family:Arial,Helvetica Neue,Helvetica,sans-serif; font-size:48px; text-anchor:end;\" transform=\"rotate(0, 1316.52, 274.946)\" x=\"1316.52\" y=\"274.946\">25</text>\n</g>\n<g clip-path=\"url(#clip1204)\">\n<image width=\"412\" height=\"240\" xlink:href=\"data:image/png;base64,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\nABGCA0DE/wAjolBX3BwpAAAAAABJRU5ErkJggg==\n\" transform=\"translate(1341, 47)\"/>\n</g>\n<path clip-path=\"url(#clip1200)\" d=\"\nM1940.52 287.475 L2352.76 287.475 L2352.76 47.2441 L1940.52 47.2441  Z\n  \" fill=\"#ffffff\" fill-rule=\"evenodd\" fill-opacity=\"1\"/>\n<defs>\n  <clipPath id=\"clip1205\">\n    <rect x=\"1940\" y=\"47\" width=\"413\" height=\"241\"/>\n  </clipPath>\n</defs>\n<polyline clip-path=\"url(#clip1205)\" style=\"stroke:#000000; stroke-width:2; stroke-opacity:0.1; fill:none\" points=\"\n  2006.77,47.2441 2006.77,287.475 \n  \"/>\n<polyline clip-path=\"url(#clip1205)\" style=\"stroke:#000000; stroke-width:2; stroke-opacity:0.1; fill:none\" points=\"\n  2080.38,47.2441 2080.38,287.475 \n  \"/>\n<polyline clip-path=\"url(#clip1205)\" style=\"stroke:#000000; stroke-width:2; stroke-opacity:0.1; fill:none\" points=\"\n  2154,47.2441 2154,287.475 \n  \"/>\n<polyline clip-path=\"url(#clip1205)\" style=\"stroke:#000000; stroke-width:2; stroke-opacity:0.1; fill:none\" points=\"\n  2227.61,47.2441 2227.61,287.475 \n  \"/>\n<polyline clip-path=\"url(#clip1205)\" style=\"stroke:#000000; stroke-width:2; stroke-opacity:0.1; fill:none\" points=\"\n  2301.23,47.2441 2301.23,287.475 \n  \"/>\n<polyline clip-path=\"url(#clip1205)\" style=\"stroke:#000000; stroke-width:2; stroke-opacity:0.1; fill:none\" points=\"\n  1940.52,85.8526 2352.76,85.8526 \n  \"/>\n<polyline clip-path=\"url(#clip1205)\" style=\"stroke:#000000; stroke-width:2; stroke-opacity:0.1; fill:none\" points=\"\n  1940.52,128.751 2352.76,128.751 \n  \"/>\n<polyline clip-path=\"url(#clip1205)\" style=\"stroke:#000000; stroke-width:2; stroke-opacity:0.1; fill:none\" points=\"\n  1940.52,171.649 2352.76,171.649 \n  \"/>\n<polyline clip-path=\"url(#clip1205)\" style=\"stroke:#000000; stroke-width:2; stroke-opacity:0.1; fill:none\" points=\"\n  1940.52,214.548 2352.76,214.548 \n  \"/>\n<polyline clip-path=\"url(#clip1205)\" style=\"stroke:#000000; stroke-width:2; stroke-opacity:0.1; fill:none\" points=\"\n  1940.52,257.446 2352.76,257.446 \n  \"/>\n<polyline clip-path=\"url(#clip1200)\" style=\"stroke:#000000; stroke-width:4; stroke-opacity:1; fill:none\" points=\"\n  1940.52,287.475 2352.76,287.475 \n  \"/>\n<polyline clip-path=\"url(#clip1200)\" style=\"stroke:#000000; stroke-width:4; stroke-opacity:1; fill:none\" points=\"\n  1940.52,47.2441 1940.52,287.475 \n  \"/>\n<polyline clip-path=\"url(#clip1200)\" style=\"stroke:#000000; stroke-width:4; stroke-opacity:1; fill:none\" points=\"\n  2006.77,287.475 2006.77,283.871 \n  \"/>\n<polyline clip-path=\"url(#clip1200)\" style=\"stroke:#000000; stroke-width:4; stroke-opacity:1; fill:none\" points=\"\n  2080.38,287.475 2080.38,283.871 \n  \"/>\n<polyline clip-path=\"url(#clip1200)\" style=\"stroke:#000000; stroke-width:4; stroke-opacity:1; fill:none\" points=\"\n  2154,287.475 2154,283.871 \n  \"/>\n<polyline clip-path=\"url(#clip1200)\" style=\"stroke:#000000; stroke-width:4; stroke-opacity:1; fill:none\" points=\"\n  2227.61,287.475 2227.61,283.871 \n  \"/>\n<polyline clip-path=\"url(#clip1200)\" style=\"stroke:#000000; stroke-width:4; stroke-opacity:1; fill:none\" points=\"\n  2301.23,287.475 2301.23,283.871 \n  \"/>\n<polyline clip-path=\"url(#clip1200)\" style=\"stroke:#000000; stroke-width:4; stroke-opacity:1; fill:none\" points=\"\n  1940.52,85.8526 1946.7,85.8526 \n  \"/>\n<polyline clip-path=\"url(#clip1200)\" style=\"stroke:#000000; stroke-width:4; stroke-opacity:1; fill:none\" points=\"\n  1940.52,128.751 1946.7,128.751 \n  \"/>\n<polyline clip-path=\"url(#clip1200)\" style=\"stroke:#000000; stroke-width:4; stroke-opacity:1; fill:none\" points=\"\n  1940.52,171.649 1946.7,171.649 \n  \"/>\n<polyline clip-path=\"url(#clip1200)\" style=\"stroke:#000000; stroke-width:4; stroke-opacity:1; fill:none\" points=\"\n  1940.52,214.548 1946.7,214.548 \n  \"/>\n<polyline clip-path=\"url(#clip1200)\" style=\"stroke:#000000; stroke-width:4; stroke-opacity:1; fill:none\" points=\"\n  1940.52,257.446 1946.7,257.446 \n  \"/>\n<g clip-path=\"url(#clip1200)\">\n<text style=\"fill:#000000; fill-opacity:1; font-family:Arial,Helvetica Neue,Helvetica,sans-serif; font-size:48px; text-anchor:middle;\" transform=\"rotate(0, 2006.77, 341.475)\" x=\"2006.77\" y=\"341.475\">5</text>\n</g>\n<g clip-path=\"url(#clip1200)\">\n<text style=\"fill:#000000; fill-opacity:1; font-family:Arial,Helvetica Neue,Helvetica,sans-serif; font-size:48px; text-anchor:middle;\" transform=\"rotate(0, 2080.38, 341.475)\" x=\"2080.38\" y=\"341.475\">10</text>\n</g>\n<g clip-path=\"url(#clip1200)\">\n<text style=\"fill:#000000; fill-opacity:1; font-family:Arial,Helvetica Neue,Helvetica,sans-serif; font-size:48px; text-anchor:middle;\" transform=\"rotate(0, 2154, 341.475)\" x=\"2154\" y=\"341.475\">15</text>\n</g>\n<g clip-path=\"url(#clip1200)\">\n<text style=\"fill:#000000; fill-opacity:1; font-family:Arial,Helvetica Neue,Helvetica,sans-serif; font-size:48px; text-anchor:middle;\" transform=\"rotate(0, 2227.61, 341.475)\" x=\"2227.61\" y=\"341.475\">20</text>\n</g>\n<g clip-path=\"url(#clip1200)\">\n<text style=\"fill:#000000; fill-opacity:1; font-family:Arial,Helvetica Neue,Helvetica,sans-serif; font-size:48px; text-anchor:middle;\" transform=\"rotate(0, 2301.23, 341.475)\" x=\"2301.23\" y=\"341.475\">25</text>\n</g>\n<g clip-path=\"url(#clip1200)\">\n<text style=\"fill:#000000; fill-opacity:1; font-family:Arial,Helvetica Neue,Helvetica,sans-serif; font-size:48px; text-anchor:end;\" transform=\"rotate(0, 1916.52, 103.353)\" x=\"1916.52\" y=\"103.353\">5</text>\n</g>\n<g clip-path=\"url(#clip1200)\">\n<text style=\"fill:#000000; fill-opacity:1; font-family:Arial,Helvetica Neue,Helvetica,sans-serif; font-size:48px; text-anchor:end;\" transform=\"rotate(0, 1916.52, 146.251)\" x=\"1916.52\" y=\"146.251\">10</text>\n</g>\n<g clip-path=\"url(#clip1200)\">\n<text style=\"fill:#000000; fill-opacity:1; font-family:Arial,Helvetica Neue,Helvetica,sans-serif; font-size:48px; text-anchor:end;\" transform=\"rotate(0, 1916.52, 189.149)\" x=\"1916.52\" y=\"189.149\">15</text>\n</g>\n<g clip-path=\"url(#clip1200)\">\n<text style=\"fill:#000000; fill-opacity:1; font-family:Arial,Helvetica Neue,Helvetica,sans-serif; font-size:48px; text-anchor:end;\" transform=\"rotate(0, 1916.52, 232.048)\" x=\"1916.52\" y=\"232.048\">20</text>\n</g>\n<g clip-path=\"url(#clip1200)\">\n<text style=\"fill:#000000; fill-opacity:1; font-family:Arial,Helvetica Neue,Helvetica,sans-serif; font-size:48px; text-anchor:end;\" transform=\"rotate(0, 1916.52, 274.946)\" x=\"1916.52\" y=\"274.946\">25</text>\n</g>\n<g clip-path=\"url(#clip1205)\">\n<image width=\"412\" height=\"240\" xlink:href=\"data:image/png;base64,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\nTkSuQmCC\n\" transform=\"translate(1941, 47)\"/>\n</g>\n<path clip-path=\"url(#clip1200)\" d=\"\nM140.517 687.475 L552.756 687.475 L552.756 447.244 L140.517 447.244  Z\n  \" fill=\"#ffffff\" fill-rule=\"evenodd\" fill-opacity=\"1\"/>\n<defs>\n  <clipPath id=\"clip1206\">\n    <rect x=\"140\" y=\"447\" width=\"413\" height=\"241\"/>\n  </clipPath>\n</defs>\n<polyline clip-path=\"url(#clip1206)\" style=\"stroke:#000000; stroke-width:2; stroke-opacity:0.1; fill:none\" points=\"\n  206.77,447.244 206.77,687.475 \n  \"/>\n<polyline clip-path=\"url(#clip1206)\" style=\"stroke:#000000; stroke-width:2; stroke-opacity:0.1; fill:none\" points=\"\n  280.384,447.244 280.384,687.475 \n  \"/>\n<polyline clip-path=\"url(#clip1206)\" style=\"stroke:#000000; stroke-width:2; stroke-opacity:0.1; fill:none\" points=\"\n  353.998,447.244 353.998,687.475 \n  \"/>\n<polyline clip-path=\"url(#clip1206)\" style=\"stroke:#000000; stroke-width:2; stroke-opacity:0.1; fill:none\" points=\"\n  427.612,447.244 427.612,687.475 \n  \"/>\n<polyline clip-path=\"url(#clip1206)\" style=\"stroke:#000000; stroke-width:2; stroke-opacity:0.1; fill:none\" points=\"\n  501.226,447.244 501.226,687.475 \n  \"/>\n<polyline clip-path=\"url(#clip1206)\" style=\"stroke:#000000; stroke-width:2; stroke-opacity:0.1; fill:none\" points=\"\n  140.517,485.853 552.756,485.853 \n  \"/>\n<polyline clip-path=\"url(#clip1206)\" style=\"stroke:#000000; stroke-width:2; stroke-opacity:0.1; fill:none\" points=\"\n  140.517,528.751 552.756,528.751 \n  \"/>\n<polyline clip-path=\"url(#clip1206)\" style=\"stroke:#000000; stroke-width:2; stroke-opacity:0.1; fill:none\" points=\"\n  140.517,571.649 552.756,571.649 \n  \"/>\n<polyline clip-path=\"url(#clip1206)\" style=\"stroke:#000000; stroke-width:2; stroke-opacity:0.1; fill:none\" points=\"\n  140.517,614.548 552.756,614.548 \n  \"/>\n<polyline clip-path=\"url(#clip1206)\" style=\"stroke:#000000; stroke-width:2; stroke-opacity:0.1; fill:none\" points=\"\n  140.517,657.446 552.756,657.446 \n  \"/>\n<polyline clip-path=\"url(#clip1200)\" style=\"stroke:#000000; stroke-width:4; stroke-opacity:1; fill:none\" points=\"\n  140.517,687.475 552.756,687.475 \n  \"/>\n<polyline clip-path=\"url(#clip1200)\" style=\"stroke:#000000; stroke-width:4; stroke-opacity:1; fill:none\" points=\"\n  140.517,447.244 140.517,687.475 \n  \"/>\n<polyline clip-path=\"url(#clip1200)\" style=\"stroke:#000000; stroke-width:4; stroke-opacity:1; fill:none\" points=\"\n  206.77,687.475 206.77,683.871 \n  \"/>\n<polyline clip-path=\"url(#clip1200)\" style=\"stroke:#000000; stroke-width:4; stroke-opacity:1; fill:none\" points=\"\n  280.384,687.475 280.384,683.871 \n  \"/>\n<polyline clip-path=\"url(#clip1200)\" style=\"stroke:#000000; stroke-width:4; stroke-opacity:1; fill:none\" points=\"\n  353.998,687.475 353.998,683.871 \n  \"/>\n<polyline clip-path=\"url(#clip1200)\" style=\"stroke:#000000; stroke-width:4; stroke-opacity:1; fill:none\" points=\"\n  427.612,687.475 427.612,683.871 \n  \"/>\n<polyline clip-path=\"url(#clip1200)\" style=\"stroke:#000000; stroke-width:4; stroke-opacity:1; fill:none\" points=\"\n  501.226,687.475 501.226,683.871 \n  \"/>\n<polyline clip-path=\"url(#clip1200)\" style=\"stroke:#000000; stroke-width:4; stroke-opacity:1; fill:none\" points=\"\n  140.517,485.853 146.7,485.853 \n  \"/>\n<polyline clip-path=\"url(#clip1200)\" style=\"stroke:#000000; stroke-width:4; stroke-opacity:1; fill:none\" points=\"\n  140.517,528.751 146.7,528.751 \n  \"/>\n<polyline clip-path=\"url(#clip1200)\" style=\"stroke:#000000; stroke-width:4; stroke-opacity:1; fill:none\" points=\"\n  140.517,571.649 146.7,571.649 \n  \"/>\n<polyline clip-path=\"url(#clip1200)\" style=\"stroke:#000000; stroke-width:4; stroke-opacity:1; fill:none\" points=\"\n  140.517,614.548 146.7,614.548 \n  \"/>\n<polyline clip-path=\"url(#clip1200)\" style=\"stroke:#000000; stroke-width:4; stroke-opacity:1; fill:none\" points=\"\n  140.517,657.446 146.7,657.446 \n  \"/>\n<g clip-path=\"url(#clip1200)\">\n<text style=\"fill:#000000; fill-opacity:1; font-family:Arial,Helvetica Neue,Helvetica,sans-serif; font-size:48px; text-anchor:middle;\" transform=\"rotate(0, 206.77, 741.475)\" x=\"206.77\" y=\"741.475\">5</text>\n</g>\n<g clip-path=\"url(#clip1200)\">\n<text style=\"fill:#000000; fill-opacity:1; font-family:Arial,Helvetica Neue,Helvetica,sans-serif; font-size:48px; text-anchor:middle;\" transform=\"rotate(0, 280.384, 741.475)\" x=\"280.384\" y=\"741.475\">10</text>\n</g>\n<g clip-path=\"url(#clip1200)\">\n<text style=\"fill:#000000; fill-opacity:1; font-family:Arial,Helvetica Neue,Helvetica,sans-serif; font-size:48px; text-anchor:middle;\" transform=\"rotate(0, 353.998, 741.475)\" x=\"353.998\" y=\"741.475\">15</text>\n</g>\n<g clip-path=\"url(#clip1200)\">\n<text style=\"fill:#000000; fill-opacity:1; font-family:Arial,Helvetica Neue,Helvetica,sans-serif; font-size:48px; text-anchor:middle;\" transform=\"rotate(0, 427.612, 741.475)\" x=\"427.612\" y=\"741.475\">20</text>\n</g>\n<g clip-path=\"url(#clip1200)\">\n<text style=\"fill:#000000; fill-opacity:1; font-family:Arial,Helvetica Neue,Helvetica,sans-serif; font-size:48px; text-anchor:middle;\" transform=\"rotate(0, 501.226, 741.475)\" x=\"501.226\" y=\"741.475\">25</text>\n</g>\n<g clip-path=\"url(#clip1200)\">\n<text style=\"fill:#000000; fill-opacity:1; font-family:Arial,Helvetica Neue,Helvetica,sans-serif; font-size:48px; text-anchor:end;\" transform=\"rotate(0, 116.517, 503.353)\" x=\"116.517\" y=\"503.353\">5</text>\n</g>\n<g clip-path=\"url(#clip1200)\">\n<text style=\"fill:#000000; fill-opacity:1; font-family:Arial,Helvetica Neue,Helvetica,sans-serif; font-size:48px; text-anchor:end;\" transform=\"rotate(0, 116.517, 546.251)\" x=\"116.517\" y=\"546.251\">10</text>\n</g>\n<g clip-path=\"url(#clip1200)\">\n<text style=\"fill:#000000; fill-opacity:1; font-family:Arial,Helvetica Neue,Helvetica,sans-serif; font-size:48px; text-anchor:end;\" transform=\"rotate(0, 116.517, 589.149)\" x=\"116.517\" y=\"589.149\">15</text>\n</g>\n<g clip-path=\"url(#clip1200)\">\n<text style=\"fill:#000000; fill-opacity:1; font-family:Arial,Helvetica Neue,Helvetica,sans-serif; font-size:48px; text-anchor:end;\" transform=\"rotate(0, 116.517, 632.048)\" x=\"116.517\" y=\"632.048\">20</text>\n</g>\n<g clip-path=\"url(#clip1200)\">\n<text style=\"fill:#000000; fill-opacity:1; font-family:Arial,Helvetica Neue,Helvetica,sans-serif; font-size:48px; text-anchor:end;\" transform=\"rotate(0, 116.517, 674.946)\" x=\"116.517\" y=\"674.946\">25</text>\n</g>\n<g clip-path=\"url(#clip1206)\">\n<image width=\"412\" height=\"240\" xlink:href=\"data:image/png;base64,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\nvoQEt6S3PAAAAABJRU5ErkJggg==\n\" transform=\"translate(141, 447)\"/>\n</g>\n<path clip-path=\"url(#clip1200)\" d=\"\nM740.517 687.475 L1152.76 687.475 L1152.76 447.244 L740.517 447.244  Z\n  \" fill=\"#ffffff\" fill-rule=\"evenodd\" fill-opacity=\"1\"/>\n<defs>\n  <clipPath id=\"clip1207\">\n    <rect x=\"740\" y=\"447\" width=\"413\" height=\"241\"/>\n  </clipPath>\n</defs>\n<polyline clip-path=\"url(#clip1207)\" style=\"stroke:#000000; stroke-width:2; stroke-opacity:0.1; fill:none\" points=\"\n  806.77,447.244 806.77,687.475 \n  \"/>\n<polyline clip-path=\"url(#clip1207)\" style=\"stroke:#000000; stroke-width:2; stroke-opacity:0.1; fill:none\" points=\"\n  880.384,447.244 880.384,687.475 \n  \"/>\n<polyline clip-path=\"url(#clip1207)\" style=\"stroke:#000000; stroke-width:2; stroke-opacity:0.1; fill:none\" points=\"\n  953.998,447.244 953.998,687.475 \n  \"/>\n<polyline clip-path=\"url(#clip1207)\" style=\"stroke:#000000; stroke-width:2; stroke-opacity:0.1; fill:none\" points=\"\n  1027.61,447.244 1027.61,687.475 \n  \"/>\n<polyline clip-path=\"url(#clip1207)\" style=\"stroke:#000000; stroke-width:2; stroke-opacity:0.1; fill:none\" points=\"\n  1101.23,447.244 1101.23,687.475 \n  \"/>\n<polyline clip-path=\"url(#clip1207)\" style=\"stroke:#000000; stroke-width:2; stroke-opacity:0.1; fill:none\" points=\"\n  740.517,485.853 1152.76,485.853 \n  \"/>\n<polyline clip-path=\"url(#clip1207)\" style=\"stroke:#000000; stroke-width:2; stroke-opacity:0.1; fill:none\" points=\"\n  740.517,528.751 1152.76,528.751 \n  \"/>\n<polyline clip-path=\"url(#clip1207)\" style=\"stroke:#000000; stroke-width:2; stroke-opacity:0.1; fill:none\" points=\"\n  740.517,571.649 1152.76,571.649 \n  \"/>\n<polyline clip-path=\"url(#clip1207)\" style=\"stroke:#000000; stroke-width:2; stroke-opacity:0.1; fill:none\" points=\"\n  740.517,614.548 1152.76,614.548 \n  \"/>\n<polyline clip-path=\"url(#clip1207)\" style=\"stroke:#000000; stroke-width:2; stroke-opacity:0.1; fill:none\" points=\"\n  740.517,657.446 1152.76,657.446 \n  \"/>\n<polyline clip-path=\"url(#clip1200)\" style=\"stroke:#000000; stroke-width:4; stroke-opacity:1; fill:none\" points=\"\n  740.517,687.475 1152.76,687.475 \n  \"/>\n<polyline clip-path=\"url(#clip1200)\" style=\"stroke:#000000; stroke-width:4; stroke-opacity:1; fill:none\" points=\"\n  740.517,447.244 740.517,687.475 \n  \"/>\n<polyline clip-path=\"url(#clip1200)\" style=\"stroke:#000000; stroke-width:4; stroke-opacity:1; fill:none\" points=\"\n  806.77,687.475 806.77,683.871 \n  \"/>\n<polyline clip-path=\"url(#clip1200)\" style=\"stroke:#000000; stroke-width:4; stroke-opacity:1; fill:none\" points=\"\n  880.384,687.475 880.384,683.871 \n  \"/>\n<polyline clip-path=\"url(#clip1200)\" style=\"stroke:#000000; stroke-width:4; stroke-opacity:1; fill:none\" points=\"\n  953.998,687.475 953.998,683.871 \n  \"/>\n<polyline clip-path=\"url(#clip1200)\" style=\"stroke:#000000; stroke-width:4; stroke-opacity:1; fill:none\" points=\"\n  1027.61,687.475 1027.61,683.871 \n  \"/>\n<polyline clip-path=\"url(#clip1200)\" style=\"stroke:#000000; stroke-width:4; stroke-opacity:1; fill:none\" points=\"\n  1101.23,687.475 1101.23,683.871 \n  \"/>\n<polyline clip-path=\"url(#clip1200)\" style=\"stroke:#000000; stroke-width:4; stroke-opacity:1; fill:none\" points=\"\n  740.517,485.853 746.7,485.853 \n  \"/>\n<polyline clip-path=\"url(#clip1200)\" style=\"stroke:#000000; stroke-width:4; stroke-opacity:1; fill:none\" points=\"\n  740.517,528.751 746.7,528.751 \n  \"/>\n<polyline clip-path=\"url(#clip1200)\" style=\"stroke:#000000; stroke-width:4; stroke-opacity:1; fill:none\" points=\"\n  740.517,571.649 746.7,571.649 \n  \"/>\n<polyline clip-path=\"url(#clip1200)\" style=\"stroke:#000000; stroke-width:4; stroke-opacity:1; fill:none\" points=\"\n  740.517,614.548 746.7,614.548 \n  \"/>\n<polyline clip-path=\"url(#clip1200)\" style=\"stroke:#000000; stroke-width:4; stroke-opacity:1; fill:none\" points=\"\n  740.517,657.446 746.7,657.446 \n  \"/>\n<g clip-path=\"url(#clip1200)\">\n<text style=\"fill:#000000; fill-opacity:1; font-family:Arial,Helvetica Neue,Helvetica,sans-serif; font-size:48px; text-anchor:middle;\" transform=\"rotate(0, 806.77, 741.475)\" x=\"806.77\" y=\"741.475\">5</text>\n</g>\n<g clip-path=\"url(#clip1200)\">\n<text style=\"fill:#000000; fill-opacity:1; font-family:Arial,Helvetica Neue,Helvetica,sans-serif; font-size:48px; text-anchor:middle;\" transform=\"rotate(0, 880.384, 741.475)\" x=\"880.384\" y=\"741.475\">10</text>\n</g>\n<g clip-path=\"url(#clip1200)\">\n<text style=\"fill:#000000; fill-opacity:1; font-family:Arial,Helvetica Neue,Helvetica,sans-serif; font-size:48px; text-anchor:middle;\" transform=\"rotate(0, 953.998, 741.475)\" x=\"953.998\" y=\"741.475\">15</text>\n</g>\n<g clip-path=\"url(#clip1200)\">\n<text style=\"fill:#000000; fill-opacity:1; font-family:Arial,Helvetica Neue,Helvetica,sans-serif; font-size:48px; text-anchor:middle;\" transform=\"rotate(0, 1027.61, 741.475)\" x=\"1027.61\" y=\"741.475\">20</text>\n</g>\n<g clip-path=\"url(#clip1200)\">\n<text style=\"fill:#000000; fill-opacity:1; font-family:Arial,Helvetica Neue,Helvetica,sans-serif; font-size:48px; text-anchor:middle;\" transform=\"rotate(0, 1101.23, 741.475)\" x=\"1101.23\" y=\"741.475\">25</text>\n</g>\n<g clip-path=\"url(#clip1200)\">\n<text style=\"fill:#000000; fill-opacity:1; font-family:Arial,Helvetica Neue,Helvetica,sans-serif; font-size:48px; text-anchor:end;\" transform=\"rotate(0, 716.517, 503.353)\" x=\"716.517\" y=\"503.353\">5</text>\n</g>\n<g clip-path=\"url(#clip1200)\">\n<text style=\"fill:#000000; fill-opacity:1; font-family:Arial,Helvetica Neue,Helvetica,sans-serif; font-size:48px; text-anchor:end;\" transform=\"rotate(0, 716.517, 546.251)\" x=\"716.517\" y=\"546.251\">10</text>\n</g>\n<g clip-path=\"url(#clip1200)\">\n<text style=\"fill:#000000; fill-opacity:1; font-family:Arial,Helvetica Neue,Helvetica,sans-serif; font-size:48px; text-anchor:end;\" transform=\"rotate(0, 716.517, 589.149)\" x=\"716.517\" y=\"589.149\">15</text>\n</g>\n<g clip-path=\"url(#clip1200)\">\n<text style=\"fill:#000000; fill-opacity:1; font-family:Arial,Helvetica Neue,Helvetica,sans-serif; font-size:48px; text-anchor:end;\" transform=\"rotate(0, 716.517, 632.048)\" x=\"716.517\" y=\"632.048\">20</text>\n</g>\n<g clip-path=\"url(#clip1200)\">\n<text style=\"fill:#000000; fill-opacity:1; font-family:Arial,Helvetica Neue,Helvetica,sans-serif; font-size:48px; text-anchor:end;\" transform=\"rotate(0, 716.517, 674.946)\" x=\"716.517\" y=\"674.946\">25</text>\n</g>\n<g clip-path=\"url(#clip1207)\">\n<image width=\"412\" height=\"240\" xlink:href=\"data:image/png;base64,\niVBORw0KGgoAAAANSUhEUgAAAZwAAADwCAYAAAA0ANKsAAAKsUlEQVR4nO3dPYtdZRcG4D3fZzIm\nxg+MJilMsLRRKy3EUsFCsBER7S0VSzsLq9SC2PgfBEH0D9goiIWlHyEqKBOT+TjnzBl/wYtyL9+1\nHfd19TfPOXv2cM8Ds1hr58+fPx34z9nY2Iizq9Uqzp6e5q/T3t5elHv55ZfjM2ezWZRbLBbxmVev\nXo2zN2/ejHIfffRRfGZF5T08OTn5Bz8J/wbrY38AAKZB4QDQQuEA0ELhANBC4QDQQuEA0ELhANBC\n4QDQYnPsD8D/tra2FmfHGpp75ZVX4uyTTz4Z5W7cuBGfeevWrTg7htdeey3Kffrpp/GZzz//fJyt\nvIfr69nfw5XBZf6/3HAAaKFwAGihcABooXAAaKFwAGihcABooXAAaKFwAGixZuPnv9dY2xLfeeed\nOFv5zO+//36cTaXDtZXvuVwu42zq1VdfjbPXr1+Ps++9916cNfj53+OGA0ALhQNAC4UDQAuFA0AL\nhQNAC4UDQAuFA0ALczgNtra2otxisYjPTBd1DcMwPPPMM3H2zTffjLOpzc18j2A6r3R6mv/aVBbr\npe/SfD6Pz3zrrbfi7MHBQZz94IMPotxsNovPPDo6irP8NTccAFooHABaKBwAWigcAFooHABaKBwA\nWigcAFooHABa5BNzE5Qu3UoHOB999NEoNwzD8Mgjj8TZMYY3hyFfuDXGQrOKytBoZYAzdePGjThb\nWcC2vb0d5SrDm+nveGXh4ZS44QDQQuEA0ELhANBC4QDQQuEA0ELhANBC4QDQQuEA0GJyGz/T4cJh\nGIbVahXl0i2Nn3/+eZQbhmF49tln42xF5fmmA5GVQcqpqGxFrQzWPvTQQ3H2iy++iHKPP/54fGaq\nssV1Su+vGw4ALRQOAC0UDgAtFA4ALRQOAC0UDgAtFA4ALSa3gC2dpal44403otzbb7/9D3+Sv2es\nmYL03MrnTY3xPSsqC8LSpWTDMAy//PJLnP3mm2+i3Ouvvx6f+fHHH0e5Kc3SVLjhANBC4QDQQuEA\n0ELhANBC4QDQQuEA0ELhANBicvtwKtJ5Gv/bD31eeOGFOJvuc/rkk0/iM6fEDQeAFgoHgBYKB4AW\nCgeAFgoHgBYKB4AWCgeAFgoHgBaTW8BW8e6770a5X3/9Ncr99ttvUW4Yaouvvv/++zi7XC7jbCod\n1huGcRbyTclsNouz165di3IvvfRSfOaLL74Y5a5cuRKfOSVuOAC0UDgAtFA4ALRQOAC0UDgAtFA4\nALRQOAC0UDgAtJjc4OfTTz8dZ3d3d6Pchx9+GJ85huPj4zh7dHQUZzc2NqLcyclJfObdu3ej3OXL\nl+MzK9Jh4HPnzsVnpj+XYRiGra2tOHuW3H///XG2MuB91rjhANBC4QDQQuEA0ELhANBC4QDQQuEA\n0ELhANBicnM4TzzxRJxN51N+//33KFeZnVgsFnH29u3bcbay0KzyfVPpc7p161Z8ZmU2ZW1tLcpV\nFqGN5eDgIMpVfjaXLl2Kck899VR85meffRZnzxo3HABaKBwAWigcAFooHABaKBwAWigcAFooHABa\nKBwAWkxu8LMymLizsxPlfvzxxyhXWXy1vb0dZ9PvOQy1AcN04PTw8DA+M/28lcHaP/74I86my+Z+\n+OGH+MzKoGrlXbpz506Uq7yDe3t7Ua7yPafEDQeAFgoHgBYKB4AWCgeAFgoHgBYKB4AWCgeAFpOb\nw7l69Wr7mY899liUu/fee+Mz9/f34+zmZv5aVOZT1tezv38uXLgQn5kuNEvnYYZhGC5evBhnU5VZ\npd3d3VHOffjhh6PcGMvmHnjggfYzzyI3HABaKBwAWigcAFooHABaKBwAWigcAFooHABaKBwAWkxu\n8HOMobB0+C0dhKycWXXu3Lk4my6/qgybLpfLKFd5jyoLzY6Pj6NcZZlfZRD4wQcfjLOpg4ODOJs+\n3+vXr8dnTokbDgAtFA4ALRQOAC0UDgAtFA4ALRQOAC0UDgAtJjeHU5kTWa1WUS6dY6jM4dxzzz1x\n9ujoKM7O5/M4mz7fynNK34fKmaenp3E2nf+pzP5UpHNOw5C/S5V3f2dnJ8pdvnw5PnNK3HAAaKFw\nAGihcABooXAAaKFwAGihcABooXAAaKFwAGgxucHPS5cuxdm1tbUolw7rpecNQ21pVmVIsLIMLVUZ\nwkwXk6VDqmNlK8+oovIepj+bmzdvxmdeu3YtylWGTafEDQeAFgoHgBYKB4AWCgeAFgoHgBYKB4AW\nCgeAFgoHgBaTG/y877774mw6iJkO3aWDb8MwDCcnJ3F2LOlQY2WQcoznVPm5jjHAWXm+le2m6e9b\nZavv4eFhlNve3o7PnBI3HABaKBwAWigcAFooHABaKBwAWigcAFooHABaTG4Op7IQKp1HSJeSVWYu\nxpqdWC6XcTb9zJVFden8RGWWZgyVxXiVGZPKO5y+S7u7u/GZ6fLB+XwenzklbjgAtFA4ALRQOAC0\nUDgAtFA4ALRQOAC0UDgAtFA4ALSY3OBnZSAyHUSrDFKmKgOuFTs7O3G2MjR6loyxRK2i8i5Vfqbp\n703l+abfdSrvbtXZevMBOLMUDgAtFA4ALRQOAC0UDgAtFA4ALRQOAC0mN4dzfHwcZ9P/0U+XOp2c\nnES5YajN/lSylTmcNFtZwJa+D5UzK3Mi6eK3ysK4w8PDOFt5TqkxluNVFtxNiRsOAC0UDgAtFA4A\nLRQOAC0UDgAtFA4ALRQOAC0UDgAtJjf4OZ/P42w6sJcOhVWGKCsDd2MM61XOrQzdpcO129vb8ZmV\nwc80WxkirrwPs9kszqY/18rv+O7ubpzlr7nhANBC4QDQQuEA0ELhANBC4QDQQuEA0ELhANBicnM4\nt2/fbj8znWMYa5amMieyWq3i7BjL0CrzNGNIn9FyuYzPrMyDVRYejjG/lqosLZwSNxwAWigcAFoo\nHABaKBwAWigcAFooHABaKBwAWigcAFpMbvDzu+++i7PPPfdclEsHEytDiZVBv7EGTjc2NqJcZbnY\n0dFRlKsM+lWWfG1uZr+y6bMdhtp3rQxhpgPI6TOquHjxYvuZZ5EbDgAtFA4ALRQOAC0UDgAtFA4A\nLRQOAC0UDgAtJjeH8/PPP4/9Ef62ynzJWOdWZjZms1mUu3v3bnxm+l3HWtw2xuedz+dxtvI+pDNd\nYyxDu3PnTvuZZ5EbDgAtFA4ALRQOAC0UDgAtFA4ALRQOAC0UDgAtFA4ALSY3+Lm/v99+5hgDnJWF\nW5XPW1l+lS5Dq7hw4UKUqwxDLhaLOJsONVaGIccaQN7b24tyY7xHX375ZfuZZ5EbDgAtFA4ALRQO\nAC0UDgAtFA4ALRQOAC0UDgAtFA4ALSY3+Pntt9+2n5luW6wM3FWyW1tbcbYiHVatDJuuVqsoN9Yz\nWl/P/kYcY/NmNZsO144xqPrVV1+1n3kWueEA0ELhANBC4QDQQuEA0ELhANBC4QDQQuEA0GLt/Pnz\n+T/oT8xPP/009kcA/oWuXLky9kc4E9xwAGihcABooXAAaKFwAGihcABooXAAaKFwAGihcABoMbkF\nbBVff/11lNvb24tyOzs7UW4YakvJKkuz0gVhFZXlYmk2XRY3DLVnlGYXi0V85hjPdxiGYblcRrn9\n/f34zEqWv+aGA0ALhQNAC4UDQAuFA0ALhQNAC4UDQAuFA0CLPwFvCmBkz2M/fgAAAABJRU5ErkJg\ngg==\n\" transform=\"translate(741, 447)\"/>\n</g>\n<path clip-path=\"url(#clip1200)\" d=\"\nM1340.52 687.475 L1752.76 687.475 L1752.76 447.244 L1340.52 447.244  Z\n  \" fill=\"#ffffff\" fill-rule=\"evenodd\" fill-opacity=\"1\"/>\n<defs>\n  <clipPath id=\"clip1208\">\n    <rect x=\"1340\" y=\"447\" width=\"413\" height=\"241\"/>\n  </clipPath>\n</defs>\n<polyline clip-path=\"url(#clip1208)\" style=\"stroke:#000000; stroke-width:2; stroke-opacity:0.1; fill:none\" points=\"\n  1406.77,447.244 1406.77,687.475 \n  \"/>\n<polyline clip-path=\"url(#clip1208)\" style=\"stroke:#000000; stroke-width:2; stroke-opacity:0.1; fill:none\" points=\"\n  1480.38,447.244 1480.38,687.475 \n  \"/>\n<polyline clip-path=\"url(#clip1208)\" style=\"stroke:#000000; stroke-width:2; stroke-opacity:0.1; fill:none\" points=\"\n  1554,447.244 1554,687.475 \n  \"/>\n<polyline clip-path=\"url(#clip1208)\" style=\"stroke:#000000; stroke-width:2; stroke-opacity:0.1; fill:none\" points=\"\n  1627.61,447.244 1627.61,687.475 \n  \"/>\n<polyline clip-path=\"url(#clip1208)\" style=\"stroke:#000000; stroke-width:2; stroke-opacity:0.1; fill:none\" points=\"\n  1701.23,447.244 1701.23,687.475 \n  \"/>\n<polyline clip-path=\"url(#clip1208)\" style=\"stroke:#000000; stroke-width:2; stroke-opacity:0.1; fill:none\" points=\"\n  1340.52,485.853 1752.76,485.853 \n  \"/>\n<polyline clip-path=\"url(#clip1208)\" style=\"stroke:#000000; stroke-width:2; stroke-opacity:0.1; fill:none\" points=\"\n  1340.52,528.751 1752.76,528.751 \n  \"/>\n<polyline clip-path=\"url(#clip1208)\" style=\"stroke:#000000; stroke-width:2; stroke-opacity:0.1; fill:none\" points=\"\n  1340.52,571.649 1752.76,571.649 \n  \"/>\n<polyline clip-path=\"url(#clip1208)\" style=\"stroke:#000000; stroke-width:2; stroke-opacity:0.1; fill:none\" points=\"\n  1340.52,614.548 1752.76,614.548 \n  \"/>\n<polyline clip-path=\"url(#clip1208)\" style=\"stroke:#000000; stroke-width:2; stroke-opacity:0.1; fill:none\" points=\"\n  1340.52,657.446 1752.76,657.446 \n  \"/>\n<polyline clip-path=\"url(#clip1200)\" style=\"stroke:#000000; stroke-width:4; stroke-opacity:1; fill:none\" points=\"\n  1340.52,687.475 1752.76,687.475 \n  \"/>\n<polyline clip-path=\"url(#clip1200)\" style=\"stroke:#000000; stroke-width:4; stroke-opacity:1; fill:none\" points=\"\n  1340.52,447.244 1340.52,687.475 \n  \"/>\n<polyline clip-path=\"url(#clip1200)\" style=\"stroke:#000000; stroke-width:4; stroke-opacity:1; fill:none\" points=\"\n  1406.77,687.475 1406.77,683.871 \n  \"/>\n<polyline clip-path=\"url(#clip1200)\" style=\"stroke:#000000; stroke-width:4; stroke-opacity:1; fill:none\" points=\"\n  1480.38,687.475 1480.38,683.871 \n  \"/>\n<polyline clip-path=\"url(#clip1200)\" style=\"stroke:#000000; stroke-width:4; stroke-opacity:1; fill:none\" points=\"\n  1554,687.475 1554,683.871 \n  \"/>\n<polyline clip-path=\"url(#clip1200)\" style=\"stroke:#000000; stroke-width:4; stroke-opacity:1; fill:none\" points=\"\n  1627.61,687.475 1627.61,683.871 \n  \"/>\n<polyline clip-path=\"url(#clip1200)\" style=\"stroke:#000000; stroke-width:4; stroke-opacity:1; fill:none\" points=\"\n  1701.23,687.475 1701.23,683.871 \n  \"/>\n<polyline clip-path=\"url(#clip1200)\" style=\"stroke:#000000; stroke-width:4; stroke-opacity:1; fill:none\" points=\"\n  1340.52,485.853 1346.7,485.853 \n  \"/>\n<polyline clip-path=\"url(#clip1200)\" style=\"stroke:#000000; stroke-width:4; stroke-opacity:1; fill:none\" points=\"\n  1340.52,528.751 1346.7,528.751 \n  \"/>\n<polyline clip-path=\"url(#clip1200)\" style=\"stroke:#000000; stroke-width:4; stroke-opacity:1; fill:none\" points=\"\n  1340.52,571.649 1346.7,571.649 \n  \"/>\n<polyline clip-path=\"url(#clip1200)\" style=\"stroke:#000000; stroke-width:4; stroke-opacity:1; fill:none\" points=\"\n  1340.52,614.548 1346.7,614.548 \n  \"/>\n<polyline clip-path=\"url(#clip1200)\" style=\"stroke:#000000; stroke-width:4; stroke-opacity:1; fill:none\" points=\"\n  1340.52,657.446 1346.7,657.446 \n  \"/>\n<g clip-path=\"url(#clip1200)\">\n<text style=\"fill:#000000; fill-opacity:1; font-family:Arial,Helvetica Neue,Helvetica,sans-serif; font-size:48px; text-anchor:middle;\" transform=\"rotate(0, 1406.77, 741.475)\" x=\"1406.77\" y=\"741.475\">5</text>\n</g>\n<g clip-path=\"url(#clip1200)\">\n<text style=\"fill:#000000; fill-opacity:1; font-family:Arial,Helvetica Neue,Helvetica,sans-serif; font-size:48px; text-anchor:middle;\" transform=\"rotate(0, 1480.38, 741.475)\" x=\"1480.38\" y=\"741.475\">10</text>\n</g>\n<g clip-path=\"url(#clip1200)\">\n<text style=\"fill:#000000; fill-opacity:1; font-family:Arial,Helvetica Neue,Helvetica,sans-serif; font-size:48px; text-anchor:middle;\" transform=\"rotate(0, 1554, 741.475)\" x=\"1554\" y=\"741.475\">15</text>\n</g>\n<g clip-path=\"url(#clip1200)\">\n<text style=\"fill:#000000; fill-opacity:1; font-family:Arial,Helvetica Neue,Helvetica,sans-serif; font-size:48px; text-anchor:middle;\" transform=\"rotate(0, 1627.61, 741.475)\" x=\"1627.61\" y=\"741.475\">20</text>\n</g>\n<g clip-path=\"url(#clip1200)\">\n<text style=\"fill:#000000; fill-opacity:1; font-family:Arial,Helvetica Neue,Helvetica,sans-serif; font-size:48px; text-anchor:middle;\" transform=\"rotate(0, 1701.23, 741.475)\" x=\"1701.23\" y=\"741.475\">25</text>\n</g>\n<g clip-path=\"url(#clip1200)\">\n<text style=\"fill:#000000; fill-opacity:1; font-family:Arial,Helvetica Neue,Helvetica,sans-serif; font-size:48px; text-anchor:end;\" transform=\"rotate(0, 1316.52, 503.353)\" x=\"1316.52\" y=\"503.353\">5</text>\n</g>\n<g clip-path=\"url(#clip1200)\">\n<text style=\"fill:#000000; fill-opacity:1; font-family:Arial,Helvetica Neue,Helvetica,sans-serif; font-size:48px; text-anchor:end;\" transform=\"rotate(0, 1316.52, 546.251)\" x=\"1316.52\" y=\"546.251\">10</text>\n</g>\n<g clip-path=\"url(#clip1200)\">\n<text style=\"fill:#000000; fill-opacity:1; font-family:Arial,Helvetica Neue,Helvetica,sans-serif; font-size:48px; text-anchor:end;\" transform=\"rotate(0, 1316.52, 589.149)\" x=\"1316.52\" y=\"589.149\">15</text>\n</g>\n<g clip-path=\"url(#clip1200)\">\n<text style=\"fill:#000000; fill-opacity:1; font-family:Arial,Helvetica Neue,Helvetica,sans-serif; font-size:48px; text-anchor:end;\" transform=\"rotate(0, 1316.52, 632.048)\" x=\"1316.52\" y=\"632.048\">20</text>\n</g>\n<g clip-path=\"url(#clip1200)\">\n<text style=\"fill:#000000; fill-opacity:1; font-family:Arial,Helvetica Neue,Helvetica,sans-serif; font-size:48px; text-anchor:end;\" transform=\"rotate(0, 1316.52, 674.946)\" x=\"1316.52\" y=\"674.946\">25</text>\n</g>\n<g clip-path=\"url(#clip1208)\">\n<image width=\"412\" height=\"240\" xlink:href=\"data:image/png;base64,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\nFgoHgBYKB4AW/wJrfkDidyb3+QAAAABJRU5ErkJggg==\n\" transform=\"translate(1341, 447)\"/>\n</g>\n<path clip-path=\"url(#clip1200)\" d=\"\nM1940.52 687.475 L2352.76 687.475 L2352.76 447.244 L1940.52 447.244  Z\n  \" fill=\"#ffffff\" fill-rule=\"evenodd\" fill-opacity=\"1\"/>\n<defs>\n  <clipPath id=\"clip1209\">\n    <rect x=\"1940\" y=\"447\" width=\"413\" height=\"241\"/>\n  </clipPath>\n</defs>\n<polyline clip-path=\"url(#clip1209)\" style=\"stroke:#000000; stroke-width:2; stroke-opacity:0.1; fill:none\" points=\"\n  2006.77,447.244 2006.77,687.475 \n  \"/>\n<polyline clip-path=\"url(#clip1209)\" style=\"stroke:#000000; stroke-width:2; stroke-opacity:0.1; fill:none\" points=\"\n  2080.38,447.244 2080.38,687.475 \n  \"/>\n<polyline clip-path=\"url(#clip1209)\" style=\"stroke:#000000; stroke-width:2; stroke-opacity:0.1; fill:none\" points=\"\n  2154,447.244 2154,687.475 \n  \"/>\n<polyline clip-path=\"url(#clip1209)\" style=\"stroke:#000000; stroke-width:2; stroke-opacity:0.1; fill:none\" points=\"\n  2227.61,447.244 2227.61,687.475 \n  \"/>\n<polyline clip-path=\"url(#clip1209)\" style=\"stroke:#000000; stroke-width:2; stroke-opacity:0.1; fill:none\" points=\"\n  2301.23,447.244 2301.23,687.475 \n  \"/>\n<polyline clip-path=\"url(#clip1209)\" style=\"stroke:#000000; stroke-width:2; stroke-opacity:0.1; fill:none\" points=\"\n  1940.52,485.853 2352.76,485.853 \n  \"/>\n<polyline clip-path=\"url(#clip1209)\" style=\"stroke:#000000; stroke-width:2; stroke-opacity:0.1; fill:none\" points=\"\n  1940.52,528.751 2352.76,528.751 \n  \"/>\n<polyline clip-path=\"url(#clip1209)\" style=\"stroke:#000000; stroke-width:2; stroke-opacity:0.1; fill:none\" points=\"\n  1940.52,571.649 2352.76,571.649 \n  \"/>\n<polyline clip-path=\"url(#clip1209)\" style=\"stroke:#000000; stroke-width:2; stroke-opacity:0.1; fill:none\" points=\"\n  1940.52,614.548 2352.76,614.548 \n  \"/>\n<polyline clip-path=\"url(#clip1209)\" style=\"stroke:#000000; stroke-width:2; stroke-opacity:0.1; fill:none\" points=\"\n  1940.52,657.446 2352.76,657.446 \n  \"/>\n<polyline clip-path=\"url(#clip1200)\" style=\"stroke:#000000; stroke-width:4; stroke-opacity:1; fill:none\" points=\"\n  1940.52,687.475 2352.76,687.475 \n  \"/>\n<polyline clip-path=\"url(#clip1200)\" style=\"stroke:#000000; stroke-width:4; stroke-opacity:1; fill:none\" points=\"\n  1940.52,447.244 1940.52,687.475 \n  \"/>\n<polyline clip-path=\"url(#clip1200)\" style=\"stroke:#000000; stroke-width:4; stroke-opacity:1; fill:none\" points=\"\n  2006.77,687.475 2006.77,683.871 \n  \"/>\n<polyline clip-path=\"url(#clip1200)\" style=\"stroke:#000000; stroke-width:4; stroke-opacity:1; fill:none\" points=\"\n  2080.38,687.475 2080.38,683.871 \n  \"/>\n<polyline clip-path=\"url(#clip1200)\" style=\"stroke:#000000; stroke-width:4; stroke-opacity:1; fill:none\" points=\"\n  2154,687.475 2154,683.871 \n  \"/>\n<polyline clip-path=\"url(#clip1200)\" style=\"stroke:#000000; stroke-width:4; stroke-opacity:1; fill:none\" points=\"\n  2227.61,687.475 2227.61,683.871 \n  \"/>\n<polyline clip-path=\"url(#clip1200)\" style=\"stroke:#000000; stroke-width:4; stroke-opacity:1; fill:none\" points=\"\n  2301.23,687.475 2301.23,683.871 \n  \"/>\n<polyline clip-path=\"url(#clip1200)\" style=\"stroke:#000000; stroke-width:4; stroke-opacity:1; fill:none\" points=\"\n  1940.52,485.853 1946.7,485.853 \n  \"/>\n<polyline clip-path=\"url(#clip1200)\" style=\"stroke:#000000; stroke-width:4; stroke-opacity:1; fill:none\" points=\"\n  1940.52,528.751 1946.7,528.751 \n  \"/>\n<polyline clip-path=\"url(#clip1200)\" style=\"stroke:#000000; stroke-width:4; stroke-opacity:1; fill:none\" points=\"\n  1940.52,571.649 1946.7,571.649 \n  \"/>\n<polyline clip-path=\"url(#clip1200)\" style=\"stroke:#000000; stroke-width:4; stroke-opacity:1; fill:none\" points=\"\n  1940.52,614.548 1946.7,614.548 \n  \"/>\n<polyline clip-path=\"url(#clip1200)\" style=\"stroke:#000000; stroke-width:4; stroke-opacity:1; fill:none\" points=\"\n  1940.52,657.446 1946.7,657.446 \n  \"/>\n<g clip-path=\"url(#clip1200)\">\n<text style=\"fill:#000000; fill-opacity:1; font-family:Arial,Helvetica Neue,Helvetica,sans-serif; font-size:48px; text-anchor:middle;\" transform=\"rotate(0, 2006.77, 741.475)\" x=\"2006.77\" y=\"741.475\">5</text>\n</g>\n<g clip-path=\"url(#clip1200)\">\n<text style=\"fill:#000000; fill-opacity:1; font-family:Arial,Helvetica Neue,Helvetica,sans-serif; font-size:48px; text-anchor:middle;\" transform=\"rotate(0, 2080.38, 741.475)\" x=\"2080.38\" y=\"741.475\">10</text>\n</g>\n<g clip-path=\"url(#clip1200)\">\n<text style=\"fill:#000000; fill-opacity:1; font-family:Arial,Helvetica Neue,Helvetica,sans-serif; font-size:48px; text-anchor:middle;\" transform=\"rotate(0, 2154, 741.475)\" x=\"2154\" y=\"741.475\">15</text>\n</g>\n<g clip-path=\"url(#clip1200)\">\n<text style=\"fill:#000000; fill-opacity:1; font-family:Arial,Helvetica Neue,Helvetica,sans-serif; font-size:48px; text-anchor:middle;\" transform=\"rotate(0, 2227.61, 741.475)\" x=\"2227.61\" y=\"741.475\">20</text>\n</g>\n<g clip-path=\"url(#clip1200)\">\n<text style=\"fill:#000000; fill-opacity:1; font-family:Arial,Helvetica Neue,Helvetica,sans-serif; font-size:48px; text-anchor:middle;\" transform=\"rotate(0, 2301.23, 741.475)\" x=\"2301.23\" y=\"741.475\">25</text>\n</g>\n<g clip-path=\"url(#clip1200)\">\n<text style=\"fill:#000000; fill-opacity:1; font-family:Arial,Helvetica Neue,Helvetica,sans-serif; font-size:48px; text-anchor:end;\" transform=\"rotate(0, 1916.52, 503.353)\" x=\"1916.52\" y=\"503.353\">5</text>\n</g>\n<g clip-path=\"url(#clip1200)\">\n<text style=\"fill:#000000; fill-opacity:1; font-family:Arial,Helvetica Neue,Helvetica,sans-serif; font-size:48px; text-anchor:end;\" transform=\"rotate(0, 1916.52, 546.251)\" x=\"1916.52\" y=\"546.251\">10</text>\n</g>\n<g clip-path=\"url(#clip1200)\">\n<text style=\"fill:#000000; fill-opacity:1; font-family:Arial,Helvetica Neue,Helvetica,sans-serif; font-size:48px; text-anchor:end;\" transform=\"rotate(0, 1916.52, 589.149)\" x=\"1916.52\" y=\"589.149\">15</text>\n</g>\n<g clip-path=\"url(#clip1200)\">\n<text style=\"fill:#000000; fill-opacity:1; font-family:Arial,Helvetica Neue,Helvetica,sans-serif; font-size:48px; text-anchor:end;\" transform=\"rotate(0, 1916.52, 632.048)\" x=\"1916.52\" y=\"632.048\">20</text>\n</g>\n<g clip-path=\"url(#clip1200)\">\n<text style=\"fill:#000000; fill-opacity:1; font-family:Arial,Helvetica Neue,Helvetica,sans-serif; font-size:48px; text-anchor:end;\" transform=\"rotate(0, 1916.52, 674.946)\" x=\"1916.52\" y=\"674.946\">25</text>\n</g>\n<g clip-path=\"url(#clip1209)\">\n<image width=\"412\" height=\"240\" xlink:href=\"data:image/png;base64,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\n\" transform=\"translate(1941, 447)\"/>\n</g>\n<path clip-path=\"url(#clip1200)\" d=\"\nM140.517 1087.47 L552.756 1087.47 L552.756 847.244 L140.517 847.244  Z\n  \" fill=\"#ffffff\" fill-rule=\"evenodd\" fill-opacity=\"1\"/>\n<defs>\n  <clipPath id=\"clip1210\">\n    <rect x=\"140\" y=\"847\" width=\"413\" height=\"241\"/>\n  </clipPath>\n</defs>\n<polyline clip-path=\"url(#clip1210)\" style=\"stroke:#000000; stroke-width:2; stroke-opacity:0.1; fill:none\" points=\"\n  206.77,847.244 206.77,1087.47 \n  \"/>\n<polyline clip-path=\"url(#clip1210)\" style=\"stroke:#000000; stroke-width:2; stroke-opacity:0.1; fill:none\" points=\"\n  280.384,847.244 280.384,1087.47 \n  \"/>\n<polyline clip-path=\"url(#clip1210)\" style=\"stroke:#000000; stroke-width:2; stroke-opacity:0.1; fill:none\" points=\"\n  353.998,847.244 353.998,1087.47 \n  \"/>\n<polyline clip-path=\"url(#clip1210)\" style=\"stroke:#000000; stroke-width:2; stroke-opacity:0.1; fill:none\" points=\"\n  427.612,847.244 427.612,1087.47 \n  \"/>\n<polyline clip-path=\"url(#clip1210)\" style=\"stroke:#000000; stroke-width:2; stroke-opacity:0.1; fill:none\" points=\"\n  501.226,847.244 501.226,1087.47 \n  \"/>\n<polyline clip-path=\"url(#clip1210)\" style=\"stroke:#000000; stroke-width:2; stroke-opacity:0.1; fill:none\" points=\"\n  140.517,885.853 552.756,885.853 \n  \"/>\n<polyline clip-path=\"url(#clip1210)\" style=\"stroke:#000000; stroke-width:2; stroke-opacity:0.1; fill:none\" points=\"\n  140.517,928.751 552.756,928.751 \n  \"/>\n<polyline clip-path=\"url(#clip1210)\" style=\"stroke:#000000; stroke-width:2; stroke-opacity:0.1; fill:none\" points=\"\n  140.517,971.649 552.756,971.649 \n  \"/>\n<polyline clip-path=\"url(#clip1210)\" style=\"stroke:#000000; stroke-width:2; stroke-opacity:0.1; fill:none\" points=\"\n  140.517,1014.55 552.756,1014.55 \n  \"/>\n<polyline clip-path=\"url(#clip1210)\" style=\"stroke:#000000; stroke-width:2; stroke-opacity:0.1; fill:none\" points=\"\n  140.517,1057.45 552.756,1057.45 \n  \"/>\n<polyline clip-path=\"url(#clip1200)\" style=\"stroke:#000000; stroke-width:4; stroke-opacity:1; fill:none\" points=\"\n  140.517,1087.47 552.756,1087.47 \n  \"/>\n<polyline clip-path=\"url(#clip1200)\" style=\"stroke:#000000; stroke-width:4; stroke-opacity:1; fill:none\" points=\"\n  140.517,847.244 140.517,1087.47 \n  \"/>\n<polyline clip-path=\"url(#clip1200)\" style=\"stroke:#000000; stroke-width:4; stroke-opacity:1; fill:none\" points=\"\n  206.77,1087.47 206.77,1083.87 \n  \"/>\n<polyline clip-path=\"url(#clip1200)\" style=\"stroke:#000000; stroke-width:4; stroke-opacity:1; fill:none\" points=\"\n  280.384,1087.47 280.384,1083.87 \n  \"/>\n<polyline clip-path=\"url(#clip1200)\" style=\"stroke:#000000; stroke-width:4; stroke-opacity:1; fill:none\" points=\"\n  353.998,1087.47 353.998,1083.87 \n  \"/>\n<polyline clip-path=\"url(#clip1200)\" style=\"stroke:#000000; stroke-width:4; stroke-opacity:1; fill:none\" points=\"\n  427.612,1087.47 427.612,1083.87 \n  \"/>\n<polyline clip-path=\"url(#clip1200)\" style=\"stroke:#000000; stroke-width:4; stroke-opacity:1; fill:none\" points=\"\n  501.226,1087.47 501.226,1083.87 \n  \"/>\n<polyline clip-path=\"url(#clip1200)\" style=\"stroke:#000000; stroke-width:4; stroke-opacity:1; fill:none\" points=\"\n  140.517,885.853 146.7,885.853 \n  \"/>\n<polyline clip-path=\"url(#clip1200)\" style=\"stroke:#000000; stroke-width:4; stroke-opacity:1; fill:none\" points=\"\n  140.517,928.751 146.7,928.751 \n  \"/>\n<polyline clip-path=\"url(#clip1200)\" style=\"stroke:#000000; stroke-width:4; stroke-opacity:1; fill:none\" points=\"\n  140.517,971.649 146.7,971.649 \n  \"/>\n<polyline clip-path=\"url(#clip1200)\" style=\"stroke:#000000; stroke-width:4; stroke-opacity:1; fill:none\" points=\"\n  140.517,1014.55 146.7,1014.55 \n  \"/>\n<polyline clip-path=\"url(#clip1200)\" style=\"stroke:#000000; stroke-width:4; stroke-opacity:1; fill:none\" points=\"\n  140.517,1057.45 146.7,1057.45 \n  \"/>\n<g clip-path=\"url(#clip1200)\">\n<text style=\"fill:#000000; fill-opacity:1; font-family:Arial,Helvetica Neue,Helvetica,sans-serif; font-size:48px; text-anchor:middle;\" transform=\"rotate(0, 206.77, 1141.47)\" x=\"206.77\" y=\"1141.47\">5</text>\n</g>\n<g clip-path=\"url(#clip1200)\">\n<text style=\"fill:#000000; fill-opacity:1; font-family:Arial,Helvetica Neue,Helvetica,sans-serif; font-size:48px; text-anchor:middle;\" transform=\"rotate(0, 280.384, 1141.47)\" x=\"280.384\" y=\"1141.47\">10</text>\n</g>\n<g clip-path=\"url(#clip1200)\">\n<text style=\"fill:#000000; fill-opacity:1; font-family:Arial,Helvetica Neue,Helvetica,sans-serif; font-size:48px; text-anchor:middle;\" transform=\"rotate(0, 353.998, 1141.47)\" x=\"353.998\" y=\"1141.47\">15</text>\n</g>\n<g clip-path=\"url(#clip1200)\">\n<text style=\"fill:#000000; fill-opacity:1; font-family:Arial,Helvetica Neue,Helvetica,sans-serif; font-size:48px; text-anchor:middle;\" transform=\"rotate(0, 427.612, 1141.47)\" x=\"427.612\" y=\"1141.47\">20</text>\n</g>\n<g clip-path=\"url(#clip1200)\">\n<text style=\"fill:#000000; fill-opacity:1; font-family:Arial,Helvetica Neue,Helvetica,sans-serif; font-size:48px; text-anchor:middle;\" transform=\"rotate(0, 501.226, 1141.47)\" x=\"501.226\" y=\"1141.47\">25</text>\n</g>\n<g clip-path=\"url(#clip1200)\">\n<text style=\"fill:#000000; fill-opacity:1; font-family:Arial,Helvetica Neue,Helvetica,sans-serif; font-size:48px; text-anchor:end;\" transform=\"rotate(0, 116.517, 903.353)\" x=\"116.517\" y=\"903.353\">5</text>\n</g>\n<g clip-path=\"url(#clip1200)\">\n<text style=\"fill:#000000; fill-opacity:1; font-family:Arial,Helvetica Neue,Helvetica,sans-serif; font-size:48px; text-anchor:end;\" transform=\"rotate(0, 116.517, 946.251)\" x=\"116.517\" y=\"946.251\">10</text>\n</g>\n<g clip-path=\"url(#clip1200)\">\n<text style=\"fill:#000000; fill-opacity:1; font-family:Arial,Helvetica Neue,Helvetica,sans-serif; font-size:48px; text-anchor:end;\" transform=\"rotate(0, 116.517, 989.149)\" x=\"116.517\" y=\"989.149\">15</text>\n</g>\n<g clip-path=\"url(#clip1200)\">\n<text style=\"fill:#000000; fill-opacity:1; font-family:Arial,Helvetica Neue,Helvetica,sans-serif; font-size:48px; text-anchor:end;\" transform=\"rotate(0, 116.517, 1032.05)\" x=\"116.517\" y=\"1032.05\">20</text>\n</g>\n<g clip-path=\"url(#clip1200)\">\n<text style=\"fill:#000000; fill-opacity:1; font-family:Arial,Helvetica Neue,Helvetica,sans-serif; font-size:48px; text-anchor:end;\" transform=\"rotate(0, 116.517, 1074.95)\" x=\"116.517\" y=\"1074.95\">25</text>\n</g>\n<g clip-path=\"url(#clip1210)\">\n<image width=\"412\" height=\"240\" xlink:href=\"data:image/png;base64,\niVBORw0KGgoAAAANSUhEUgAAAZwAAADwCAYAAAA0ANKsAAAJP0lEQVR4nO3dz2qd1QIF8B2bpmnT\nY20RFey0IogoxeJYH0Fx0JkIjnTqi4gPoDhUZ6ID/3SkEyko1IGgKIqitVVaY9ukib2vUNbuXd/t\n9febL/bJOSdZfJDFXlutVrcGAPyX3bP0CwDg30HhAFChcACoUDgAVCgcACoUDgAVCgeACoUDQIXC\nAaBC4QBQoXAAqFA4AFQoHAAqFA4AFQoHgAqFA0CFwgGgQuEAUKFwAKhQOABUKBwAKhQOABUKB4AK\nhQNAhcIBoELhAFChcACoUDgAVCgcACoUDgAVCgeACoUDQIXCAaBC4QBQoXAAqFA4AFQoHAAqFA4A\nFQoHgAqFA0CFwgGgQuEAUKFwAKhQOABUKBwAKhQOABUKB4AKhQNAhcIBoELhAFChcACoWF/6BSSe\nfvrpOPvLL7/E2StXrkS5nZ2dKLe/vx/lxhjjwIEDi2T/+eefOLuEzc3NKLexsXGHX8ntSb8Tu7u7\n8Zkz34dbt27VszO/N+vr2Z/EEydOxGfOvEdnzpyJs++8806cTXnCAaBC4QBQoXAAqFA4AFQoHAAq\nFA4AFQoHgIrFdjhvvvlmnJ3ZQNxzT96x999/f5RLtyl7e3tRbox8+zObnbG2thblZj7Tra2tKHfw\n4MH4zHTrMWNmhzPzfbjbdjjp5zqzVfrzzz/j7Gq1irOXLl2Ks+fOnYtynnAAqFA4AFQoHAAqFA4A\nFQoHgAqFA0CFwgGgQuEAUDG1QPv555/j7NmzZ+Psc889F2cff/zxOHv9+vUolw79ZgaN6cVis9l0\nvDnG3EiwfebNmzfjM2ey6fs787nMDK1nPtN0hDkz/EzNXDw4M948cuRInD158mScTXnCAaBC4QBQ\noXAAqFA4AFQoHAAqFA4AFQoHgAqFA0DF2vPPPx8vs15++eX44BdeeCHOfvrpp3F25vbC9AbOJW54\n5Pakg8iZQePMSHCJ4eeMJYbAM8PP9MyZkfbMd+nYsWNx9plnnomzx48fj3KecACoUDgAVCgcACoU\nDgAVCgeACoUDQIXCAaBi/bHHHovDr7766h18Kbcv/R/wMca4ePFinL2bNhAzZ96Nm422me3EzM95\n4MCBOJta6nNJ3+Mltj/pZXFjjLG7uxtnZ37WmT1YujvyhANAhcIBoELhAFChcACoUDgAVCgcACoU\nDgAVCgeAivWvvvoqDv/222938KX870tHYenAaqnx5lKjxiWGtelns9R7tMQYcsbdNnpOB403btyo\nnzl77ltvvRVnX3vttSjnCQeACoUDQIXCAaBC4QBQoXAAqFA4AFQoHAAq1i9cuBCHjxw5EmevXbsW\nZzc2NuLsjPZmY319PcrNnDlrqf1PKn29M9uJmYuv0vdo5uK2pb5LS1jiAra9vb04O/M34vfff4+z\nv/76a5TzhANAhcIBoELhAFChcACoUDgAVCgcACoUDgAVCgeAivWLFy/G4S+++CLOnjlzJs5+/fXX\ncfbYsWNxtj3gnBnr7e/vx9mZEdvdNN4cI3+9M8PPmbFe+rnOfB+WGiAvcdlc+rnevHkzPnPGzPj+\nvffeu4Ov5PZ4wgGgQuEAUKFwAKhQOABUKBwAKhQOABUKB4CK/B/sxxhvv/12nP3kk0/i7Mz/vB86\ndCjObm9vR7n0f/tnNgwzP+fMjmEmm1pi+7O7uxtnd3Z24mz6uR4+fDg+c4kL42bMfAfTn3VmMzfz\n/s78rI888kic/eyzz6KcJxwAKhQOABUKB4AKhQNAhcIBoELhAFChcACoUDgAVEwNP19//fU4++KL\nL8bZb775Js7ODNEefvjhKLe3txflrl69GuXGGGNzczPOLnGh2cy56fs7xhhbW1tR7tSpU/GZM+/R\n999/H+Vm3qOZUeNMdgnpCHPm0sKZy/FmrFar+pmecACoUDgAVCgcACoUDgAVCgeACoUDQIXCAaBC\n4QBQMTX8nHH69Ok4+8EHH8TZ7777Ls6mQ6mjR49GuYceeijKjTHGlStX4uzMEC293XSMfHS3vp5/\njY8fPx7lXnnllfjMmZsWX3rppSj3008/xWfO3Ei5hJnhcnqb8FK3os5kZ35vUp5wAKhQOABUKBwA\nKhQOABUKB4AKhQNAhcIBoGKxHc6MJ554Is7OXDqUXiZ1/vz5KPfggw9GuTHmLgib2RT8/fffcfbG\njRtR7uTJk/GZH330UZR7//334zNnnD17Nsqle6Mxxrh27VqcXWLrMbNNSf8+zJy5vb0dZ2fe38uX\nL8fZlCccACoUDgAVCgeACoUDQIXCAaBC4QBQoXAAqFA4AFTclcPPpS6TSkdhJ06ciHLXr1+PcmOM\n8eOPP8bZmUvUZgaGhw4dinJ//PFHfOazzz4bZ1NPPfVUnH3ggQei3MzFgzO/M3t7e3E2NTPCTC9g\n29zcjM+cGW/OfDb33XdfnE15wgGgQuEAUKFwAKhQOABUKBwAKhQOABUKB4CKxXY47777bpw9ePBg\nnN3f34+za2trUe7RRx+Ncjs7O1FujPy1jrHcBWwbGxtRbuZ9unr1apT78MMP4zNnNhvpvmqJ7/0Y\nc9+l1MwOJ7W7uxtnZ96j9HdmjDGOHj0aZ1OecACoUDgAVCgcACoUDgAVCgeACoUDQIXCAaBC4QBQ\nMTX8fPLJJ+NsOoYcY4xvv/02zs6Mwi5fvhzlDh8+HJ+ZmhmEzQxrT506FWfT1/zDDz/EZ6aDyHvv\nvTc+M73kayY7c6nezO/qv8WFCxfi7Mwo96+//oqzly5dirMpTzgAVCgcACoUDgAVCgeACoUDQIXC\nAaBC4QBQMbXD+fLLL+Ps559/Hme3trbi7MwFYemFRavVKsptb29HuTHmfs433ngjzn788cdxFvj/\n5gkHgAqFA0CFwgGgQuEAUKFwAKhQOABUKBwAKhQOABVrq9Uqv5EMAG6TJxwAKhQOABUKB4AKhQNA\nhcIBoELhAFChcACoUDgAVCgcACoUDgAVCgeACoUDQIXCAaBC4QBQoXAAqFA4AFQoHAAqFA4AFQoH\ngAqFA0CFwgGgQuEAUKFwAKhQOABUKBwAKhQOABUKB4AKhQNAhcIBoELhAFChcACoUDgAVCgcACoU\nDgAVCgeACoUDQIXCAaBC4QBQoXAAqFA4AFQoHAAqFA4AFQoHgAqFA0CFwgGgQuEAUKFwAKhQOABU\nKBwAKhQOABX/AZTQFRQxMNDNAAAAAElFTkSuQmCC\n\" transform=\"translate(141, 847)\"/>\n</g>\n<path clip-path=\"url(#clip1200)\" d=\"\nM740.517 1087.47 L1152.76 1087.47 L1152.76 847.244 L740.517 847.244  Z\n  \" fill=\"#ffffff\" fill-rule=\"evenodd\" fill-opacity=\"1\"/>\n<defs>\n  <clipPath id=\"clip1211\">\n    <rect x=\"740\" y=\"847\" width=\"413\" height=\"241\"/>\n  </clipPath>\n</defs>\n<polyline clip-path=\"url(#clip1211)\" style=\"stroke:#000000; stroke-width:2; stroke-opacity:0.1; fill:none\" points=\"\n  806.77,847.244 806.77,1087.47 \n  \"/>\n<polyline clip-path=\"url(#clip1211)\" style=\"stroke:#000000; stroke-width:2; stroke-opacity:0.1; fill:none\" points=\"\n  880.384,847.244 880.384,1087.47 \n  \"/>\n<polyline clip-path=\"url(#clip1211)\" style=\"stroke:#000000; stroke-width:2; stroke-opacity:0.1; fill:none\" points=\"\n  953.998,847.244 953.998,1087.47 \n  \"/>\n<polyline clip-path=\"url(#clip1211)\" style=\"stroke:#000000; stroke-width:2; stroke-opacity:0.1; fill:none\" points=\"\n  1027.61,847.244 1027.61,1087.47 \n  \"/>\n<polyline clip-path=\"url(#clip1211)\" style=\"stroke:#000000; stroke-width:2; stroke-opacity:0.1; fill:none\" points=\"\n  1101.23,847.244 1101.23,1087.47 \n  \"/>\n<polyline clip-path=\"url(#clip1211)\" style=\"stroke:#000000; stroke-width:2; stroke-opacity:0.1; fill:none\" points=\"\n  740.517,885.853 1152.76,885.853 \n  \"/>\n<polyline clip-path=\"url(#clip1211)\" style=\"stroke:#000000; stroke-width:2; stroke-opacity:0.1; fill:none\" points=\"\n  740.517,928.751 1152.76,928.751 \n  \"/>\n<polyline clip-path=\"url(#clip1211)\" style=\"stroke:#000000; stroke-width:2; stroke-opacity:0.1; fill:none\" points=\"\n  740.517,971.649 1152.76,971.649 \n  \"/>\n<polyline clip-path=\"url(#clip1211)\" style=\"stroke:#000000; stroke-width:2; stroke-opacity:0.1; fill:none\" points=\"\n  740.517,1014.55 1152.76,1014.55 \n  \"/>\n<polyline clip-path=\"url(#clip1211)\" style=\"stroke:#000000; stroke-width:2; stroke-opacity:0.1; fill:none\" points=\"\n  740.517,1057.45 1152.76,1057.45 \n  \"/>\n<polyline clip-path=\"url(#clip1200)\" style=\"stroke:#000000; stroke-width:4; stroke-opacity:1; fill:none\" points=\"\n  740.517,1087.47 1152.76,1087.47 \n  \"/>\n<polyline clip-path=\"url(#clip1200)\" style=\"stroke:#000000; stroke-width:4; stroke-opacity:1; fill:none\" points=\"\n  740.517,847.244 740.517,1087.47 \n  \"/>\n<polyline clip-path=\"url(#clip1200)\" style=\"stroke:#000000; stroke-width:4; stroke-opacity:1; fill:none\" points=\"\n  806.77,1087.47 806.77,1083.87 \n  \"/>\n<polyline clip-path=\"url(#clip1200)\" style=\"stroke:#000000; stroke-width:4; stroke-opacity:1; fill:none\" points=\"\n  880.384,1087.47 880.384,1083.87 \n  \"/>\n<polyline clip-path=\"url(#clip1200)\" style=\"stroke:#000000; stroke-width:4; stroke-opacity:1; fill:none\" points=\"\n  953.998,1087.47 953.998,1083.87 \n  \"/>\n<polyline clip-path=\"url(#clip1200)\" style=\"stroke:#000000; stroke-width:4; stroke-opacity:1; fill:none\" points=\"\n  1027.61,1087.47 1027.61,1083.87 \n  \"/>\n<polyline clip-path=\"url(#clip1200)\" style=\"stroke:#000000; stroke-width:4; stroke-opacity:1; fill:none\" points=\"\n  1101.23,1087.47 1101.23,1083.87 \n  \"/>\n<polyline clip-path=\"url(#clip1200)\" style=\"stroke:#000000; stroke-width:4; stroke-opacity:1; fill:none\" points=\"\n  740.517,885.853 746.7,885.853 \n  \"/>\n<polyline clip-path=\"url(#clip1200)\" style=\"stroke:#000000; stroke-width:4; stroke-opacity:1; fill:none\" points=\"\n  740.517,928.751 746.7,928.751 \n  \"/>\n<polyline clip-path=\"url(#clip1200)\" style=\"stroke:#000000; stroke-width:4; stroke-opacity:1; fill:none\" points=\"\n  740.517,971.649 746.7,971.649 \n  \"/>\n<polyline clip-path=\"url(#clip1200)\" style=\"stroke:#000000; stroke-width:4; stroke-opacity:1; fill:none\" points=\"\n  740.517,1014.55 746.7,1014.55 \n  \"/>\n<polyline clip-path=\"url(#clip1200)\" style=\"stroke:#000000; stroke-width:4; stroke-opacity:1; fill:none\" points=\"\n  740.517,1057.45 746.7,1057.45 \n  \"/>\n<g clip-path=\"url(#clip1200)\">\n<text style=\"fill:#000000; fill-opacity:1; font-family:Arial,Helvetica Neue,Helvetica,sans-serif; font-size:48px; text-anchor:middle;\" transform=\"rotate(0, 806.77, 1141.47)\" x=\"806.77\" y=\"1141.47\">5</text>\n</g>\n<g clip-path=\"url(#clip1200)\">\n<text style=\"fill:#000000; fill-opacity:1; font-family:Arial,Helvetica Neue,Helvetica,sans-serif; font-size:48px; text-anchor:middle;\" transform=\"rotate(0, 880.384, 1141.47)\" x=\"880.384\" y=\"1141.47\">10</text>\n</g>\n<g clip-path=\"url(#clip1200)\">\n<text style=\"fill:#000000; fill-opacity:1; font-family:Arial,Helvetica Neue,Helvetica,sans-serif; font-size:48px; text-anchor:middle;\" transform=\"rotate(0, 953.998, 1141.47)\" x=\"953.998\" y=\"1141.47\">15</text>\n</g>\n<g clip-path=\"url(#clip1200)\">\n<text style=\"fill:#000000; fill-opacity:1; font-family:Arial,Helvetica Neue,Helvetica,sans-serif; font-size:48px; text-anchor:middle;\" transform=\"rotate(0, 1027.61, 1141.47)\" x=\"1027.61\" y=\"1141.47\">20</text>\n</g>\n<g clip-path=\"url(#clip1200)\">\n<text style=\"fill:#000000; fill-opacity:1; font-family:Arial,Helvetica Neue,Helvetica,sans-serif; font-size:48px; text-anchor:middle;\" transform=\"rotate(0, 1101.23, 1141.47)\" x=\"1101.23\" y=\"1141.47\">25</text>\n</g>\n<g clip-path=\"url(#clip1200)\">\n<text style=\"fill:#000000; fill-opacity:1; font-family:Arial,Helvetica Neue,Helvetica,sans-serif; font-size:48px; text-anchor:end;\" transform=\"rotate(0, 716.517, 903.353)\" x=\"716.517\" y=\"903.353\">5</text>\n</g>\n<g clip-path=\"url(#clip1200)\">\n<text style=\"fill:#000000; fill-opacity:1; font-family:Arial,Helvetica Neue,Helvetica,sans-serif; font-size:48px; text-anchor:end;\" transform=\"rotate(0, 716.517, 946.251)\" x=\"716.517\" y=\"946.251\">10</text>\n</g>\n<g clip-path=\"url(#clip1200)\">\n<text style=\"fill:#000000; fill-opacity:1; font-family:Arial,Helvetica Neue,Helvetica,sans-serif; font-size:48px; text-anchor:end;\" transform=\"rotate(0, 716.517, 989.149)\" x=\"716.517\" y=\"989.149\">15</text>\n</g>\n<g clip-path=\"url(#clip1200)\">\n<text style=\"fill:#000000; fill-opacity:1; font-family:Arial,Helvetica Neue,Helvetica,sans-serif; font-size:48px; text-anchor:end;\" transform=\"rotate(0, 716.517, 1032.05)\" x=\"716.517\" y=\"1032.05\">20</text>\n</g>\n<g clip-path=\"url(#clip1200)\">\n<text style=\"fill:#000000; fill-opacity:1; font-family:Arial,Helvetica Neue,Helvetica,sans-serif; font-size:48px; text-anchor:end;\" transform=\"rotate(0, 716.517, 1074.95)\" x=\"716.517\" y=\"1074.95\">25</text>\n</g>\n<g clip-path=\"url(#clip1211)\">\n<image width=\"412\" height=\"240\" xlink:href=\"data:image/png;base64,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\nALRQOAC0UDgAtPgfy6/onBG78+QAAAAASUVORK5CYII=\n\" transform=\"translate(741, 847)\"/>\n</g>\n<path clip-path=\"url(#clip1200)\" d=\"\nM1340.52 1087.47 L1752.76 1087.47 L1752.76 847.244 L1340.52 847.244  Z\n  \" fill=\"#ffffff\" fill-rule=\"evenodd\" fill-opacity=\"1\"/>\n<defs>\n  <clipPath id=\"clip1212\">\n    <rect x=\"1340\" y=\"847\" width=\"413\" height=\"241\"/>\n  </clipPath>\n</defs>\n<polyline clip-path=\"url(#clip1212)\" style=\"stroke:#000000; stroke-width:2; stroke-opacity:0.1; fill:none\" points=\"\n  1406.77,847.244 1406.77,1087.47 \n  \"/>\n<polyline clip-path=\"url(#clip1212)\" style=\"stroke:#000000; stroke-width:2; stroke-opacity:0.1; fill:none\" points=\"\n  1480.38,847.244 1480.38,1087.47 \n  \"/>\n<polyline clip-path=\"url(#clip1212)\" style=\"stroke:#000000; stroke-width:2; stroke-opacity:0.1; fill:none\" points=\"\n  1554,847.244 1554,1087.47 \n  \"/>\n<polyline clip-path=\"url(#clip1212)\" style=\"stroke:#000000; stroke-width:2; stroke-opacity:0.1; fill:none\" points=\"\n  1627.61,847.244 1627.61,1087.47 \n  \"/>\n<polyline clip-path=\"url(#clip1212)\" style=\"stroke:#000000; stroke-width:2; stroke-opacity:0.1; fill:none\" points=\"\n  1701.23,847.244 1701.23,1087.47 \n  \"/>\n<polyline clip-path=\"url(#clip1212)\" style=\"stroke:#000000; stroke-width:2; stroke-opacity:0.1; fill:none\" points=\"\n  1340.52,885.853 1752.76,885.853 \n  \"/>\n<polyline clip-path=\"url(#clip1212)\" style=\"stroke:#000000; stroke-width:2; stroke-opacity:0.1; fill:none\" points=\"\n  1340.52,928.751 1752.76,928.751 \n  \"/>\n<polyline clip-path=\"url(#clip1212)\" style=\"stroke:#000000; stroke-width:2; stroke-opacity:0.1; fill:none\" points=\"\n  1340.52,971.649 1752.76,971.649 \n  \"/>\n<polyline clip-path=\"url(#clip1212)\" style=\"stroke:#000000; stroke-width:2; stroke-opacity:0.1; fill:none\" points=\"\n  1340.52,1014.55 1752.76,1014.55 \n  \"/>\n<polyline clip-path=\"url(#clip1212)\" style=\"stroke:#000000; stroke-width:2; stroke-opacity:0.1; fill:none\" points=\"\n  1340.52,1057.45 1752.76,1057.45 \n  \"/>\n<polyline clip-path=\"url(#clip1200)\" style=\"stroke:#000000; stroke-width:4; stroke-opacity:1; fill:none\" points=\"\n  1340.52,1087.47 1752.76,1087.47 \n  \"/>\n<polyline clip-path=\"url(#clip1200)\" style=\"stroke:#000000; stroke-width:4; stroke-opacity:1; fill:none\" points=\"\n  1340.52,847.244 1340.52,1087.47 \n  \"/>\n<polyline clip-path=\"url(#clip1200)\" style=\"stroke:#000000; stroke-width:4; stroke-opacity:1; fill:none\" points=\"\n  1406.77,1087.47 1406.77,1083.87 \n  \"/>\n<polyline clip-path=\"url(#clip1200)\" style=\"stroke:#000000; stroke-width:4; stroke-opacity:1; fill:none\" points=\"\n  1480.38,1087.47 1480.38,1083.87 \n  \"/>\n<polyline clip-path=\"url(#clip1200)\" style=\"stroke:#000000; stroke-width:4; stroke-opacity:1; fill:none\" points=\"\n  1554,1087.47 1554,1083.87 \n  \"/>\n<polyline clip-path=\"url(#clip1200)\" style=\"stroke:#000000; stroke-width:4; stroke-opacity:1; fill:none\" points=\"\n  1627.61,1087.47 1627.61,1083.87 \n  \"/>\n<polyline clip-path=\"url(#clip1200)\" style=\"stroke:#000000; stroke-width:4; stroke-opacity:1; fill:none\" points=\"\n  1701.23,1087.47 1701.23,1083.87 \n  \"/>\n<polyline clip-path=\"url(#clip1200)\" style=\"stroke:#000000; stroke-width:4; stroke-opacity:1; fill:none\" points=\"\n  1340.52,885.853 1346.7,885.853 \n  \"/>\n<polyline clip-path=\"url(#clip1200)\" style=\"stroke:#000000; stroke-width:4; stroke-opacity:1; fill:none\" points=\"\n  1340.52,928.751 1346.7,928.751 \n  \"/>\n<polyline clip-path=\"url(#clip1200)\" style=\"stroke:#000000; stroke-width:4; stroke-opacity:1; fill:none\" points=\"\n  1340.52,971.649 1346.7,971.649 \n  \"/>\n<polyline clip-path=\"url(#clip1200)\" style=\"stroke:#000000; stroke-width:4; stroke-opacity:1; fill:none\" points=\"\n  1340.52,1014.55 1346.7,1014.55 \n  \"/>\n<polyline clip-path=\"url(#clip1200)\" style=\"stroke:#000000; stroke-width:4; stroke-opacity:1; fill:none\" points=\"\n  1340.52,1057.45 1346.7,1057.45 \n  \"/>\n<g clip-path=\"url(#clip1200)\">\n<text style=\"fill:#000000; fill-opacity:1; font-family:Arial,Helvetica Neue,Helvetica,sans-serif; font-size:48px; text-anchor:middle;\" transform=\"rotate(0, 1406.77, 1141.47)\" x=\"1406.77\" y=\"1141.47\">5</text>\n</g>\n<g clip-path=\"url(#clip1200)\">\n<text style=\"fill:#000000; fill-opacity:1; font-family:Arial,Helvetica Neue,Helvetica,sans-serif; font-size:48px; text-anchor:middle;\" transform=\"rotate(0, 1480.38, 1141.47)\" x=\"1480.38\" y=\"1141.47\">10</text>\n</g>\n<g clip-path=\"url(#clip1200)\">\n<text style=\"fill:#000000; fill-opacity:1; font-family:Arial,Helvetica Neue,Helvetica,sans-serif; font-size:48px; text-anchor:middle;\" transform=\"rotate(0, 1554, 1141.47)\" x=\"1554\" y=\"1141.47\">15</text>\n</g>\n<g clip-path=\"url(#clip1200)\">\n<text style=\"fill:#000000; fill-opacity:1; font-family:Arial,Helvetica Neue,Helvetica,sans-serif; font-size:48px; text-anchor:middle;\" transform=\"rotate(0, 1627.61, 1141.47)\" x=\"1627.61\" y=\"1141.47\">20</text>\n</g>\n<g clip-path=\"url(#clip1200)\">\n<text style=\"fill:#000000; fill-opacity:1; font-family:Arial,Helvetica Neue,Helvetica,sans-serif; font-size:48px; text-anchor:middle;\" transform=\"rotate(0, 1701.23, 1141.47)\" x=\"1701.23\" y=\"1141.47\">25</text>\n</g>\n<g clip-path=\"url(#clip1200)\">\n<text style=\"fill:#000000; fill-opacity:1; font-family:Arial,Helvetica Neue,Helvetica,sans-serif; font-size:48px; text-anchor:end;\" transform=\"rotate(0, 1316.52, 903.353)\" x=\"1316.52\" y=\"903.353\">5</text>\n</g>\n<g clip-path=\"url(#clip1200)\">\n<text style=\"fill:#000000; fill-opacity:1; font-family:Arial,Helvetica Neue,Helvetica,sans-serif; font-size:48px; text-anchor:end;\" transform=\"rotate(0, 1316.52, 946.251)\" x=\"1316.52\" y=\"946.251\">10</text>\n</g>\n<g clip-path=\"url(#clip1200)\">\n<text style=\"fill:#000000; fill-opacity:1; font-family:Arial,Helvetica Neue,Helvetica,sans-serif; font-size:48px; text-anchor:end;\" transform=\"rotate(0, 1316.52, 989.149)\" x=\"1316.52\" y=\"989.149\">15</text>\n</g>\n<g clip-path=\"url(#clip1200)\">\n<text style=\"fill:#000000; fill-opacity:1; font-family:Arial,Helvetica Neue,Helvetica,sans-serif; font-size:48px; text-anchor:end;\" transform=\"rotate(0, 1316.52, 1032.05)\" x=\"1316.52\" y=\"1032.05\">20</text>\n</g>\n<g clip-path=\"url(#clip1200)\">\n<text style=\"fill:#000000; fill-opacity:1; font-family:Arial,Helvetica Neue,Helvetica,sans-serif; font-size:48px; text-anchor:end;\" transform=\"rotate(0, 1316.52, 1074.95)\" x=\"1316.52\" y=\"1074.95\">25</text>\n</g>\n<g clip-path=\"url(#clip1212)\">\n<image width=\"412\" height=\"240\" xlink:href=\"data:image/png;base64,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\nwgGghcIBoIXCAaCFwgGgxb8ALafIMhht/c8AAAAASUVORK5CYII=\n\" transform=\"translate(1341, 847)\"/>\n</g>\n<path clip-path=\"url(#clip1200)\" d=\"\nM1940.52 1087.47 L2352.76 1087.47 L2352.76 847.244 L1940.52 847.244  Z\n  \" fill=\"#ffffff\" fill-rule=\"evenodd\" fill-opacity=\"1\"/>\n<defs>\n  <clipPath id=\"clip1213\">\n    <rect x=\"1940\" y=\"847\" width=\"413\" height=\"241\"/>\n  </clipPath>\n</defs>\n<polyline clip-path=\"url(#clip1213)\" style=\"stroke:#000000; stroke-width:2; stroke-opacity:0.1; fill:none\" points=\"\n  2006.77,847.244 2006.77,1087.47 \n  \"/>\n<polyline clip-path=\"url(#clip1213)\" style=\"stroke:#000000; stroke-width:2; stroke-opacity:0.1; fill:none\" points=\"\n  2080.38,847.244 2080.38,1087.47 \n  \"/>\n<polyline clip-path=\"url(#clip1213)\" style=\"stroke:#000000; stroke-width:2; stroke-opacity:0.1; fill:none\" points=\"\n  2154,847.244 2154,1087.47 \n  \"/>\n<polyline clip-path=\"url(#clip1213)\" style=\"stroke:#000000; stroke-width:2; stroke-opacity:0.1; fill:none\" points=\"\n  2227.61,847.244 2227.61,1087.47 \n  \"/>\n<polyline clip-path=\"url(#clip1213)\" style=\"stroke:#000000; stroke-width:2; stroke-opacity:0.1; fill:none\" points=\"\n  2301.23,847.244 2301.23,1087.47 \n  \"/>\n<polyline clip-path=\"url(#clip1213)\" style=\"stroke:#000000; stroke-width:2; stroke-opacity:0.1; fill:none\" points=\"\n  1940.52,885.853 2352.76,885.853 \n  \"/>\n<polyline clip-path=\"url(#clip1213)\" style=\"stroke:#000000; stroke-width:2; stroke-opacity:0.1; fill:none\" points=\"\n  1940.52,928.751 2352.76,928.751 \n  \"/>\n<polyline clip-path=\"url(#clip1213)\" style=\"stroke:#000000; stroke-width:2; stroke-opacity:0.1; fill:none\" points=\"\n  1940.52,971.649 2352.76,971.649 \n  \"/>\n<polyline clip-path=\"url(#clip1213)\" style=\"stroke:#000000; stroke-width:2; stroke-opacity:0.1; fill:none\" points=\"\n  1940.52,1014.55 2352.76,1014.55 \n  \"/>\n<polyline clip-path=\"url(#clip1213)\" style=\"stroke:#000000; stroke-width:2; stroke-opacity:0.1; fill:none\" points=\"\n  1940.52,1057.45 2352.76,1057.45 \n  \"/>\n<polyline clip-path=\"url(#clip1200)\" style=\"stroke:#000000; stroke-width:4; stroke-opacity:1; fill:none\" points=\"\n  1940.52,1087.47 2352.76,1087.47 \n  \"/>\n<polyline clip-path=\"url(#clip1200)\" style=\"stroke:#000000; stroke-width:4; stroke-opacity:1; fill:none\" points=\"\n  1940.52,847.244 1940.52,1087.47 \n  \"/>\n<polyline clip-path=\"url(#clip1200)\" style=\"stroke:#000000; stroke-width:4; stroke-opacity:1; fill:none\" points=\"\n  2006.77,1087.47 2006.77,1083.87 \n  \"/>\n<polyline clip-path=\"url(#clip1200)\" style=\"stroke:#000000; stroke-width:4; stroke-opacity:1; fill:none\" points=\"\n  2080.38,1087.47 2080.38,1083.87 \n  \"/>\n<polyline clip-path=\"url(#clip1200)\" style=\"stroke:#000000; stroke-width:4; stroke-opacity:1; fill:none\" points=\"\n  2154,1087.47 2154,1083.87 \n  \"/>\n<polyline clip-path=\"url(#clip1200)\" style=\"stroke:#000000; stroke-width:4; stroke-opacity:1; fill:none\" points=\"\n  2227.61,1087.47 2227.61,1083.87 \n  \"/>\n<polyline clip-path=\"url(#clip1200)\" style=\"stroke:#000000; stroke-width:4; stroke-opacity:1; fill:none\" points=\"\n  2301.23,1087.47 2301.23,1083.87 \n  \"/>\n<polyline clip-path=\"url(#clip1200)\" style=\"stroke:#000000; stroke-width:4; stroke-opacity:1; fill:none\" points=\"\n  1940.52,885.853 1946.7,885.853 \n  \"/>\n<polyline clip-path=\"url(#clip1200)\" style=\"stroke:#000000; stroke-width:4; stroke-opacity:1; fill:none\" points=\"\n  1940.52,928.751 1946.7,928.751 \n  \"/>\n<polyline clip-path=\"url(#clip1200)\" style=\"stroke:#000000; stroke-width:4; stroke-opacity:1; fill:none\" points=\"\n  1940.52,971.649 1946.7,971.649 \n  \"/>\n<polyline clip-path=\"url(#clip1200)\" style=\"stroke:#000000; stroke-width:4; stroke-opacity:1; fill:none\" points=\"\n  1940.52,1014.55 1946.7,1014.55 \n  \"/>\n<polyline clip-path=\"url(#clip1200)\" style=\"stroke:#000000; stroke-width:4; stroke-opacity:1; fill:none\" points=\"\n  1940.52,1057.45 1946.7,1057.45 \n  \"/>\n<g clip-path=\"url(#clip1200)\">\n<text style=\"fill:#000000; fill-opacity:1; font-family:Arial,Helvetica Neue,Helvetica,sans-serif; font-size:48px; text-anchor:middle;\" transform=\"rotate(0, 2006.77, 1141.47)\" x=\"2006.77\" y=\"1141.47\">5</text>\n</g>\n<g clip-path=\"url(#clip1200)\">\n<text style=\"fill:#000000; fill-opacity:1; font-family:Arial,Helvetica Neue,Helvetica,sans-serif; font-size:48px; text-anchor:middle;\" transform=\"rotate(0, 2080.38, 1141.47)\" x=\"2080.38\" y=\"1141.47\">10</text>\n</g>\n<g clip-path=\"url(#clip1200)\">\n<text style=\"fill:#000000; fill-opacity:1; font-family:Arial,Helvetica Neue,Helvetica,sans-serif; font-size:48px; text-anchor:middle;\" transform=\"rotate(0, 2154, 1141.47)\" x=\"2154\" y=\"1141.47\">15</text>\n</g>\n<g clip-path=\"url(#clip1200)\">\n<text style=\"fill:#000000; fill-opacity:1; font-family:Arial,Helvetica Neue,Helvetica,sans-serif; font-size:48px; text-anchor:middle;\" transform=\"rotate(0, 2227.61, 1141.47)\" x=\"2227.61\" y=\"1141.47\">20</text>\n</g>\n<g clip-path=\"url(#clip1200)\">\n<text style=\"fill:#000000; fill-opacity:1; font-family:Arial,Helvetica Neue,Helvetica,sans-serif; font-size:48px; text-anchor:middle;\" transform=\"rotate(0, 2301.23, 1141.47)\" x=\"2301.23\" y=\"1141.47\">25</text>\n</g>\n<g clip-path=\"url(#clip1200)\">\n<text style=\"fill:#000000; fill-opacity:1; font-family:Arial,Helvetica Neue,Helvetica,sans-serif; font-size:48px; text-anchor:end;\" transform=\"rotate(0, 1916.52, 903.353)\" x=\"1916.52\" y=\"903.353\">5</text>\n</g>\n<g clip-path=\"url(#clip1200)\">\n<text style=\"fill:#000000; fill-opacity:1; font-family:Arial,Helvetica Neue,Helvetica,sans-serif; font-size:48px; text-anchor:end;\" transform=\"rotate(0, 1916.52, 946.251)\" x=\"1916.52\" y=\"946.251\">10</text>\n</g>\n<g clip-path=\"url(#clip1200)\">\n<text style=\"fill:#000000; fill-opacity:1; font-family:Arial,Helvetica Neue,Helvetica,sans-serif; font-size:48px; text-anchor:end;\" transform=\"rotate(0, 1916.52, 989.149)\" x=\"1916.52\" y=\"989.149\">15</text>\n</g>\n<g clip-path=\"url(#clip1200)\">\n<text style=\"fill:#000000; fill-opacity:1; font-family:Arial,Helvetica Neue,Helvetica,sans-serif; font-size:48px; text-anchor:end;\" transform=\"rotate(0, 1916.52, 1032.05)\" x=\"1916.52\" y=\"1032.05\">20</text>\n</g>\n<g clip-path=\"url(#clip1200)\">\n<text style=\"fill:#000000; fill-opacity:1; font-family:Arial,Helvetica Neue,Helvetica,sans-serif; font-size:48px; text-anchor:end;\" transform=\"rotate(0, 1916.52, 1074.95)\" x=\"1916.52\" y=\"1074.95\">25</text>\n</g>\n<g clip-path=\"url(#clip1213)\">\n<image width=\"412\" height=\"240\" xlink:href=\"data:image/png;base64,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\nAABJRU5ErkJggg==\n\" transform=\"translate(1941, 847)\"/>\n</g>\n<path clip-path=\"url(#clip1200)\" d=\"\nM140.517 1487.47 L552.756 1487.47 L552.756 1247.24 L140.517 1247.24  Z\n  \" fill=\"#ffffff\" fill-rule=\"evenodd\" fill-opacity=\"1\"/>\n<defs>\n  <clipPath id=\"clip1214\">\n    <rect x=\"140\" y=\"1247\" width=\"413\" height=\"241\"/>\n  </clipPath>\n</defs>\n<polyline clip-path=\"url(#clip1214)\" style=\"stroke:#000000; stroke-width:2; stroke-opacity:0.1; fill:none\" points=\"\n  206.77,1247.24 206.77,1487.47 \n  \"/>\n<polyline clip-path=\"url(#clip1214)\" style=\"stroke:#000000; stroke-width:2; stroke-opacity:0.1; fill:none\" points=\"\n  280.384,1247.24 280.384,1487.47 \n  \"/>\n<polyline clip-path=\"url(#clip1214)\" style=\"stroke:#000000; stroke-width:2; stroke-opacity:0.1; fill:none\" points=\"\n  353.998,1247.24 353.998,1487.47 \n  \"/>\n<polyline clip-path=\"url(#clip1214)\" style=\"stroke:#000000; stroke-width:2; stroke-opacity:0.1; fill:none\" points=\"\n  427.612,1247.24 427.612,1487.47 \n  \"/>\n<polyline clip-path=\"url(#clip1214)\" style=\"stroke:#000000; stroke-width:2; stroke-opacity:0.1; fill:none\" points=\"\n  501.226,1247.24 501.226,1487.47 \n  \"/>\n<polyline clip-path=\"url(#clip1214)\" style=\"stroke:#000000; stroke-width:2; stroke-opacity:0.1; fill:none\" points=\"\n  140.517,1285.85 552.756,1285.85 \n  \"/>\n<polyline clip-path=\"url(#clip1214)\" style=\"stroke:#000000; stroke-width:2; stroke-opacity:0.1; fill:none\" points=\"\n  140.517,1328.75 552.756,1328.75 \n  \"/>\n<polyline clip-path=\"url(#clip1214)\" style=\"stroke:#000000; stroke-width:2; stroke-opacity:0.1; fill:none\" points=\"\n  140.517,1371.65 552.756,1371.65 \n  \"/>\n<polyline clip-path=\"url(#clip1214)\" style=\"stroke:#000000; stroke-width:2; stroke-opacity:0.1; fill:none\" points=\"\n  140.517,1414.55 552.756,1414.55 \n  \"/>\n<polyline clip-path=\"url(#clip1214)\" style=\"stroke:#000000; stroke-width:2; stroke-opacity:0.1; fill:none\" points=\"\n  140.517,1457.45 552.756,1457.45 \n  \"/>\n<polyline clip-path=\"url(#clip1200)\" style=\"stroke:#000000; stroke-width:4; stroke-opacity:1; fill:none\" points=\"\n  140.517,1487.47 552.756,1487.47 \n  \"/>\n<polyline clip-path=\"url(#clip1200)\" style=\"stroke:#000000; stroke-width:4; stroke-opacity:1; fill:none\" points=\"\n  140.517,1247.24 140.517,1487.47 \n  \"/>\n<polyline clip-path=\"url(#clip1200)\" style=\"stroke:#000000; stroke-width:4; stroke-opacity:1; fill:none\" points=\"\n  206.77,1487.47 206.77,1483.87 \n  \"/>\n<polyline clip-path=\"url(#clip1200)\" style=\"stroke:#000000; stroke-width:4; stroke-opacity:1; fill:none\" points=\"\n  280.384,1487.47 280.384,1483.87 \n  \"/>\n<polyline clip-path=\"url(#clip1200)\" style=\"stroke:#000000; stroke-width:4; stroke-opacity:1; fill:none\" points=\"\n  353.998,1487.47 353.998,1483.87 \n  \"/>\n<polyline clip-path=\"url(#clip1200)\" style=\"stroke:#000000; stroke-width:4; stroke-opacity:1; fill:none\" points=\"\n  427.612,1487.47 427.612,1483.87 \n  \"/>\n<polyline clip-path=\"url(#clip1200)\" style=\"stroke:#000000; stroke-width:4; stroke-opacity:1; fill:none\" points=\"\n  501.226,1487.47 501.226,1483.87 \n  \"/>\n<polyline clip-path=\"url(#clip1200)\" style=\"stroke:#000000; stroke-width:4; stroke-opacity:1; fill:none\" points=\"\n  140.517,1285.85 146.7,1285.85 \n  \"/>\n<polyline clip-path=\"url(#clip1200)\" style=\"stroke:#000000; stroke-width:4; stroke-opacity:1; fill:none\" points=\"\n  140.517,1328.75 146.7,1328.75 \n  \"/>\n<polyline clip-path=\"url(#clip1200)\" style=\"stroke:#000000; stroke-width:4; stroke-opacity:1; fill:none\" points=\"\n  140.517,1371.65 146.7,1371.65 \n  \"/>\n<polyline clip-path=\"url(#clip1200)\" style=\"stroke:#000000; stroke-width:4; stroke-opacity:1; fill:none\" points=\"\n  140.517,1414.55 146.7,1414.55 \n  \"/>\n<polyline clip-path=\"url(#clip1200)\" style=\"stroke:#000000; stroke-width:4; stroke-opacity:1; fill:none\" points=\"\n  140.517,1457.45 146.7,1457.45 \n  \"/>\n<g clip-path=\"url(#clip1200)\">\n<text style=\"fill:#000000; fill-opacity:1; font-family:Arial,Helvetica Neue,Helvetica,sans-serif; font-size:48px; text-anchor:middle;\" transform=\"rotate(0, 206.77, 1541.47)\" x=\"206.77\" y=\"1541.47\">5</text>\n</g>\n<g clip-path=\"url(#clip1200)\">\n<text style=\"fill:#000000; fill-opacity:1; font-family:Arial,Helvetica Neue,Helvetica,sans-serif; font-size:48px; text-anchor:middle;\" transform=\"rotate(0, 280.384, 1541.47)\" x=\"280.384\" y=\"1541.47\">10</text>\n</g>\n<g clip-path=\"url(#clip1200)\">\n<text style=\"fill:#000000; fill-opacity:1; font-family:Arial,Helvetica Neue,Helvetica,sans-serif; font-size:48px; text-anchor:middle;\" transform=\"rotate(0, 353.998, 1541.47)\" x=\"353.998\" y=\"1541.47\">15</text>\n</g>\n<g clip-path=\"url(#clip1200)\">\n<text style=\"fill:#000000; fill-opacity:1; font-family:Arial,Helvetica Neue,Helvetica,sans-serif; font-size:48px; text-anchor:middle;\" transform=\"rotate(0, 427.612, 1541.47)\" x=\"427.612\" y=\"1541.47\">20</text>\n</g>\n<g clip-path=\"url(#clip1200)\">\n<text style=\"fill:#000000; fill-opacity:1; font-family:Arial,Helvetica Neue,Helvetica,sans-serif; font-size:48px; text-anchor:middle;\" transform=\"rotate(0, 501.226, 1541.47)\" x=\"501.226\" y=\"1541.47\">25</text>\n</g>\n<g clip-path=\"url(#clip1200)\">\n<text style=\"fill:#000000; fill-opacity:1; font-family:Arial,Helvetica Neue,Helvetica,sans-serif; font-size:48px; text-anchor:end;\" transform=\"rotate(0, 116.517, 1303.35)\" x=\"116.517\" y=\"1303.35\">5</text>\n</g>\n<g clip-path=\"url(#clip1200)\">\n<text style=\"fill:#000000; fill-opacity:1; font-family:Arial,Helvetica Neue,Helvetica,sans-serif; font-size:48px; text-anchor:end;\" transform=\"rotate(0, 116.517, 1346.25)\" x=\"116.517\" y=\"1346.25\">10</text>\n</g>\n<g clip-path=\"url(#clip1200)\">\n<text style=\"fill:#000000; fill-opacity:1; font-family:Arial,Helvetica Neue,Helvetica,sans-serif; font-size:48px; text-anchor:end;\" transform=\"rotate(0, 116.517, 1389.15)\" x=\"116.517\" y=\"1389.15\">15</text>\n</g>\n<g clip-path=\"url(#clip1200)\">\n<text style=\"fill:#000000; fill-opacity:1; font-family:Arial,Helvetica Neue,Helvetica,sans-serif; font-size:48px; text-anchor:end;\" transform=\"rotate(0, 116.517, 1432.05)\" x=\"116.517\" y=\"1432.05\">20</text>\n</g>\n<g clip-path=\"url(#clip1200)\">\n<text style=\"fill:#000000; fill-opacity:1; font-family:Arial,Helvetica Neue,Helvetica,sans-serif; font-size:48px; text-anchor:end;\" transform=\"rotate(0, 116.517, 1474.95)\" x=\"116.517\" y=\"1474.95\">25</text>\n</g>\n<g clip-path=\"url(#clip1214)\">\n<image width=\"412\" height=\"240\" xlink:href=\"data:image/png;base64,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\nC4UDQAuFA0CL/wEsygGAOGJCoAAAAABJRU5ErkJggg==\n\" transform=\"translate(141, 1247)\"/>\n</g>\n<path clip-path=\"url(#clip1200)\" d=\"\nM740.517 1487.47 L1152.76 1487.47 L1152.76 1247.24 L740.517 1247.24  Z\n  \" fill=\"#ffffff\" fill-rule=\"evenodd\" fill-opacity=\"1\"/>\n<defs>\n  <clipPath id=\"clip1215\">\n    <rect x=\"740\" y=\"1247\" width=\"413\" height=\"241\"/>\n  </clipPath>\n</defs>\n<polyline clip-path=\"url(#clip1215)\" style=\"stroke:#000000; stroke-width:2; stroke-opacity:0.1; fill:none\" points=\"\n  806.77,1247.24 806.77,1487.47 \n  \"/>\n<polyline clip-path=\"url(#clip1215)\" style=\"stroke:#000000; stroke-width:2; stroke-opacity:0.1; fill:none\" points=\"\n  880.384,1247.24 880.384,1487.47 \n  \"/>\n<polyline clip-path=\"url(#clip1215)\" style=\"stroke:#000000; stroke-width:2; stroke-opacity:0.1; fill:none\" points=\"\n  953.998,1247.24 953.998,1487.47 \n  \"/>\n<polyline clip-path=\"url(#clip1215)\" style=\"stroke:#000000; stroke-width:2; stroke-opacity:0.1; fill:none\" points=\"\n  1027.61,1247.24 1027.61,1487.47 \n  \"/>\n<polyline clip-path=\"url(#clip1215)\" style=\"stroke:#000000; stroke-width:2; stroke-opacity:0.1; fill:none\" points=\"\n  1101.23,1247.24 1101.23,1487.47 \n  \"/>\n<polyline clip-path=\"url(#clip1215)\" style=\"stroke:#000000; stroke-width:2; stroke-opacity:0.1; fill:none\" points=\"\n  740.517,1285.85 1152.76,1285.85 \n  \"/>\n<polyline clip-path=\"url(#clip1215)\" style=\"stroke:#000000; stroke-width:2; stroke-opacity:0.1; fill:none\" points=\"\n  740.517,1328.75 1152.76,1328.75 \n  \"/>\n<polyline clip-path=\"url(#clip1215)\" style=\"stroke:#000000; stroke-width:2; stroke-opacity:0.1; fill:none\" points=\"\n  740.517,1371.65 1152.76,1371.65 \n  \"/>\n<polyline clip-path=\"url(#clip1215)\" style=\"stroke:#000000; stroke-width:2; stroke-opacity:0.1; fill:none\" points=\"\n  740.517,1414.55 1152.76,1414.55 \n  \"/>\n<polyline clip-path=\"url(#clip1215)\" style=\"stroke:#000000; stroke-width:2; stroke-opacity:0.1; fill:none\" points=\"\n  740.517,1457.45 1152.76,1457.45 \n  \"/>\n<polyline clip-path=\"url(#clip1200)\" style=\"stroke:#000000; stroke-width:4; stroke-opacity:1; fill:none\" points=\"\n  740.517,1487.47 1152.76,1487.47 \n  \"/>\n<polyline clip-path=\"url(#clip1200)\" style=\"stroke:#000000; stroke-width:4; stroke-opacity:1; fill:none\" points=\"\n  740.517,1247.24 740.517,1487.47 \n  \"/>\n<polyline clip-path=\"url(#clip1200)\" style=\"stroke:#000000; stroke-width:4; stroke-opacity:1; fill:none\" points=\"\n  806.77,1487.47 806.77,1483.87 \n  \"/>\n<polyline clip-path=\"url(#clip1200)\" style=\"stroke:#000000; stroke-width:4; stroke-opacity:1; fill:none\" points=\"\n  880.384,1487.47 880.384,1483.87 \n  \"/>\n<polyline clip-path=\"url(#clip1200)\" style=\"stroke:#000000; stroke-width:4; stroke-opacity:1; fill:none\" points=\"\n  953.998,1487.47 953.998,1483.87 \n  \"/>\n<polyline clip-path=\"url(#clip1200)\" style=\"stroke:#000000; stroke-width:4; stroke-opacity:1; fill:none\" points=\"\n  1027.61,1487.47 1027.61,1483.87 \n  \"/>\n<polyline clip-path=\"url(#clip1200)\" style=\"stroke:#000000; stroke-width:4; stroke-opacity:1; fill:none\" points=\"\n  1101.23,1487.47 1101.23,1483.87 \n  \"/>\n<polyline clip-path=\"url(#clip1200)\" style=\"stroke:#000000; stroke-width:4; stroke-opacity:1; fill:none\" points=\"\n  740.517,1285.85 746.7,1285.85 \n  \"/>\n<polyline clip-path=\"url(#clip1200)\" style=\"stroke:#000000; stroke-width:4; stroke-opacity:1; fill:none\" points=\"\n  740.517,1328.75 746.7,1328.75 \n  \"/>\n<polyline clip-path=\"url(#clip1200)\" style=\"stroke:#000000; stroke-width:4; stroke-opacity:1; fill:none\" points=\"\n  740.517,1371.65 746.7,1371.65 \n  \"/>\n<polyline clip-path=\"url(#clip1200)\" style=\"stroke:#000000; stroke-width:4; stroke-opacity:1; fill:none\" points=\"\n  740.517,1414.55 746.7,1414.55 \n  \"/>\n<polyline clip-path=\"url(#clip1200)\" style=\"stroke:#000000; stroke-width:4; stroke-opacity:1; fill:none\" points=\"\n  740.517,1457.45 746.7,1457.45 \n  \"/>\n<g clip-path=\"url(#clip1200)\">\n<text style=\"fill:#000000; fill-opacity:1; font-family:Arial,Helvetica Neue,Helvetica,sans-serif; font-size:48px; text-anchor:middle;\" transform=\"rotate(0, 806.77, 1541.47)\" x=\"806.77\" y=\"1541.47\">5</text>\n</g>\n<g clip-path=\"url(#clip1200)\">\n<text style=\"fill:#000000; fill-opacity:1; font-family:Arial,Helvetica Neue,Helvetica,sans-serif; font-size:48px; text-anchor:middle;\" transform=\"rotate(0, 880.384, 1541.47)\" x=\"880.384\" y=\"1541.47\">10</text>\n</g>\n<g clip-path=\"url(#clip1200)\">\n<text style=\"fill:#000000; fill-opacity:1; font-family:Arial,Helvetica Neue,Helvetica,sans-serif; font-size:48px; text-anchor:middle;\" transform=\"rotate(0, 953.998, 1541.47)\" x=\"953.998\" y=\"1541.47\">15</text>\n</g>\n<g clip-path=\"url(#clip1200)\">\n<text style=\"fill:#000000; fill-opacity:1; font-family:Arial,Helvetica Neue,Helvetica,sans-serif; font-size:48px; text-anchor:middle;\" transform=\"rotate(0, 1027.61, 1541.47)\" x=\"1027.61\" y=\"1541.47\">20</text>\n</g>\n<g clip-path=\"url(#clip1200)\">\n<text style=\"fill:#000000; fill-opacity:1; font-family:Arial,Helvetica Neue,Helvetica,sans-serif; font-size:48px; text-anchor:middle;\" transform=\"rotate(0, 1101.23, 1541.47)\" x=\"1101.23\" y=\"1541.47\">25</text>\n</g>\n<g clip-path=\"url(#clip1200)\">\n<text style=\"fill:#000000; fill-opacity:1; font-family:Arial,Helvetica Neue,Helvetica,sans-serif; font-size:48px; text-anchor:end;\" transform=\"rotate(0, 716.517, 1303.35)\" x=\"716.517\" y=\"1303.35\">5</text>\n</g>\n<g clip-path=\"url(#clip1200)\">\n<text style=\"fill:#000000; fill-opacity:1; font-family:Arial,Helvetica Neue,Helvetica,sans-serif; font-size:48px; text-anchor:end;\" transform=\"rotate(0, 716.517, 1346.25)\" x=\"716.517\" y=\"1346.25\">10</text>\n</g>\n<g clip-path=\"url(#clip1200)\">\n<text style=\"fill:#000000; fill-opacity:1; font-family:Arial,Helvetica Neue,Helvetica,sans-serif; font-size:48px; text-anchor:end;\" transform=\"rotate(0, 716.517, 1389.15)\" x=\"716.517\" y=\"1389.15\">15</text>\n</g>\n<g clip-path=\"url(#clip1200)\">\n<text style=\"fill:#000000; fill-opacity:1; font-family:Arial,Helvetica Neue,Helvetica,sans-serif; font-size:48px; text-anchor:end;\" transform=\"rotate(0, 716.517, 1432.05)\" x=\"716.517\" y=\"1432.05\">20</text>\n</g>\n<g clip-path=\"url(#clip1200)\">\n<text style=\"fill:#000000; fill-opacity:1; font-family:Arial,Helvetica Neue,Helvetica,sans-serif; font-size:48px; text-anchor:end;\" transform=\"rotate(0, 716.517, 1474.95)\" x=\"716.517\" y=\"1474.95\">25</text>\n</g>\n<g clip-path=\"url(#clip1215)\">\n<image width=\"412\" height=\"240\" xlink:href=\"data:image/png;base64,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\nOABECA4AEYIDQITgABAhOABE/A2ondsJgJCOPQAAAABJRU5ErkJggg==\n\" transform=\"translate(741, 1247)\"/>\n</g>\n<path clip-path=\"url(#clip1200)\" d=\"\nM1340.52 1487.47 L1752.76 1487.47 L1752.76 1247.24 L1340.52 1247.24  Z\n  \" fill=\"#ffffff\" fill-rule=\"evenodd\" fill-opacity=\"1\"/>\n<defs>\n  <clipPath id=\"clip1216\">\n    <rect x=\"1340\" y=\"1247\" width=\"413\" height=\"241\"/>\n  </clipPath>\n</defs>\n<polyline clip-path=\"url(#clip1216)\" style=\"stroke:#000000; stroke-width:2; stroke-opacity:0.1; fill:none\" points=\"\n  1406.77,1247.24 1406.77,1487.47 \n  \"/>\n<polyline clip-path=\"url(#clip1216)\" style=\"stroke:#000000; stroke-width:2; stroke-opacity:0.1; fill:none\" points=\"\n  1480.38,1247.24 1480.38,1487.47 \n  \"/>\n<polyline clip-path=\"url(#clip1216)\" style=\"stroke:#000000; stroke-width:2; stroke-opacity:0.1; fill:none\" points=\"\n  1554,1247.24 1554,1487.47 \n  \"/>\n<polyline clip-path=\"url(#clip1216)\" style=\"stroke:#000000; stroke-width:2; stroke-opacity:0.1; fill:none\" points=\"\n  1627.61,1247.24 1627.61,1487.47 \n  \"/>\n<polyline clip-path=\"url(#clip1216)\" style=\"stroke:#000000; stroke-width:2; stroke-opacity:0.1; fill:none\" points=\"\n  1701.23,1247.24 1701.23,1487.47 \n  \"/>\n<polyline clip-path=\"url(#clip1216)\" style=\"stroke:#000000; stroke-width:2; stroke-opacity:0.1; fill:none\" points=\"\n  1340.52,1285.85 1752.76,1285.85 \n  \"/>\n<polyline clip-path=\"url(#clip1216)\" style=\"stroke:#000000; stroke-width:2; stroke-opacity:0.1; fill:none\" points=\"\n  1340.52,1328.75 1752.76,1328.75 \n  \"/>\n<polyline clip-path=\"url(#clip1216)\" style=\"stroke:#000000; stroke-width:2; stroke-opacity:0.1; fill:none\" points=\"\n  1340.52,1371.65 1752.76,1371.65 \n  \"/>\n<polyline clip-path=\"url(#clip1216)\" style=\"stroke:#000000; stroke-width:2; stroke-opacity:0.1; fill:none\" points=\"\n  1340.52,1414.55 1752.76,1414.55 \n  \"/>\n<polyline clip-path=\"url(#clip1216)\" style=\"stroke:#000000; stroke-width:2; stroke-opacity:0.1; fill:none\" points=\"\n  1340.52,1457.45 1752.76,1457.45 \n  \"/>\n<polyline clip-path=\"url(#clip1200)\" style=\"stroke:#000000; stroke-width:4; stroke-opacity:1; fill:none\" points=\"\n  1340.52,1487.47 1752.76,1487.47 \n  \"/>\n<polyline clip-path=\"url(#clip1200)\" style=\"stroke:#000000; stroke-width:4; stroke-opacity:1; fill:none\" points=\"\n  1340.52,1247.24 1340.52,1487.47 \n  \"/>\n<polyline clip-path=\"url(#clip1200)\" style=\"stroke:#000000; stroke-width:4; stroke-opacity:1; fill:none\" points=\"\n  1406.77,1487.47 1406.77,1483.87 \n  \"/>\n<polyline clip-path=\"url(#clip1200)\" style=\"stroke:#000000; stroke-width:4; stroke-opacity:1; fill:none\" points=\"\n  1480.38,1487.47 1480.38,1483.87 \n  \"/>\n<polyline clip-path=\"url(#clip1200)\" style=\"stroke:#000000; stroke-width:4; stroke-opacity:1; fill:none\" points=\"\n  1554,1487.47 1554,1483.87 \n  \"/>\n<polyline clip-path=\"url(#clip1200)\" style=\"stroke:#000000; stroke-width:4; stroke-opacity:1; fill:none\" points=\"\n  1627.61,1487.47 1627.61,1483.87 \n  \"/>\n<polyline clip-path=\"url(#clip1200)\" style=\"stroke:#000000; stroke-width:4; stroke-opacity:1; fill:none\" points=\"\n  1701.23,1487.47 1701.23,1483.87 \n  \"/>\n<polyline clip-path=\"url(#clip1200)\" style=\"stroke:#000000; stroke-width:4; stroke-opacity:1; fill:none\" points=\"\n  1340.52,1285.85 1346.7,1285.85 \n  \"/>\n<polyline clip-path=\"url(#clip1200)\" style=\"stroke:#000000; stroke-width:4; stroke-opacity:1; fill:none\" points=\"\n  1340.52,1328.75 1346.7,1328.75 \n  \"/>\n<polyline clip-path=\"url(#clip1200)\" style=\"stroke:#000000; stroke-width:4; stroke-opacity:1; fill:none\" points=\"\n  1340.52,1371.65 1346.7,1371.65 \n  \"/>\n<polyline clip-path=\"url(#clip1200)\" style=\"stroke:#000000; stroke-width:4; stroke-opacity:1; fill:none\" points=\"\n  1340.52,1414.55 1346.7,1414.55 \n  \"/>\n<polyline clip-path=\"url(#clip1200)\" style=\"stroke:#000000; stroke-width:4; stroke-opacity:1; fill:none\" points=\"\n  1340.52,1457.45 1346.7,1457.45 \n  \"/>\n<g clip-path=\"url(#clip1200)\">\n<text style=\"fill:#000000; fill-opacity:1; font-family:Arial,Helvetica Neue,Helvetica,sans-serif; font-size:48px; text-anchor:middle;\" transform=\"rotate(0, 1406.77, 1541.47)\" x=\"1406.77\" y=\"1541.47\">5</text>\n</g>\n<g clip-path=\"url(#clip1200)\">\n<text style=\"fill:#000000; fill-opacity:1; font-family:Arial,Helvetica Neue,Helvetica,sans-serif; font-size:48px; text-anchor:middle;\" transform=\"rotate(0, 1480.38, 1541.47)\" x=\"1480.38\" y=\"1541.47\">10</text>\n</g>\n<g clip-path=\"url(#clip1200)\">\n<text style=\"fill:#000000; fill-opacity:1; font-family:Arial,Helvetica Neue,Helvetica,sans-serif; font-size:48px; text-anchor:middle;\" transform=\"rotate(0, 1554, 1541.47)\" x=\"1554\" y=\"1541.47\">15</text>\n</g>\n<g clip-path=\"url(#clip1200)\">\n<text style=\"fill:#000000; fill-opacity:1; font-family:Arial,Helvetica Neue,Helvetica,sans-serif; font-size:48px; text-anchor:middle;\" transform=\"rotate(0, 1627.61, 1541.47)\" x=\"1627.61\" y=\"1541.47\">20</text>\n</g>\n<g clip-path=\"url(#clip1200)\">\n<text style=\"fill:#000000; fill-opacity:1; font-family:Arial,Helvetica Neue,Helvetica,sans-serif; font-size:48px; text-anchor:middle;\" transform=\"rotate(0, 1701.23, 1541.47)\" x=\"1701.23\" y=\"1541.47\">25</text>\n</g>\n<g clip-path=\"url(#clip1200)\">\n<text style=\"fill:#000000; fill-opacity:1; font-family:Arial,Helvetica Neue,Helvetica,sans-serif; font-size:48px; text-anchor:end;\" transform=\"rotate(0, 1316.52, 1303.35)\" x=\"1316.52\" y=\"1303.35\">5</text>\n</g>\n<g clip-path=\"url(#clip1200)\">\n<text style=\"fill:#000000; fill-opacity:1; font-family:Arial,Helvetica Neue,Helvetica,sans-serif; font-size:48px; text-anchor:end;\" transform=\"rotate(0, 1316.52, 1346.25)\" x=\"1316.52\" y=\"1346.25\">10</text>\n</g>\n<g clip-path=\"url(#clip1200)\">\n<text style=\"fill:#000000; fill-opacity:1; font-family:Arial,Helvetica Neue,Helvetica,sans-serif; font-size:48px; text-anchor:end;\" transform=\"rotate(0, 1316.52, 1389.15)\" x=\"1316.52\" y=\"1389.15\">15</text>\n</g>\n<g clip-path=\"url(#clip1200)\">\n<text style=\"fill:#000000; fill-opacity:1; font-family:Arial,Helvetica Neue,Helvetica,sans-serif; font-size:48px; text-anchor:end;\" transform=\"rotate(0, 1316.52, 1432.05)\" x=\"1316.52\" y=\"1432.05\">20</text>\n</g>\n<g clip-path=\"url(#clip1200)\">\n<text style=\"fill:#000000; fill-opacity:1; font-family:Arial,Helvetica Neue,Helvetica,sans-serif; font-size:48px; text-anchor:end;\" transform=\"rotate(0, 1316.52, 1474.95)\" x=\"1316.52\" y=\"1474.95\">25</text>\n</g>\n<g clip-path=\"url(#clip1216)\">\n<image width=\"412\" height=\"240\" xlink:href=\"data:image/png;base64,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\nNtYtR0YAAAAASUVORK5CYII=\n\" transform=\"translate(1341, 1247)\"/>\n</g>\n<path clip-path=\"url(#clip1200)\" d=\"\nM1940.52 1487.47 L2352.76 1487.47 L2352.76 1247.24 L1940.52 1247.24  Z\n  \" fill=\"#ffffff\" fill-rule=\"evenodd\" fill-opacity=\"1\"/>\n<defs>\n  <clipPath id=\"clip1217\">\n    <rect x=\"1940\" y=\"1247\" width=\"413\" height=\"241\"/>\n  </clipPath>\n</defs>\n<polyline clip-path=\"url(#clip1217)\" style=\"stroke:#000000; stroke-width:2; stroke-opacity:0.1; fill:none\" points=\"\n  2006.77,1247.24 2006.77,1487.47 \n  \"/>\n<polyline clip-path=\"url(#clip1217)\" style=\"stroke:#000000; stroke-width:2; stroke-opacity:0.1; fill:none\" points=\"\n  2080.38,1247.24 2080.38,1487.47 \n  \"/>\n<polyline clip-path=\"url(#clip1217)\" style=\"stroke:#000000; stroke-width:2; stroke-opacity:0.1; fill:none\" points=\"\n  2154,1247.24 2154,1487.47 \n  \"/>\n<polyline clip-path=\"url(#clip1217)\" style=\"stroke:#000000; stroke-width:2; stroke-opacity:0.1; fill:none\" points=\"\n  2227.61,1247.24 2227.61,1487.47 \n  \"/>\n<polyline clip-path=\"url(#clip1217)\" style=\"stroke:#000000; stroke-width:2; stroke-opacity:0.1; fill:none\" points=\"\n  2301.23,1247.24 2301.23,1487.47 \n  \"/>\n<polyline clip-path=\"url(#clip1217)\" style=\"stroke:#000000; stroke-width:2; stroke-opacity:0.1; fill:none\" points=\"\n  1940.52,1285.85 2352.76,1285.85 \n  \"/>\n<polyline clip-path=\"url(#clip1217)\" style=\"stroke:#000000; stroke-width:2; stroke-opacity:0.1; fill:none\" points=\"\n  1940.52,1328.75 2352.76,1328.75 \n  \"/>\n<polyline clip-path=\"url(#clip1217)\" style=\"stroke:#000000; stroke-width:2; stroke-opacity:0.1; fill:none\" points=\"\n  1940.52,1371.65 2352.76,1371.65 \n  \"/>\n<polyline clip-path=\"url(#clip1217)\" style=\"stroke:#000000; stroke-width:2; stroke-opacity:0.1; fill:none\" points=\"\n  1940.52,1414.55 2352.76,1414.55 \n  \"/>\n<polyline clip-path=\"url(#clip1217)\" style=\"stroke:#000000; stroke-width:2; stroke-opacity:0.1; fill:none\" points=\"\n  1940.52,1457.45 2352.76,1457.45 \n  \"/>\n<polyline clip-path=\"url(#clip1200)\" style=\"stroke:#000000; stroke-width:4; stroke-opacity:1; fill:none\" points=\"\n  1940.52,1487.47 2352.76,1487.47 \n  \"/>\n<polyline clip-path=\"url(#clip1200)\" style=\"stroke:#000000; stroke-width:4; stroke-opacity:1; fill:none\" points=\"\n  1940.52,1247.24 1940.52,1487.47 \n  \"/>\n<polyline clip-path=\"url(#clip1200)\" style=\"stroke:#000000; stroke-width:4; stroke-opacity:1; fill:none\" points=\"\n  2006.77,1487.47 2006.77,1483.87 \n  \"/>\n<polyline clip-path=\"url(#clip1200)\" style=\"stroke:#000000; stroke-width:4; stroke-opacity:1; fill:none\" points=\"\n  2080.38,1487.47 2080.38,1483.87 \n  \"/>\n<polyline clip-path=\"url(#clip1200)\" style=\"stroke:#000000; stroke-width:4; stroke-opacity:1; fill:none\" points=\"\n  2154,1487.47 2154,1483.87 \n  \"/>\n<polyline clip-path=\"url(#clip1200)\" style=\"stroke:#000000; stroke-width:4; stroke-opacity:1; fill:none\" points=\"\n  2227.61,1487.47 2227.61,1483.87 \n  \"/>\n<polyline clip-path=\"url(#clip1200)\" style=\"stroke:#000000; stroke-width:4; stroke-opacity:1; fill:none\" points=\"\n  2301.23,1487.47 2301.23,1483.87 \n  \"/>\n<polyline clip-path=\"url(#clip1200)\" style=\"stroke:#000000; stroke-width:4; stroke-opacity:1; fill:none\" points=\"\n  1940.52,1285.85 1946.7,1285.85 \n  \"/>\n<polyline clip-path=\"url(#clip1200)\" style=\"stroke:#000000; stroke-width:4; stroke-opacity:1; fill:none\" points=\"\n  1940.52,1328.75 1946.7,1328.75 \n  \"/>\n<polyline clip-path=\"url(#clip1200)\" style=\"stroke:#000000; stroke-width:4; stroke-opacity:1; fill:none\" points=\"\n  1940.52,1371.65 1946.7,1371.65 \n  \"/>\n<polyline clip-path=\"url(#clip1200)\" style=\"stroke:#000000; stroke-width:4; stroke-opacity:1; fill:none\" points=\"\n  1940.52,1414.55 1946.7,1414.55 \n  \"/>\n<polyline clip-path=\"url(#clip1200)\" style=\"stroke:#000000; stroke-width:4; stroke-opacity:1; fill:none\" points=\"\n  1940.52,1457.45 1946.7,1457.45 \n  \"/>\n<g clip-path=\"url(#clip1200)\">\n<text style=\"fill:#000000; fill-opacity:1; font-family:Arial,Helvetica Neue,Helvetica,sans-serif; font-size:48px; text-anchor:middle;\" transform=\"rotate(0, 2006.77, 1541.47)\" x=\"2006.77\" y=\"1541.47\">5</text>\n</g>\n<g clip-path=\"url(#clip1200)\">\n<text style=\"fill:#000000; fill-opacity:1; font-family:Arial,Helvetica Neue,Helvetica,sans-serif; font-size:48px; text-anchor:middle;\" transform=\"rotate(0, 2080.38, 1541.47)\" x=\"2080.38\" y=\"1541.47\">10</text>\n</g>\n<g clip-path=\"url(#clip1200)\">\n<text style=\"fill:#000000; fill-opacity:1; font-family:Arial,Helvetica Neue,Helvetica,sans-serif; font-size:48px; text-anchor:middle;\" transform=\"rotate(0, 2154, 1541.47)\" x=\"2154\" y=\"1541.47\">15</text>\n</g>\n<g clip-path=\"url(#clip1200)\">\n<text style=\"fill:#000000; fill-opacity:1; font-family:Arial,Helvetica Neue,Helvetica,sans-serif; font-size:48px; text-anchor:middle;\" transform=\"rotate(0, 2227.61, 1541.47)\" x=\"2227.61\" y=\"1541.47\">20</text>\n</g>\n<g clip-path=\"url(#clip1200)\">\n<text style=\"fill:#000000; fill-opacity:1; font-family:Arial,Helvetica Neue,Helvetica,sans-serif; font-size:48px; text-anchor:middle;\" transform=\"rotate(0, 2301.23, 1541.47)\" x=\"2301.23\" y=\"1541.47\">25</text>\n</g>\n<g clip-path=\"url(#clip1200)\">\n<text style=\"fill:#000000; fill-opacity:1; font-family:Arial,Helvetica Neue,Helvetica,sans-serif; font-size:48px; text-anchor:end;\" transform=\"rotate(0, 1916.52, 1303.35)\" x=\"1916.52\" y=\"1303.35\">5</text>\n</g>\n<g clip-path=\"url(#clip1200)\">\n<text style=\"fill:#000000; fill-opacity:1; font-family:Arial,Helvetica Neue,Helvetica,sans-serif; font-size:48px; text-anchor:end;\" transform=\"rotate(0, 1916.52, 1346.25)\" x=\"1916.52\" y=\"1346.25\">10</text>\n</g>\n<g clip-path=\"url(#clip1200)\">\n<text style=\"fill:#000000; fill-opacity:1; font-family:Arial,Helvetica Neue,Helvetica,sans-serif; font-size:48px; text-anchor:end;\" transform=\"rotate(0, 1916.52, 1389.15)\" x=\"1916.52\" y=\"1389.15\">15</text>\n</g>\n<g clip-path=\"url(#clip1200)\">\n<text style=\"fill:#000000; fill-opacity:1; font-family:Arial,Helvetica Neue,Helvetica,sans-serif; font-size:48px; text-anchor:end;\" transform=\"rotate(0, 1916.52, 1432.05)\" x=\"1916.52\" y=\"1432.05\">20</text>\n</g>\n<g clip-path=\"url(#clip1200)\">\n<text style=\"fill:#000000; fill-opacity:1; font-family:Arial,Helvetica Neue,Helvetica,sans-serif; font-size:48px; text-anchor:end;\" transform=\"rotate(0, 1916.52, 1474.95)\" x=\"1916.52\" y=\"1474.95\">25</text>\n</g>\n<g clip-path=\"url(#clip1217)\">\n<image width=\"412\" height=\"240\" xlink:href=\"data:image/png;base64,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\nwgGghMIBoITCAaCEwgGghMIBoMS/AF18PB/UUDPjAAAAAElFTkSuQmCC\n\" transform=\"translate(1941, 1247)\"/>\n</g>\n</svg>\n"
          },
          "metadata": {
            "tags": []
          },
          "execution_count": 4
        }
      ]
    },
    {
      "cell_type": "markdown",
      "metadata": {
        "id": "-SmXUwcNjO3p",
        "colab_type": "text"
      },
      "source": [
        "## Assignment 1.1: A memory-efficient voted perceptron ##\n",
        "\n"
      ]
    },
    {
      "cell_type": "markdown",
      "metadata": {
        "id": "TJDS7Nx_0Wco",
        "colab_type": "text"
      },
      "source": [
        "### 1. Derive a variant of the voted perceptron with memory complexity O(1)"
      ]
    },
    {
      "cell_type": "markdown",
      "metadata": {
        "id": "N3Big4J7Qu7c",
        "colab_type": "text"
      },
      "source": [
        "**Result:** $\\boldsymbol{\\beta} = \\sum_{i=1}^{k}c_i(\\boldsymbol{w_i})$ \\\\\n",
        "$\\boldsymbol{w}: = 0^d$; \\\\\n",
        "$\\boldsymbol{c}: = 1$; \\\\\n",
        "**while** *not converged* **do** \\\\\n",
        "$~~~$ **for** $i:= 1,...,n$ **do** \\\\\n",
        "$~~~~~~$ \n",
        "  $\\hat{y} =\n",
        "    \\begin{cases}\n",
        "      1 & \\boldsymbol{w_k \\cdot x_i} \\geq 0\\\\\n",
        "      0 & \\text{else}\n",
        "    \\end{cases}$ \\\\\n",
        "$~~~~~~$ **if** $\\hat{y} = y$ **then** \\\\\n",
        "$~~~~~~~~~ c:= c+1$; \\\\\n",
        "$~~~~~~$ **else** \\\\\n",
        "$~~~~~~~~~ \\boldsymbol{\\beta} := \\boldsymbol{\\beta} + c\\boldsymbol{w}$; \\\\\n",
        "$~~~~~~~~~ \\boldsymbol{w} := \n",
        "\\boldsymbol{w} + (y - \\hat{y})\\boldsymbol{x_i}$; \\\\\n",
        "$~~~~~~~~~ c = 1$; \\\\\n",
        "$~~~~~~$ **end** \\\\\n",
        "$~~~$ **end** \\\\\n",
        "**end** \\\\\n"
      ]
    },
    {
      "cell_type": "markdown",
      "metadata": {
        "id": "iOXa51yb0bWm",
        "colab_type": "text"
      },
      "source": [
        "### 2. Prove that your efficient variant is functionally equivalent to the voted perceptron."
      ]
    },
    {
      "cell_type": "markdown",
      "metadata": {
        "id": "qnnWZOAjL_Uv",
        "colab_type": "text"
      },
      "source": [
        "The algorithm predicts based off $\\sum_{i=1}^{k}c_i(\\boldsymbol{w_i \\cdot  x})$ and if we let $\\boldsymbol{\\beta} = \\sum_{i=1}^{k}c_i(\\boldsymbol{w_i})$ then we can predict using $\\boldsymbol{\\beta \\cdot x}$ which is one d-dimensional vector, therefore the memory complexity is $O(1)$, rather than $O(k)$.\n"
      ]
    },
    {
      "cell_type": "markdown",
      "metadata": {
        "id": "aXRWFDYQ4Gy-",
        "colab_type": "text"
      },
      "source": [
        "In the voted perceptron, k does not decrease, therefore we can iteratively add the $c_k \\boldsymbol{w_k}$ terms to $\\boldsymbol{\\beta}$ without needing to store all of the terms."
      ]
    },
    {
      "cell_type": "markdown",
      "metadata": {
        "id": "58ub7Y8e0PKv",
        "colab_type": "text"
      },
      "source": [
        "### 3 & 4. Implement your efficient variant in your Colaboratory notebook and train your model to convergence on the training set."
      ]
    },
    {
      "cell_type": "code",
      "metadata": {
        "id": "cq0KF-ycLQQO",
        "colab_type": "code",
        "colab": {}
      },
      "source": [
        "acc(y, y_hat) = 1 - sum(broadcast(abs,(y-y_hat)))/length(y)"
      ],
      "execution_count": 0,
      "outputs": []
    },
    {
      "cell_type": "code",
      "metadata": {
        "id": "OhqolJwhOCGb",
        "colab_type": "code",
        "colab": {}
      },
      "source": [
        "function y_pred(x, beta)   \n",
        "  preds = []\n",
        "  for i in 1:size(x)[2]\n",
        "    if (beta'x[:,i])[1] >= 0\n",
        "      push!(preds, 1)\n",
        "    else\n",
        "      push!(preds, 0)\n",
        "    end\n",
        "  end\n",
        "  return preds\n",
        "end"
      ],
      "execution_count": 0,
      "outputs": []
    },
    {
      "cell_type": "code",
      "metadata": {
        "id": "pOZuctP0IRaN",
        "colab_type": "code",
        "colab": {}
      },
      "source": [
        "trainx = zeros((size(trainxs)[1]*size(trainxs)[2],size(trainxs)[3]))\n",
        "devx = zeros((size(devxs)[1]*size(devxs)[2],size(devxs)[3]))\n",
        "testx = zeros((size(testxs)[1]*size(testxs)[2],size(testxs)[3]))\n",
        "\n",
        "for i in 1:size(trainxs)[3]\n",
        "    trainx[:,i] = reshape(trainxs[:,:,i], size(trainxs)[1]*size(trainxs)[2], 1)\n",
        "end\n",
        "for i in 1:size(devxs)[3]\n",
        "    devx[:,i] = reshape(devxs[:,:,i], size(devxs)[1]*size(devxs)[2], 1)\n",
        "end\n",
        "for i in 1:size(testxs)[3]\n",
        "    testx[:,i] = reshape(testxs[:,:,i], size(testxs)[1]*size(testxs)[2], 1)\n",
        "end"
      ],
      "execution_count": 0,
      "outputs": []
    },
    {
      "cell_type": "code",
      "metadata": {
        "id": "jtVnLqP1ifUG",
        "colab_type": "code",
        "colab": {}
      },
      "source": [
        "# Mutable structure for memory-efficient voted perceptron\n",
        "mutable struct EfficientPerceptron\n",
        "    beta ::Vector{Float64}\n",
        "    w    ::Vector{Float64}\n",
        "    c    ::Float64\n",
        "end\n",
        "# Initialising weights and bias\n",
        "EfficientPerceptron(d) = EfficientPerceptron(\n",
        "  zeros(d),\n",
        "  zeros(d), \n",
        "  1.0)"
      ],
      "execution_count": 0,
      "outputs": []
    },
    {
      "cell_type": "code",
      "metadata": {
        "id": "AKIPnUW-GxL3",
        "colab_type": "code",
        "outputId": "6cb30586-a3e2-4ba5-cfd5-04c5cdec7897",
        "colab": {
          "base_uri": "https://localhost:8080/",
          "height": 34
        }
      },
      "source": [
        "train_accuracy = []\n",
        "dev_accuracy = []\n",
        "m = EfficientPerceptron(size(trainxs)[1]*size(trainxs)[2]) \n",
        "bestmodel = deepcopy(m)\n",
        "bestacc = 0\n",
        "#w = zeros(size(trainxs)[1]*size(trainxs)[2], 1);\n",
        "# c =1;\n",
        "# beta = zeros(size(trainxs)[1]*size(trainxs)[2], 1);\n",
        "epochs = 5000\n",
        "for iteration in 1:epochs  \n",
        "  for i in 1:size(trainxs)[3]\n",
        "    if (m.w'trainx[:,i])[1] >= 0\n",
        "      y_hat = 1\n",
        "    else\n",
        "      y_hat = 0\n",
        "    end\n",
        "    if trainys[i] == y_hat\n",
        "      m.c = m.c+1\n",
        "    else\n",
        "      m.beta = m.beta + m.c*m.w\n",
        "      m.w = m.w + (trainys[i]-y_hat)*trainx[:,i]\n",
        "      m.c = 1\n",
        "    end\n",
        "  end\n",
        "  \n",
        "  trainys_fitted = y_pred(trainx, m.beta)\n",
        "  devys_fitted = y_pred(devx, m.beta)\n",
        "  valid_acc = acc(devys, devys_fitted)\n",
        "  push!(train_accuracy, acc(trainys, trainys_fitted))\n",
        "  push!(dev_accuracy, valid_acc)\n",
        "\n",
        "  # Break if accuracy is no longer increasing. This will signal convergence.\n",
        "  if((iteration > 12) && (sum(broadcast(abs, train_accuracy[end - 10:end] - train_accuracy[end- 10-1:end-1])) == 0))\n",
        "    println(\"Convergence after $iteration epochs\")\n",
        "    break\n",
        "  end \n",
        "\n",
        "  #Update best parameters and best validation loss\n",
        "  valid_acc > bestacc  || continue\n",
        "  bestacc = valid_acc\n",
        "  bestmodel = deepcopy(m)\n",
        "\n",
        "   \n",
        "end"
      ],
      "execution_count": 0,
      "outputs": [
        {
          "output_type": "stream",
          "text": [
            "Convergence after 247 epochs\n"
          ],
          "name": "stdout"
        }
      ]
    },
    {
      "cell_type": "markdown",
      "metadata": {
        "id": "-W3pPxdq0_Le",
        "colab_type": "text"
      },
      "source": [
        "### 5.Provide a plot of the accuracy on the training set for each epoch."
      ]
    },
    {
      "cell_type": "code",
      "metadata": {
        "id": "ZVBt6W0PK8Lw",
        "colab_type": "code",
        "outputId": "64bec094-94a2-4665-f145-8c4f432668dd",
        "colab": {
          "base_uri": "https://localhost:8080/",
          "height": 421
        }
      },
      "source": [
        "plot(1:length(train_accuracy), train_accuracy, label=\"Training Accuracy\", legend = :bottomright)  "
      ],
      "execution_count": 0,
      "outputs": [
        {
          "output_type": "execute_result",
          "data": {
            "image/svg+xml": "<?xml version=\"1.0\" encoding=\"utf-8\"?>\n<svg xmlns=\"http://www.w3.org/2000/svg\" xmlns:xlink=\"http://www.w3.org/1999/xlink\" width=\"600\" height=\"400\" viewBox=\"0 0 2400 1600\">\n<defs>\n  <clipPath id=\"clip2800\">\n    <rect x=\"0\" y=\"0\" width=\"2400\" height=\"1600\"/>\n  </clipPath>\n</defs>\n<path clip-path=\"url(#clip2800)\" d=\"\nM0 1600 L2400 1600 L2400 0 L0 0  Z\n  \" fill=\"#ffffff\" fill-rule=\"evenodd\" fill-opacity=\"1\"/>\n<defs>\n  <clipPath id=\"clip2801\">\n    <rect x=\"480\" y=\"0\" width=\"1681\" height=\"1600\"/>\n  </clipPath>\n</defs>\n<path clip-path=\"url(#clip2800)\" d=\"\nM207.423 1487.47 L2352.76 1487.47 L2352.76 47.2441 L207.423 47.2441  Z\n  \" fill=\"#ffffff\" fill-rule=\"evenodd\" fill-opacity=\"1\"/>\n<defs>\n  <clipPath id=\"clip2802\">\n    <rect x=\"207\" y=\"47\" width=\"2146\" height=\"1441\"/>\n  </clipPath>\n</defs>\n<polyline clip-path=\"url(#clip2802)\" style=\"stroke:#000000; stroke-width:2; stroke-opacity:0.1; fill:none\" points=\"\n  259.912,1487.47 259.912,47.2441 \n  \"/>\n<polyline clip-path=\"url(#clip2802)\" style=\"stroke:#000000; stroke-width:2; stroke-opacity:0.1; fill:none\" points=\"\n  671.274,1487.47 671.274,47.2441 \n  \"/>\n<polyline clip-path=\"url(#clip2802)\" style=\"stroke:#000000; stroke-width:2; stroke-opacity:0.1; fill:none\" points=\"\n  1082.64,1487.47 1082.64,47.2441 \n  \"/>\n<polyline clip-path=\"url(#clip2802)\" style=\"stroke:#000000; stroke-width:2; stroke-opacity:0.1; fill:none\" points=\"\n  1494,1487.47 1494,47.2441 \n  \"/>\n<polyline clip-path=\"url(#clip2802)\" style=\"stroke:#000000; stroke-width:2; stroke-opacity:0.1; fill:none\" points=\"\n  1905.36,1487.47 1905.36,47.2441 \n  \"/>\n<polyline clip-path=\"url(#clip2802)\" style=\"stroke:#000000; stroke-width:2; stroke-opacity:0.1; fill:none\" points=\"\n  2316.72,1487.47 2316.72,47.2441 \n  \"/>\n<polyline clip-path=\"url(#clip2802)\" style=\"stroke:#000000; stroke-width:2; stroke-opacity:0.1; fill:none\" points=\"\n  207.423,1185.04 2352.76,1185.04 \n  \"/>\n<polyline clip-path=\"url(#clip2802)\" style=\"stroke:#000000; stroke-width:2; stroke-opacity:0.1; fill:none\" points=\"\n  207.423,943.488 2352.76,943.488 \n  \"/>\n<polyline clip-path=\"url(#clip2802)\" style=\"stroke:#000000; stroke-width:2; stroke-opacity:0.1; fill:none\" points=\"\n  207.423,701.94 2352.76,701.94 \n  \"/>\n<polyline clip-path=\"url(#clip2802)\" style=\"stroke:#000000; stroke-width:2; stroke-opacity:0.1; fill:none\" points=\"\n  207.423,339.618 2352.76,339.618 \n  \"/>\n<polyline clip-path=\"url(#clip2800)\" style=\"stroke:#000000; stroke-width:4; stroke-opacity:1; fill:none\" points=\"\n  207.423,1487.47 2352.76,1487.47 \n  \"/>\n<polyline clip-path=\"url(#clip2800)\" style=\"stroke:#000000; stroke-width:4; stroke-opacity:1; fill:none\" points=\"\n  207.423,1487.47 207.423,47.2441 \n  \"/>\n<polyline clip-path=\"url(#clip2800)\" style=\"stroke:#000000; stroke-width:4; stroke-opacity:1; fill:none\" points=\"\n  259.912,1487.47 259.912,1465.87 \n  \"/>\n<polyline clip-path=\"url(#clip2800)\" style=\"stroke:#000000; stroke-width:4; stroke-opacity:1; fill:none\" points=\"\n  671.274,1487.47 671.274,1465.87 \n  \"/>\n<polyline clip-path=\"url(#clip2800)\" style=\"stroke:#000000; stroke-width:4; stroke-opacity:1; fill:none\" points=\"\n  1082.64,1487.47 1082.64,1465.87 \n  \"/>\n<polyline clip-path=\"url(#clip2800)\" style=\"stroke:#000000; stroke-width:4; stroke-opacity:1; fill:none\" points=\"\n  1494,1487.47 1494,1465.87 \n  \"/>\n<polyline clip-path=\"url(#clip2800)\" style=\"stroke:#000000; stroke-width:4; stroke-opacity:1; fill:none\" points=\"\n  1905.36,1487.47 1905.36,1465.87 \n  \"/>\n<polyline clip-path=\"url(#clip2800)\" style=\"stroke:#000000; stroke-width:4; stroke-opacity:1; fill:none\" points=\"\n  2316.72,1487.47 2316.72,1465.87 \n  \"/>\n<polyline clip-path=\"url(#clip2800)\" style=\"stroke:#000000; stroke-width:4; stroke-opacity:1; fill:none\" points=\"\n  207.423,1185.04 239.603,1185.04 \n  \"/>\n<polyline clip-path=\"url(#clip2800)\" style=\"stroke:#000000; stroke-width:4; stroke-opacity:1; fill:none\" points=\"\n  207.423,943.488 239.603,943.488 \n  \"/>\n<polyline clip-path=\"url(#clip2800)\" style=\"stroke:#000000; stroke-width:4; stroke-opacity:1; fill:none\" points=\"\n  207.423,701.94 239.603,701.94 \n  \"/>\n<polyline clip-path=\"url(#clip2800)\" style=\"stroke:#000000; stroke-width:4; stroke-opacity:1; fill:none\" points=\"\n  207.423,339.618 239.603,339.618 \n  \"/>\n<g clip-path=\"url(#clip2800)\">\n<text style=\"fill:#000000; fill-opacity:1; font-family:Arial,Helvetica Neue,Helvetica,sans-serif; font-size:48px; text-anchor:middle;\" transform=\"rotate(0, 259.912, 1541.47)\" x=\"259.912\" y=\"1541.47\">0</text>\n</g>\n<g clip-path=\"url(#clip2800)\">\n<text style=\"fill:#000000; fill-opacity:1; font-family:Arial,Helvetica Neue,Helvetica,sans-serif; font-size:48px; text-anchor:middle;\" transform=\"rotate(0, 671.274, 1541.47)\" x=\"671.274\" y=\"1541.47\">50</text>\n</g>\n<g clip-path=\"url(#clip2800)\">\n<text style=\"fill:#000000; fill-opacity:1; font-family:Arial,Helvetica Neue,Helvetica,sans-serif; font-size:48px; text-anchor:middle;\" transform=\"rotate(0, 1082.64, 1541.47)\" x=\"1082.64\" y=\"1541.47\">100</text>\n</g>\n<g clip-path=\"url(#clip2800)\">\n<text style=\"fill:#000000; fill-opacity:1; font-family:Arial,Helvetica Neue,Helvetica,sans-serif; font-size:48px; text-anchor:middle;\" transform=\"rotate(0, 1494, 1541.47)\" x=\"1494\" y=\"1541.47\">150</text>\n</g>\n<g clip-path=\"url(#clip2800)\">\n<text style=\"fill:#000000; fill-opacity:1; font-family:Arial,Helvetica Neue,Helvetica,sans-serif; font-size:48px; text-anchor:middle;\" transform=\"rotate(0, 1905.36, 1541.47)\" x=\"1905.36\" y=\"1541.47\">200</text>\n</g>\n<g clip-path=\"url(#clip2800)\">\n<text style=\"fill:#000000; fill-opacity:1; font-family:Arial,Helvetica Neue,Helvetica,sans-serif; font-size:48px; text-anchor:middle;\" transform=\"rotate(0, 2316.72, 1541.47)\" x=\"2316.72\" y=\"1541.47\">250</text>\n</g>\n<g clip-path=\"url(#clip2800)\">\n<text style=\"fill:#000000; fill-opacity:1; font-family:Arial,Helvetica Neue,Helvetica,sans-serif; font-size:48px; text-anchor:end;\" transform=\"rotate(0, 183.423, 1202.54)\" x=\"183.423\" y=\"1202.54\">0.968</text>\n</g>\n<g clip-path=\"url(#clip2800)\">\n<text style=\"fill:#000000; fill-opacity:1; font-family:Arial,Helvetica Neue,Helvetica,sans-serif; font-size:48px; text-anchor:end;\" transform=\"rotate(0, 183.423, 960.988)\" x=\"183.423\" y=\"960.988\">0.970</text>\n</g>\n<g clip-path=\"url(#clip2800)\">\n<text style=\"fill:#000000; fill-opacity:1; font-family:Arial,Helvetica Neue,Helvetica,sans-serif; font-size:48px; text-anchor:end;\" transform=\"rotate(0, 183.423, 719.44)\" x=\"183.423\" y=\"719.44\">0.972</text>\n</g>\n<g clip-path=\"url(#clip2800)\">\n<text style=\"fill:#000000; fill-opacity:1; font-family:Arial,Helvetica Neue,Helvetica,sans-serif; font-size:48px; text-anchor:end;\" transform=\"rotate(0, 183.423, 357.118)\" x=\"183.423\" y=\"357.118\">0.975</text>\n</g>\n<polyline clip-path=\"url(#clip2802)\" style=\"stroke:#009af9; stroke-width:4; stroke-opacity:1; fill:none\" points=\"\n  268.14,1446.71 276.367,1134.71 284.594,943.488 292.821,772.392 301.049,782.456 309.276,641.553 317.503,631.489 325.73,571.102 333.957,591.231 342.185,561.037 \n  350.412,520.779 358.639,510.715 366.866,440.263 375.094,410.069 383.321,400.005 391.548,319.489 399.775,329.553 408.003,299.36 416.23,339.618 424.457,329.553 \n  432.684,329.553 440.912,309.424 449.139,309.424 457.366,349.682 465.593,329.553 473.82,329.553 482.048,309.424 490.275,309.424 498.502,289.295 506.729,279.231 \n  514.957,259.102 523.184,259.102 531.411,259.102 539.638,249.037 547.866,238.973 556.093,238.973 564.32,249.037 572.547,238.973 580.774,269.166 589.002,269.166 \n  597.229,238.973 605.456,238.973 613.683,218.844 621.911,208.779 630.138,208.779 638.365,218.844 646.592,228.908 654.82,218.844 663.047,218.844 671.274,238.973 \n  679.501,269.166 687.729,249.037 695.956,249.037 704.183,238.973 712.41,249.037 720.637,259.102 728.865,238.973 737.092,238.973 745.319,228.908 753.546,218.844 \n  761.774,218.844 770.001,198.715 778.228,198.715 786.455,178.586 794.683,198.715 802.91,188.65 811.137,198.715 819.364,198.715 827.591,208.779 835.819,218.844 \n  844.046,228.908 852.273,218.844 860.5,208.779 868.728,218.844 876.955,218.844 885.182,228.908 893.409,228.908 901.637,228.908 909.864,269.166 918.091,259.102 \n  926.318,279.231 934.545,289.295 942.773,289.295 951,269.166 959.227,269.166 967.454,269.166 975.682,259.102 983.909,259.102 992.136,249.037 1000.36,249.037 \n  1008.59,238.973 1016.82,238.973 1025.05,228.908 1033.27,238.973 1041.5,228.908 1049.73,228.908 1057.95,228.908 1066.18,208.779 1074.41,218.844 1082.64,218.844 \n  1090.86,218.844 1099.09,218.844 1107.32,228.908 1115.54,238.973 1123.77,238.973 1132,218.844 1140.23,228.908 1148.45,208.779 1156.68,208.779 1164.91,208.779 \n  1173.14,208.779 1181.36,218.844 1189.59,218.844 1197.82,218.844 1206.04,208.779 1214.27,198.715 1222.5,208.779 1230.73,228.908 1238.95,238.973 1247.18,228.908 \n  1255.41,218.844 1263.63,218.844 1271.86,228.908 1280.09,218.844 1288.32,218.844 1296.54,228.908 1304.77,228.908 1313,218.844 1321.23,218.844 1329.45,218.844 \n  1337.68,208.779 1345.91,208.779 1354.13,208.779 1362.36,208.779 1370.59,208.779 1378.82,208.779 1387.04,208.779 1395.27,188.65 1403.5,188.65 1411.73,178.586 \n  1419.95,188.65 1428.18,178.586 1436.41,178.586 1444.63,168.521 1452.86,178.586 1461.09,178.586 1469.32,178.586 1477.54,178.586 1485.77,168.521 1494,168.521 \n  1502.22,158.457 1510.45,158.457 1518.68,158.457 1526.91,148.392 1535.13,158.457 1543.36,158.457 1551.59,168.521 1559.82,168.521 1568.04,158.457 1576.27,158.457 \n  1584.5,158.457 1592.72,158.457 1600.95,158.457 1609.18,158.457 1617.41,148.392 1625.63,148.392 1633.86,168.521 1642.09,168.521 1650.31,168.521 1658.54,168.521 \n  1666.77,178.586 1675,178.586 1683.22,188.65 1691.45,188.65 1699.68,178.586 1707.91,178.586 1716.13,178.586 1724.36,178.586 1732.59,168.521 1740.81,168.521 \n  1749.04,168.521 1757.27,168.521 1765.5,168.521 1773.72,168.521 1781.95,178.586 1790.18,178.586 1798.4,178.586 1806.63,178.586 1814.86,178.586 1823.09,178.586 \n  1831.31,178.586 1839.54,168.521 1847.77,168.521 1856,168.521 1864.22,168.521 1872.45,158.457 1880.68,138.328 1888.9,138.328 1897.13,128.263 1905.36,118.199 \n  1913.59,118.199 1921.81,128.263 1930.04,128.263 1938.27,118.199 1946.5,118.199 1954.72,108.134 1962.95,108.134 1971.18,108.134 1979.4,118.199 1987.63,108.134 \n  1995.86,108.134 2004.09,118.199 2012.31,128.263 2020.54,118.199 2028.77,118.199 2036.99,108.134 2045.22,108.134 2053.45,98.0698 2061.68,98.0698 2069.9,98.0698 \n  2078.13,108.134 2086.36,108.134 2094.59,108.134 2102.81,118.199 2111.04,108.134 2119.27,108.134 2127.49,98.0698 2135.72,98.0698 2143.95,98.0698 2152.18,98.0698 \n  2160.4,98.0698 2168.63,88.0053 2176.86,88.0053 2185.08,98.0698 2193.31,98.0698 2201.54,108.134 2209.77,108.134 2217.99,108.134 2226.22,108.134 2234.45,108.134 \n  2242.68,108.134 2250.9,108.134 2259.13,108.134 2267.36,108.134 2275.58,108.134 2283.81,108.134 2292.04,108.134 \n  \"/>\n<path clip-path=\"url(#clip2800)\" d=\"\nM1655.59 1343.47 L2280.76 1343.47 L2280.76 1222.51 L1655.59 1222.51  Z\n  \" fill=\"#ffffff\" fill-rule=\"evenodd\" fill-opacity=\"1\"/>\n<polyline clip-path=\"url(#clip2800)\" style=\"stroke:#000000; stroke-width:4; stroke-opacity:1; fill:none\" points=\"\n  1655.59,1343.47 2280.76,1343.47 2280.76,1222.51 1655.59,1222.51 1655.59,1343.47 \n  \"/>\n<polyline clip-path=\"url(#clip2800)\" style=\"stroke:#009af9; stroke-width:4; stroke-opacity:1; fill:none\" points=\"\n  1679.59,1282.99 1823.59,1282.99 \n  \"/>\n<g clip-path=\"url(#clip2800)\">\n<text style=\"fill:#000000; fill-opacity:1; font-family:Arial,Helvetica Neue,Helvetica,sans-serif; font-size:48px; text-anchor:start;\" transform=\"rotate(0, 1847.59, 1300.49)\" x=\"1847.59\" y=\"1300.49\">Training Accuracy</text>\n</g>\n</svg>\n"
          },
          "metadata": {
            "tags": []
          },
          "execution_count": 18
        }
      ]
    },
    {
      "cell_type": "markdown",
      "metadata": {
        "id": "DuAz86L01FBv",
        "colab_type": "text"
      },
      "source": [
        "### 6.Provide the accuracy on the training and validation set, for the epoch on which you obtain your highest accuracy on the validation set."
      ]
    },
    {
      "cell_type": "code",
      "metadata": {
        "id": "NBdzBqKo345G",
        "colab_type": "code",
        "outputId": "0240518d-8041-4243-ff81-d4b802b89578",
        "colab": {
          "base_uri": "https://localhost:8080/",
          "height": 421
        }
      },
      "source": [
        "plot(1:length(train_accuracy), [train_accuracy, dev_accuracy], label=[\"Train Accuracy\",\"Validation Accuracy\"], legend = :bottomright) "
      ],
      "execution_count": 0,
      "outputs": [
        {
          "output_type": "execute_result",
          "data": {
            "image/svg+xml": "<?xml version=\"1.0\" encoding=\"utf-8\"?>\n<svg xmlns=\"http://www.w3.org/2000/svg\" xmlns:xlink=\"http://www.w3.org/1999/xlink\" width=\"600\" height=\"400\" viewBox=\"0 0 2400 1600\">\n<defs>\n  <clipPath id=\"clip3200\">\n    <rect x=\"0\" y=\"0\" width=\"2400\" height=\"1600\"/>\n  </clipPath>\n</defs>\n<path clip-path=\"url(#clip3200)\" d=\"\nM0 1600 L2400 1600 L2400 0 L0 0  Z\n  \" fill=\"#ffffff\" fill-rule=\"evenodd\" fill-opacity=\"1\"/>\n<defs>\n  <clipPath id=\"clip3201\">\n    <rect x=\"480\" y=\"0\" width=\"1681\" height=\"1600\"/>\n  </clipPath>\n</defs>\n<path clip-path=\"url(#clip3200)\" d=\"\nM207.423 1487.47 L2352.76 1487.47 L2352.76 47.2441 L207.423 47.2441  Z\n  \" fill=\"#ffffff\" fill-rule=\"evenodd\" fill-opacity=\"1\"/>\n<defs>\n  <clipPath id=\"clip3202\">\n    <rect x=\"207\" y=\"47\" width=\"2146\" height=\"1441\"/>\n  </clipPath>\n</defs>\n<polyline clip-path=\"url(#clip3202)\" style=\"stroke:#000000; stroke-width:2; stroke-opacity:0.1; fill:none\" points=\"\n  259.912,1487.47 259.912,47.2441 \n  \"/>\n<polyline clip-path=\"url(#clip3202)\" style=\"stroke:#000000; stroke-width:2; stroke-opacity:0.1; fill:none\" points=\"\n  671.274,1487.47 671.274,47.2441 \n  \"/>\n<polyline clip-path=\"url(#clip3202)\" style=\"stroke:#000000; stroke-width:2; stroke-opacity:0.1; fill:none\" points=\"\n  1082.64,1487.47 1082.64,47.2441 \n  \"/>\n<polyline clip-path=\"url(#clip3202)\" style=\"stroke:#000000; stroke-width:2; stroke-opacity:0.1; fill:none\" points=\"\n  1494,1487.47 1494,47.2441 \n  \"/>\n<polyline clip-path=\"url(#clip3202)\" style=\"stroke:#000000; stroke-width:2; stroke-opacity:0.1; fill:none\" points=\"\n  1905.36,1487.47 1905.36,47.2441 \n  \"/>\n<polyline clip-path=\"url(#clip3202)\" style=\"stroke:#000000; stroke-width:2; stroke-opacity:0.1; fill:none\" points=\"\n  2316.72,1487.47 2316.72,47.2441 \n  \"/>\n<polyline clip-path=\"url(#clip3202)\" style=\"stroke:#000000; stroke-width:2; stroke-opacity:0.1; fill:none\" points=\"\n  207.423,1446.71 2352.76,1446.71 \n  \"/>\n<polyline clip-path=\"url(#clip3202)\" style=\"stroke:#000000; stroke-width:2; stroke-opacity:0.1; fill:none\" points=\"\n  207.423,1069.29 2352.76,1069.29 \n  \"/>\n<polyline clip-path=\"url(#clip3202)\" style=\"stroke:#000000; stroke-width:2; stroke-opacity:0.1; fill:none\" points=\"\n  207.423,691.876 2352.76,691.876 \n  \"/>\n<polyline clip-path=\"url(#clip3202)\" style=\"stroke:#000000; stroke-width:2; stroke-opacity:0.1; fill:none\" points=\"\n  207.423,314.457 2352.76,314.457 \n  \"/>\n<polyline clip-path=\"url(#clip3200)\" style=\"stroke:#000000; stroke-width:4; stroke-opacity:1; fill:none\" points=\"\n  207.423,1487.47 2352.76,1487.47 \n  \"/>\n<polyline clip-path=\"url(#clip3200)\" style=\"stroke:#000000; stroke-width:4; stroke-opacity:1; fill:none\" points=\"\n  207.423,1487.47 207.423,47.2441 \n  \"/>\n<polyline clip-path=\"url(#clip3200)\" style=\"stroke:#000000; stroke-width:4; stroke-opacity:1; fill:none\" points=\"\n  259.912,1487.47 259.912,1465.87 \n  \"/>\n<polyline clip-path=\"url(#clip3200)\" style=\"stroke:#000000; stroke-width:4; stroke-opacity:1; fill:none\" points=\"\n  671.274,1487.47 671.274,1465.87 \n  \"/>\n<polyline clip-path=\"url(#clip3200)\" style=\"stroke:#000000; stroke-width:4; stroke-opacity:1; fill:none\" points=\"\n  1082.64,1487.47 1082.64,1465.87 \n  \"/>\n<polyline clip-path=\"url(#clip3200)\" style=\"stroke:#000000; stroke-width:4; stroke-opacity:1; fill:none\" points=\"\n  1494,1487.47 1494,1465.87 \n  \"/>\n<polyline clip-path=\"url(#clip3200)\" style=\"stroke:#000000; stroke-width:4; stroke-opacity:1; fill:none\" points=\"\n  1905.36,1487.47 1905.36,1465.87 \n  \"/>\n<polyline clip-path=\"url(#clip3200)\" style=\"stroke:#000000; stroke-width:4; stroke-opacity:1; fill:none\" points=\"\n  2316.72,1487.47 2316.72,1465.87 \n  \"/>\n<polyline clip-path=\"url(#clip3200)\" style=\"stroke:#000000; stroke-width:4; stroke-opacity:1; fill:none\" points=\"\n  207.423,1446.71 239.603,1446.71 \n  \"/>\n<polyline clip-path=\"url(#clip3200)\" style=\"stroke:#000000; stroke-width:4; stroke-opacity:1; fill:none\" points=\"\n  207.423,1069.29 239.603,1069.29 \n  \"/>\n<polyline clip-path=\"url(#clip3200)\" style=\"stroke:#000000; stroke-width:4; stroke-opacity:1; fill:none\" points=\"\n  207.423,691.876 239.603,691.876 \n  \"/>\n<polyline clip-path=\"url(#clip3200)\" style=\"stroke:#000000; stroke-width:4; stroke-opacity:1; fill:none\" points=\"\n  207.423,314.457 239.603,314.457 \n  \"/>\n<g clip-path=\"url(#clip3200)\">\n<text style=\"fill:#000000; fill-opacity:1; font-family:Arial,Helvetica Neue,Helvetica,sans-serif; font-size:48px; text-anchor:middle;\" transform=\"rotate(0, 259.912, 1541.47)\" x=\"259.912\" y=\"1541.47\">0</text>\n</g>\n<g clip-path=\"url(#clip3200)\">\n<text style=\"fill:#000000; fill-opacity:1; font-family:Arial,Helvetica Neue,Helvetica,sans-serif; font-size:48px; text-anchor:middle;\" transform=\"rotate(0, 671.274, 1541.47)\" x=\"671.274\" y=\"1541.47\">50</text>\n</g>\n<g clip-path=\"url(#clip3200)\">\n<text style=\"fill:#000000; fill-opacity:1; font-family:Arial,Helvetica Neue,Helvetica,sans-serif; font-size:48px; text-anchor:middle;\" transform=\"rotate(0, 1082.64, 1541.47)\" x=\"1082.64\" y=\"1541.47\">100</text>\n</g>\n<g clip-path=\"url(#clip3200)\">\n<text style=\"fill:#000000; fill-opacity:1; font-family:Arial,Helvetica Neue,Helvetica,sans-serif; font-size:48px; text-anchor:middle;\" transform=\"rotate(0, 1494, 1541.47)\" x=\"1494\" y=\"1541.47\">150</text>\n</g>\n<g clip-path=\"url(#clip3200)\">\n<text style=\"fill:#000000; fill-opacity:1; font-family:Arial,Helvetica Neue,Helvetica,sans-serif; font-size:48px; text-anchor:middle;\" transform=\"rotate(0, 1905.36, 1541.47)\" x=\"1905.36\" y=\"1541.47\">200</text>\n</g>\n<g clip-path=\"url(#clip3200)\">\n<text style=\"fill:#000000; fill-opacity:1; font-family:Arial,Helvetica Neue,Helvetica,sans-serif; font-size:48px; text-anchor:middle;\" transform=\"rotate(0, 2316.72, 1541.47)\" x=\"2316.72\" y=\"1541.47\">250</text>\n</g>\n<g clip-path=\"url(#clip3200)\">\n<text style=\"fill:#000000; fill-opacity:1; font-family:Arial,Helvetica Neue,Helvetica,sans-serif; font-size:48px; text-anchor:end;\" transform=\"rotate(0, 183.423, 1464.21)\" x=\"183.423\" y=\"1464.21\">0.960</text>\n</g>\n<g clip-path=\"url(#clip3200)\">\n<text style=\"fill:#000000; fill-opacity:1; font-family:Arial,Helvetica Neue,Helvetica,sans-serif; font-size:48px; text-anchor:end;\" transform=\"rotate(0, 183.423, 1086.79)\" x=\"183.423\" y=\"1086.79\">0.965</text>\n</g>\n<g clip-path=\"url(#clip3200)\">\n<text style=\"fill:#000000; fill-opacity:1; font-family:Arial,Helvetica Neue,Helvetica,sans-serif; font-size:48px; text-anchor:end;\" transform=\"rotate(0, 183.423, 709.376)\" x=\"183.423\" y=\"709.376\">0.970</text>\n</g>\n<g clip-path=\"url(#clip3200)\">\n<text style=\"fill:#000000; fill-opacity:1; font-family:Arial,Helvetica Neue,Helvetica,sans-serif; font-size:48px; text-anchor:end;\" transform=\"rotate(0, 183.423, 331.957)\" x=\"183.423\" y=\"331.957\">0.975</text>\n</g>\n<polyline clip-path=\"url(#clip3202)\" style=\"stroke:#009af9; stroke-width:4; stroke-opacity:1; fill:none\" points=\"\n  268.14,1006.39 276.367,811.392 284.594,691.876 292.821,584.94 301.049,591.231 309.276,503.166 317.503,496.876 325.73,459.134 333.957,471.715 342.185,452.844 \n  350.412,427.682 358.639,421.392 366.866,377.36 375.094,358.489 383.321,352.199 391.548,301.876 399.775,308.166 408.003,289.295 416.23,314.457 424.457,308.166 \n  432.684,308.166 440.912,295.586 449.139,295.586 457.366,320.747 465.593,308.166 473.82,308.166 482.048,295.586 490.275,295.586 498.502,283.005 506.729,276.715 \n  514.957,264.134 523.184,264.134 531.411,264.134 539.638,257.844 547.866,251.554 556.093,251.554 564.32,257.844 572.547,251.554 580.774,270.424 589.002,270.424 \n  597.229,251.554 605.456,251.554 613.683,238.973 621.911,232.683 630.138,232.683 638.365,238.973 646.592,245.263 654.82,238.973 663.047,238.973 671.274,251.554 \n  679.501,270.424 687.729,257.844 695.956,257.844 704.183,251.554 712.41,257.844 720.637,264.134 728.865,251.554 737.092,251.554 745.319,245.263 753.546,238.973 \n  761.774,238.973 770.001,226.392 778.228,226.392 786.455,213.812 794.683,226.392 802.91,220.102 811.137,226.392 819.364,226.392 827.591,232.683 835.819,238.973 \n  844.046,245.263 852.273,238.973 860.5,232.683 868.728,238.973 876.955,238.973 885.182,245.263 893.409,245.263 901.637,245.263 909.864,270.424 918.091,264.134 \n  926.318,276.715 934.545,283.005 942.773,283.005 951,270.424 959.227,270.424 967.454,270.424 975.682,264.134 983.909,264.134 992.136,257.844 1000.36,257.844 \n  1008.59,251.554 1016.82,251.554 1025.05,245.263 1033.27,251.554 1041.5,245.263 1049.73,245.263 1057.95,245.263 1066.18,232.683 1074.41,238.973 1082.64,238.973 \n  1090.86,238.973 1099.09,238.973 1107.32,245.263 1115.54,251.554 1123.77,251.554 1132,238.973 1140.23,245.263 1148.45,232.683 1156.68,232.683 1164.91,232.683 \n  1173.14,232.683 1181.36,238.973 1189.59,238.973 1197.82,238.973 1206.04,232.683 1214.27,226.392 1222.5,232.683 1230.73,245.263 1238.95,251.554 1247.18,245.263 \n  1255.41,238.973 1263.63,238.973 1271.86,245.263 1280.09,238.973 1288.32,238.973 1296.54,245.263 1304.77,245.263 1313,238.973 1321.23,238.973 1329.45,238.973 \n  1337.68,232.683 1345.91,232.683 1354.13,232.683 1362.36,232.683 1370.59,232.683 1378.82,232.683 1387.04,232.683 1395.27,220.102 1403.5,220.102 1411.73,213.812 \n  1419.95,220.102 1428.18,213.812 1436.41,213.812 1444.63,207.521 1452.86,213.812 1461.09,213.812 1469.32,213.812 1477.54,213.812 1485.77,207.521 1494,207.521 \n  1502.22,201.231 1510.45,201.231 1518.68,201.231 1526.91,194.941 1535.13,201.231 1543.36,201.231 1551.59,207.521 1559.82,207.521 1568.04,201.231 1576.27,201.231 \n  1584.5,201.231 1592.72,201.231 1600.95,201.231 1609.18,201.231 1617.41,194.941 1625.63,194.941 1633.86,207.521 1642.09,207.521 1650.31,207.521 1658.54,207.521 \n  1666.77,213.812 1675,213.812 1683.22,220.102 1691.45,220.102 1699.68,213.812 1707.91,213.812 1716.13,213.812 1724.36,213.812 1732.59,207.521 1740.81,207.521 \n  1749.04,207.521 1757.27,207.521 1765.5,207.521 1773.72,207.521 1781.95,213.812 1790.18,213.812 1798.4,213.812 1806.63,213.812 1814.86,213.812 1823.09,213.812 \n  1831.31,213.812 1839.54,207.521 1847.77,207.521 1856,207.521 1864.22,207.521 1872.45,201.231 1880.68,188.65 1888.9,188.65 1897.13,182.36 1905.36,176.07 \n  1913.59,176.07 1921.81,182.36 1930.04,182.36 1938.27,176.07 1946.5,176.07 1954.72,169.779 1962.95,169.779 1971.18,169.779 1979.4,176.07 1987.63,169.779 \n  1995.86,169.779 2004.09,176.07 2012.31,182.36 2020.54,176.07 2028.77,176.07 2036.99,169.779 2045.22,169.779 2053.45,163.489 2061.68,163.489 2069.9,163.489 \n  2078.13,169.779 2086.36,169.779 2094.59,169.779 2102.81,176.07 2111.04,169.779 2119.27,169.779 2127.49,163.489 2135.72,163.489 2143.95,163.489 2152.18,163.489 \n  2160.4,163.489 2168.63,157.199 2176.86,157.199 2185.08,163.489 2193.31,163.489 2201.54,169.779 2209.77,169.779 2217.99,169.779 2226.22,169.779 2234.45,169.779 \n  2242.68,169.779 2250.9,169.779 2259.13,169.779 2267.36,169.779 2275.58,169.779 2283.81,169.779 2292.04,169.779 \n  \"/>\n<polyline clip-path=\"url(#clip3202)\" style=\"stroke:#e26f46; stroke-width:4; stroke-opacity:1; fill:none\" points=\"\n  268.14,767.359 276.367,238.973 284.594,88.0053 292.821,163.489 301.049,163.489 309.276,163.489 317.503,163.489 325.73,163.489 333.957,238.973 342.185,163.489 \n  350.412,238.973 358.639,238.973 366.866,88.0053 375.094,163.489 383.321,238.973 391.548,238.973 399.775,238.973 408.003,238.973 416.23,389.94 424.457,465.424 \n  432.684,465.424 440.912,465.424 449.139,465.424 457.366,540.908 465.593,616.392 473.82,616.392 482.048,616.392 490.275,616.392 498.502,616.392 506.729,691.876 \n  514.957,691.876 523.184,691.876 531.411,691.876 539.638,691.876 547.866,616.392 556.093,616.392 564.32,616.392 572.547,616.392 580.774,616.392 589.002,616.392 \n  597.229,616.392 605.456,616.392 613.683,616.392 621.911,616.392 630.138,616.392 638.365,616.392 646.592,616.392 654.82,616.392 663.047,616.392 671.274,616.392 \n  679.501,616.392 687.729,616.392 695.956,691.876 704.183,767.359 712.41,691.876 720.637,691.876 728.865,691.876 737.092,767.359 745.319,767.359 753.546,767.359 \n  761.774,767.359 770.001,767.359 778.228,842.843 786.455,842.843 794.683,842.843 802.91,842.843 811.137,842.843 819.364,767.359 827.591,842.843 835.819,842.843 \n  844.046,842.843 852.273,842.843 860.5,842.843 868.728,842.843 876.955,842.843 885.182,842.843 893.409,842.843 901.637,918.327 909.864,918.327 918.091,918.327 \n  926.318,918.327 934.545,918.327 942.773,918.327 951,918.327 959.227,918.327 967.454,918.327 975.682,918.327 983.909,918.327 992.136,918.327 1000.36,918.327 \n  1008.59,918.327 1016.82,918.327 1025.05,918.327 1033.27,918.327 1041.5,918.327 1049.73,918.327 1057.95,918.327 1066.18,918.327 1074.41,918.327 1082.64,918.327 \n  1090.86,918.327 1099.09,918.327 1107.32,918.327 1115.54,918.327 1123.77,918.327 1132,918.327 1140.23,918.327 1148.45,918.327 1156.68,918.327 1164.91,918.327 \n  1173.14,918.327 1181.36,918.327 1189.59,918.327 1197.82,918.327 1206.04,918.327 1214.27,918.327 1222.5,918.327 1230.73,918.327 1238.95,918.327 1247.18,918.327 \n  1255.41,918.327 1263.63,918.327 1271.86,918.327 1280.09,918.327 1288.32,993.811 1296.54,993.811 1304.77,993.811 1313,993.811 1321.23,993.811 1329.45,993.811 \n  1337.68,993.811 1345.91,993.811 1354.13,993.811 1362.36,993.811 1370.59,993.811 1378.82,993.811 1387.04,1069.29 1395.27,1069.29 1403.5,1069.29 1411.73,1069.29 \n  1419.95,1069.29 1428.18,1069.29 1436.41,1069.29 1444.63,1069.29 1452.86,1069.29 1461.09,1144.78 1469.32,1144.78 1477.54,1144.78 1485.77,1144.78 1494,1144.78 \n  1502.22,1144.78 1510.45,1144.78 1518.68,1144.78 1526.91,1144.78 1535.13,1144.78 1543.36,1144.78 1551.59,1144.78 1559.82,1144.78 1568.04,1144.78 1576.27,1144.78 \n  1584.5,1144.78 1592.72,1144.78 1600.95,1144.78 1609.18,1220.26 1617.41,1220.26 1625.63,1220.26 1633.86,1220.26 1642.09,1220.26 1650.31,1220.26 1658.54,1220.26 \n  1666.77,1220.26 1675,1220.26 1683.22,1220.26 1691.45,1220.26 1699.68,1220.26 1707.91,1220.26 1716.13,1220.26 1724.36,1295.75 1732.59,1295.75 1740.81,1295.75 \n  1749.04,1295.75 1757.27,1295.75 1765.5,1295.75 1773.72,1295.75 1781.95,1295.75 1790.18,1295.75 1798.4,1295.75 1806.63,1295.75 1814.86,1295.75 1823.09,1295.75 \n  1831.31,1295.75 1839.54,1295.75 1847.77,1295.75 1856,1295.75 1864.22,1295.75 1872.45,1295.75 1880.68,1295.75 1888.9,1295.75 1897.13,1295.75 1905.36,1295.75 \n  1913.59,1295.75 1921.81,1295.75 1930.04,1295.75 1938.27,1295.75 1946.5,1295.75 1954.72,1295.75 1962.95,1295.75 1971.18,1295.75 1979.4,1295.75 1987.63,1295.75 \n  1995.86,1295.75 2004.09,1371.23 2012.31,1371.23 2020.54,1371.23 2028.77,1371.23 2036.99,1371.23 2045.22,1371.23 2053.45,1371.23 2061.68,1371.23 2069.9,1371.23 \n  2078.13,1371.23 2086.36,1371.23 2094.59,1371.23 2102.81,1371.23 2111.04,1371.23 2119.27,1371.23 2127.49,1371.23 2135.72,1371.23 2143.95,1371.23 2152.18,1371.23 \n  2160.4,1371.23 2168.63,1371.23 2176.86,1371.23 2185.08,1371.23 2193.31,1371.23 2201.54,1371.23 2209.77,1446.71 2217.99,1446.71 2226.22,1446.71 2234.45,1446.71 \n  2242.68,1446.71 2250.9,1446.71 2259.13,1446.71 2267.36,1446.71 2275.58,1446.71 2283.81,1446.71 2292.04,1446.71 \n  \"/>\n<path clip-path=\"url(#clip3200)\" d=\"\nM1618.09 1343.47 L2280.76 1343.47 L2280.76 1162.03 L1618.09 1162.03  Z\n  \" fill=\"#ffffff\" fill-rule=\"evenodd\" fill-opacity=\"1\"/>\n<polyline clip-path=\"url(#clip3200)\" style=\"stroke:#000000; stroke-width:4; stroke-opacity:1; fill:none\" points=\"\n  1618.09,1343.47 2280.76,1343.47 2280.76,1162.03 1618.09,1162.03 1618.09,1343.47 \n  \"/>\n<polyline clip-path=\"url(#clip3200)\" style=\"stroke:#009af9; stroke-width:4; stroke-opacity:1; fill:none\" points=\"\n  1642.09,1222.51 1786.09,1222.51 \n  \"/>\n<g clip-path=\"url(#clip3200)\">\n<text style=\"fill:#000000; fill-opacity:1; font-family:Arial,Helvetica Neue,Helvetica,sans-serif; font-size:48px; text-anchor:start;\" transform=\"rotate(0, 1810.09, 1240.01)\" x=\"1810.09\" y=\"1240.01\">Train Accuracy</text>\n</g>\n<polyline clip-path=\"url(#clip3200)\" style=\"stroke:#e26f46; stroke-width:4; stroke-opacity:1; fill:none\" points=\"\n  1642.09,1282.99 1786.09,1282.99 \n  \"/>\n<g clip-path=\"url(#clip3200)\">\n<text style=\"fill:#000000; fill-opacity:1; font-family:Arial,Helvetica Neue,Helvetica,sans-serif; font-size:48px; text-anchor:start;\" transform=\"rotate(0, 1810.09, 1300.49)\" x=\"1810.09\" y=\"1300.49\">Validation Accuracy</text>\n</g>\n</svg>\n"
          },
          "metadata": {
            "tags": []
          },
          "execution_count": 19
        }
      ]
    },
    {
      "cell_type": "markdown",
      "metadata": {
        "id": "usWUbWoN6t2_",
        "colab_type": "text"
      },
      "source": [
        "The accuracy is highest on the validation set for:"
      ]
    },
    {
      "cell_type": "code",
      "metadata": {
        "id": "XyZ_YGfmD9yA",
        "colab_type": "code",
        "outputId": "c9eb4ac1-0ac4-4d15-80b8-afc30fb4ca34",
        "colab": {
          "base_uri": "https://localhost:8080/",
          "height": 34
        }
      },
      "source": [
        "println(\"Epoch \", argmax(dev_accuracy))"
      ],
      "execution_count": 0,
      "outputs": [
        {
          "output_type": "stream",
          "text": [
            "Epoch 3\n"
          ],
          "name": "stdout"
        }
      ]
    },
    {
      "cell_type": "code",
      "metadata": {
        "id": "jGk-54Xm-h9M",
        "colab_type": "code",
        "outputId": "fd4b4d77-4e2e-4ac5-f78c-b00fef19f030",
        "colab": {
          "base_uri": "https://localhost:8080/",
          "height": 34
        }
      },
      "source": [
        "println(\"Training accuracy: \", acc(trainys, y_pred(trainx, bestmodel.beta))*100, \"%\")"
      ],
      "execution_count": 0,
      "outputs": [
        {
          "output_type": "stream",
          "text": [
            "Training accuracy: 97.0%\n"
          ],
          "name": "stdout"
        }
      ]
    },
    {
      "cell_type": "code",
      "metadata": {
        "id": "OcFhuRbc17rm",
        "colab_type": "code",
        "outputId": "5e69adf8-c0ea-4eff-efb9-be4f66e0167e",
        "colab": {
          "base_uri": "https://localhost:8080/",
          "height": 34
        }
      },
      "source": [
        "println(\"Validation accuracy: \", acc(devys, y_pred(devx, bestmodel.beta))*100, \"%\")"
      ],
      "execution_count": 0,
      "outputs": [
        {
          "output_type": "stream",
          "text": [
            "Validation accuracy: 97.8%\n"
          ],
          "name": "stdout"
        }
      ]
    },
    {
      "cell_type": "markdown",
      "metadata": {
        "colab_type": "text",
        "id": "iDt2Lnzzr_JR"
      },
      "source": [
        "## Assignment 1.2: Mean squared-loss logistic regression ##\n"
      ]
    },
    {
      "cell_type": "code",
      "metadata": {
        "id": "ua9MydeKmoUK",
        "colab_type": "code",
        "outputId": "9fbb05c2-caf9-433e-e09d-c7cb0d57f9f6",
        "colab": {
          "base_uri": "https://localhost:8080/",
          "height": 34
        }
      },
      "source": [
        "#Check size of data\n",
        "size(trainxs), size(trainys), size(devxs), size(devys)"
      ],
      "execution_count": 0,
      "outputs": [
        {
          "output_type": "execute_result",
          "data": {
            "text/plain": [
              "((28, 28, 12000), (12000,), (28, 28, 1000), (1000,))"
            ]
          },
          "metadata": {
            "tags": []
          },
          "execution_count": 5
        }
      ]
    },
    {
      "cell_type": "markdown",
      "metadata": {
        "id": "AAwWh2TO5c49",
        "colab_type": "text"
      },
      "source": [
        "The logistic function is defined as \n",
        "$$\n",
        "  \\sigma(x) = \\frac{1}{1+e^{-x}} \\qquad (1)\n",
        "$$\n",
        "We defined logistic regression as\n",
        "$$\n",
        "   f(\\mathbf{x}) = \\sigma(\\mathbf{w}'\\mathbf{x} + b) = \\frac{1}{1+e^{-(\\mathbf{w}'\\mathbf{x} + b)}} \\qquad (2)\n",
        "$$\n",
        "and so to get predicted labels \n",
        "$$\n",
        "\\hat{y}(\\mathbf{x}) = \n",
        "\\begin{cases} \n",
        "      1 & f(\\mathbf{x}) \\geq 0.5 \\\\ \n",
        "      0 & else        \\\\\n",
        "   \\end{cases}\n",
        "   \\qquad (3)\n",
        "$$"
      ]
    },
    {
      "cell_type": "code",
      "metadata": {
        "id": "Tvkrnxj35FMo",
        "colab_type": "code",
        "outputId": "4987e73a-c8a1-4097-9ac8-80272d7aed0f",
        "colab": {
          "base_uri": "https://localhost:8080/",
          "height": 34
        }
      },
      "source": [
        "### Using code from lectures\n",
        "\n",
        "# (1) Logistic function\n",
        "logistic(x) = (1 / (1 + exp(-x)))\n",
        "\n",
        "# Mutable structure for Logistic Regression\n",
        "mutable struct LogisticRegression\n",
        "    w ::Vector{Float64}\n",
        "    b ::Float64\n",
        "end\n",
        "# Initialising weights and bias\n",
        "LogisticRegression(d)              = LogisticRegression(zeros(d), 0)\n",
        "\n",
        "# (2) Logistic regression function\n",
        "f(m::LogisticRegression, x)   = logistic(m.w'x + m.b)\n",
        "\n",
        "# (3) Return predicted label\n",
        "label(m::LogisticRegression, x)  = f(m, x) >= 0.5"
      ],
      "execution_count": 0,
      "outputs": [
        {
          "output_type": "execute_result",
          "data": {
            "text/plain": [
              "label (generic function with 1 method)"
            ]
          },
          "metadata": {
            "tags": []
          },
          "execution_count": 6
        }
      ]
    },
    {
      "cell_type": "code",
      "metadata": {
        "id": "s5urdBCnCP_L",
        "colab_type": "code",
        "outputId": "7325c10b-70f5-4cf2-8b1d-d9e9675118a0",
        "colab": {
          "base_uri": "https://localhost:8080/",
          "height": 34
        }
      },
      "source": [
        "# Reshape data - permute demensions\n",
        "trainxs_rs = permutedims(trainxs, [3, 1, 2])\n",
        "devxs_rs = permutedims(devxs, [3, 1, 2])\n",
        "testxs_rs = permutedims(testxs, [3, 1, 2])\n",
        "\n",
        "trainxs_rs = reshape(trainxs_rs, (size(trainxs_rs, 1), 28*28))\n",
        "devxs_rs = reshape(devxs_rs, (size(devxs_rs, 1), 28*28))\n",
        "testxs_rs = reshape(testxs_rs, (size(testxs_rs, 1), 28*28));\n",
        "\n",
        "size(trainxs_rs), size(devxs_rs), size(testxs_rs)"
      ],
      "execution_count": 0,
      "outputs": [
        {
          "output_type": "execute_result",
          "data": {
            "text/plain": [
              "((12000, 784), (1000, 784), (1000, 784))"
            ]
          },
          "metadata": {
            "tags": []
          },
          "execution_count": 7
        }
      ]
    },
    {
      "cell_type": "code",
      "metadata": {
        "id": "x2dlcHTuDron",
        "colab_type": "code",
        "colab": {}
      },
      "source": [
        "#Initialising logistic regression for our features\n",
        "model_m = LogisticRegression(size(trainxs_rs, 2));"
      ],
      "execution_count": 0,
      "outputs": []
    },
    {
      "cell_type": "markdown",
      "metadata": {
        "id": "ehcg0xNcEdeg",
        "colab_type": "text"
      },
      "source": [
        "Now we will compute accuracy and the loss function given in the question"
      ]
    },
    {
      "cell_type": "code",
      "metadata": {
        "id": "G8rH4XjyEc10",
        "colab_type": "code",
        "outputId": "c7769d45-49cc-41b3-eff4-a02e99a172ec",
        "colab": {
          "base_uri": "https://localhost:8080/",
          "height": 34
        }
      },
      "source": [
        "function accuracy(y_true, m, X)\n",
        "  \"\"\"\n",
        "  y_true: true labels\n",
        "  m: fitted model parameters\n",
        "  X: feature matrix\n",
        "\n",
        "  returns accuracy\n",
        "  \"\"\"\n",
        "  correct = 0\n",
        "  for i in 1:size(X, 1)\n",
        "    label(m, X[i, :]) == y_true[i] || continue\n",
        "    correct += 1\n",
        "  end\n",
        "  correct / size(X, 1) * 100\n",
        "end\n",
        "\n",
        "function loss(y_true, m, X)\n",
        "  \"\"\"\n",
        "  Mean-squared loss function\n",
        "  y_true: true labels\n",
        "  m: fitted model parameters\n",
        "  X: feature matrix\n",
        "\n",
        "  returns loss: value of loss function\n",
        "  \"\"\"\n",
        "  loss = 0.0\n",
        "  for i in 1:size(X, 1)\n",
        "    loss += ( ( y_true[i] - f(m, X[i, :]) )^2 / 2 )\n",
        "  end\n",
        "  loss / size(X, 1)\n",
        "end"
      ],
      "execution_count": 0,
      "outputs": [
        {
          "output_type": "execute_result",
          "data": {
            "text/plain": [
              "loss (generic function with 1 method)"
            ]
          },
          "metadata": {
            "tags": []
          },
          "execution_count": 12
        }
      ]
    },
    {
      "cell_type": "markdown",
      "metadata": {
        "id": "izRdfN6iNWAE",
        "colab_type": "text"
      },
      "source": [
        "**Exercise 1 - Deriving gradients**\n",
        "\n",
        "Now we derive the gradients by taking partial derivatives of the loss function w.r.t. both parameters (i.e. vector w and value b)\n",
        "\n",
        "\\begin{align*}\n",
        "  \\frac{\\partial\\mathcal{L}}{\\partial\\mathbf{w}} &= -\\frac{1}{n}\\sum_{i=1}^n(y_i-\\hat{y}_i)\\hat{y_i} (1-\\hat{y}_i)\\mathbf{x}_i \\\\\n",
        "  \\frac{\\partial\\mathcal{L}}{\\partial b} &= -\\frac{1}{n}\\sum_{i=1}^n(y_i-\\hat{y}_i)\\hat{y_i} (1-\\hat{y}_i)\n",
        "\\end{align*}"
      ]
    },
    {
      "cell_type": "markdown",
      "metadata": {
        "id": "r4XNU-IDAUpf",
        "colab_type": "text"
      },
      "source": [
        "**Exercise 2 - Finite differences** \n",
        "\n",
        "To approximate the gradient of $f$, we will employ this secant approximation:\n",
        "\n",
        "$$\n",
        "  f'(x)\\approx\\frac{f(x+h) - f(x-h)}{2h}\n",
        "$$"
      ]
    },
    {
      "cell_type": "code",
      "metadata": {
        "id": "z_f9fAGJEbA2",
        "colab_type": "code",
        "outputId": "75c505ed-47a1-456d-9582-5a28bf0ad8cd",
        "colab": {
          "base_uri": "https://localhost:8080/",
          "height": 34
        }
      },
      "source": [
        "function finite_difference(X, m, h)\n",
        "  \"\"\"\n",
        "  Computes derivative according to the formula above\n",
        "  X: feature matrix\n",
        "  m: fitted model parameters\n",
        "  h: small value\n",
        "\n",
        "  returns an array of gradients\n",
        "  \"\"\"\n",
        "  #Initialise\n",
        "  fdiff = deepcopy(m)\n",
        "  fill!(fdiff.w, 0)\n",
        "  fdiff.b = 0\n",
        "  \n",
        "  for i in 1:size(X, 1)   #each row of feature matrix\n",
        "    for j in 1:size(X, 2) #each column\n",
        "      w1          = deepcopy(m)\n",
        "      w2          = deepcopy(m)\n",
        "      w1.w[j]    += h\n",
        "      w2.w[j]    -= h\n",
        "      fdiff.w[j] += (f(w1, X[i, :]) - f(w2, X[i, :])) / (2*h)  #formula above\n",
        "    end\n",
        "    b1       = deepcopy(m)\n",
        "    b2       = deepcopy(m)\n",
        "    b1.b     += h\n",
        "    b2.b     -= h\n",
        "    fdiff.b  += (f(b1, X[i, :]) - f(b2, X[i, :])) / (2*h)\n",
        "  end\n",
        " \n",
        "  fdiff.w /= size(X, 1)\n",
        "  fdiff.b /= size(X, 1)\n",
        "  return fdiff\n",
        "end"
      ],
      "execution_count": 0,
      "outputs": [
        {
          "output_type": "execute_result",
          "data": {
            "text/plain": [
              "finite_difference (generic function with 1 method)"
            ]
          },
          "metadata": {
            "tags": []
          },
          "execution_count": 13
        }
      ]
    },
    {
      "cell_type": "markdown",
      "metadata": {
        "id": "qljSSMQeO_77",
        "colab_type": "text"
      },
      "source": [
        "**Exercise 3 - implementing the algorithm**\n",
        "\n",
        "Using Exercise 1,2 (commented as Ex(1), Ex(2))"
      ]
    },
    {
      "cell_type": "code",
      "metadata": {
        "id": "pQ_h43N1Os4P",
        "colab_type": "code",
        "colab": {}
      },
      "source": [
        "#Fitting model for logistic regression\n",
        "\n",
        "function fitLogisticReg(trainX, trainY, Xval, yval, learningrate, max_epochs)\n",
        "\n",
        "  let m = LogisticRegression(size(trainX, 2));\n",
        "    # Initialise\n",
        "    bestValLoss = 1e8\n",
        "    bestModel = deepcopy(m)\n",
        "    valLosses = zeros(0)\n",
        "    trainLosses = zeros(0)\n",
        "    trainAcc = zeros(0)\n",
        "    check = 0\n",
        "    \n",
        "    epoch = 1\n",
        "    while check == 0 && epoch <= max_epochs\n",
        "      gradient = deepcopy(m)\n",
        "      fill!(gradient.w, 0) #fill w with 0s\n",
        "      gradient.b = 0\n",
        "\n",
        "      # Ex(1) Compute gradients as in the equations above\n",
        "      for i in 1:size(trainX, 1)   #no. of rows of feature matrix\n",
        "        x           = trainX[i, :] #x is one row of feature matrix\n",
        "        y_hat       = f(m, x)      #logistic reg one observation\n",
        "        gradient.w[:] .-= (trainY[i] - y_hat) * y_hat * (1 - y_hat) * x\n",
        "        gradient.b     -= (trainY[i] - y_hat) * y_hat * (1 - y_hat) \n",
        "      end\n",
        "      \n",
        "      #Divide by number of observations n\n",
        "      gradient.w ./= size(trainX, 1) \n",
        "      gradient.b  /= size(trainX, 1)\n",
        "\n",
        "      # Ex(2) Verifying analytical gradients are correct, for first 3 runs\n",
        "      if epoch < 4\n",
        "        h = 1e-5\n",
        "        fdiff = finite_difference(trainX, bestModel, h)\n",
        "        wdiff = broadcast(abs, gradient.w - fdiff.w)\n",
        "        bdiff = abs(gradient.b - fdiff.b)\n",
        "        if (any(broadcast(abs, wdiff) .> 0.5)) || (bdiff > 0.5) \n",
        "          check += 1\n",
        "        end\n",
        "      end\n",
        "\n",
        "      m.w .-= learningrate * gradient.w\n",
        "      m.b  -= learningrate * gradient.b\n",
        "      \n",
        "      @show epoch currentTrainLoss = loss(trainY, m, trainX)\n",
        "      currentValLoss = loss(yval, m, Xval)\n",
        "      append!(trainLosses, currentTrainLoss)\n",
        "      append!(trainAcc, accuracy(trainY, m, trainX))\n",
        "\n",
        "      # When the algorithm converges\n",
        "      if epoch > 80\n",
        "        if (trainLosses[epoch-1] > trainLosses[epoch-80]) || (abs(trainLosses[epoch-1] - trainLosses[epoch-80]) <= 2e-4) \n",
        "          check += 1 \n",
        "          println(\"Convergence after $epoch epochs\")\n",
        "        end\n",
        "      end\n",
        "\n",
        "      epoch +=1\n",
        "\n",
        "      #Update best parameters and best validation loss\n",
        "      currentValLoss < bestValLoss  || continue\n",
        "      bestValLoss = currentValLoss\n",
        "      bestModel = deepcopy(m)\n",
        "    end\n",
        "\n",
        "    # Return the resulting model parameters\n",
        "    m.w[:] = bestModel.w[:]\n",
        "    m.b    = bestModel.b;\n",
        "    return m, trainLosses, trainAcc\n",
        "  end\n",
        "end"
      ],
      "execution_count": 0,
      "outputs": []
    },
    {
      "cell_type": "code",
      "metadata": {
        "id": "Of-N5A5VNrKY",
        "colab_type": "code",
        "colab": {}
      },
      "source": [
        "model_m, loss_train, acc_train = fitLogisticReg(trainxs_rs, trainys, devxs_rs, devys, 0.1, 5000)"
      ],
      "execution_count": 0,
      "outputs": []
    },
    {
      "cell_type": "markdown",
      "metadata": {
        "id": "J5Yn42CVt13z",
        "colab_type": "text"
      },
      "source": [
        "**Exercise 5**"
      ]
    },
    {
      "cell_type": "code",
      "metadata": {
        "id": "8QI0D6rWgBHD",
        "colab_type": "code",
        "outputId": "71ee2f6d-eb24-4cd3-dc29-4a769ea7fdb9",
        "colab": {
          "base_uri": "https://localhost:8080/",
          "height": 421
        }
      },
      "source": [
        "plt = plot(1:size(loss_train, 1), loss_train, label = \"Square Loss on Training Set\", lw = 2)"
      ],
      "execution_count": 0,
      "outputs": [
        {
          "output_type": "execute_result",
          "data": {
            "image/svg+xml": "<?xml version=\"1.0\" encoding=\"utf-8\"?>\n<svg xmlns=\"http://www.w3.org/2000/svg\" xmlns:xlink=\"http://www.w3.org/1999/xlink\" width=\"600\" height=\"400\" viewBox=\"0 0 2400 1600\">\n<defs>\n  <clipPath id=\"clip5600\">\n    <rect x=\"0\" y=\"0\" width=\"2400\" height=\"1600\"/>\n  </clipPath>\n</defs>\n<path clip-path=\"url(#clip5600)\" d=\"\nM0 1600 L2400 1600 L2400 0 L0 0  Z\n  \" fill=\"#ffffff\" fill-rule=\"evenodd\" fill-opacity=\"1\"/>\n<defs>\n  <clipPath id=\"clip5601\">\n    <rect x=\"480\" y=\"0\" width=\"1681\" height=\"1600\"/>\n  </clipPath>\n</defs>\n<path clip-path=\"url(#clip5600)\" d=\"\nM207.423 1487.47 L2352.76 1487.47 L2352.76 47.2441 L207.423 47.2441  Z\n  \" fill=\"#ffffff\" fill-rule=\"evenodd\" fill-opacity=\"1\"/>\n<defs>\n  <clipPath id=\"clip5602\">\n    <rect x=\"207\" y=\"47\" width=\"2146\" height=\"1441\"/>\n  </clipPath>\n</defs>\n<polyline clip-path=\"url(#clip5602)\" style=\"stroke:#000000; stroke-width:2; stroke-opacity:0.1; fill:none\" points=\"\n  266.816,1487.47 266.816,47.2441 \n  \"/>\n<polyline clip-path=\"url(#clip5602)\" style=\"stroke:#000000; stroke-width:2; stroke-opacity:0.1; fill:none\" points=\"\n  928.654,1487.47 928.654,47.2441 \n  \"/>\n<polyline clip-path=\"url(#clip5602)\" style=\"stroke:#000000; stroke-width:2; stroke-opacity:0.1; fill:none\" points=\"\n  1590.49,1487.47 1590.49,47.2441 \n  \"/>\n<polyline clip-path=\"url(#clip5602)\" style=\"stroke:#000000; stroke-width:2; stroke-opacity:0.1; fill:none\" points=\"\n  2252.33,1487.47 2252.33,47.2441 \n  \"/>\n<polyline clip-path=\"url(#clip5602)\" style=\"stroke:#000000; stroke-width:2; stroke-opacity:0.1; fill:none\" points=\"\n  207.423,1350.08 2352.76,1350.08 \n  \"/>\n<polyline clip-path=\"url(#clip5602)\" style=\"stroke:#000000; stroke-width:2; stroke-opacity:0.1; fill:none\" points=\"\n  207.423,1009.27 2352.76,1009.27 \n  \"/>\n<polyline clip-path=\"url(#clip5602)\" style=\"stroke:#000000; stroke-width:2; stroke-opacity:0.1; fill:none\" points=\"\n  207.423,668.469 2352.76,668.469 \n  \"/>\n<polyline clip-path=\"url(#clip5602)\" style=\"stroke:#000000; stroke-width:2; stroke-opacity:0.1; fill:none\" points=\"\n  207.423,327.664 2352.76,327.664 \n  \"/>\n<polyline clip-path=\"url(#clip5600)\" style=\"stroke:#000000; stroke-width:4; stroke-opacity:1; fill:none\" points=\"\n  207.423,1487.47 2352.76,1487.47 \n  \"/>\n<polyline clip-path=\"url(#clip5600)\" style=\"stroke:#000000; stroke-width:4; stroke-opacity:1; fill:none\" points=\"\n  207.423,1487.47 207.423,47.2441 \n  \"/>\n<polyline clip-path=\"url(#clip5600)\" style=\"stroke:#000000; stroke-width:4; stroke-opacity:1; fill:none\" points=\"\n  266.816,1487.47 266.816,1465.87 \n  \"/>\n<polyline clip-path=\"url(#clip5600)\" style=\"stroke:#000000; stroke-width:4; stroke-opacity:1; fill:none\" points=\"\n  928.654,1487.47 928.654,1465.87 \n  \"/>\n<polyline clip-path=\"url(#clip5600)\" style=\"stroke:#000000; stroke-width:4; stroke-opacity:1; fill:none\" points=\"\n  1590.49,1487.47 1590.49,1465.87 \n  \"/>\n<polyline clip-path=\"url(#clip5600)\" style=\"stroke:#000000; stroke-width:4; stroke-opacity:1; fill:none\" points=\"\n  2252.33,1487.47 2252.33,1465.87 \n  \"/>\n<polyline clip-path=\"url(#clip5600)\" style=\"stroke:#000000; stroke-width:4; stroke-opacity:1; fill:none\" points=\"\n  207.423,1350.08 239.603,1350.08 \n  \"/>\n<polyline clip-path=\"url(#clip5600)\" style=\"stroke:#000000; stroke-width:4; stroke-opacity:1; fill:none\" points=\"\n  207.423,1009.27 239.603,1009.27 \n  \"/>\n<polyline clip-path=\"url(#clip5600)\" style=\"stroke:#000000; stroke-width:4; stroke-opacity:1; fill:none\" points=\"\n  207.423,668.469 239.603,668.469 \n  \"/>\n<polyline clip-path=\"url(#clip5600)\" style=\"stroke:#000000; stroke-width:4; stroke-opacity:1; fill:none\" points=\"\n  207.423,327.664 239.603,327.664 \n  \"/>\n<g clip-path=\"url(#clip5600)\">\n<text style=\"fill:#000000; fill-opacity:1; font-family:Arial,Helvetica Neue,Helvetica,sans-serif; font-size:48px; text-anchor:middle;\" transform=\"rotate(0, 266.816, 1541.47)\" x=\"266.816\" y=\"1541.47\">0</text>\n</g>\n<g clip-path=\"url(#clip5600)\">\n<text style=\"fill:#000000; fill-opacity:1; font-family:Arial,Helvetica Neue,Helvetica,sans-serif; font-size:48px; text-anchor:middle;\" transform=\"rotate(0, 928.654, 1541.47)\" x=\"928.654\" y=\"1541.47\">500</text>\n</g>\n<g clip-path=\"url(#clip5600)\">\n<text style=\"fill:#000000; fill-opacity:1; font-family:Arial,Helvetica Neue,Helvetica,sans-serif; font-size:48px; text-anchor:middle;\" transform=\"rotate(0, 1590.49, 1541.47)\" x=\"1590.49\" y=\"1541.47\">1000</text>\n</g>\n<g clip-path=\"url(#clip5600)\">\n<text style=\"fill:#000000; fill-opacity:1; font-family:Arial,Helvetica Neue,Helvetica,sans-serif; font-size:48px; text-anchor:middle;\" transform=\"rotate(0, 2252.33, 1541.47)\" x=\"2252.33\" y=\"1541.47\">1500</text>\n</g>\n<g clip-path=\"url(#clip5600)\">\n<text style=\"fill:#000000; fill-opacity:1; font-family:Arial,Helvetica Neue,Helvetica,sans-serif; font-size:48px; text-anchor:end;\" transform=\"rotate(0, 183.423, 1367.58)\" x=\"183.423\" y=\"1367.58\">0.025</text>\n</g>\n<g clip-path=\"url(#clip5600)\">\n<text style=\"fill:#000000; fill-opacity:1; font-family:Arial,Helvetica Neue,Helvetica,sans-serif; font-size:48px; text-anchor:end;\" transform=\"rotate(0, 183.423, 1026.77)\" x=\"183.423\" y=\"1026.77\">0.050</text>\n</g>\n<g clip-path=\"url(#clip5600)\">\n<text style=\"fill:#000000; fill-opacity:1; font-family:Arial,Helvetica Neue,Helvetica,sans-serif; font-size:48px; text-anchor:end;\" transform=\"rotate(0, 183.423, 685.969)\" x=\"183.423\" y=\"685.969\">0.075</text>\n</g>\n<g clip-path=\"url(#clip5600)\">\n<text style=\"fill:#000000; fill-opacity:1; font-family:Arial,Helvetica Neue,Helvetica,sans-serif; font-size:48px; text-anchor:end;\" transform=\"rotate(0, 183.423, 345.164)\" x=\"183.423\" y=\"345.164\">0.100</text>\n</g>\n<polyline clip-path=\"url(#clip5602)\" style=\"stroke:#009af9; stroke-width:8; stroke-opacity:1; fill:none\" points=\"\n  268.14,88.0053 269.463,162.145 270.787,227.773 272.111,285.948 273.434,337.481 274.758,383.216 276.082,423.958 277.405,460.426 278.729,493.245 280.053,522.948 \n  281.376,549.984 282.7,574.729 284.024,597.496 285.347,618.548 286.671,638.106 287.995,656.354 289.318,673.448 290.642,689.519 291.966,704.68 293.289,719.025 \n  294.613,732.638 295.937,745.588 297.26,757.938 298.584,769.739 299.908,781.039 301.232,791.878 302.555,802.292 303.879,812.313 305.203,821.968 306.526,831.284 \n  307.85,840.281 309.174,848.981 310.497,857.401 311.821,865.559 313.145,873.467 314.468,881.142 315.792,888.593 317.116,895.834 318.439,902.874 319.763,909.722 \n  321.087,916.389 322.41,922.881 323.734,929.207 325.058,935.373 326.381,941.386 327.705,947.253 329.029,952.979 330.352,958.569 331.676,964.029 333,969.363 \n  334.323,974.577 335.647,979.673 336.971,984.657 338.294,989.533 339.618,994.303 340.942,998.972 342.265,1003.54 343.589,1008.02 344.913,1012.4 346.236,1016.69 \n  347.56,1020.9 348.884,1025.02 350.207,1029.07 351.531,1033.03 352.855,1036.92 354.179,1040.73 355.502,1044.47 356.826,1048.14 358.15,1051.74 359.473,1055.28 \n  360.797,1058.75 362.121,1062.16 363.444,1065.51 364.768,1068.79 366.092,1072.02 367.415,1075.2 368.739,1078.32 370.063,1081.38 371.386,1084.4 372.71,1087.36 \n  374.034,1090.28 375.357,1093.14 376.681,1095.96 378.005,1098.73 379.328,1101.46 380.652,1104.15 381.976,1106.79 383.299,1109.39 384.623,1111.95 385.947,1114.47 \n  387.27,1116.95 388.594,1119.4 389.918,1121.81 391.241,1124.18 392.565,1126.51 393.889,1128.82 395.212,1131.08 396.536,1133.32 397.86,1135.52 399.183,1137.69 \n  400.507,1139.83 401.831,1141.95 403.154,1144.03 404.478,1146.08 405.802,1148.1 407.126,1150.1 408.449,1152.07 409.773,1154.01 411.097,1155.93 412.42,1157.82 \n  413.744,1159.69 415.068,1161.53 416.391,1163.35 417.715,1165.14 419.039,1166.91 420.362,1168.66 421.686,1170.39 423.01,1172.09 424.333,1173.78 425.657,1175.44 \n  426.981,1177.08 428.304,1178.71 429.628,1180.31 430.952,1181.89 432.275,1183.46 433.599,1185 434.923,1186.53 436.246,1188.04 437.57,1189.53 438.894,1191.01 \n  440.217,1192.47 441.541,1193.91 442.865,1195.33 444.188,1196.74 445.512,1198.14 446.836,1199.51 448.159,1200.88 449.483,1202.22 450.807,1203.56 452.13,1204.87 \n  453.454,1206.18 454.778,1207.47 456.102,1208.74 457.425,1210.01 458.749,1211.26 460.073,1212.49 461.396,1213.72 462.72,1214.93 464.044,1216.12 465.367,1217.31 \n  466.691,1218.48 468.015,1219.65 469.338,1220.8 470.662,1221.94 471.986,1223.06 473.309,1224.18 474.633,1225.28 475.957,1226.38 477.28,1227.46 478.604,1228.54 \n  479.928,1229.6 481.251,1230.65 482.575,1231.69 483.899,1232.73 485.222,1233.75 486.546,1234.77 487.87,1235.77 489.193,1236.76 490.517,1237.75 491.841,1238.73 \n  493.164,1239.7 494.488,1240.65 495.812,1241.61 497.135,1242.55 498.459,1243.48 499.783,1244.41 501.106,1245.32 502.43,1246.23 503.754,1247.13 505.077,1248.03 \n  506.401,1248.91 507.725,1249.79 509.049,1250.66 510.372,1251.52 511.696,1252.38 513.02,1253.23 514.343,1254.07 515.667,1254.91 516.991,1255.73 518.314,1256.55 \n  519.638,1257.37 520.962,1258.17 522.285,1258.98 523.609,1259.77 524.933,1260.56 526.256,1261.34 527.58,1262.11 528.904,1262.88 530.227,1263.65 531.551,1264.4 \n  532.875,1265.15 534.198,1265.9 535.522,1266.64 536.846,1267.37 538.169,1268.1 539.493,1268.82 540.817,1269.54 542.14,1270.25 543.464,1270.96 544.788,1271.66 \n  546.111,1272.36 547.435,1273.05 548.759,1273.73 550.082,1274.41 551.406,1275.09 552.73,1275.76 554.053,1276.42 555.377,1277.08 556.701,1277.74 558.024,1278.39 \n  559.348,1279.04 560.672,1279.68 561.996,1280.32 563.319,1280.95 564.643,1281.58 565.967,1282.2 567.29,1282.82 568.614,1283.44 569.938,1284.05 571.261,1284.65 \n  572.585,1285.26 573.909,1285.86 575.232,1286.45 576.556,1287.04 577.88,1287.63 579.203,1288.21 580.527,1288.79 581.851,1289.36 583.174,1289.93 584.498,1290.5 \n  585.822,1291.07 587.145,1291.63 588.469,1292.18 589.793,1292.73 591.116,1293.28 592.44,1293.83 593.764,1294.37 595.087,1294.91 596.411,1295.44 597.735,1295.98 \n  599.058,1296.5 600.382,1297.03 601.706,1297.55 603.029,1298.07 604.353,1298.58 605.677,1299.1 607,1299.6 608.324,1300.11 609.648,1300.61 610.971,1301.11 \n  612.295,1301.61 613.619,1302.1 614.943,1302.59 616.266,1303.08 617.59,1303.57 618.914,1304.05 620.237,1304.53 621.561,1305 622.885,1305.47 624.208,1305.95 \n  625.532,1306.41 626.856,1306.88 628.179,1307.34 629.503,1307.8 630.827,1308.26 632.15,1308.71 633.474,1309.16 634.798,1309.61 636.121,1310.06 637.445,1310.5 \n  638.769,1310.94 640.092,1311.38 641.416,1311.82 642.74,1312.25 644.063,1312.68 645.387,1313.11 646.711,1313.54 648.034,1313.97 649.358,1314.39 650.682,1314.81 \n  652.005,1315.23 653.329,1315.64 654.653,1316.05 655.976,1316.46 657.3,1316.87 658.624,1317.28 659.947,1317.68 661.271,1318.09 662.595,1318.49 663.919,1318.88 \n  665.242,1319.28 666.566,1319.67 667.89,1320.06 669.213,1320.45 670.537,1320.84 671.861,1321.23 673.184,1321.61 674.508,1321.99 675.832,1322.37 677.155,1322.75 \n  678.479,1323.13 679.803,1323.5 681.126,1323.87 682.45,1324.24 683.774,1324.61 685.097,1324.98 686.421,1325.34 687.745,1325.7 689.068,1326.06 690.392,1326.42 \n  691.716,1326.78 693.039,1327.14 694.363,1327.49 695.687,1327.84 697.01,1328.19 698.334,1328.54 699.658,1328.89 700.981,1329.23 702.305,1329.58 703.629,1329.92 \n  704.952,1330.26 706.276,1330.6 707.6,1330.93 708.923,1331.27 710.247,1331.6 711.571,1331.94 712.894,1332.27 714.218,1332.6 715.542,1332.92 716.866,1333.25 \n  718.189,1333.57 719.513,1333.9 720.837,1334.22 722.16,1334.54 723.484,1334.86 724.808,1335.18 726.131,1335.49 727.455,1335.81 728.779,1336.12 730.102,1336.43 \n  731.426,1336.74 732.75,1337.05 734.073,1337.36 735.397,1337.66 736.721,1337.97 738.044,1338.27 739.368,1338.57 740.692,1338.87 742.015,1339.17 743.339,1339.47 \n  744.663,1339.77 745.986,1340.06 747.31,1340.36 748.634,1340.65 749.957,1340.94 751.281,1341.23 752.605,1341.52 753.928,1341.81 755.252,1342.09 756.576,1342.38 \n  757.899,1342.66 759.223,1342.94 760.547,1343.23 761.87,1343.51 763.194,1343.79 764.518,1344.06 765.841,1344.34 767.165,1344.62 768.489,1344.89 769.813,1345.17 \n  771.136,1345.44 772.46,1345.71 773.784,1345.98 775.107,1346.25 776.431,1346.52 777.755,1346.78 779.078,1347.05 780.402,1347.31 781.726,1347.58 783.049,1347.84 \n  784.373,1348.1 785.697,1348.36 787.02,1348.62 788.344,1348.88 789.668,1349.14 790.991,1349.39 792.315,1349.65 793.639,1349.9 794.962,1350.15 796.286,1350.41 \n  797.61,1350.66 798.933,1350.91 800.257,1351.16 801.581,1351.41 802.904,1351.65 804.228,1351.9 805.552,1352.15 806.875,1352.39 808.199,1352.63 809.523,1352.88 \n  810.846,1353.12 812.17,1353.36 813.494,1353.6 814.817,1353.84 816.141,1354.07 817.465,1354.31 818.788,1354.55 820.112,1354.78 821.436,1355.02 822.76,1355.25 \n  824.083,1355.48 825.407,1355.72 826.731,1355.95 828.054,1356.18 829.378,1356.41 830.702,1356.63 832.025,1356.86 833.349,1357.09 834.673,1357.31 835.996,1357.54 \n  837.32,1357.76 838.644,1357.99 839.967,1358.21 841.291,1358.43 842.615,1358.65 843.938,1358.87 845.262,1359.09 846.586,1359.31 847.909,1359.53 849.233,1359.75 \n  850.557,1359.96 851.88,1360.18 853.204,1360.39 854.528,1360.61 855.851,1360.82 857.175,1361.03 858.499,1361.24 859.822,1361.46 861.146,1361.67 862.47,1361.88 \n  863.793,1362.08 865.117,1362.29 866.441,1362.5 867.764,1362.71 869.088,1362.91 870.412,1363.12 871.735,1363.32 873.059,1363.53 874.383,1363.73 875.707,1363.93 \n  877.03,1364.13 878.354,1364.34 879.678,1364.54 881.001,1364.74 882.325,1364.93 883.649,1365.13 884.972,1365.33 886.296,1365.53 887.62,1365.72 888.943,1365.92 \n  890.267,1366.11 891.591,1366.31 892.914,1366.5 894.238,1366.7 895.562,1366.89 896.885,1367.08 898.209,1367.27 899.533,1367.46 900.856,1367.65 902.18,1367.84 \n  903.504,1368.03 904.827,1368.22 906.151,1368.41 907.475,1368.59 908.798,1368.78 910.122,1368.97 911.446,1369.15 912.769,1369.34 914.093,1369.52 915.417,1369.7 \n  916.74,1369.89 918.064,1370.07 919.388,1370.25 920.711,1370.43 922.035,1370.61 923.359,1370.79 924.683,1370.97 926.006,1371.15 927.33,1371.33 928.654,1371.51 \n  929.977,1371.68 931.301,1371.86 932.625,1372.04 933.948,1372.21 935.272,1372.39 936.596,1372.56 937.919,1372.74 939.243,1372.91 940.567,1373.08 941.89,1373.25 \n  943.214,1373.43 944.538,1373.6 945.861,1373.77 947.185,1373.94 948.509,1374.11 949.832,1374.28 951.156,1374.45 952.48,1374.61 953.803,1374.78 955.127,1374.95 \n  956.451,1375.12 957.774,1375.28 959.098,1375.45 960.422,1375.61 961.745,1375.78 963.069,1375.94 964.393,1376.11 965.716,1376.27 967.04,1376.43 968.364,1376.59 \n  969.687,1376.76 971.011,1376.92 972.335,1377.08 973.658,1377.24 974.982,1377.4 976.306,1377.56 977.63,1377.72 978.953,1377.88 980.277,1378.03 981.601,1378.19 \n  982.924,1378.35 984.248,1378.51 985.572,1378.66 986.895,1378.82 988.219,1378.97 989.543,1379.13 990.866,1379.28 992.19,1379.44 993.514,1379.59 994.837,1379.74 \n  996.161,1379.9 997.485,1380.05 998.808,1380.2 1000.13,1380.35 1001.46,1380.5 1002.78,1380.66 1004.1,1380.81 1005.43,1380.96 1006.75,1381.1 1008.07,1381.25 \n  1009.4,1381.4 1010.72,1381.55 1012.05,1381.7 1013.37,1381.85 1014.69,1381.99 1016.02,1382.14 1017.34,1382.29 1018.66,1382.43 1019.99,1382.58 1021.31,1382.72 \n  1022.63,1382.87 1023.96,1383.01 1025.28,1383.15 1026.61,1383.3 1027.93,1383.44 1029.25,1383.58 1030.58,1383.73 1031.9,1383.87 1033.22,1384.01 1034.55,1384.15 \n  1035.87,1384.29 1037.19,1384.43 1038.52,1384.57 1039.84,1384.71 1041.17,1384.85 1042.49,1384.99 1043.81,1385.13 1045.14,1385.27 1046.46,1385.41 1047.78,1385.54 \n  1049.11,1385.68 1050.43,1385.82 1051.76,1385.95 1053.08,1386.09 1054.4,1386.22 1055.73,1386.36 1057.05,1386.5 1058.37,1386.63 1059.7,1386.76 1061.02,1386.9 \n  1062.34,1387.03 1063.67,1387.17 1064.99,1387.3 1066.32,1387.43 1067.64,1387.56 1068.96,1387.7 1070.29,1387.83 1071.61,1387.96 1072.93,1388.09 1074.26,1388.22 \n  1075.58,1388.35 1076.91,1388.48 1078.23,1388.61 1079.55,1388.74 1080.88,1388.87 1082.2,1389 1083.52,1389.12 1084.85,1389.25 1086.17,1389.38 1087.49,1389.51 \n  1088.82,1389.64 1090.14,1389.76 1091.47,1389.89 1092.79,1390.01 1094.11,1390.14 1095.44,1390.27 1096.76,1390.39 1098.08,1390.52 1099.41,1390.64 1100.73,1390.76 \n  1102.05,1390.89 1103.38,1391.01 1104.7,1391.14 1106.03,1391.26 1107.35,1391.38 1108.67,1391.5 1110,1391.63 1111.32,1391.75 1112.64,1391.87 1113.97,1391.99 \n  1115.29,1392.11 1116.62,1392.23 1117.94,1392.35 1119.26,1392.47 1120.59,1392.59 1121.91,1392.71 1123.23,1392.83 1124.56,1392.95 1125.88,1393.07 1127.2,1393.19 \n  1128.53,1393.31 1129.85,1393.43 1131.18,1393.54 1132.5,1393.66 1133.82,1393.78 1135.15,1393.89 1136.47,1394.01 1137.79,1394.13 1139.12,1394.24 1140.44,1394.36 \n  1141.77,1394.47 1143.09,1394.59 1144.41,1394.7 1145.74,1394.82 1147.06,1394.93 1148.38,1395.05 1149.71,1395.16 1151.03,1395.28 1152.35,1395.39 1153.68,1395.5 \n  1155,1395.61 1156.33,1395.73 1157.65,1395.84 1158.97,1395.95 1160.3,1396.06 1161.62,1396.18 1162.94,1396.29 1164.27,1396.4 1165.59,1396.51 1166.92,1396.62 \n  1168.24,1396.73 1169.56,1396.84 1170.89,1396.95 1172.21,1397.06 1173.53,1397.17 1174.86,1397.28 1176.18,1397.39 1177.5,1397.49 1178.83,1397.6 1180.15,1397.71 \n  1181.48,1397.82 1182.8,1397.93 1184.12,1398.03 1185.45,1398.14 1186.77,1398.25 1188.09,1398.36 1189.42,1398.46 1190.74,1398.57 1192.06,1398.67 1193.39,1398.78 \n  1194.71,1398.89 1196.04,1398.99 1197.36,1399.1 1198.68,1399.2 1200.01,1399.31 1201.33,1399.41 1202.65,1399.51 1203.98,1399.62 1205.3,1399.72 1206.63,1399.83 \n  1207.95,1399.93 1209.27,1400.03 1210.6,1400.13 1211.92,1400.24 1213.24,1400.34 1214.57,1400.44 1215.89,1400.54 1217.21,1400.65 1218.54,1400.75 1219.86,1400.85 \n  1221.19,1400.95 1222.51,1401.05 1223.83,1401.15 1225.16,1401.25 1226.48,1401.35 1227.8,1401.45 1229.13,1401.55 1230.45,1401.65 1231.78,1401.75 1233.1,1401.85 \n  1234.42,1401.95 1235.75,1402.05 1237.07,1402.15 1238.39,1402.25 1239.72,1402.34 1241.04,1402.44 1242.36,1402.54 1243.69,1402.64 1245.01,1402.73 1246.34,1402.83 \n  1247.66,1402.93 1248.98,1403.03 1250.31,1403.12 1251.63,1403.22 1252.95,1403.31 1254.28,1403.41 1255.6,1403.51 1256.92,1403.6 1258.25,1403.7 1259.57,1403.79 \n  1260.9,1403.89 1262.22,1403.98 1263.54,1404.08 1264.87,1404.17 1266.19,1404.27 1267.51,1404.36 1268.84,1404.45 1270.16,1404.55 1271.49,1404.64 1272.81,1404.74 \n  1274.13,1404.83 1275.46,1404.92 1276.78,1405.01 1278.1,1405.11 1279.43,1405.2 1280.75,1405.29 1282.07,1405.38 1283.4,1405.48 1284.72,1405.57 1286.05,1405.66 \n  1287.37,1405.75 1288.69,1405.84 1290.02,1405.93 1291.34,1406.02 1292.66,1406.11 1293.99,1406.2 1295.31,1406.29 1296.64,1406.38 1297.96,1406.47 1299.28,1406.56 \n  1300.61,1406.65 1301.93,1406.74 1303.25,1406.83 1304.58,1406.92 1305.9,1407.01 1307.22,1407.1 1308.55,1407.19 1309.87,1407.28 1311.2,1407.36 1312.52,1407.45 \n  1313.84,1407.54 1315.17,1407.63 1316.49,1407.72 1317.81,1407.8 1319.14,1407.89 1320.46,1407.98 1321.79,1408.06 1323.11,1408.15 1324.43,1408.24 1325.76,1408.32 \n  1327.08,1408.41 1328.4,1408.5 1329.73,1408.58 1331.05,1408.67 1332.37,1408.75 1333.7,1408.84 1335.02,1408.92 1336.35,1409.01 1337.67,1409.09 1338.99,1409.18 \n  1340.32,1409.26 1341.64,1409.35 1342.96,1409.43 1344.29,1409.52 1345.61,1409.6 1346.93,1409.68 1348.26,1409.77 1349.58,1409.85 1350.91,1409.93 1352.23,1410.02 \n  1353.55,1410.1 1354.88,1410.18 1356.2,1410.27 1357.52,1410.35 1358.85,1410.43 1360.17,1410.51 1361.5,1410.6 1362.82,1410.68 1364.14,1410.76 1365.47,1410.84 \n  1366.79,1410.92 1368.11,1411.01 1369.44,1411.09 1370.76,1411.17 1372.08,1411.25 1373.41,1411.33 1374.73,1411.41 1376.06,1411.49 1377.38,1411.57 1378.7,1411.65 \n  1380.03,1411.73 1381.35,1411.81 1382.67,1411.89 1384,1411.97 1385.32,1412.05 1386.65,1412.13 1387.97,1412.21 1389.29,1412.29 1390.62,1412.37 1391.94,1412.45 \n  1393.26,1412.52 1394.59,1412.6 1395.91,1412.68 1397.23,1412.76 1398.56,1412.84 1399.88,1412.92 1401.21,1412.99 1402.53,1413.07 1403.85,1413.15 1405.18,1413.23 \n  1406.5,1413.3 1407.82,1413.38 1409.15,1413.46 1410.47,1413.54 1411.79,1413.61 1413.12,1413.69 1414.44,1413.77 1415.77,1413.84 1417.09,1413.92 1418.41,1413.99 \n  1419.74,1414.07 1421.06,1414.15 1422.38,1414.22 1423.71,1414.3 1425.03,1414.37 1426.36,1414.45 1427.68,1414.52 1429,1414.6 1430.33,1414.67 1431.65,1414.75 \n  1432.97,1414.82 1434.3,1414.9 1435.62,1414.97 1436.94,1415.05 1438.27,1415.12 1439.59,1415.2 1440.92,1415.27 1442.24,1415.34 1443.56,1415.42 1444.89,1415.49 \n  1446.21,1415.56 1447.53,1415.64 1448.86,1415.71 1450.18,1415.78 1451.51,1415.86 1452.83,1415.93 1454.15,1416 1455.48,1416.07 1456.8,1416.15 1458.12,1416.22 \n  1459.45,1416.29 1460.77,1416.36 1462.09,1416.44 1463.42,1416.51 1464.74,1416.58 1466.07,1416.65 1467.39,1416.72 1468.71,1416.79 1470.04,1416.87 1471.36,1416.94 \n  1472.68,1417.01 1474.01,1417.08 1475.33,1417.15 1476.66,1417.22 1477.98,1417.29 1479.3,1417.36 1480.63,1417.43 1481.95,1417.5 1483.27,1417.57 1484.6,1417.64 \n  1485.92,1417.71 1487.24,1417.78 1488.57,1417.85 1489.89,1417.92 1491.22,1417.99 1492.54,1418.06 1493.86,1418.13 1495.19,1418.2 1496.51,1418.27 1497.83,1418.34 \n  1499.16,1418.4 1500.48,1418.47 1501.8,1418.54 1503.13,1418.61 1504.45,1418.68 1505.78,1418.75 1507.1,1418.82 1508.42,1418.88 1509.75,1418.95 1511.07,1419.02 \n  1512.39,1419.09 1513.72,1419.15 1515.04,1419.22 1516.37,1419.29 1517.69,1419.36 1519.01,1419.42 1520.34,1419.49 1521.66,1419.56 1522.98,1419.62 1524.31,1419.69 \n  1525.63,1419.76 1526.95,1419.82 1528.28,1419.89 1529.6,1419.96 1530.93,1420.02 1532.25,1420.09 1533.57,1420.16 1534.9,1420.22 1536.22,1420.29 1537.54,1420.35 \n  1538.87,1420.42 1540.19,1420.48 1541.52,1420.55 1542.84,1420.61 1544.16,1420.68 1545.49,1420.75 1546.81,1420.81 1548.13,1420.87 1549.46,1420.94 1550.78,1421 \n  1552.1,1421.07 1553.43,1421.13 1554.75,1421.2 1556.08,1421.26 1557.4,1421.33 1558.72,1421.39 1560.05,1421.45 1561.37,1421.52 1562.69,1421.58 1564.02,1421.65 \n  1565.34,1421.71 1566.66,1421.77 1567.99,1421.84 1569.31,1421.9 1570.64,1421.96 1571.96,1422.03 1573.28,1422.09 1574.61,1422.15 1575.93,1422.22 1577.25,1422.28 \n  1578.58,1422.34 1579.9,1422.4 1581.23,1422.47 1582.55,1422.53 1583.87,1422.59 1585.2,1422.65 1586.52,1422.71 1587.84,1422.78 1589.17,1422.84 1590.49,1422.9 \n  1591.81,1422.96 1593.14,1423.02 1594.46,1423.09 1595.79,1423.15 1597.11,1423.21 1598.43,1423.27 1599.76,1423.33 1601.08,1423.39 1602.4,1423.45 1603.73,1423.51 \n  1605.05,1423.57 1606.38,1423.64 1607.7,1423.7 1609.02,1423.76 1610.35,1423.82 1611.67,1423.88 1612.99,1423.94 1614.32,1424 1615.64,1424.06 1616.96,1424.12 \n  1618.29,1424.18 1619.61,1424.24 1620.94,1424.3 1622.26,1424.36 1623.58,1424.42 1624.91,1424.48 1626.23,1424.54 1627.55,1424.6 1628.88,1424.66 1630.2,1424.71 \n  1631.53,1424.77 1632.85,1424.83 1634.17,1424.89 1635.5,1424.95 1636.82,1425.01 1638.14,1425.07 1639.47,1425.13 1640.79,1425.18 1642.11,1425.24 1643.44,1425.3 \n  1644.76,1425.36 1646.09,1425.42 1647.41,1425.48 1648.73,1425.53 1650.06,1425.59 1651.38,1425.65 1652.7,1425.71 1654.03,1425.77 1655.35,1425.82 1656.67,1425.88 \n  1658,1425.94 1659.32,1426 1660.65,1426.05 1661.97,1426.11 1663.29,1426.17 1664.62,1426.22 1665.94,1426.28 1667.26,1426.34 1668.59,1426.39 1669.91,1426.45 \n  1671.24,1426.51 1672.56,1426.56 1673.88,1426.62 1675.21,1426.68 1676.53,1426.73 1677.85,1426.79 1679.18,1426.85 1680.5,1426.9 1681.82,1426.96 1683.15,1427.01 \n  1684.47,1427.07 1685.8,1427.13 1687.12,1427.18 1688.44,1427.24 1689.77,1427.29 1691.09,1427.35 1692.41,1427.4 1693.74,1427.46 1695.06,1427.51 1696.39,1427.57 \n  1697.71,1427.62 1699.03,1427.68 1700.36,1427.73 1701.68,1427.79 1703,1427.84 1704.33,1427.9 1705.65,1427.95 1706.97,1428.01 1708.3,1428.06 1709.62,1428.12 \n  1710.95,1428.17 1712.27,1428.23 1713.59,1428.28 1714.92,1428.33 1716.24,1428.39 1717.56,1428.44 1718.89,1428.5 1720.21,1428.55 1721.53,1428.6 1722.86,1428.66 \n  1724.18,1428.71 1725.51,1428.76 1726.83,1428.82 1728.15,1428.87 1729.48,1428.92 1730.8,1428.98 1732.12,1429.03 1733.45,1429.08 1734.77,1429.14 1736.1,1429.19 \n  1737.42,1429.24 1738.74,1429.3 1740.07,1429.35 1741.39,1429.4 1742.71,1429.45 1744.04,1429.51 1745.36,1429.56 1746.68,1429.61 1748.01,1429.66 1749.33,1429.72 \n  1750.66,1429.77 1751.98,1429.82 1753.3,1429.87 1754.63,1429.92 1755.95,1429.98 1757.27,1430.03 1758.6,1430.08 1759.92,1430.13 1761.25,1430.18 1762.57,1430.24 \n  1763.89,1430.29 1765.22,1430.34 1766.54,1430.39 1767.86,1430.44 1769.19,1430.49 1770.51,1430.54 1771.83,1430.59 1773.16,1430.65 1774.48,1430.7 1775.81,1430.75 \n  1777.13,1430.8 1778.45,1430.85 1779.78,1430.9 1781.1,1430.95 1782.42,1431 1783.75,1431.05 1785.07,1431.1 1786.4,1431.15 1787.72,1431.2 1789.04,1431.25 \n  1790.37,1431.3 1791.69,1431.35 1793.01,1431.4 1794.34,1431.45 1795.66,1431.5 1796.98,1431.55 1798.31,1431.6 1799.63,1431.65 1800.96,1431.7 1802.28,1431.75 \n  1803.6,1431.8 1804.93,1431.85 1806.25,1431.9 1807.57,1431.95 1808.9,1432 1810.22,1432.05 1811.54,1432.1 1812.87,1432.15 1814.19,1432.2 1815.52,1432.25 \n  1816.84,1432.29 1818.16,1432.34 1819.49,1432.39 1820.81,1432.44 1822.13,1432.49 1823.46,1432.54 1824.78,1432.59 1826.11,1432.64 1827.43,1432.68 1828.75,1432.73 \n  1830.08,1432.78 1831.4,1432.83 1832.72,1432.88 1834.05,1432.93 1835.37,1432.97 1836.69,1433.02 1838.02,1433.07 1839.34,1433.12 1840.67,1433.17 1841.99,1433.21 \n  1843.31,1433.26 1844.64,1433.31 1845.96,1433.36 1847.28,1433.4 1848.61,1433.45 1849.93,1433.5 1851.26,1433.55 1852.58,1433.59 1853.9,1433.64 1855.23,1433.69 \n  1856.55,1433.74 1857.87,1433.78 1859.2,1433.83 1860.52,1433.88 1861.84,1433.92 1863.17,1433.97 1864.49,1434.02 1865.82,1434.06 1867.14,1434.11 1868.46,1434.16 \n  1869.79,1434.2 1871.11,1434.25 1872.43,1434.3 1873.76,1434.34 1875.08,1434.39 1876.4,1434.44 1877.73,1434.48 1879.05,1434.53 1880.38,1434.58 1881.7,1434.62 \n  1883.02,1434.67 1884.35,1434.71 1885.67,1434.76 1886.99,1434.81 1888.32,1434.85 1889.64,1434.9 1890.97,1434.94 1892.29,1434.99 1893.61,1435.03 1894.94,1435.08 \n  1896.26,1435.13 1897.58,1435.17 1898.91,1435.22 1900.23,1435.26 1901.55,1435.31 1902.88,1435.35 1904.2,1435.4 1905.53,1435.44 1906.85,1435.49 1908.17,1435.53 \n  1909.5,1435.58 1910.82,1435.62 1912.14,1435.67 1913.47,1435.71 1914.79,1435.76 1916.12,1435.8 1917.44,1435.85 1918.76,1435.89 1920.09,1435.93 1921.41,1435.98 \n  1922.73,1436.02 1924.06,1436.07 1925.38,1436.11 1926.7,1436.16 1928.03,1436.2 1929.35,1436.25 1930.68,1436.29 1932,1436.33 1933.32,1436.38 1934.65,1436.42 \n  1935.97,1436.47 1937.29,1436.51 1938.62,1436.55 1939.94,1436.6 1941.27,1436.64 1942.59,1436.68 1943.91,1436.73 1945.24,1436.77 1946.56,1436.82 1947.88,1436.86 \n  1949.21,1436.9 1950.53,1436.95 1951.85,1436.99 1953.18,1437.03 1954.5,1437.08 1955.83,1437.12 1957.15,1437.16 1958.47,1437.2 1959.8,1437.25 1961.12,1437.29 \n  1962.44,1437.33 1963.77,1437.38 1965.09,1437.42 1966.41,1437.46 1967.74,1437.5 1969.06,1437.55 1970.39,1437.59 1971.71,1437.63 1973.03,1437.68 1974.36,1437.72 \n  1975.68,1437.76 1977,1437.8 1978.33,1437.84 1979.65,1437.89 1980.98,1437.93 1982.3,1437.97 1983.62,1438.01 1984.95,1438.06 1986.27,1438.1 1987.59,1438.14 \n  1988.92,1438.18 1990.24,1438.22 1991.56,1438.27 1992.89,1438.31 1994.21,1438.35 1995.54,1438.39 1996.86,1438.43 1998.18,1438.47 1999.51,1438.52 2000.83,1438.56 \n  2002.15,1438.6 2003.48,1438.64 2004.8,1438.68 2006.13,1438.72 2007.45,1438.76 2008.77,1438.81 2010.1,1438.85 2011.42,1438.89 2012.74,1438.93 2014.07,1438.97 \n  2015.39,1439.01 2016.71,1439.05 2018.04,1439.09 2019.36,1439.13 2020.69,1439.18 2022.01,1439.22 2023.33,1439.26 2024.66,1439.3 2025.98,1439.34 2027.3,1439.38 \n  2028.63,1439.42 2029.95,1439.46 2031.27,1439.5 2032.6,1439.54 2033.92,1439.58 2035.25,1439.62 2036.57,1439.66 2037.89,1439.7 2039.22,1439.74 2040.54,1439.78 \n  2041.86,1439.82 2043.19,1439.86 2044.51,1439.9 2045.84,1439.94 2047.16,1439.98 2048.48,1440.02 2049.81,1440.06 2051.13,1440.1 2052.45,1440.14 2053.78,1440.18 \n  2055.1,1440.22 2056.42,1440.26 2057.75,1440.3 2059.07,1440.34 2060.4,1440.38 2061.72,1440.42 2063.04,1440.46 2064.37,1440.5 2065.69,1440.54 2067.01,1440.58 \n  2068.34,1440.62 2069.66,1440.66 2070.99,1440.7 2072.31,1440.74 2073.63,1440.77 2074.96,1440.81 2076.28,1440.85 2077.6,1440.89 2078.93,1440.93 2080.25,1440.97 \n  2081.57,1441.01 2082.9,1441.05 2084.22,1441.09 2085.55,1441.12 2086.87,1441.16 2088.19,1441.2 2089.52,1441.24 2090.84,1441.28 2092.16,1441.32 2093.49,1441.36 \n  2094.81,1441.39 2096.14,1441.43 2097.46,1441.47 2098.78,1441.51 2100.11,1441.55 2101.43,1441.59 2102.75,1441.62 2104.08,1441.66 2105.4,1441.7 2106.72,1441.74 \n  2108.05,1441.78 2109.37,1441.82 2110.7,1441.85 2112.02,1441.89 2113.34,1441.93 2114.67,1441.97 2115.99,1442.01 2117.31,1442.04 2118.64,1442.08 2119.96,1442.12 \n  2121.28,1442.16 2122.61,1442.19 2123.93,1442.23 2125.26,1442.27 2126.58,1442.31 2127.9,1442.34 2129.23,1442.38 2130.55,1442.42 2131.87,1442.46 2133.2,1442.49 \n  2134.52,1442.53 2135.85,1442.57 2137.17,1442.61 2138.49,1442.64 2139.82,1442.68 2141.14,1442.72 2142.46,1442.75 2143.79,1442.79 2145.11,1442.83 2146.43,1442.86 \n  2147.76,1442.9 2149.08,1442.94 2150.41,1442.98 2151.73,1443.01 2153.05,1443.05 2154.38,1443.09 2155.7,1443.12 2157.02,1443.16 2158.35,1443.2 2159.67,1443.23 \n  2161,1443.27 2162.32,1443.31 2163.64,1443.34 2164.97,1443.38 2166.29,1443.41 2167.61,1443.45 2168.94,1443.49 2170.26,1443.52 2171.58,1443.56 2172.91,1443.6 \n  2174.23,1443.63 2175.56,1443.67 2176.88,1443.7 2178.2,1443.74 2179.53,1443.78 2180.85,1443.81 2182.17,1443.85 2183.5,1443.88 2184.82,1443.92 2186.14,1443.96 \n  2187.47,1443.99 2188.79,1444.03 2190.12,1444.06 2191.44,1444.1 2192.76,1444.13 2194.09,1444.17 2195.41,1444.21 2196.73,1444.24 2198.06,1444.28 2199.38,1444.31 \n  2200.71,1444.35 2202.03,1444.38 2203.35,1444.42 2204.68,1444.45 2206,1444.49 2207.32,1444.52 2208.65,1444.56 2209.97,1444.6 2211.29,1444.63 2212.62,1444.67 \n  2213.94,1444.7 2215.27,1444.74 2216.59,1444.77 2217.91,1444.81 2219.24,1444.84 2220.56,1444.88 2221.88,1444.91 2223.21,1444.95 2224.53,1444.98 2225.86,1445.02 \n  2227.18,1445.05 2228.5,1445.08 2229.83,1445.12 2231.15,1445.15 2232.47,1445.19 2233.8,1445.22 2235.12,1445.26 2236.44,1445.29 2237.77,1445.33 2239.09,1445.36 \n  2240.42,1445.4 2241.74,1445.43 2243.06,1445.46 2244.39,1445.5 2245.71,1445.53 2247.03,1445.57 2248.36,1445.6 2249.68,1445.64 2251,1445.67 2252.33,1445.7 \n  2253.65,1445.74 2254.98,1445.77 2256.3,1445.81 2257.62,1445.84 2258.95,1445.87 2260.27,1445.91 2261.59,1445.94 2262.92,1445.98 2264.24,1446.01 2265.57,1446.04 \n  2266.89,1446.08 2268.21,1446.11 2269.54,1446.15 2270.86,1446.18 2272.18,1446.21 2273.51,1446.25 2274.83,1446.28 2276.15,1446.31 2277.48,1446.35 2278.8,1446.38 \n  2280.13,1446.41 2281.45,1446.45 2282.77,1446.48 2284.1,1446.51 2285.42,1446.55 2286.74,1446.58 2288.07,1446.61 2289.39,1446.65 2290.72,1446.68 2292.04,1446.71 \n  \n  \"/>\n<path clip-path=\"url(#clip5600)\" d=\"\nM1430.76 251.724 L2280.76 251.724 L2280.76 130.764 L1430.76 130.764  Z\n  \" fill=\"#ffffff\" fill-rule=\"evenodd\" fill-opacity=\"1\"/>\n<polyline clip-path=\"url(#clip5600)\" style=\"stroke:#000000; stroke-width:4; stroke-opacity:1; fill:none\" points=\"\n  1430.76,251.724 2280.76,251.724 2280.76,130.764 1430.76,130.764 1430.76,251.724 \n  \"/>\n<polyline clip-path=\"url(#clip5600)\" style=\"stroke:#009af9; stroke-width:8; stroke-opacity:1; fill:none\" points=\"\n  1454.76,191.244 1598.76,191.244 \n  \"/>\n<g clip-path=\"url(#clip5600)\">\n<text style=\"fill:#000000; fill-opacity:1; font-family:Arial,Helvetica Neue,Helvetica,sans-serif; font-size:48px; text-anchor:start;\" transform=\"rotate(0, 1622.76, 208.744)\" x=\"1622.76\" y=\"208.744\">Square Loss on Training Set</text>\n</g>\n</svg>\n"
          },
          "metadata": {
            "tags": []
          },
          "execution_count": 57
        }
      ]
    },
    {
      "cell_type": "markdown",
      "metadata": {
        "id": "S4PY3cvjt_cM",
        "colab_type": "text"
      },
      "source": [
        "**Exercise 6**"
      ]
    },
    {
      "cell_type": "code",
      "metadata": {
        "id": "vYs0mqx2hEOr",
        "colab_type": "code",
        "outputId": "35435b82-8d8d-48e8-91c9-876ec858fc09",
        "colab": {
          "base_uri": "https://localhost:8080/",
          "height": 421
        }
      },
      "source": [
        "plt = plot(1:size(acc_train, 1), acc_train, label = \"Accuracy on Training Set\", lw = 2)"
      ],
      "execution_count": 0,
      "outputs": [
        {
          "output_type": "execute_result",
          "data": {
            "image/svg+xml": "<?xml version=\"1.0\" encoding=\"utf-8\"?>\n<svg xmlns=\"http://www.w3.org/2000/svg\" xmlns:xlink=\"http://www.w3.org/1999/xlink\" width=\"600\" height=\"400\" viewBox=\"0 0 2400 1600\">\n<defs>\n  <clipPath id=\"clip6000\">\n    <rect x=\"0\" y=\"0\" width=\"2400\" height=\"1600\"/>\n  </clipPath>\n</defs>\n<path clip-path=\"url(#clip6000)\" d=\"\nM0 1600 L2400 1600 L2400 0 L0 0  Z\n  \" fill=\"#ffffff\" fill-rule=\"evenodd\" fill-opacity=\"1\"/>\n<defs>\n  <clipPath id=\"clip6001\">\n    <rect x=\"480\" y=\"0\" width=\"1681\" height=\"1600\"/>\n  </clipPath>\n</defs>\n<path clip-path=\"url(#clip6000)\" d=\"\nM140.517 1487.47 L2352.76 1487.47 L2352.76 47.2441 L140.517 47.2441  Z\n  \" fill=\"#ffffff\" fill-rule=\"evenodd\" fill-opacity=\"1\"/>\n<defs>\n  <clipPath id=\"clip6002\">\n    <rect x=\"140\" y=\"47\" width=\"2213\" height=\"1441\"/>\n  </clipPath>\n</defs>\n<polyline clip-path=\"url(#clip6002)\" style=\"stroke:#000000; stroke-width:2; stroke-opacity:0.1; fill:none\" points=\"\n  201.762,1487.47 201.762,47.2441 \n  \"/>\n<polyline clip-path=\"url(#clip6002)\" style=\"stroke:#000000; stroke-width:2; stroke-opacity:0.1; fill:none\" points=\"\n  884.24,1487.47 884.24,47.2441 \n  \"/>\n<polyline clip-path=\"url(#clip6002)\" style=\"stroke:#000000; stroke-width:2; stroke-opacity:0.1; fill:none\" points=\"\n  1566.72,1487.47 1566.72,47.2441 \n  \"/>\n<polyline clip-path=\"url(#clip6002)\" style=\"stroke:#000000; stroke-width:2; stroke-opacity:0.1; fill:none\" points=\"\n  2249.2,1487.47 2249.2,47.2441 \n  \"/>\n<polyline clip-path=\"url(#clip6002)\" style=\"stroke:#000000; stroke-width:2; stroke-opacity:0.1; fill:none\" points=\"\n  140.517,1310.62 2352.76,1310.62 \n  \"/>\n<polyline clip-path=\"url(#clip6002)\" style=\"stroke:#000000; stroke-width:2; stroke-opacity:0.1; fill:none\" points=\"\n  140.517,973.888 2352.76,973.888 \n  \"/>\n<polyline clip-path=\"url(#clip6002)\" style=\"stroke:#000000; stroke-width:2; stroke-opacity:0.1; fill:none\" points=\"\n  140.517,637.157 2352.76,637.157 \n  \"/>\n<polyline clip-path=\"url(#clip6002)\" style=\"stroke:#000000; stroke-width:2; stroke-opacity:0.1; fill:none\" points=\"\n  140.517,300.426 2352.76,300.426 \n  \"/>\n<polyline clip-path=\"url(#clip6000)\" style=\"stroke:#000000; stroke-width:4; stroke-opacity:1; fill:none\" points=\"\n  140.517,1487.47 2352.76,1487.47 \n  \"/>\n<polyline clip-path=\"url(#clip6000)\" style=\"stroke:#000000; stroke-width:4; stroke-opacity:1; fill:none\" points=\"\n  140.517,1487.47 140.517,47.2441 \n  \"/>\n<polyline clip-path=\"url(#clip6000)\" style=\"stroke:#000000; stroke-width:4; stroke-opacity:1; fill:none\" points=\"\n  201.762,1487.47 201.762,1465.87 \n  \"/>\n<polyline clip-path=\"url(#clip6000)\" style=\"stroke:#000000; stroke-width:4; stroke-opacity:1; fill:none\" points=\"\n  884.24,1487.47 884.24,1465.87 \n  \"/>\n<polyline clip-path=\"url(#clip6000)\" style=\"stroke:#000000; stroke-width:4; stroke-opacity:1; fill:none\" points=\"\n  1566.72,1487.47 1566.72,1465.87 \n  \"/>\n<polyline clip-path=\"url(#clip6000)\" style=\"stroke:#000000; stroke-width:4; stroke-opacity:1; fill:none\" points=\"\n  2249.2,1487.47 2249.2,1465.87 \n  \"/>\n<polyline clip-path=\"url(#clip6000)\" style=\"stroke:#000000; stroke-width:4; stroke-opacity:1; fill:none\" points=\"\n  140.517,1310.62 173.7,1310.62 \n  \"/>\n<polyline clip-path=\"url(#clip6000)\" style=\"stroke:#000000; stroke-width:4; stroke-opacity:1; fill:none\" points=\"\n  140.517,973.888 173.7,973.888 \n  \"/>\n<polyline clip-path=\"url(#clip6000)\" style=\"stroke:#000000; stroke-width:4; stroke-opacity:1; fill:none\" points=\"\n  140.517,637.157 173.7,637.157 \n  \"/>\n<polyline clip-path=\"url(#clip6000)\" style=\"stroke:#000000; stroke-width:4; stroke-opacity:1; fill:none\" points=\"\n  140.517,300.426 173.7,300.426 \n  \"/>\n<g clip-path=\"url(#clip6000)\">\n<text style=\"fill:#000000; fill-opacity:1; font-family:Arial,Helvetica Neue,Helvetica,sans-serif; font-size:48px; text-anchor:middle;\" transform=\"rotate(0, 201.762, 1541.47)\" x=\"201.762\" y=\"1541.47\">0</text>\n</g>\n<g clip-path=\"url(#clip6000)\">\n<text style=\"fill:#000000; fill-opacity:1; font-family:Arial,Helvetica Neue,Helvetica,sans-serif; font-size:48px; text-anchor:middle;\" transform=\"rotate(0, 884.24, 1541.47)\" x=\"884.24\" y=\"1541.47\">500</text>\n</g>\n<g clip-path=\"url(#clip6000)\">\n<text style=\"fill:#000000; fill-opacity:1; font-family:Arial,Helvetica Neue,Helvetica,sans-serif; font-size:48px; text-anchor:middle;\" transform=\"rotate(0, 1566.72, 1541.47)\" x=\"1566.72\" y=\"1541.47\">1000</text>\n</g>\n<g clip-path=\"url(#clip6000)\">\n<text style=\"fill:#000000; fill-opacity:1; font-family:Arial,Helvetica Neue,Helvetica,sans-serif; font-size:48px; text-anchor:middle;\" transform=\"rotate(0, 2249.2, 1541.47)\" x=\"2249.2\" y=\"1541.47\">1500</text>\n</g>\n<g clip-path=\"url(#clip6000)\">\n<text style=\"fill:#000000; fill-opacity:1; font-family:Arial,Helvetica Neue,Helvetica,sans-serif; font-size:48px; text-anchor:end;\" transform=\"rotate(0, 116.517, 1328.12)\" x=\"116.517\" y=\"1328.12\">60</text>\n</g>\n<g clip-path=\"url(#clip6000)\">\n<text style=\"fill:#000000; fill-opacity:1; font-family:Arial,Helvetica Neue,Helvetica,sans-serif; font-size:48px; text-anchor:end;\" transform=\"rotate(0, 116.517, 991.388)\" x=\"116.517\" y=\"991.388\">70</text>\n</g>\n<g clip-path=\"url(#clip6000)\">\n<text style=\"fill:#000000; fill-opacity:1; font-family:Arial,Helvetica Neue,Helvetica,sans-serif; font-size:48px; text-anchor:end;\" transform=\"rotate(0, 116.517, 654.657)\" x=\"116.517\" y=\"654.657\">80</text>\n</g>\n<g clip-path=\"url(#clip6000)\">\n<text style=\"fill:#000000; fill-opacity:1; font-family:Arial,Helvetica Neue,Helvetica,sans-serif; font-size:48px; text-anchor:end;\" transform=\"rotate(0, 116.517, 317.926)\" x=\"116.517\" y=\"317.926\">90</text>\n</g>\n<polyline clip-path=\"url(#clip6002)\" style=\"stroke:#009af9; stroke-width:8; stroke-opacity:1; fill:none\" points=\"\n  203.127,1446.71 204.492,1095.11 205.857,907.103 207.222,758.099 208.587,692.998 209.952,654.555 211.317,632.106 212.682,620.882 214.047,609.938 215.412,599.836 \n  216.777,598.152 218.142,591.979 219.507,587.489 220.872,581.877 222.237,580.755 223.602,574.02 224.967,568.688 226.332,562.515 227.697,555.5 229.062,551.852 \n  230.426,542.03 231.791,533.612 233.156,527.439 234.521,520.424 235.886,512.567 237.251,502.465 238.616,495.169 239.981,487.873 241.346,476.368 242.711,467.95 \n  244.076,456.445 245.441,446.623 246.806,438.205 248.171,428.945 249.536,415.476 250.901,403.69 252.266,395.553 253.631,386.854 254.996,380.119 256.361,370.017 \n  257.726,362.721 259.091,354.864 260.456,346.727 261.82,341.115 263.185,330.732 264.55,322.033 265.915,315.579 267.28,309.686 268.645,303.232 270.01,295.375 \n  271.375,289.763 272.74,283.87 274.105,277.697 275.47,271.804 276.835,266.473 278.2,261.702 279.565,257.212 280.93,253.845 282.295,249.636 283.66,247.952 \n  285.025,244.024 286.39,241.218 287.755,238.131 289.12,234.483 290.485,229.152 291.849,224.662 293.214,220.453 294.579,219.33 295.944,215.963 297.309,213.157 \n  298.674,211.193 300.039,209.228 301.404,206.983 302.769,204.739 304.134,203.055 305.499,201.091 306.864,198.565 308.229,196.882 309.594,196.32 310.959,194.356 \n  312.324,192.672 313.689,190.708 315.054,187.902 316.419,186.78 317.784,185.096 319.149,183.693 320.514,181.167 321.879,179.764 323.243,177.52 324.608,176.117 \n  325.973,174.152 327.338,173.31 328.703,172.469 330.068,172.188 331.433,171.346 332.798,170.224 334.163,169.943 335.528,169.382 336.893,168.54 338.258,167.137 \n  339.623,167.137 340.988,166.015 342.353,164.331 343.718,164.05 345.083,163.209 346.448,162.928 347.813,163.209 349.178,162.647 350.543,162.367 351.908,162.086 \n  353.273,161.525 354.637,160.402 356.002,158.719 357.367,158.158 358.732,157.877 360.097,157.035 361.462,156.755 362.827,156.193 364.192,155.913 365.557,155.351 \n  366.922,153.948 368.287,153.948 369.652,154.229 371.017,153.668 372.382,152.545 373.747,152.265 375.112,152.545 376.477,152.265 377.842,151.984 379.207,151.704 \n  380.572,150.862 381.937,150.02 383.302,149.459 384.667,149.178 386.031,148.617 387.396,147.775 388.761,147.494 390.126,146.933 391.491,146.372 392.856,145.811 \n  394.221,145.53 395.586,145.811 396.951,144.969 398.316,144.408 399.681,144.688 401.046,144.127 402.411,143.847 403.776,143.285 405.141,143.005 406.506,143.005 \n  407.871,142.443 409.236,142.163 410.601,141.882 411.966,141.602 413.331,141.04 414.696,140.76 416.061,140.479 417.425,140.479 418.79,139.918 420.155,139.918 \n  421.52,139.076 422.885,138.796 424.25,138.796 425.615,138.796 426.98,138.515 428.345,138.234 429.71,137.954 431.075,137.673 432.44,137.673 433.805,137.392 \n  435.17,137.673 436.535,137.392 437.9,136.551 439.265,136.831 440.63,136.551 441.995,136.551 443.36,136.27 444.725,135.989 446.09,135.989 447.455,135.709 \n  448.819,135.709 450.184,135.148 451.549,134.867 452.914,134.867 454.279,134.867 455.644,134.867 457.009,134.586 458.374,134.586 459.739,134.306 461.104,134.025 \n  462.469,133.745 463.834,133.464 465.199,133.464 466.564,132.903 467.929,132.622 469.294,132.622 470.659,132.061 472.024,132.342 473.389,132.622 474.754,132.622 \n  476.119,132.342 477.484,131.78 478.848,131.78 480.213,131.78 481.578,131.5 482.943,131.219 484.308,130.938 485.673,130.658 487.038,130.377 488.403,130.377 \n  489.768,130.097 491.133,130.377 492.498,130.097 493.863,129.816 495.228,129.535 496.593,128.974 497.958,128.974 499.323,128.974 500.688,128.974 502.053,128.974 \n  503.418,128.413 504.783,128.413 506.148,128.132 507.513,127.571 508.878,127.571 510.242,127.571 511.607,127.291 512.972,127.01 514.337,127.291 515.702,127.291 \n  517.067,127.291 518.432,126.729 519.797,126.729 521.162,126.449 522.527,126.449 523.892,126.449 525.257,125.888 526.622,125.326 527.987,125.326 529.352,125.326 \n  530.717,124.765 532.082,124.765 533.447,124.484 534.812,124.484 536.177,124.484 537.542,124.204 538.907,124.204 540.272,124.204 541.636,124.204 543.001,124.484 \n  544.366,124.765 545.731,124.765 547.096,124.484 548.461,124.484 549.826,124.204 551.191,124.204 552.556,123.643 553.921,123.923 555.286,123.923 556.651,123.923 \n  558.016,123.923 559.381,123.923 560.746,123.923 562.111,123.923 563.476,123.643 564.841,123.643 566.206,123.643 567.571,123.643 568.936,123.643 570.301,123.643 \n  571.666,123.643 573.03,123.643 574.395,123.643 575.76,123.362 577.125,123.643 578.49,123.643 579.855,123.643 581.22,123.362 582.585,123.362 583.95,123.362 \n  585.315,122.801 586.68,122.801 588.045,122.52 589.41,122.24 590.775,122.24 592.14,121.959 593.505,121.959 594.87,121.678 596.235,121.117 597.6,121.117 \n  598.965,121.117 600.33,120.837 601.695,120.837 603.06,120.837 604.424,120.837 605.789,120.837 607.154,120.837 608.519,120.556 609.884,120.556 611.249,120.556 \n  612.614,120.275 613.979,119.995 615.344,119.714 616.709,119.714 618.074,119.714 619.439,119.714 620.804,119.714 622.169,119.714 623.534,119.434 624.899,119.434 \n  626.264,119.153 627.629,119.153 628.994,118.872 630.359,118.872 631.724,118.592 633.089,118.592 634.454,118.592 635.818,118.592 637.183,118.592 638.548,118.592 \n  639.913,118.592 641.278,118.592 642.643,118.03 644.008,118.03 645.373,117.75 646.738,117.469 648.103,117.469 649.468,117.469 650.833,117.469 652.198,117.469 \n  653.563,117.469 654.928,117.75 656.293,117.75 657.658,118.03 659.023,118.03 660.388,118.03 661.753,118.03 663.118,118.03 664.483,117.75 665.847,117.469 \n  667.212,117.469 668.577,117.189 669.942,117.189 671.307,117.189 672.672,117.189 674.037,117.469 675.402,117.469 676.767,117.469 678.132,117.469 679.497,117.469 \n  680.862,117.469 682.227,117.75 683.592,117.75 684.957,117.75 686.322,117.189 687.687,117.189 689.052,117.189 690.417,116.908 691.782,116.908 693.147,116.908 \n  694.512,116.908 695.877,116.627 697.241,116.627 698.606,116.908 699.971,116.908 701.336,116.627 702.701,116.347 704.066,116.347 705.431,116.347 706.796,116.347 \n  708.161,116.347 709.526,116.347 710.891,116.347 712.256,116.347 713.621,116.347 714.986,116.347 716.351,115.786 717.716,114.944 719.081,115.224 720.446,114.944 \n  721.811,114.944 723.176,114.944 724.541,114.663 725.906,114.663 727.271,114.663 728.635,114.663 730,114.663 731.365,114.383 732.73,114.383 734.095,114.102 \n  735.46,114.102 736.825,114.102 738.19,114.102 739.555,114.102 740.92,114.102 742.285,114.102 743.65,113.821 745.015,113.821 746.38,114.383 747.745,114.383 \n  749.11,114.383 750.475,114.102 751.84,113.821 753.205,113.821 754.57,113.541 755.935,113.541 757.3,113.26 758.665,113.26 760.029,113.26 761.394,113.26 \n  762.759,113.26 764.124,113.26 765.489,112.98 766.854,112.98 768.219,112.98 769.584,112.98 770.949,112.98 772.314,112.98 773.679,112.418 775.044,112.418 \n  776.409,112.418 777.774,112.418 779.139,112.138 780.504,111.857 781.869,111.857 783.234,111.857 784.599,111.857 785.964,111.015 787.329,111.015 788.694,111.015 \n  790.059,111.015 791.423,110.735 792.788,110.735 794.153,110.735 795.518,110.735 796.883,111.015 798.248,111.015 799.613,111.015 800.978,111.015 802.343,111.015 \n  803.708,111.015 805.073,111.015 806.438,110.735 807.803,110.735 809.168,110.454 810.533,110.454 811.898,110.454 813.263,110.454 814.628,110.173 815.993,110.173 \n  817.358,110.173 818.723,110.173 820.088,110.173 821.453,110.173 822.817,110.173 824.182,110.173 825.547,109.893 826.912,109.893 828.277,109.612 829.642,109.332 \n  831.007,109.051 832.372,109.051 833.737,109.051 835.102,109.051 836.467,109.051 837.832,109.051 839.197,109.051 840.562,109.051 841.927,109.051 843.292,109.051 \n  844.657,109.051 846.022,109.051 847.387,109.051 848.752,108.77 850.117,108.77 851.482,108.77 852.846,108.49 854.211,108.49 855.576,108.49 856.941,108.49 \n  858.306,108.49 859.671,107.929 861.036,108.209 862.401,108.209 863.766,107.929 865.131,107.648 866.496,107.648 867.861,107.648 869.226,107.929 870.591,107.929 \n  871.956,107.929 873.321,107.929 874.686,107.929 876.051,107.648 877.416,107.648 878.781,107.367 880.146,107.367 881.511,107.367 882.876,107.367 884.24,107.367 \n  885.605,107.367 886.97,107.367 888.335,107.367 889.7,107.367 891.065,107.087 892.43,107.087 893.795,106.806 895.16,106.806 896.525,106.806 897.89,106.526 \n  899.255,106.526 900.62,106.526 901.985,106.245 903.35,106.245 904.715,106.245 906.08,106.526 907.445,106.526 908.81,106.245 910.175,106.245 911.54,106.245 \n  912.905,106.245 914.27,106.245 915.634,106.245 916.999,106.245 918.364,106.245 919.729,106.245 921.094,106.245 922.459,105.964 923.824,105.964 925.189,105.964 \n  926.554,105.684 927.919,105.684 929.284,105.684 930.649,105.684 932.014,105.684 933.379,105.684 934.744,105.403 936.109,105.403 937.474,105.403 938.839,105.122 \n  940.204,105.122 941.569,104.842 942.934,104.842 944.299,104.842 945.664,104.842 947.028,104.842 948.393,104.842 949.758,104.842 951.123,105.122 952.488,105.122 \n  953.853,105.122 955.218,104.842 956.583,104.561 957.948,104.561 959.313,104.561 960.678,104.561 962.043,104.561 963.408,104.561 964.773,104.561 966.138,104.561 \n  967.503,104.561 968.868,104.561 970.233,104.561 971.598,104.561 972.963,104 974.328,104 975.693,104 977.058,104 978.422,104 979.787,103.719 \n  981.152,103.719 982.517,103.719 983.882,103.719 985.247,103.719 986.612,103.719 987.977,103.719 989.342,103.719 990.707,103.719 992.072,103.719 993.437,103.719 \n  994.802,103.719 996.167,103.719 997.532,103.719 998.897,103.719 1000.26,104 1001.63,104 1002.99,104.281 1004.36,104.281 1005.72,104.281 1007.09,104.281 \n  1008.45,104.281 1009.82,104.281 1011.18,104.281 1012.55,104 1013.91,104 1015.28,104 1016.64,104 1018.01,104 1019.37,104 1020.74,104 \n  1022.1,104 1023.47,104 1024.83,104 1026.2,103.719 1027.56,103.719 1028.93,103.719 1030.29,103.719 1031.66,103.719 1033.02,103.719 1034.39,103.439 \n  1035.75,103.439 1037.12,103.439 1038.48,103.439 1039.85,103.439 1041.21,103.439 1042.58,103.439 1043.94,103.158 1045.31,103.158 1046.67,103.158 1048.04,103.158 \n  1049.4,103.158 1050.77,102.878 1052.13,102.878 1053.5,102.597 1054.86,102.597 1056.22,102.597 1057.59,102.597 1058.95,102.597 1060.32,102.597 1061.68,102.597 \n  1063.05,102.597 1064.41,102.597 1065.78,102.597 1067.14,102.597 1068.51,102.316 1069.87,102.316 1071.24,102.316 1072.6,102.036 1073.97,102.036 1075.33,102.036 \n  1076.7,102.036 1078.06,102.036 1079.43,102.036 1080.79,102.316 1082.16,102.316 1083.52,102.316 1084.89,102.316 1086.25,102.316 1087.62,102.316 1088.98,102.316 \n  1090.35,102.316 1091.71,102.316 1093.08,102.316 1094.44,102.316 1095.81,102.316 1097.17,102.316 1098.54,102.316 1099.9,102.316 1101.27,102.036 1102.63,102.036 \n  1104,102.036 1105.36,102.036 1106.73,102.036 1108.09,102.036 1109.46,102.036 1110.82,102.036 1112.19,102.036 1113.55,102.036 1114.92,102.036 1116.28,101.755 \n  1117.65,101.755 1119.01,101.755 1120.38,101.755 1121.74,101.755 1123.11,101.755 1124.47,101.475 1125.84,101.475 1127.2,101.475 1128.57,101.475 1129.93,101.475 \n  1131.3,101.475 1132.66,101.475 1134.03,101.475 1135.39,101.475 1136.76,101.475 1138.12,101.475 1139.49,101.475 1140.85,101.475 1142.22,101.475 1143.58,101.475 \n  1144.95,101.475 1146.31,101.475 1147.68,101.475 1149.04,101.475 1150.41,101.475 1151.77,101.475 1153.14,101.475 1154.5,101.475 1155.87,101.475 1157.23,101.475 \n  1158.6,101.475 1159.96,101.475 1161.33,101.475 1162.69,101.475 1164.06,101.475 1165.42,101.194 1166.79,101.194 1168.15,101.194 1169.52,101.194 1170.88,101.194 \n  1172.25,101.194 1173.61,101.194 1174.98,100.913 1176.34,100.913 1177.71,100.913 1179.07,100.913 1180.44,100.913 1181.8,100.913 1183.17,100.913 1184.53,100.913 \n  1185.9,100.913 1187.26,100.913 1188.63,100.913 1189.99,100.913 1191.36,100.913 1192.72,100.913 1194.09,100.913 1195.45,100.913 1196.82,100.913 1198.18,100.913 \n  1199.55,100.913 1200.91,100.913 1202.28,101.194 1203.64,101.194 1205.01,101.194 1206.37,101.194 1207.74,101.194 1209.1,101.194 1210.47,101.194 1211.83,101.194 \n  1213.19,101.194 1214.56,100.913 1215.92,100.913 1217.29,100.913 1218.65,100.913 1220.02,100.913 1221.38,100.913 1222.75,100.913 1224.11,100.913 1225.48,100.913 \n  1226.84,100.913 1228.21,100.633 1229.57,100.633 1230.94,100.633 1232.3,100.633 1233.67,100.633 1235.03,100.633 1236.4,100.633 1237.76,100.352 1239.13,100.352 \n  1240.49,100.072 1241.86,100.072 1243.22,100.072 1244.59,100.072 1245.95,100.072 1247.32,100.072 1248.68,100.072 1250.05,100.072 1251.41,100.072 1252.78,100.072 \n  1254.14,99.7909 1255.51,99.7909 1256.87,99.7909 1258.24,99.7909 1259.6,99.7909 1260.97,99.7909 1262.33,99.7909 1263.7,99.7909 1265.06,99.7909 1266.43,99.7909 \n  1267.79,99.7909 1269.16,99.7909 1270.52,99.7909 1271.89,99.7909 1273.25,99.7909 1274.62,99.7909 1275.98,99.7909 1277.35,99.7909 1278.71,99.7909 1280.08,99.7909 \n  1281.44,99.7909 1282.81,100.072 1284.17,100.072 1285.54,100.072 1286.9,100.072 1288.27,100.072 1289.63,100.072 1291,100.072 1292.36,100.072 1293.73,100.072 \n  1295.09,100.072 1296.46,100.072 1297.82,100.072 1299.19,100.072 1300.55,100.072 1301.92,99.7909 1303.28,99.7909 1304.65,99.7909 1306.01,99.7909 1307.38,99.7909 \n  1308.74,99.7909 1310.11,99.7909 1311.47,99.5103 1312.84,99.5103 1314.2,99.5103 1315.57,99.5103 1316.93,99.5103 1318.3,99.5103 1319.66,99.5103 1321.03,99.5103 \n  1322.39,99.5103 1323.76,99.5103 1325.12,99.5103 1326.49,99.5103 1327.85,99.5103 1329.22,99.5103 1330.58,99.5103 1331.95,99.5103 1333.31,99.5103 1334.68,99.5103 \n  1336.04,99.2297 1337.41,99.2297 1338.77,99.2297 1340.14,98.9491 1341.5,98.9491 1342.87,98.9491 1344.23,98.9491 1345.6,98.9491 1346.96,98.9491 1348.33,98.9491 \n  1349.69,98.9491 1351.06,98.9491 1352.42,98.9491 1353.79,98.9491 1355.15,98.6685 1356.52,98.6685 1357.88,98.6685 1359.25,98.6685 1360.61,98.6685 1361.98,98.6685 \n  1363.34,98.3879 1364.71,98.3879 1366.07,98.1073 1367.43,98.1073 1368.8,98.1073 1370.16,98.1073 1371.53,98.1073 1372.89,98.1073 1374.26,98.1073 1375.62,98.1073 \n  1376.99,98.1073 1378.35,98.1073 1379.72,97.8266 1381.08,97.8266 1382.45,97.8266 1383.81,97.8266 1385.18,97.8266 1386.54,97.8266 1387.91,97.8266 1389.27,97.8266 \n  1390.64,97.8266 1392,97.8266 1393.37,97.8266 1394.73,97.8266 1396.1,97.8266 1397.46,97.8266 1398.83,97.8266 1400.19,97.8266 1401.56,97.8266 1402.92,97.8266 \n  1404.29,97.8266 1405.65,97.546 1407.02,97.546 1408.38,97.546 1409.75,97.546 1411.11,97.546 1412.48,97.546 1413.84,97.546 1415.21,97.546 1416.57,97.546 \n  1417.94,97.546 1419.3,97.8266 1420.67,97.8266 1422.03,97.8266 1423.4,97.8266 1424.76,97.8266 1426.13,97.8266 1427.49,97.8266 1428.86,97.8266 1430.22,97.8266 \n  1431.59,97.8266 1432.95,97.8266 1434.32,97.8266 1435.68,97.8266 1437.05,97.8266 1438.41,97.8266 1439.78,97.8266 1441.14,97.546 1442.51,97.546 1443.87,97.546 \n  1445.24,97.546 1446.6,97.546 1447.97,97.546 1449.33,97.546 1450.7,97.2654 1452.06,97.2654 1453.43,97.2654 1454.79,97.2654 1456.16,97.2654 1457.52,97.2654 \n  1458.89,97.2654 1460.25,97.2654 1461.62,97.2654 1462.98,97.2654 1464.35,97.2654 1465.71,96.9848 1467.08,96.9848 1468.44,96.7042 1469.81,96.7042 1471.17,96.7042 \n  1472.54,96.7042 1473.9,96.7042 1475.27,96.4236 1476.63,96.4236 1478,96.4236 1479.36,96.4236 1480.73,96.4236 1482.09,96.4236 1483.46,96.7042 1484.82,96.4236 \n  1486.19,96.4236 1487.55,96.4236 1488.92,96.4236 1490.28,96.4236 1491.65,96.4236 1493.01,96.4236 1494.38,96.4236 1495.74,96.4236 1497.11,96.4236 1498.47,96.4236 \n  1499.84,96.4236 1501.2,96.4236 1502.57,96.4236 1503.93,96.7042 1505.3,96.7042 1506.66,96.4236 1508.03,96.4236 1509.39,96.4236 1510.76,96.4236 1512.12,96.4236 \n  1513.49,96.143 1514.85,96.143 1516.22,96.143 1517.58,96.143 1518.95,96.143 1520.31,96.4236 1521.68,96.4236 1523.04,96.4236 1524.4,96.7042 1525.77,96.7042 \n  1527.13,96.7042 1528.5,96.7042 1529.86,96.7042 1531.23,96.7042 1532.59,96.7042 1533.96,96.7042 1535.32,96.7042 1536.69,96.7042 1538.05,96.7042 1539.42,96.7042 \n  1540.78,96.7042 1542.15,96.7042 1543.51,96.7042 1544.88,96.7042 1546.24,96.7042 1547.61,96.7042 1548.97,96.7042 1550.34,96.7042 1551.7,96.7042 1553.07,96.7042 \n  1554.43,96.7042 1555.8,96.4236 1557.16,96.4236 1558.53,96.4236 1559.89,96.4236 1561.26,96.4236 1562.62,96.4236 1563.99,96.4236 1565.35,96.143 1566.72,96.143 \n  1568.08,96.143 1569.45,96.143 1570.81,96.143 1572.18,96.143 1573.54,96.143 1574.91,96.143 1576.27,96.143 1577.64,96.143 1579,96.143 1580.37,96.143 \n  1581.73,96.143 1583.1,96.143 1584.46,96.143 1585.83,96.143 1587.19,96.143 1588.56,96.143 1589.92,96.143 1591.29,95.8624 1592.65,95.8624 1594.02,95.8624 \n  1595.38,95.8624 1596.75,95.8624 1598.11,95.8624 1599.48,95.8624 1600.84,95.8624 1602.21,95.8624 1603.57,95.8624 1604.94,95.8624 1606.3,95.8624 1607.67,95.8624 \n  1609.03,95.8624 1610.4,95.8624 1611.76,95.8624 1613.13,95.8624 1614.49,95.8624 1615.86,95.8624 1617.22,95.8624 1618.59,95.8624 1619.95,95.8624 1621.32,95.8624 \n  1622.68,95.8624 1624.05,95.5818 1625.41,95.3012 1626.78,95.3012 1628.14,95.3012 1629.51,95.3012 1630.87,95.3012 1632.24,95.3012 1633.6,95.3012 1634.97,95.3012 \n  1636.33,95.3012 1637.7,95.3012 1639.06,95.3012 1640.43,95.3012 1641.79,95.3012 1643.16,95.3012 1644.52,95.3012 1645.89,95.3012 1647.25,95.3012 1648.62,95.3012 \n  1649.98,95.3012 1651.35,95.3012 1652.71,95.3012 1654.08,95.3012 1655.44,95.3012 1656.81,95.3012 1658.17,95.3012 1659.54,95.3012 1660.9,95.3012 1662.27,95.3012 \n  1663.63,95.3012 1665,95.3012 1666.36,95.3012 1667.73,95.3012 1669.09,95.3012 1670.46,95.3012 1671.82,95.3012 1673.19,95.0206 1674.55,94.74 1675.92,94.74 \n  1677.28,94.74 1678.64,94.74 1680.01,94.74 1681.37,94.74 1682.74,94.74 1684.1,94.74 1685.47,94.74 1686.83,94.74 1688.2,94.74 1689.56,94.74 \n  1690.93,94.74 1692.29,94.74 1693.66,94.74 1695.02,94.74 1696.39,94.74 1697.75,94.4593 1699.12,94.4593 1700.48,94.4593 1701.85,94.4593 1703.21,94.4593 \n  1704.58,94.4593 1705.94,94.4593 1707.31,94.4593 1708.67,94.4593 1710.04,94.4593 1711.4,94.4593 1712.77,94.4593 1714.13,94.4593 1715.5,94.4593 1716.86,94.4593 \n  1718.23,94.4593 1719.59,94.4593 1720.96,94.4593 1722.32,94.4593 1723.69,94.4593 1725.05,94.4593 1726.42,94.4593 1727.78,94.4593 1729.15,94.4593 1730.51,94.4593 \n  1731.88,94.4593 1733.24,94.1787 1734.61,93.8981 1735.97,93.8981 1737.34,93.8981 1738.7,93.8981 1740.07,93.8981 1741.43,94.1787 1742.8,94.4593 1744.16,94.4593 \n  1745.53,94.4593 1746.89,94.1787 1748.26,94.1787 1749.62,93.8981 1750.99,93.8981 1752.35,93.8981 1753.72,93.8981 1755.08,93.8981 1756.45,93.8981 1757.81,93.8981 \n  1759.18,93.6175 1760.54,93.6175 1761.91,93.6175 1763.27,93.3369 1764.64,93.3369 1766,93.3369 1767.37,93.3369 1768.73,93.3369 1770.1,93.3369 1771.46,93.0563 \n  1772.83,93.0563 1774.19,93.0563 1775.56,93.0563 1776.92,93.0563 1778.29,93.0563 1779.65,93.0563 1781.02,93.0563 1782.38,93.0563 1783.75,93.0563 1785.11,93.0563 \n  1786.48,93.0563 1787.84,93.0563 1789.21,93.0563 1790.57,93.0563 1791.94,93.0563 1793.3,93.0563 1794.67,93.0563 1796.03,93.0563 1797.4,93.0563 1798.76,93.0563 \n  1800.13,93.0563 1801.49,93.0563 1802.86,93.0563 1804.22,93.0563 1805.59,93.0563 1806.95,93.0563 1808.32,93.0563 1809.68,93.0563 1811.05,93.0563 1812.41,93.0563 \n  1813.78,93.0563 1815.14,93.0563 1816.51,93.0563 1817.87,93.0563 1819.24,93.0563 1820.6,93.0563 1821.97,93.0563 1823.33,93.0563 1824.7,93.0563 1826.06,93.3369 \n  1827.43,93.3369 1828.79,93.0563 1830.16,93.0563 1831.52,93.0563 1832.89,93.0563 1834.25,93.0563 1835.61,93.0563 1836.98,93.0563 1838.34,93.0563 1839.71,93.0563 \n  1841.07,93.0563 1842.44,93.0563 1843.8,93.0563 1845.17,93.0563 1846.53,93.0563 1847.9,93.0563 1849.26,93.0563 1850.63,93.0563 1851.99,93.0563 1853.36,93.0563 \n  1854.72,93.0563 1856.09,93.0563 1857.45,93.0563 1858.82,93.3369 1860.18,93.3369 1861.55,93.3369 1862.91,93.3369 1864.28,93.3369 1865.64,93.3369 1867.01,93.3369 \n  1868.37,93.3369 1869.74,93.3369 1871.1,93.3369 1872.47,93.3369 1873.83,93.3369 1875.2,93.3369 1876.56,93.3369 1877.93,93.3369 1879.29,93.3369 1880.66,93.3369 \n  1882.02,93.0563 1883.39,93.0563 1884.75,93.0563 1886.12,93.0563 1887.48,93.0563 1888.85,93.0563 1890.21,93.0563 1891.58,93.0563 1892.94,93.0563 1894.31,93.0563 \n  1895.67,93.0563 1897.04,93.0563 1898.4,93.0563 1899.77,93.0563 1901.13,93.0563 1902.5,92.7757 1903.86,92.7757 1905.23,92.7757 1906.59,92.7757 1907.96,92.7757 \n  1909.32,92.7757 1910.69,92.7757 1912.05,93.0563 1913.42,93.0563 1914.78,93.0563 1916.15,93.0563 1917.51,93.0563 1918.88,93.0563 1920.24,93.0563 1921.61,93.0563 \n  1922.97,93.0563 1924.34,92.7757 1925.7,92.7757 1927.07,92.7757 1928.43,92.7757 1929.8,92.7757 1931.16,92.7757 1932.53,92.7757 1933.89,92.7757 1935.26,92.7757 \n  1936.62,92.7757 1937.99,92.7757 1939.35,92.7757 1940.72,92.7757 1942.08,92.7757 1943.45,92.7757 1944.81,92.7757 1946.18,92.7757 1947.54,92.7757 1948.91,92.7757 \n  1950.27,92.7757 1951.64,92.7757 1953,92.7757 1954.37,92.7757 1955.73,92.7757 1957.1,92.7757 1958.46,92.7757 1959.83,92.7757 1961.19,92.7757 1962.56,92.7757 \n  1963.92,92.7757 1965.29,92.7757 1966.65,92.7757 1968.02,92.7757 1969.38,92.7757 1970.75,92.7757 1972.11,92.7757 1973.48,92.7757 1974.84,92.7757 1976.21,92.7757 \n  1977.57,92.7757 1978.94,92.7757 1980.3,92.4951 1981.67,92.4951 1983.03,92.4951 1984.4,92.4951 1985.76,92.4951 1987.13,92.4951 1988.49,92.4951 1989.86,92.4951 \n  1991.22,92.4951 1992.58,92.4951 1993.95,92.4951 1995.31,92.4951 1996.68,92.4951 1998.04,92.2145 1999.41,92.2145 2000.77,92.2145 2002.14,92.2145 2003.5,92.2145 \n  2004.87,92.2145 2006.23,92.2145 2007.6,92.2145 2008.96,92.2145 2010.33,92.2145 2011.69,92.2145 2013.06,92.2145 2014.42,92.2145 2015.79,92.2145 2017.15,92.2145 \n  2018.52,92.2145 2019.88,92.2145 2021.25,91.9339 2022.61,91.9339 2023.98,91.9339 2025.34,91.9339 2026.71,91.9339 2028.07,91.6533 2029.44,91.6533 2030.8,91.6533 \n  2032.17,91.6533 2033.53,91.6533 2034.9,91.6533 2036.26,91.6533 2037.63,91.3726 2038.99,91.3726 2040.36,91.3726 2041.72,91.3726 2043.09,91.092 2044.45,91.092 \n  2045.82,91.092 2047.18,91.092 2048.55,90.8114 2049.91,90.8114 2051.28,90.8114 2052.64,90.8114 2054.01,90.8114 2055.37,90.8114 2056.74,90.8114 2058.1,90.8114 \n  2059.47,90.8114 2060.83,90.8114 2062.2,90.8114 2063.56,90.8114 2064.93,90.8114 2066.29,90.8114 2067.66,90.8114 2069.02,90.8114 2070.39,90.8114 2071.75,90.5308 \n  2073.12,90.5308 2074.48,90.5308 2075.85,90.5308 2077.21,90.8114 2078.58,90.8114 2079.94,90.8114 2081.31,90.8114 2082.67,90.8114 2084.04,90.8114 2085.4,90.8114 \n  2086.77,90.5308 2088.13,90.5308 2089.5,90.5308 2090.86,90.5308 2092.23,90.5308 2093.59,90.5308 2094.96,90.5308 2096.32,90.5308 2097.69,90.5308 2099.05,90.5308 \n  2100.42,90.5308 2101.78,90.5308 2103.15,90.5308 2104.51,90.5308 2105.88,90.5308 2107.24,90.5308 2108.61,90.5308 2109.97,90.5308 2111.34,90.5308 2112.7,90.5308 \n  2114.07,90.5308 2115.43,90.5308 2116.8,90.5308 2118.16,90.5308 2119.53,90.5308 2120.89,90.5308 2122.26,90.5308 2123.62,90.5308 2124.99,90.5308 2126.35,90.5308 \n  2127.72,90.5308 2129.08,90.5308 2130.45,90.5308 2131.81,90.5308 2133.18,90.5308 2134.54,90.5308 2135.91,90.5308 2137.27,90.5308 2138.64,90.5308 2140,90.5308 \n  2141.37,90.5308 2142.73,90.5308 2144.1,90.5308 2145.46,90.5308 2146.82,90.2502 2148.19,90.2502 2149.55,90.2502 2150.92,90.2502 2152.28,90.2502 2153.65,90.2502 \n  2155.01,90.2502 2156.38,90.2502 2157.74,90.2502 2159.11,90.2502 2160.47,90.2502 2161.84,90.2502 2163.2,90.2502 2164.57,90.2502 2165.93,90.2502 2167.3,90.2502 \n  2168.66,90.2502 2170.03,90.2502 2171.39,90.2502 2172.76,90.2502 2174.12,90.2502 2175.49,90.2502 2176.85,90.2502 2178.22,90.2502 2179.58,90.2502 2180.95,90.2502 \n  2182.31,90.2502 2183.68,90.2502 2185.04,90.2502 2186.41,90.2502 2187.77,90.2502 2189.14,90.2502 2190.5,90.2502 2191.87,90.2502 2193.23,90.2502 2194.6,90.2502 \n  2195.96,90.2502 2197.33,90.2502 2198.69,90.2502 2200.06,90.2502 2201.42,90.2502 2202.79,90.2502 2204.15,90.2502 2205.52,90.2502 2206.88,90.2502 2208.25,90.2502 \n  2209.61,90.2502 2210.98,90.2502 2212.34,90.2502 2213.71,90.2502 2215.07,90.2502 2216.44,90.2502 2217.8,90.2502 2219.17,90.2502 2220.53,89.9696 2221.9,89.689 \n  2223.26,89.689 2224.63,89.689 2225.99,89.689 2227.36,89.689 2228.72,89.689 2230.09,89.689 2231.45,89.689 2232.82,89.689 2234.18,89.689 2235.55,89.689 \n  2236.91,89.689 2238.28,89.689 2239.64,89.689 2241.01,89.689 2242.37,89.689 2243.74,89.689 2245.1,89.689 2246.47,89.689 2247.83,89.689 2249.2,89.689 \n  2250.56,89.689 2251.93,89.689 2253.29,89.689 2254.66,89.689 2256.02,89.689 2257.39,89.689 2258.75,89.689 2260.12,89.689 2261.48,89.4084 2262.85,89.4084 \n  2264.21,89.4084 2265.58,89.4084 2266.94,89.4084 2268.31,89.1278 2269.67,89.1278 2271.04,88.8472 2272.4,88.8472 2273.77,88.8472 2275.13,88.5666 2276.5,88.2859 \n  2277.86,88.2859 2279.23,88.2859 2280.59,88.2859 2281.96,88.2859 2283.32,88.2859 2284.69,88.2859 2286.05,88.2859 2287.42,88.0053 2288.78,88.0053 2290.15,88.0053 \n  \n  \"/>\n<path clip-path=\"url(#clip6000)\" d=\"\nM1503.05 251.724 L2280.76 251.724 L2280.76 130.764 L1503.05 130.764  Z\n  \" fill=\"#ffffff\" fill-rule=\"evenodd\" fill-opacity=\"1\"/>\n<polyline clip-path=\"url(#clip6000)\" style=\"stroke:#000000; stroke-width:4; stroke-opacity:1; fill:none\" points=\"\n  1503.05,251.724 2280.76,251.724 2280.76,130.764 1503.05,130.764 1503.05,251.724 \n  \"/>\n<polyline clip-path=\"url(#clip6000)\" style=\"stroke:#009af9; stroke-width:8; stroke-opacity:1; fill:none\" points=\"\n  1527.05,191.244 1671.05,191.244 \n  \"/>\n<g clip-path=\"url(#clip6000)\">\n<text style=\"fill:#000000; fill-opacity:1; font-family:Arial,Helvetica Neue,Helvetica,sans-serif; font-size:48px; text-anchor:start;\" transform=\"rotate(0, 1695.05, 208.744)\" x=\"1695.05\" y=\"208.744\">Accuracy on Training Set</text>\n</g>\n</svg>\n"
          },
          "metadata": {
            "tags": []
          },
          "execution_count": 58
        }
      ]
    },
    {
      "cell_type": "markdown",
      "metadata": {
        "id": "_fS_DgrItl5D",
        "colab_type": "text"
      },
      "source": [
        "**Exercise 7**"
      ]
    },
    {
      "cell_type": "code",
      "metadata": {
        "id": "gc0XKW84tObv",
        "colab_type": "code",
        "outputId": "bfa8e019-3c9d-4773-cf22-960bebc30274",
        "colab": {
          "base_uri": "https://localhost:8080/",
          "height": 51
        }
      },
      "source": [
        "#Final accuracy on training set\n",
        "@show accuracy(trainys, model_m, trainxs_rs)\n",
        "@show loss(trainys, model_m, trainxs_rs);"
      ],
      "execution_count": 0,
      "outputs": [
        {
          "output_type": "stream",
          "text": [
            "accuracy(trainys, model_m, trainxs_rs) = 96.30833333333332\n",
            "loss(trainys, model_m, trainxs_rs) = 0.017911368154112373\n"
          ],
          "name": "stdout"
        }
      ]
    },
    {
      "cell_type": "code",
      "metadata": {
        "id": "eAdHkRFDU7fT",
        "colab_type": "code",
        "outputId": "cc736444-7455-437f-de23-6b00a7c3dbce",
        "colab": {
          "base_uri": "https://localhost:8080/",
          "height": 51
        }
      },
      "source": [
        "#Final accuracy on validation set\n",
        "@show accuracy(devys, model_m, devxs_rs)\n",
        "@show loss(devys, model_m, devxs_rs);"
      ],
      "execution_count": 0,
      "outputs": [
        {
          "output_type": "stream",
          "text": [
            "accuracy(devys, model_m, devxs_rs) = 96.89999999999999\n",
            "loss(devys, model_m, devxs_rs) = 0.01594248170671675\n"
          ],
          "name": "stdout"
        }
      ]
    },
    {
      "cell_type": "markdown",
      "metadata": {
        "id": "8nLc08TuXj81",
        "colab_type": "text"
      },
      "source": [
        "## Assignment 1.3: Three-Layer multi-layer perceptron ##"
      ]
    },
    {
      "cell_type": "markdown",
      "metadata": {
        "id": "I1oY51yuWFwd",
        "colab_type": "text"
      },
      "source": [
        "### 1. Assuming the log-likelihood loss, device the analytical gradients for the model parameters."
      ]
    },
    {
      "cell_type": "markdown",
      "metadata": {
        "id": "ZoQRJTpNQBAA",
        "colab_type": "text"
      },
      "source": [
        "Given the following function definitions\n",
        "\n",
        "\\begin{align*}\n",
        "  \\sigma(x) = \\frac{1}{1+e^{-x}}\\\\\n",
        "  \\sigma'(x) = \\sigma(x)*(1 - \\sigma(x))\\\\\n",
        "  y' = \\sigma(w_3\\sigma(W_2\\sigma(W_1x+b_1)+b_2)+b_3)\n",
        "\\end{align*}\n",
        "\n",
        "And the activations:\n",
        "\n",
        "\\begin{align*}\n",
        "  {h_1} =\\sigma(W_1x+b_1) \\\\\n",
        "  {h_2} =\\sigma(W_2{h_1}+b_2)\n",
        "\\end{align*}\n",
        "\n",
        "And the error values:\n",
        "\n",
        "\\begin{align*}\n",
        "  {E_3} = y' - y \\\\\n",
        "  {E_2} = (w_3E_3)*\\sigma'(h2)\\\\\n",
        "  {E_1} = (\\sum_{rows}(W_2E_2)*(\\sigma'(h_1))^T)^T\n",
        "\\end{align*}\n",
        "\n",
        "The analytical gradient for each model parameter is as follows:\n",
        "\n",
        "\\begin{align*}\n",
        "  \\frac{\\partial\\mathcal{L}}{\\partial\\mathbf{b_3}} &= \\frac{1}{n}\\sum_{(x,y)}E_3\\\\\n",
        "  \\frac{\\partial\\mathcal{L}}{\\partial\\mathbf{w_3}} &= \\frac{1}{n}\\sum_{(x,y)}E_3*h_2\\\\\n",
        "  \\frac{\\partial\\mathcal{L}}{\\partial\\mathbf{b_2}} &= \\frac{1}{n}\\sum_{(x,y)}E_2\\\\\n",
        "  \\frac{\\partial\\mathcal{L}}{\\partial\\mathbf{W_2}} &= \\frac{1}{n}\\sum_{(x,y)}E_2*(h_1)^T\\\\\n",
        "  \\frac{\\partial\\mathcal{L}}{\\partial\\mathbf{b_1}} &= \\frac{1}{n}\\sum_{(x,y)}E_1\\\\\n",
        "  \\frac{\\partial\\mathcal{L}}{\\partial\\mathbf{W_1}} &= \\frac{1}{n}\\sum_{(x,y)}E_1*(x)^T\n",
        "\\end{align*}"
      ]
    },
    {
      "cell_type": "markdown",
      "metadata": {
        "id": "C3X7r3AUQRcQ",
        "colab_type": "text"
      },
      "source": [
        "\n",
        "### 2. Provide code verifying that your analytical gradients are correct using finite difference for two or more samples from the training data (you are free to use an external package that calculates the finite difference)."
      ]
    },
    {
      "cell_type": "markdown",
      "metadata": {
        "id": "lk7EBKdxXPFD",
        "colab_type": "text"
      },
      "source": [
        "#####Reshape data so that each 28*28 image is a 748-length vector"
      ]
    },
    {
      "cell_type": "code",
      "metadata": {
        "id": "58aoyAIcQPIX",
        "colab_type": "code",
        "colab": {}
      },
      "source": [
        "trainx = zeros((size(trainxs)[1]*size(trainxs)[2],size(trainxs)[3]))\n",
        "devx = zeros((size(devxs)[1]*size(devxs)[2],size(devxs)[3]))\n",
        "testx = zeros((size(testxs)[1]*size(testxs)[2],size(testxs)[3]))\n",
        "\n",
        "for i in 1:size(trainxs)[3]\n",
        "    trainx[:,i] = reshape(trainxs[:,:,i], size(trainxs)[1]*size(trainxs)[2], 1)\n",
        "end\n",
        "for i in 1:size(devxs)[3]\n",
        "    devx[:,i] = reshape(devxs[:,:,i], size(devxs)[1]*size(devxs)[2], 1)\n",
        "end\n",
        "for i in 1:size(testxs)[3]\n",
        "    testx[:,i] = reshape(testxs[:,:,i], size(testxs)[1]*size(testxs)[2], 1)\n",
        "end"
      ],
      "execution_count": 0,
      "outputs": []
    },
    {
      "cell_type": "markdown",
      "metadata": {
        "id": "WuNBSRyyXYLe",
        "colab_type": "text"
      },
      "source": [
        "#### Define the three layer perceptron"
      ]
    },
    {
      "cell_type": "code",
      "metadata": {
        "id": "SDC0JIqXQWe5",
        "colab_type": "code",
        "colab": {}
      },
      "source": [
        "mutable struct ThreeLayerPerceptron\n",
        "    W1 ::Matrix{Float64}\n",
        "    b1 ::Vector{Float64}\n",
        "    W2 ::Matrix{Float64}\n",
        "    b2 ::Vector{Float64}\n",
        "    w3 ::Vector{Float64}\n",
        "    b3 ::Float64\n",
        "end\n",
        "\n",
        "ThreeLayerPerceptron(h1,h2) = ThreeLayerPerceptron(\n",
        "    randn(h1, size(trainxs)[1]*size(trainxs)[2])./100,\n",
        "    zeros(h1),\n",
        "    randn(h2, h1)./100,\n",
        "    zeros(h2),\n",
        "    randn(h2)./100,\n",
        "    0.0,\n",
        "    );"
      ],
      "execution_count": 0,
      "outputs": []
    },
    {
      "cell_type": "markdown",
      "metadata": {
        "id": "M8sLz4q8XeCC",
        "colab_type": "text"
      },
      "source": [
        "#### Use code from lecture for finite difference"
      ]
    },
    {
      "cell_type": "code",
      "metadata": {
        "id": "CmuLC3EHQWmQ",
        "colab_type": "code",
        "colab": {}
      },
      "source": [
        "# Convenience function to zero out perceptron\n",
        "import Base: zero\n",
        "function zero(m::ThreeLayerPerceptron)\n",
        "    gradm = deepcopy(m)\n",
        "    fill!(gradm.W1, 0)\n",
        "    fill!(gradm.b1, 0)\n",
        "    fill!(gradm.W2, 0)\n",
        "    fill!(gradm.b2, 0)\n",
        "    fill!(gradm.w3, 0)\n",
        "    gradm.b3 = 0\n",
        "    gradm\n",
        "end\n",
        "\n",
        "# Create MLP\n",
        "mlp = ThreeLayerPerceptron(4,4)\n",
        "\n",
        "# Convenience function\n",
        "function flatten(m::ThreeLayerPerceptron)\n",
        "    toflatten = (m.W1, m.b1, m.W2, m.b2, m.w3, [m.b3])\n",
        "    vec       = zeros(sum(length(x) for x in toflatten))\n",
        "    offset    = 1\n",
        "    for parameter in toflatten\n",
        "        vec[offset:offset + length(parameter) - 1]  = parameter\n",
        "        offset                                     += length(parameter)\n",
        "    end\n",
        "    vec\n",
        "end\n",
        "\n",
        "# Convenience function\n",
        "function unflatten!(m::ThreeLayerPerceptron, vec)\n",
        "    toflatten = (m.W1, m.b1, m.W2, m.b2, m.w3, [m.b3])\n",
        "    offset    = 1\n",
        "    for parameter in (m.W1, m.b1, m.W2, m.b2 ,m.w3)\n",
        "        parameter[:]  = vec[offset:offset + length(parameter) - 1]\n",
        "        offset       += length(parameter)\n",
        "    end\n",
        "    m.b3 = vec[end]\n",
        "    m\n",
        "end\n",
        "@assert flatten(mlp) == flatten(unflatten!(zero(mlp), flatten(mlp)))\n",
        "\n",
        "# Function to calculate finite difference\n",
        "fdfprime(m, x, y) = fdfprime!(zero(m), m, x, y)\n",
        "function fdfprime!(gradm, m, x, y)\n",
        "    epsilon  = 0.000001\n",
        "    vecm     = flatten(m)\n",
        "    vecgradm = flatten(gradm)\n",
        "    for i in eachindex(vecm)\n",
        "        wi           = vecm[i]\n",
        "\n",
        "        vecm[i]     += epsilon/2\n",
        "        r            = loss(unflatten!(zero(m), vecm), x, y)\n",
        "        vecm[i]      = wi\n",
        "        vecm[i]     -= epsilon/2\n",
        "        l            = loss(unflatten!(zero(m), vecm), x, y)\n",
        "        vecgradm[i]  = (r - l)/epsilon\n",
        "\n",
        "        vecm[i]      = wi\n",
        "    end\n",
        "    unflatten!(gradm, vecgradm)\n",
        "end;"
      ],
      "execution_count": 0,
      "outputs": []
    },
    {
      "cell_type": "markdown",
      "metadata": {
        "id": "bwaVpQiHXlai",
        "colab_type": "text"
      },
      "source": [
        "#### Define logistic and logisticprime operations"
      ]
    },
    {
      "cell_type": "code",
      "metadata": {
        "id": "9pj4h-c3QXOh",
        "colab_type": "code",
        "colab": {}
      },
      "source": [
        "logistic(x)      = 1/(1 + exp(-x))\n",
        "logisticprime(x) = logistic(x)*(1 - logistic(x));"
      ],
      "execution_count": 0,
      "outputs": []
    },
    {
      "cell_type": "markdown",
      "metadata": {
        "id": "W_6Whr4dXo61",
        "colab_type": "text"
      },
      "source": [
        "#### Define the f and p functions"
      ]
    },
    {
      "cell_type": "code",
      "metadata": {
        "id": "AXFfJGiOQXJZ",
        "colab_type": "code",
        "colab": {}
      },
      "source": [
        "function f(m::ThreeLayerPerceptron, x)\n",
        "  s1 = logistic.(m.W1*x + m.b1)\n",
        "  s2 = logistic.(m.W2*s1 + m.b2)\n",
        "  return logistic(dot(m.w3,s2) + m.b3)\n",
        "end\n",
        "\n",
        "p(m::ThreeLayerPerceptron, x) = f(m, x) >= .5;"
      ],
      "execution_count": 0,
      "outputs": []
    },
    {
      "cell_type": "markdown",
      "metadata": {
        "id": "9ovEnh6RXrjA",
        "colab_type": "text"
      },
      "source": [
        "#### Define the loss function"
      ]
    },
    {
      "cell_type": "code",
      "metadata": {
        "id": "T5OuFknJQXF7",
        "colab_type": "code",
        "colab": {}
      },
      "source": [
        "loss(m, x, y) = -log((1 - f(m, x))^(1 - y)) + -log(f(m, x)^y);"
      ],
      "execution_count": 0,
      "outputs": []
    },
    {
      "cell_type": "markdown",
      "metadata": {
        "id": "Wk9uyyIoX2XD",
        "colab_type": "text"
      },
      "source": [
        "#### fprime! is a function used to update a gradient in motion, while fprime will apply an update to a zero-MLP"
      ]
    },
    {
      "cell_type": "code",
      "metadata": {
        "id": "7QQtRvMdQXCk",
        "colab_type": "code",
        "colab": {}
      },
      "source": [
        "# Calculate gradients on zero perceptron\n",
        "fprime(m, x, y) = fprime!(zero(m), m, x, y)\n",
        "\n",
        "# Update gradients on gradm\n",
        "function fprime!(gradm, m, x, y)\n",
        "    # Forward pass\n",
        "    h1     = logistic.(m.W1*x + m.b1)         # activations of first layer\n",
        "    h2     = logistic.(m.W2*h1 + m.b2)        # activations of second layer\n",
        "    h3     = dot(m.w3, h2) + m.b3             # activations of third layer\n",
        "    yprime = logistic(h3)                     # output \n",
        "\n",
        "    # Backwards pass  \n",
        "    error3        = yprime - y                 \n",
        "    gradm.b3      += error3\n",
        "    gradm.w3[:]   += error3*h2\n",
        "    error2        = (m.w3*error3).*logisticprime.(h2)\n",
        "    gradm.b2[:]   += error2\n",
        "    gradm.W2[:,:] += error2*transpose(h1)\n",
        "    error1        = transpose(sum((m.W2.*error2).*transpose(logisticprime.(h1)),dims=1))\n",
        "    gradm.b1[:]   += error1\n",
        "    gradm.W1[:,:] += error1*transpose(x)\n",
        "\n",
        "    gradm\n",
        "end;"
      ],
      "execution_count": 0,
      "outputs": []
    },
    {
      "cell_type": "markdown",
      "metadata": {
        "id": "iQ8rPkmcYMr-",
        "colab_type": "text"
      },
      "source": [
        "#### Here I am providing the code to verify that my gradients are correct. I first select 2 random data points, both compute finite difference to gradient, then subtract the to see how much they differ. As you can see, the finite difference and gradients for my model are extremely similar, proving that the gradients are calculated correctly."
      ]
    },
    {
      "cell_type": "code",
      "metadata": {
        "id": "iuPJssfFQW86",
        "colab_type": "code",
        "outputId": "7f26d965-784d-438d-e91e-ecf6d6eba12a",
        "colab": {
          "base_uri": "https://localhost:8080/",
          "height": 267
        }
      },
      "source": [
        "random_points = trunc.(Int,rand(2)*12000) # Two random points\n",
        "i = 1 # Index variable\n",
        "for r in random_points\n",
        "    rand_x = trainx[:,r] # Random x\n",
        "    rand_y = trainys[r] # Corresponding y\n",
        "    finite_diffs = fdfprime(mlp,rand_x,rand_y) # Finite differences\n",
        "    gradients = fprime(mlp,rand_x,rand_y) # Gradients\n",
        "    println(\"Compare gradients to finite differences in point \",i,\":\")\n",
        "    println(\"Difference in b3: \",gradients.b3 - finite_diffs.b3)\n",
        "    println(\"Difference in w3: \",gradients.w3 .- finite_diffs.w3)\n",
        "    println(\"Difference in b2: \",gradients.b2 .- finite_diffs.b2)\n",
        "    println(\"Difference in W2: \",gradients.W2 .- finite_diffs.W2)\n",
        "    println(\"Difference in b3: \",gradients.b1 .- finite_diffs.b1)\n",
        "    println(\"Difference in W1: \",gradients.W1 .- finite_diffs.W1)\n",
        "    i += 1 # Increment index\n",
        "end;"
      ],
      "execution_count": 0,
      "outputs": [
        {
          "output_type": "stream",
          "text": [
            "Compare gradients to finite differences in point 1:\n",
            "Difference in b3: 2.147125810481043e-10\n",
            "Difference in w3: [-3.01081e-11, 5.28611e-11, 4.11008e-11, 4.8015e-11]\n",
            "Difference in b2: [4.54339e-5, -1.83961e-5, -1.85056e-5, 0.000102313]\n",
            "Difference in W2: [2.43431e-5 2.08991e-5 2.47486e-5 2.15827e-5; -9.85633e-6 -8.46214e-6 -1.00209e-5 -8.73876e-6; -9.91514e-6 -8.5126e-6 -1.00804e-5 -8.79085e-6; 5.48182e-5 4.70634e-5 5.57316e-5 4.86024e-5]\n",
            "Difference in b3: [-2.31586e-8, -1.70577e-7, -1.88746e-7, 8.82602e-8]\n",
            "Difference in W1: [0.0 0.0 0.0 0.0 0.0 0.0 0.0 0.0 0.0 0.0 0.0 6.01311e-11 0.0 0.0 -1.84426e-9 0.0 0.0 0.0 0.0 0.0 0.0 0.0 0.0 0.0 0.0 0.0 0.0 0.0 0.0 0.0 0.0 0.0 0.0 0.0 0.0 0.0 0.0 0.0 0.0 0.0 0.0 -1.19213e-8 -1.37334e-8 -5.58862e-9 0.0 -4.15717e-11 0.0 0.0 0.0 0.0 0.0 0.0 0.0 0.0 0.0 0.0 0.0 0.0 0.0 0.0 0.0 0.0 0.0 0.0 0.0 0.0 -1.43274e-10 0.0 -1.21247e-8 -3.47151e-9 0.0 -1.58598e-8 0.0 0.0 0.0 0.0 0.0 0.0 0.0 0.0 0.0 0.0 0.0 0.0 0.0 0.0 0.0 0.0 0.0 0.0 0.0 0.0 0.0 6.01311e-11 0.0 -1.46541e-9 -1.64514e-8 0.0 0.0 -1.12094e-8 -1.1006e-8 0.0 -1.43274e-10 0.0 0.0 0.0 0.0 0.0 0.0 0.0 0.0 0.0 0.0 0.0 0.0 0.0 0.0 0.0 0.0 0.0 0.0 -2.44977e-10 0.0 -8.89822e-9 -8.1863e-9 0.0 0.0 -2.14937e-9 -1.69599e-8 0.0 0.0 0.0 0.0 0.0 0.0 0.0 0.0 0.0 0.0 0.0 0.0 0.0 0.0 0.0 0.0 0.0 0.0 0.0 0.0 0.0 0.0 -1.38537e-8 0.0 0.0 0.0 0.0 -1.51292e-8 -8.10323e-9 0.0 -1.43274e-10 0.0 0.0 0.0 0.0 0.0 0.0 0.0 0.0 0.0 0.0 0.0 0.0 0.0 0.0 0.0 0.0 -2.44977e-10 0.0 -5.89373e-9 -1.51572e-8 0.0 0.0 0.0 0.0 -9.30503e-9 -1.43436e-8 0.0 0.0 0.0 0.0 0.0 0.0 0.0 0.0 0.0 0.0 0.0 0.0 0.0 0.0 0.0 0.0 0.0 0.0 6.01311e-11 0.0 -9.10162e-9 -1.38537e-8 0.0 0.0 0.0 0.0 -1.64086e-9 -1.80507e-8 -1.262e-9 0.0 0.0 0.0 0.0 0.0 0.0 0.0 0.0 0.0 0.0 0.0 0.0 0.0 0.0 0.0 -4.15717e-11 0.0 0.0 0.0 -1.54343e-8 -8.89822e-9 0.0 0.0 0.0 0.0 0.0 -1.26333e-8 -1.07009e-8 0.0 0.0 0.0 -1.43274e-10 6.01311e-11 0.0 0.0 0.0 0.0 0.0 0.0 0.0 0.0 0.0 0.0 0.0 0.0 0.0 0.0 -2.1795e-8 -9.10162e-9 0.0 0.0 0.0 0.0 0.0 -1.27163e-8 -1.67565e-8 0.0 0.0 0.0 0.0 0.0 0.0 0.0 0.0 0.0 0.0 0.0 0.0 0.0 0.0 0.0 -1.53915e-9 -1.03958e-8 -1.16162e-8 -9.88729e-9 -1.69599e-8 -1.40385e-8 -1.13111e-8 -1.38351e-8 -1.30401e-8 -1.24299e-8 -9.98899e-9 -1.52309e-8 -1.70429e-8 -1.34469e-8 -1.30214e-8 -1.30214e-8 -6.68872e-9 -4.775e-9 0.0 0.0 0.0 0.0 0.0 0.0 0.0 0.0 0.0 -1.51292e-8 -1.95576e-8 -1.76532e-8 -1.6248e-8 -1.71446e-8 -1.54343e-8 -1.50275e-8 -1.75515e-8 -1.60446e-8 -1.57394e-8 -1.59429e-8 -1.70429e-8 -1.51572e-8 -1.47504e-8 -1.60446e-8 -1.60446e-8 -1.52309e-8 -1.16162e-8 -5.28352e-9 0.0 0.0 0.0 0.0 0.0 0.0 0.0 0.0 0.0 -7.98289e-9 -1.9049e-8 -1.70429e-8 -1.60446e-8 -1.51292e-8 -1.42419e-8 -1.51572e-8 -1.51572e-8 -1.46487e-8 -1.38351e-8 -1.38537e-8 -1.37334e-8 -1.40385e-8 -1.3752e-8 -1.46487e-8 -1.57394e-8 -1.35486e-8 -9.70252e-9 0.0 0.0 0.0 0.0 0.0 0.0 0.0 0.0 0.0 0.0 -9.90592e-9 -1.38351e-8 -1.86609e-8 -1.58411e-8 -1.76532e-8 -1.75515e-8 -1.66361e-8 -1.67565e-8 -1.67565e-8 -1.71446e-8 -1.67565e-8 -1.6248e-8 -1.67565e-8 -1.76532e-8 -1.66361e-8 -1.61463e-8 -1.36503e-8 -1.17366e-8 0.0 0.0 0.0 0.0 0.0 0.0 0.0 0.0 0.0 -4.38683e-9 -1.42419e-8 -7.59472e-9 -2.16933e-8 -1.42419e-8 -1.67565e-8 -1.72463e-8 -1.70429e-8 -1.70429e-8 -1.71446e-8 -1.71446e-8 -1.70429e-8 -1.70429e-8 -1.66361e-8 -1.61463e-8 -1.64327e-8 -1.63497e-8 -1.39368e-8 -7.08621e-9 0.0 0.0 0.0 0.0 0.0 0.0 0.0 0.0 0.0 -3.65627e-9 -1.81524e-8 -1.46487e-8 -2.01678e-8 -1.58598e-8 -1.70429e-8 -1.64514e-8 -1.71446e-8 -1.71446e-8 -1.75515e-8 -1.74498e-8 -1.74498e-8 -1.77549e-8 -1.77549e-8 -1.76532e-8 -1.70429e-8 -1.60446e-8 -1.50275e-8 -7.49302e-9 0.0 0.0 0.0 0.0 0.0 0.0 0.0 0.0 0.0 -3.65627e-9 -2.27934e-8 -1.74498e-8 -1.80507e-8 -1.65531e-8 -1.68395e-8 -1.58411e-8 -1.78566e-8 -1.75515e-8 -1.76532e-8 -1.77549e-8 -1.76532e-8 -1.75515e-8 -1.76532e-8 -1.78566e-8 -1.74498e-8 -1.6248e-8 -1.58598e-8 -6.40225e-9 0.0 0.0 0.0 0.0 0.0 0.0 0.0 0.0 0.0 -7.18791e-9 -1.78472e-8 -1.17179e-8 -2.04729e-8 -1.53326e-8 -1.63497e-8 -1.71633e-8 -1.77549e-8 -1.72463e-8 -1.78566e-8 -1.78472e-8 -1.78566e-8 -1.78472e-8 -1.79489e-8 -1.77549e-8 -1.74498e-8 -1.70429e-8 -1.50275e-8 -5.99544e-9 0.0 0.0 0.0 0.0 0.0 0.0 0.0 0.0 0.0 -1.08026e-8 -8.71345e-9 -7.53491e-10 -2.27934e-8 -1.4547e-8 -1.57394e-8 -1.78566e-8 -1.76532e-8 -1.75515e-8 -1.78566e-8 -1.78566e-8 -1.78566e-8 -1.78566e-8 -1.78566e-8 -1.78566e-8 -1.75515e-8 -1.72463e-8 -1.58598e-8 -6.09714e-9 0.0 0.0 0.0 0.0 0.0 0.0 0.0 0.0 0.0 -1.30214e-8 -6.19884e-9 -2.25107e-9 -2.27934e-8 -1.72463e-8 -1.74498e-8 -1.74498e-8 -1.78566e-8 -1.76532e-8 -1.79489e-8 -1.78472e-8 -1.79489e-8 -1.78566e-8 -1.73481e-8 -1.75515e-8 -1.75515e-8 -1.73481e-8 -1.63497e-8 -6.50395e-9 0.0 0.0 0.0 0.0 0.0 0.0 0.0 0.0 0.0 -1.53326e-8 -1.0586e-9 -2.86129e-9 -2.27934e-8 -1.68395e-8 -1.75515e-8 -1.76532e-8 -1.85592e-8 -1.78472e-8 -1.81524e-8 -1.80507e-8 -1.80507e-8 -1.79489e-8 -1.75515e-8 -1.77549e-8 -1.76532e-8 -1.74498e-8 -1.70429e-8 -9.61014e-9 0.0 0.0 0.0 0.0 0.0 0.0 0.0 0.0 0.0 -1.68395e-8 0.0 -3.57321e-9 -2.27934e-8 -1.63497e-8 -1.71633e-8 -1.66361e-8 -1.87439e-8 -1.78566e-8 -1.82541e-8 -1.82541e-8 -1.81524e-8 -1.82541e-8 -1.79489e-8 -1.77549e-8 -1.74498e-8 -1.71446e-8 -1.69599e-8 -1.07009e-8 0.0 0.0 0.0 0.0 0.0 0.0 0.0 0.0 0.0 -1.59429e-8 -2.44977e-10 -2.25107e-9 -2.27934e-8 -1.50275e-8 -1.71446e-8 -1.76532e-8 -1.86609e-8 -1.80507e-8 -1.80507e-8 -1.82541e-8 -1.82541e-8 -1.81524e-8 -1.81524e-8 -1.79489e-8 -1.75515e-8 -1.72463e-8 -1.68395e-8 -1.09043e-8 0.0 0.0 0.0 0.0 0.0 0.0 0.0 0.0 0.0 -8.59311e-9 -5.38522e-9 -5.50085e-10 -2.27934e-8 -1.71446e-8 -1.80507e-8 -1.87439e-8 -1.80507e-8 -1.81524e-8 -1.80507e-8 -1.80507e-8 -1.80507e-8 -1.79489e-8 -1.78472e-8 -1.79489e-8 -1.77549e-8 -1.72463e-8 -1.73481e-8 -1.02941e-8 0.0 0.0 0.0 0.0 0.0 0.0 0.0 0.0 0.0 0.0 -7.69642e-9 -4.06308e-9 -1.92524e-8 -1.78566e-8 -1.89473e-8 -1.94558e-8 -1.80507e-8 -1.78566e-8 -1.78566e-8 -1.78472e-8 -1.78472e-8 -1.78566e-8 -1.78566e-8 -1.81524e-8 -1.78472e-8 -1.71446e-8 -1.71446e-8 -9.50843e-9 0.0 0.0 0.0 0.0 0.0 0.0 0.0 0.0 0.0 0.0 -1.0586e-9 -1.91507e-8 -1.71633e-8 -1.78472e-8 -1.86609e-8 -1.93541e-8 -1.98627e-8 -1.79489e-8 -1.78472e-8 -1.78472e-8 -1.78566e-8 -1.76532e-8 -1.76532e-8 -1.77549e-8 -1.76532e-8 -1.72463e-8 -1.64327e-8 -6.60565e-9 0.0 0.0 0.0 0.0 0.0 0.0 0.0 0.0 0.0 0.0 0.0 -1.36371e-9 -1.85592e-8 -1.76532e-8 -1.86609e-8 -1.9983e-8 -2.07593e-8 -2.27934e-8 -2.26917e-8 -2.23866e-8 -2.26917e-8 -2.24883e-8 -2.22849e-8 -1.85592e-8 -1.86609e-8 -1.82541e-8 -1.68395e-8 -2.74095e-9 0.0 0.0 0.0 0.0 0.0 0.0 0.0 0.0 0.0 0.0 0.0 0.0 -1.43436e-8 -1.49538e-8 -1.42419e-8 -1.67565e-8 -8.71345e-9 0.0 0.0 0.0 0.0 0.0 -4.15717e-11 6.01311e-11 -4.15717e-11 6.01311e-11 -5.50085e-10 0.0 0.0 0.0 0.0 0.0 0.0; 0.0 0.0 0.0 0.0 0.0 0.0 0.0 0.0 0.0 0.0 0.0 -4.42975e-11 0.0 0.0 -1.47385e-8 0.0 0.0 0.0 0.0 0.0 0.0 0.0 0.0 0.0 0.0 0.0 0.0 0.0 0.0 0.0 0.0 0.0 0.0 0.0 0.0 0.0 0.0 0.0 0.0 0.0 0.0 -8.83208e-8 -1.01699e-7 -4.08934e-8 0.0 -8.68658e-10 0.0 0.0 0.0 0.0 0.0 0.0 0.0 0.0 0.0 0.0 0.0 0.0 0.0 0.0 0.0 0.0 0.0 0.0 0.0 0.0 -1.35995e-9 0.0 -8.97475e-8 -2.55969e-8 0.0 -1.16394e-7 0.0 0.0 0.0 0.0 0.0 0.0 0.0 0.0 0.0 0.0 0.0 0.0 0.0 0.0 0.0 0.0 0.0 0.0 0.0 0.0 0.0 -4.42975e-11 0.0 -1.03003e-8 -1.21989e-7 0.0 0.0 -8.36605e-8 -8.22338e-8 0.0 -1.35995e-9 0.0 0.0 0.0 0.0 0.0 0.0 0.0 0.0 0.0 0.0 0.0 0.0 0.0 0.0 0.0 0.0 0.0 0.0 -1.96227e-9 0.0 -6.6446e-8 -6.14526e-8 0.0 0.0 -1.69896e-8 -1.25001e-7 0.0 0.0 0.0 0.0 0.0 0.0 0.0 0.0 0.0 0.0 0.0 0.0 0.0 0.0 0.0 0.0 0.0 0.0 0.0 0.0 0.0 0.0 -1.01097e-7 0.0 0.0 0.0 0.0 -1.13049e-7 -5.97567e-8 0.0 -1.35995e-9 0.0 0.0 0.0 0.0 0.0 0.0 0.0 0.0 0.0 0.0 0.0 0.0 0.0 0.0 0.0 0.0 -1.96227e-9 0.0 -4.30334e-8 -1.11131e-7 0.0 0.0 0.0 0.0 -6.88552e-8 -1.05535e-7 0.0 0.0 0.0 0.0 0.0 0.0 0.0 0.0 0.0 0.0 0.0 0.0 0.0 0.0 0.0 0.0 0.0 0.0 -4.42975e-11 0.0 -6.77616e-8 -1.01097e-7 0.0 0.0 0.0 0.0 -1.33119e-8 -1.34433e-7 -8.87361e-9 0.0 0.0 0.0 0.0 0.0 0.0 0.0 0.0 0.0 0.0 0.0 0.0 0.0 0.0 0.0 -8.68658e-10 0.0 0.0 0.0 -1.153e-7 -6.6446e-8 0.0 0.0 0.0 0.0 0.0 -9.30921e-8 -8.03159e-8 0.0 0.0 0.0 -1.35995e-9 -4.42975e-11 0.0 0.0 0.0 0.0 0.0 0.0 0.0 0.0 0.0 0.0 0.0 0.0 0.0 0.0 -1.60587e-7 -6.77616e-8 0.0 0.0 0.0 0.0 0.0 -9.50101e-8 -1.23907e-7 0.0 0.0 0.0 0.0 0.0 0.0 0.0 0.0 0.0 0.0 0.0 0.0 0.0 0.0 0.0 -1.28206e-8 -7.83979e-8 -8.61808e-8 -7.49422e-8 -1.25001e-7 -1.03617e-7 -8.44849e-8 -1.02524e-7 -9.56124e-8 -9.16655e-8 -7.55445e-8 -1.13651e-7 -1.27252e-7 -9.83548e-8 -9.72611e-8 -9.72611e-8 -4.95007e-8 -3.56308e-8 0.0 0.0 0.0 0.0 0.0 0.0 0.0 0.0 0.0 -1.13049e-7 -1.45893e-7 -1.31088e-7 -1.20341e-7 -1.27854e-7 -1.153e-7 -1.12225e-7 -1.30486e-7 -1.18914e-7 -1.17218e-7 -1.18312e-7 -1.27252e-7 -1.11131e-7 -1.08389e-7 -1.18914e-7 -1.18914e-7 -1.13651e-7 -8.61808e-8 -3.86424e-8 0.0 0.0 0.0 0.0 0.0 0.0 0.0 0.0 0.0 -6.0359e-8 -1.42437e-7 -1.27252e-7 -1.18914e-7 -1.13049e-7 -1.05044e-7 -1.11131e-7 -1.11131e-7 -1.07786e-7 -1.02524e-7 -1.01097e-7 -1.01699e-7 -1.03617e-7 -1.00273e-7 -1.07786e-7 -1.17218e-7 -9.91791e-8 -7.23109e-8 0.0 0.0 0.0 0.0 0.0 0.0 0.0 0.0 0.0 0.0 -7.36266e-8 -1.02524e-7 -1.3838e-7 -1.1782e-7 -1.31088e-7 -1.30486e-7 -1.24399e-7 -1.23907e-7 -1.23907e-7 -1.27854e-7 -1.23907e-7 -1.20341e-7 -1.23907e-7 -1.31088e-7 -1.24399e-7 -1.1996e-7 -9.96704e-8 -8.58005e-8 0.0 0.0 0.0 0.0 0.0 0.0 0.0 0.0 0.0 -3.14618e-8 -1.05044e-7 -5.619e-8 -1.59985e-7 -1.05044e-7 -1.23907e-7 -1.28346e-7 -1.27252e-7 -1.27252e-7 -1.27854e-7 -1.27854e-7 -1.27252e-7 -1.27252e-7 -1.24399e-7 -1.1996e-7 -1.23083e-7 -1.21165e-7 -1.03126e-7 -5.28453e-8 0.0 0.0 0.0 0.0 0.0 0.0 0.0 0.0 0.0 -2.81171e-8 -1.35257e-7 -1.07786e-7 -1.49729e-7 -1.16394e-7 -1.27252e-7 -1.21989e-7 -1.27854e-7 -1.27854e-7 -1.30486e-7 -1.29772e-7 -1.29772e-7 -1.3169e-7 -1.3169e-7 -1.31088e-7 -1.27252e-7 -1.18914e-7 -1.12225e-7 -5.55877e-8 0.0 0.0 0.0 0.0 0.0 0.0 0.0 0.0 0.0 -2.81171e-8 -1.6837e-7 -1.29772e-7 -1.34433e-7 -1.22481e-7 -1.25825e-7 -1.1782e-7 -1.32515e-7 -1.30486e-7 -1.31088e-7 -1.3169e-7 -1.31088e-7 -1.30486e-7 -1.31088e-7 -1.32515e-7 -1.29772e-7 -1.20341e-7 -1.16394e-7 -4.6156e-8 0.0 0.0 0.0 0.0 0.0 0.0 0.0 0.0 0.0 -5.36697e-8 -1.33339e-7 -8.70052e-8 -1.5198e-7 -1.14476e-7 -1.21165e-7 -1.26428e-7 -1.3169e-7 -1.28346e-7 -1.32515e-7 -1.33339e-7 -1.32515e-7 -1.33339e-7 -1.33941e-7 -1.3169e-7 -1.29772e-7 -1.27252e-7 -1.12225e-7 -4.34137e-8 0.0 0.0 0.0 0.0 0.0 0.0 0.0 0.0 0.0 -8.08071e-8 -6.35926e-8 -5.30692e-9 -1.6837e-7 -1.06962e-7 -1.17218e-7 -1.32515e-7 -1.31088e-7 -1.30486e-7 -1.32515e-7 -1.32515e-7 -1.32515e-7 -1.32515e-7 -1.32515e-7 -1.32515e-7 -1.30486e-7 -1.28346e-7 -1.16394e-7 -4.4127e-8 0.0 0.0 0.0 0.0 0.0 0.0 0.0 0.0 0.0 -9.72611e-8 -4.47294e-8 -1.74809e-8 -1.6837e-7 -1.28346e-7 -1.29772e-7 -1.29772e-7 -1.32515e-7 -1.31088e-7 -1.33941e-7 -1.33339e-7 -1.33941e-7 -1.32515e-7 -1.2917e-7 -1.30486e-7 -1.30486e-7 -1.2917e-7 -1.21165e-7 -4.69804e-8 0.0 0.0 0.0 0.0 0.0 0.0 0.0 0.0 0.0 -1.14476e-7 -7.22489e-9 -2.14278e-8 -1.6837e-7 -1.25825e-7 -1.30486e-7 -1.31088e-7 -1.37777e-7 -1.33339e-7 -1.35257e-7 -1.34433e-7 -1.34433e-7 -1.33941e-7 -1.30486e-7 -1.3169e-7 -1.31088e-7 -1.29772e-7 -1.27252e-7 -7.08842e-8 0.0 0.0 0.0 0.0 0.0 0.0 0.0 0.0 0.0 -1.25825e-7 0.0 -2.60881e-8 -1.6837e-7 -1.21165e-7 -1.26428e-7 -1.24399e-7 -1.4052e-7 -1.32515e-7 -1.35859e-7 -1.35859e-7 -1.35257e-7 -1.35859e-7 -1.33941e-7 -1.3169e-7 -1.29772e-7 -1.27854e-7 -1.25001e-7 -8.03159e-8 0.0 0.0 0.0 0.0 0.0 0.0 0.0 0.0 0.0 -1.18312e-7 -1.96227e-9 -1.74809e-8 -1.6837e-7 -1.12225e-7 -1.27854e-7 -1.31088e-7 -1.3838e-7 -1.34433e-7 -1.34433e-7 -1.35859e-7 -1.35859e-7 -1.35257e-7 -1.35257e-7 -1.33941e-7 -1.30486e-7 -1.28346e-7 -1.25825e-7 -8.16315e-8 0.0 0.0 0.0 0.0 0.0 0.0 0.0 0.0 0.0 -6.41949e-8 -3.94667e-8 -4.21331e-9 -1.6837e-7 -1.27854e-7 -1.34433e-7 -1.4052e-7 -1.34433e-7 -1.35257e-7 -1.34433e-7 -1.34433e-7 -1.34433e-7 -1.33941e-7 -1.33339e-7 -1.33941e-7 -1.3169e-7 -1.28346e-7 -1.2917e-7 -7.77956e-8 0.0 0.0 0.0 0.0 0.0 0.0 0.0 0.0 0.0 0.0 -5.69033e-8 -3.08595e-8 -1.43642e-7 -1.32515e-7 -1.41946e-7 -1.45069e-7 -1.34433e-7 -1.32515e-7 -1.32515e-7 -1.33339e-7 -1.33339e-7 -1.32515e-7 -1.32515e-7 -1.35257e-7 -1.33339e-7 -1.27854e-7 -1.27854e-7 -7.02819e-8 0.0 0.0 0.0 0.0 0.0 0.0 0.0 0.0 0.0 0.0 -7.22489e-9 -1.4304e-7 -1.26428e-7 -1.33339e-7 -1.3838e-7 -1.44689e-7 -1.47811e-7 -1.33941e-7 -1.33339e-7 -1.33339e-7 -1.32515e-7 -1.31088e-7 -1.31088e-7 -1.3169e-7 -1.31088e-7 -1.28346e-7 -1.23083e-7 -4.75827e-8 0.0 0.0 0.0 0.0 0.0 0.0 0.0 0.0 0.0 0.0 0.0 -9.47593e-9 -1.37777e-7 -1.31088e-7 -1.3838e-7 -1.47209e-7 -1.55214e-7 -1.6837e-7 -1.67768e-7 -1.6585e-7 -1.67768e-7 -1.66674e-7 -1.65248e-7 -1.37777e-7 -1.3838e-7 -1.35859e-7 -1.25825e-7 -2.22522e-8 0.0 0.0 0.0 0.0 0.0 0.0 0.0 0.0 0.0 0.0 0.0 0.0 -1.05535e-7 -1.09704e-7 -1.05044e-7 -1.23907e-7 -6.35926e-8 0.0 0.0 0.0 0.0 0.0 -8.68658e-10 -4.42975e-11 -8.68658e-10 -4.42975e-11 -4.21331e-9 0.0 0.0 0.0 0.0 0.0 0.0; 0.0 0.0 0.0 0.0 0.0 0.0 0.0 0.0 0.0 0.0 0.0 -8.47272e-11 0.0 0.0 -1.62446e-8 0.0 0.0 0.0 0.0 0.0 0.0 0.0 0.0 0.0 0.0 0.0 0.0 0.0 0.0 0.0 0.0 0.0 0.0 0.0 0.0 0.0 0.0 0.0 0.0 0.0 0.0 -9.80433e-8 -1.12795e-7 -4.52096e-8 0.0 -8.445e-10 0.0 0.0 0.0 0.0 0.0 0.0 0.0 0.0 0.0 0.0 0.0 0.0 0.0 0.0 0.0 0.0 0.0 0.0 0.0 0.0 -1.49325e-9 0.0 -9.92297e-8 -2.829e-8 0.0 -1.28955e-7 0.0 0.0 0.0 0.0 0.0 0.0 0.0 0.0 0.0 0.0 0.0 0.0 0.0 0.0 0.0 0.0 0.0 0.0 0.0 0.0 0.0 -8.47272e-11 0.0 -1.11483e-8 -1.34811e-7 0.0 0.0 -9.26138e-8 -9.12053e-8 0.0 -1.49325e-9 0.0 0.0 0.0 0.0 0.0 0.0 0.0 0.0 0.0 0.0 0.0 0.0 0.0 0.0 0.0 0.0 0.0 0.0 -2.25302e-9 0.0 -7.31928e-8 -6.80964e-8 0.0 0.0 -1.85239e-8 -1.38276e-7 0.0 0.0 0.0 0.0 0.0 0.0 0.0 0.0 0.0 0.0 0.0 0.0 0.0 0.0 0.0 0.0 0.0 0.0 0.0 0.0 0.0 0.0 -1.12035e-7 0.0 0.0 0.0 0.0 -1.25267e-7 -6.58171e-8 0.0 -1.49325e-9 0.0 0.0 0.0 0.0 0.0 0.0 0.0 0.0 0.0 0.0 0.0 0.0 0.0 0.0 0.0 0.0 -2.25302e-9 0.0 -4.7711e-8 -1.22987e-7 0.0 0.0 0.0 0.0 -7.64539e-8 -1.16909e-7 0.0 0.0 0.0 0.0 0.0 0.0 0.0 0.0 0.0 0.0 0.0 0.0 0.0 0.0 0.0 0.0 0.0 0.0 -8.47272e-11 0.0 -7.47124e-8 -1.12035e-7 0.0 0.0 0.0 0.0 -1.48361e-8 -1.48802e-7 -9.62871e-9 0.0 0.0 0.0 0.0 0.0 0.0 0.0 0.0 0.0 0.0 0.0 0.0 0.0 0.0 0.0 -8.445e-10 0.0 0.0 0.0 -1.27435e-7 -7.31928e-8 0.0 0.0 0.0 0.0 0.0 -1.02918e-7 -8.8926e-8 0.0 0.0 0.0 -1.49325e-9 -8.47272e-11 0.0 0.0 0.0 0.0 0.0 0.0 0.0 0.0 0.0 0.0 0.0 0.0 0.0 0.0 -1.77767e-7 -7.47124e-8 0.0 0.0 0.0 0.0 0.0 -1.05419e-7 -1.36979e-7 0.0 0.0 0.0 0.0 0.0 0.0 0.0 0.0 0.0 0.0 0.0 0.0 0.0 0.0 0.0 -1.42984e-8 -8.67577e-8 -9.55419e-8 -8.28478e-8 -1.38276e-7 -1.14963e-7 -9.33736e-8 -1.13221e-7 -1.05957e-7 -1.01398e-7 -8.38296e-8 -1.26026e-7 -1.40778e-7 -1.08774e-7 -1.07587e-7 -1.07587e-7 -5.50867e-8 -3.93535e-8 0.0 0.0 0.0 0.0 0.0 0.0 0.0 0.0 0.0 -1.25267e-7 -1.61385e-7 -1.45114e-7 -1.33402e-7 -1.41538e-7 -1.27435e-7 -1.24285e-7 -1.44355e-7 -1.31883e-7 -1.29714e-7 -1.30901e-7 -1.40778e-7 -1.22987e-7 -1.2017e-7 -1.31883e-7 -1.31883e-7 -1.26026e-7 -9.55419e-8 -4.30413e-8 0.0 0.0 0.0 0.0 0.0 0.0 0.0 0.0 0.0 -6.65769e-8 -1.57697e-7 -1.40778e-7 -1.31883e-7 -1.25267e-7 -1.16149e-7 -1.22987e-7 -1.22987e-7 -1.19411e-7 -1.13221e-7 -1.12035e-7 -1.12795e-7 -1.14963e-7 -1.11275e-7 -1.19411e-7 -1.29714e-7 -1.09533e-7 -8.00308e-8 0.0 0.0 0.0 0.0 0.0 0.0 0.0 0.0 0.0 0.0 -8.13283e-8 -1.13221e-7 -1.5325e-7 -1.30363e-7 -1.45114e-7 -1.44355e-7 -1.37739e-7 -1.36979e-7 -1.36979e-7 -1.41538e-7 -1.36979e-7 -1.33402e-7 -1.36979e-7 -1.45114e-7 -1.37739e-7 -1.32642e-7 -1.10515e-7 -9.47821e-8 0.0 0.0 0.0 0.0 0.0 0.0 0.0 0.0 0.0 -3.49059e-8 -1.16149e-7 -6.24624e-8 -1.77119e-7 -1.16149e-7 -1.36979e-7 -1.42186e-7 -1.40778e-7 -1.40778e-7 -1.41538e-7 -1.41538e-7 -1.40778e-7 -1.40778e-7 -1.37739e-7 -1.32642e-7 -1.3633e-7 -1.34162e-7 -1.14203e-7 -5.84414e-8 0.0 0.0 0.0 0.0 0.0 0.0 0.0 0.0 0.0 -3.0996e-8 -1.49562e-7 -1.19411e-7 -1.65722e-7 -1.28955e-7 -1.40778e-7 -1.34811e-7 -1.41538e-7 -1.41538e-7 -1.44355e-7 -1.43706e-7 -1.43706e-7 -1.45874e-7 -1.45874e-7 -1.45114e-7 -1.40778e-7 -1.31883e-7 -1.24285e-7 -6.14805e-8 0.0 0.0 0.0 0.0 0.0 0.0 0.0 0.0 0.0 -3.0996e-8 -1.86662e-7 -1.43706e-7 -1.48802e-7 -1.3557e-7 -1.39258e-7 -1.30363e-7 -1.46634e-7 -1.44355e-7 -1.45114e-7 -1.45874e-7 -1.45114e-7 -1.44355e-7 -1.45114e-7 -1.46634e-7 -1.43706e-7 -1.33402e-7 -1.28955e-7 -5.10658e-8 0.0 0.0 0.0 0.0 0.0 0.0 0.0 0.0 0.0 -5.92012e-8 -1.47394e-7 -9.63017e-8 -1.68001e-7 -1.26786e-7 -1.34162e-7 -1.40018e-7 -1.45874e-7 -1.42186e-7 -1.46634e-7 -1.47394e-7 -1.46634e-7 -1.47394e-7 -1.48376e-7 -1.45874e-7 -1.43706e-7 -1.40778e-7 -1.24285e-7 -4.82487e-8 0.0 0.0 0.0 0.0 0.0 0.0 0.0 0.0 0.0 -8.96858e-8 -7.04868e-8 -5.94087e-9 -1.86662e-7 -1.18651e-7 -1.29714e-7 -1.46634e-7 -1.45114e-7 -1.44355e-7 -1.46634e-7 -1.46634e-7 -1.46634e-7 -1.46634e-7 -1.46634e-7 -1.46634e-7 -1.44355e-7 -1.42186e-7 -1.28955e-7 -4.88975e-8 0.0 0.0 0.0 0.0 0.0 0.0 0.0 0.0 0.0 -1.07587e-7 -4.96572e-8 -1.95058e-8 -1.86662e-7 -1.42186e-7 -1.43706e-7 -1.43706e-7 -1.46634e-7 -1.45114e-7 -1.48376e-7 -1.47394e-7 -1.48376e-7 -1.46634e-7 -1.42946e-7 -1.44355e-7 -1.44355e-7 -1.42946e-7 -1.34162e-7 -5.18255e-8 0.0 0.0 0.0 0.0 0.0 0.0 0.0 0.0 0.0 -1.26786e-7 -8.22018e-9 -2.36203e-8 -1.86662e-7 -1.39258e-7 -1.44355e-7 -1.45114e-7 -1.5249e-7 -1.47394e-7 -1.49562e-7 -1.48802e-7 -1.48802e-7 -1.48376e-7 -1.44355e-7 -1.45874e-7 -1.45114e-7 -1.43706e-7 -1.40778e-7 -7.84002e-8 0.0 0.0 0.0 0.0 0.0 0.0 0.0 0.0 0.0 -1.39258e-7 0.0 -2.90497e-8 -1.86662e-7 -1.34162e-7 -1.40018e-7 -1.37739e-7 -1.55751e-7 -1.46634e-7 -1.50322e-7 -1.50322e-7 -1.49562e-7 -1.50322e-7 -1.48376e-7 -1.45874e-7 -1.43706e-7 -1.41538e-7 -1.38276e-7 -8.8926e-8 0.0 0.0 0.0 0.0 0.0 0.0 0.0 0.0 0.0 -1.30901e-7 -2.25302e-9 -1.95058e-8 -1.86662e-7 -1.24285e-7 -1.41538e-7 -1.45114e-7 -1.5325e-7 -1.48802e-7 -1.48802e-7 -1.50322e-7 -1.50322e-7 -1.49562e-7 -1.49562e-7 -1.48376e-7 -1.44355e-7 -1.42186e-7 -1.39258e-7 -9.04455e-8 0.0 0.0 0.0 0.0 0.0 0.0 0.0 0.0 0.0 -7.10245e-8 -4.38011e-8 -4.75439e-9 -1.86662e-7 -1.41538e-7 -1.48802e-7 -1.55751e-7 -1.48802e-7 -1.49562e-7 -1.48802e-7 -1.48802e-7 -1.48802e-7 -1.48376e-7 -1.47394e-7 -1.48376e-7 -1.45874e-7 -1.42186e-7 -1.42946e-7 -8.59979e-8 0.0 0.0 0.0 0.0 0.0 0.0 0.0 0.0 0.0 0.0 -6.32221e-8 -3.42571e-8 -1.59106e-7 -1.46634e-7 -1.56938e-7 -1.60626e-7 -1.48802e-7 -1.46634e-7 -1.46634e-7 -1.47394e-7 -1.47394e-7 -1.46634e-7 -1.46634e-7 -1.49562e-7 -1.47394e-7 -1.41538e-7 -1.41538e-7 -7.78625e-8 0.0 0.0 0.0 0.0 0.0 0.0 0.0 0.0 0.0 0.0 -8.22018e-9 -1.58346e-7 -1.40018e-7 -1.47394e-7 -1.5325e-7 -1.59866e-7 -1.63776e-7 -1.48376e-7 -1.47394e-7 -1.47394e-7 -1.46634e-7 -1.45114e-7 -1.45114e-7 -1.45874e-7 -1.45114e-7 -1.42186e-7 -1.3633e-7 -5.25853e-8 0.0 0.0 0.0 0.0 0.0 0.0 0.0 0.0 0.0 0.0 0.0 -1.06105e-8 -1.5249e-7 -1.45114e-7 -1.5325e-7 -1.63127e-7 -1.71689e-7 -1.86662e-7 -1.85903e-7 -1.83734e-7 -1.85903e-7 -1.84494e-7 -1.82975e-7 -1.5249e-7 -1.5325e-7 -1.50322e-7 -1.39258e-7 -2.46021e-8 0.0 0.0 0.0 0.0 0.0 0.0 0.0 0.0 0.0 0.0 0.0 0.0 -1.16909e-7 -1.21579e-7 -1.16149e-7 -1.36979e-7 -7.04868e-8 0.0 0.0 0.0 0.0 0.0 -8.445e-10 -8.47272e-11 -8.445e-10 -8.47272e-11 -4.75439e-9 0.0 0.0 0.0 0.0 0.0 0.0; 0.0 0.0 0.0 0.0 0.0 0.0 0.0 0.0 0.0 0.0 0.0 1.39352e-10 0.0 0.0 7.4862e-9 0.0 0.0 0.0 0.0 0.0 0.0 0.0 0.0 0.0 0.0 0.0 0.0 0.0 0.0 0.0 0.0 0.0 0.0 0.0 0.0 0.0 0.0 0.0 0.0 0.0 0.0 4.55527e-8 5.27363e-8 2.09391e-8 0.0 3.8751e-10 0.0 0.0 0.0 0.0 0.0 0.0 0.0 0.0 0.0 0.0 0.0 0.0 0.0 0.0 0.0 0.0 0.0 0.0 0.0 0.0 8.57712e-10 0.0 4.63821e-8 1.31221e-8 0.0 6.00831e-8 0.0 0.0 0.0 0.0 0.0 0.0 0.0 0.0 0.0 0.0 0.0 0.0 0.0 0.0 0.0 0.0 0.0 0.0 0.0 0.0 0.0 1.39352e-10 0.0 5.305e-9 6.31786e-8 0.0 0.0 4.34825e-8 4.25421e-8 0.0 8.57712e-10 0.0 0.0 0.0 0.0 0.0 0.0 0.0 0.0 0.0 0.0 0.0 0.0 0.0 0.0 0.0 0.0 0.0 0.0 1.10587e-9 0.0 3.41438e-8 3.18516e-8 0.0 0.0 8.45271e-9 6.47525e-8 0.0 0.0 0.0 0.0 0.0 0.0 0.0 0.0 0.0 0.0 0.0 0.0 0.0 0.0 0.0 0.0 0.0 0.0 0.0 0.0 0.0 0.0 5.22661e-8 0.0 0.0 0.0 0.0 5.85093e-8 3.09961e-8 0.0 8.57712e-10 0.0 0.0 0.0 0.0 0.0 0.0 0.0 0.0 0.0 0.0 0.0 0.0 0.0 0.0 0.0 0.0 1.10587e-9 0.0 2.23497e-8 5.75428e-8 0.0 0.0 0.0 0.0 3.55806e-8 5.47803e-8 0.0 0.0 0.0 0.0 0.0 0.0 0.0 0.0 0.0 0.0 0.0 0.0 0.0 0.0 0.0 0.0 0.0 0.0 1.39352e-10 0.0 3.50842e-8 5.22661e-8 0.0 0.0 0.0 0.0 7.1009e-9 6.967e-8 4.58665e-9 0.0 0.0 0.0 0.0 0.0 0.0 0.0 0.0 0.0 0.0 0.0 0.0 0.0 0.0 0.0 3.8751e-10 0.0 0.0 0.0 5.93648e-8 3.41438e-8 0.0 0.0 0.0 0.0 0.0 4.80669e-8 4.15756e-8 0.0 0.0 0.0 8.57712e-10 1.39352e-10 0.0 0.0 0.0 0.0 0.0 0.0 0.0 0.0 0.0 0.0 0.0 0.0 0.0 0.0 8.30118e-8 3.50842e-8 0.0 0.0 0.0 0.0 0.0 4.92555e-8 6.40341e-8 0.0 0.0 0.0 0.0 0.0 0.0 0.0 0.0 0.0 0.0 0.0 0.0 0.0 0.0 0.0 6.6307e-9 4.0387e-8 4.48082e-8 3.88132e-8 6.47525e-8 5.35918e-8 4.37307e-8 5.28734e-8 4.97257e-8 4.73486e-8 3.92834e-8 5.89795e-8 6.5608e-8 5.08294e-8 5.0222e-8 5.0222e-8 2.56084e-8 1.83987e-8 0.0 0.0 0.0 0.0 0.0 0.0 0.0 0.0 0.0 5.85093e-8 7.5665e-8 6.7763e-8 6.24602e-8 6.60782e-8 5.93648e-8 5.80391e-8 6.75149e-8 6.17419e-8 6.05533e-8 6.12717e-8 6.5608e-8 5.75428e-8 5.62171e-8 6.17419e-8 6.17419e-8 5.89795e-8 4.48082e-8 2.00836e-8 0.0 0.0 0.0 0.0 0.0 0.0 0.0 0.0 0.0 3.12443e-8 7.37581e-8 6.5608e-8 6.17419e-8 5.85093e-8 5.45322e-8 5.75428e-8 5.75428e-8 5.59689e-8 5.28734e-8 5.22661e-8 5.27363e-8 5.35918e-8 5.20179e-8 5.59689e-8 6.05533e-8 5.12996e-8 3.74875e-8 0.0 0.0 0.0 0.0 0.0 0.0 0.0 0.0 0.0 0.0 3.80948e-8 5.28734e-8 7.1714e-8 6.08015e-8 6.7763e-8 6.75149e-8 6.45043e-8 6.40341e-8 6.40341e-8 6.60782e-8 6.40341e-8 6.24602e-8 6.40341e-8 6.7763e-8 6.45043e-8 6.199e-8 5.15477e-8 4.4338e-8 0.0 0.0 0.0 0.0 0.0 0.0 0.0 0.0 0.0 1.61326e-8 5.45322e-8 2.90892e-8 8.28747e-8 5.45322e-8 6.40341e-8 6.63263e-8 6.5608e-8 6.5608e-8 6.60782e-8 6.60782e-8 6.5608e-8 6.5608e-8 6.45043e-8 6.199e-8 6.37859e-8 6.27084e-8 5.31216e-8 2.71823e-8 0.0 0.0 0.0 0.0 0.0 0.0 0.0 0.0 0.0 1.44477e-8 6.98071e-8 5.59689e-8 7.7487e-8 6.00831e-8 6.5608e-8 6.31786e-8 6.60782e-8 6.60782e-8 6.75149e-8 6.70447e-8 6.70447e-8 6.82332e-8 6.82332e-8 6.7763e-8 6.5608e-8 6.17419e-8 5.80391e-8 2.8619e-8 0.0 0.0 0.0 0.0 0.0 0.0 0.0 0.0 0.0 1.44477e-8 8.7211e-8 6.70447e-8 6.967e-8 6.34268e-8 6.50006e-8 6.08015e-8 6.84814e-8 6.75149e-8 6.7763e-8 6.82332e-8 6.7763e-8 6.75149e-8 6.7763e-8 6.84814e-8 6.70447e-8 6.24602e-8 6.00831e-8 2.40346e-8 0.0 0.0 0.0 0.0 0.0 0.0 0.0 0.0 0.0 2.76525e-8 6.89516e-8 4.50564e-8 7.85645e-8 5.91166e-8 6.27084e-8 6.54708e-8 6.82332e-8 6.63263e-8 6.84814e-8 6.89516e-8 6.84814e-8 6.89516e-8 6.94218e-8 6.82332e-8 6.70447e-8 6.5608e-8 5.80391e-8 2.25979e-8 0.0 0.0 0.0 0.0 0.0 0.0 0.0 0.0 0.0 4.20458e-8 3.28181e-8 2.90177e-9 8.7211e-8 5.52767e-8 6.05533e-8 6.84814e-8 6.7763e-8 6.75149e-8 6.84814e-8 6.84814e-8 6.84814e-8 6.84814e-8 6.84814e-8 6.84814e-8 6.75149e-8 6.63263e-8 6.00831e-8 2.2846e-8 0.0 0.0 0.0 0.0 0.0 0.0 0.0 0.0 0.0 5.0222e-8 2.30942e-8 8.92292e-9 8.7211e-8 6.63263e-8 6.70447e-8 6.70447e-8 6.84814e-8 6.7763e-8 6.94218e-8 6.89516e-8 6.94218e-8 6.84814e-8 6.67965e-8 6.75149e-8 6.75149e-8 6.67965e-8 6.27084e-8 2.42827e-8 0.0 0.0 0.0 0.0 0.0 0.0 0.0 0.0 0.0 5.91166e-8 3.86829e-9 1.13e-8 8.7211e-8 6.50006e-8 6.75149e-8 6.7763e-8 7.14659e-8 6.89516e-8 6.98071e-8 6.967e-8 6.967e-8 6.94218e-8 6.75149e-8 6.82332e-8 6.7763e-8 6.70447e-8 6.5608e-8 3.67691e-8 0.0 0.0 0.0 0.0 0.0 0.0 0.0 0.0 0.0 6.50006e-8 0.0 1.33702e-8 8.7211e-8 6.27084e-8 6.54708e-8 6.45043e-8 7.25695e-8 6.84814e-8 7.02773e-8 7.02773e-8 6.98071e-8 7.02773e-8 6.94218e-8 6.82332e-8 6.70447e-8 6.60782e-8 6.47525e-8 4.15756e-8 0.0 0.0 0.0 0.0 0.0 0.0 0.0 0.0 0.0 6.12717e-8 1.10587e-9 8.92292e-9 8.7211e-8 5.80391e-8 6.60782e-8 6.7763e-8 7.1714e-8 6.967e-8 6.967e-8 7.02773e-8 7.02773e-8 6.98071e-8 6.98071e-8 6.94218e-8 6.75149e-8 6.63263e-8 6.50006e-8 4.2294e-8 0.0 0.0 0.0 0.0 0.0 0.0 0.0 0.0 0.0 3.32883e-8 2.04428e-8 1.96136e-9 8.7211e-8 6.60782e-8 6.967e-8 7.25695e-8 6.967e-8 6.98071e-8 6.967e-8 6.967e-8 6.967e-8 6.94218e-8 6.89516e-8 6.94218e-8 6.82332e-8 6.63263e-8 6.67965e-8 4.01389e-8 0.0 0.0 0.0 0.0 0.0 0.0 0.0 0.0 0.0 0.0 2.95594e-8 1.58845e-8 7.44764e-8 6.84814e-8 7.32879e-8 7.51948e-8 6.967e-8 6.84814e-8 6.84814e-8 6.89516e-8 6.89516e-8 6.84814e-8 6.84814e-8 6.98071e-8 6.89516e-8 6.60782e-8 6.60782e-8 3.6521e-8 0.0 0.0 0.0 0.0 0.0 0.0 0.0 0.0 0.0 0.0 3.86829e-9 7.42283e-8 6.54708e-8 6.89516e-8 7.1714e-8 7.47246e-8 7.65205e-8 6.94218e-8 6.89516e-8 6.89516e-8 6.84814e-8 6.7763e-8 6.7763e-8 6.82332e-8 6.7763e-8 6.63263e-8 6.37859e-8 2.47529e-8 0.0 0.0 0.0 0.0 0.0 0.0 0.0 0.0 0.0 0.0 0.0 5.05685e-9 7.14659e-8 6.7763e-8 7.1714e-8 7.61613e-8 8.02494e-8 8.7211e-8 8.69628e-8 8.57743e-8 8.69628e-8 8.60224e-8 8.53041e-8 7.14659e-8 7.1714e-8 7.02773e-8 6.50006e-8 1.15482e-8 0.0 0.0 0.0 0.0 0.0 0.0 0.0 0.0 0.0 0.0 0.0 0.0 5.47803e-8 5.69354e-8 5.45322e-8 6.40341e-8 3.28181e-8 0.0 0.0 0.0 0.0 0.0 3.8751e-10 1.39352e-10 3.8751e-10 1.39352e-10 1.96136e-9 0.0 0.0 0.0 0.0 0.0 0.0]\n",
            "Compare gradients to finite differences in point 2:\n",
            "Difference in b3: -1.3195633474794022e-10\n",
            "Difference in w3: [-1.00744e-10, 4.53458e-11, -9.38118e-11, 2.78218e-11]\n",
            "Difference in b2: [4.54413e-5, -1.84021e-5, -1.84918e-5, 0.0001023]\n",
            "Difference in W2: [2.60167e-5 2.15187e-5 2.37935e-5 2.08525e-5; -1.05358e-5 -8.71411e-6 -9.63576e-6 -8.44447e-6; -1.05871e-5 -8.75676e-6 -9.68265e-6 -8.48561e-6; 5.85701e-5 4.84444e-5 5.35656e-5 4.69446e-5]\n",
            "Difference in b3: [-2.20292e-8, -1.81067e-7, -1.90407e-7, 8.2129e-8]\n",
            "Difference in W1: [-8.89211e-10 -8.89211e-10 -8.89211e-10 -8.89211e-10 -8.89211e-10 -8.89211e-10 -8.89211e-10 -8.89211e-10 -8.89211e-10 -8.89211e-10 -1.10466e-9 -1.42783e-9 -8.89211e-10 -8.89211e-10 -8.89211e-10 -8.89211e-10 -8.89211e-10 -1.84882e-9 -8.89211e-10 -8.89211e-10 -8.89211e-10 -8.89211e-10 -8.89211e-10 -8.89211e-10 -8.89211e-10 -8.89211e-10 -8.89211e-10 -8.89211e-10 -8.89211e-10 -8.89211e-10 -8.89211e-10 -8.89211e-10 -8.89211e-10 -8.89211e-10 -8.89211e-10 -8.89211e-10 -8.89211e-10 -1.21238e-9 -8.89211e-10 -8.89211e-10 -3.12829e-9 -8.80131e-9 -9.76421e-9 -7.62296e-9 -8.89211e-10 -8.89211e-10 -8.89211e-10 -9.96934e-10 -8.89211e-10 -8.89211e-10 -8.89211e-10 -8.89211e-10 -8.89211e-10 -8.89211e-10 -8.89211e-10 -8.89211e-10 -9.96934e-10 -8.89211e-10 -1.10466e-9 -8.89211e-10 -8.89211e-10 -8.89211e-10 -8.89211e-10 -8.89211e-10 -1.21238e-9 -8.89211e-10 -1.52895e-9 -1.37269e-8 -1.68211e-8 -1.37203e-8 -1.31882e-8 -1.62825e-8 -1.84139e-8 -1.29794e-8 -8.89211e-10 -8.89211e-10 -9.96934e-10 -8.89211e-10 -8.89211e-10 -8.89211e-10 -8.89211e-10 -8.89211e-10 -8.89211e-10 -8.89211e-10 -1.10466e-9 -8.89211e-10 -8.89211e-10 -8.89211e-10 -8.89211e-10 -8.89211e-10 -8.89211e-10 -9.96934e-10 -8.89211e-10 -8.89211e-10 -1.3828e-8 -8.37701e-9 -8.89211e-10 -8.89211e-10 -8.89211e-10 -8.89211e-10 -8.89211e-10 -1.34037e-8 -1.08249e-8 -8.89211e-10 -1.3201e-9 -8.89211e-10 -8.89211e-10 -8.89211e-10 -8.89211e-10 -8.89211e-10 -8.89211e-10 -8.89211e-10 -8.89211e-10 -1.63667e-9 -1.07238e-8 -8.89211e-10 -1.53555e-9 -1.63667e-9 -1.10466e-9 -8.89211e-10 -8.89211e-10 -1.58582e-8 -1.12558e-8 -8.89211e-10 -1.10466e-9 -8.89211e-10 -8.89211e-10 -8.89211e-10 -8.89211e-10 -8.89211e-10 -1.90602e-8 -5.16843e-9 -8.89211e-10 -8.89211e-10 -1.10466e-9 -1.10466e-9 -1.3201e-9 -8.89211e-10 -1.52895e-9 -9.2322e-9 -8.89211e-10 -6.12803e-9 -8.59246e-9 -8.89211e-10 -8.89211e-10 -8.89211e-10 -8.89211e-10 -8.89211e-10 -8.89211e-10 -2.13158e-8 -7.41411e-9 -8.89211e-10 -8.89211e-10 -8.89211e-10 -8.89211e-10 -8.89211e-10 -8.89211e-10 -8.89211e-10 -1.84205e-8 -1.12558e-8 -8.89211e-10 -8.89211e-10 -8.89211e-10 -8.89211e-10 -8.89211e-10 -8.89211e-10 -1.63667e-9 -1.2764e-8 -8.89211e-10 -4.85186e-9 -1.1357e-8 -1.17944e-8 -1.00775e-8 -1.05084e-8 -7.19866e-9 -8.89211e-10 -3.12829e-9 -2.13158e-8 -7.30639e-9 -8.89211e-10 -8.89211e-10 -8.89211e-10 -8.89211e-10 -8.89211e-10 -8.89211e-10 -8.89211e-10 -1.70366e-8 -1.77741e-8 -1.52895e-9 -8.89211e-10 -8.89211e-10 -8.89211e-10 -8.89211e-10 -8.89211e-10 -8.16157e-9 -5.70704e-9 -8.89211e-10 -1.43567e-8 -2.20292e-8 -1.83127e-8 -1.92757e-8 -2.06694e-8 -2.20292e-8 -1.94845e-8 -1.9922e-8 -1.93768e-8 -1.8205e-8 -1.89525e-8 -1.8737e-8 -1.90602e-8 -1.9922e-8 -1.83127e-8 -1.76763e-8 -1.61814e-8 -1.92691e-8 -2.14169e-8 -2.00231e-8 -1.66057e-8 -2.05683e-8 -2.15312e-8 -2.14235e-8 -1.78819e-8 -2.06694e-8 -7.51523e-9 -8.89211e-10 -1.83127e-8 -2.16324e-8 -1.93768e-8 -1.90602e-8 -1.85282e-8 -1.84139e-8 -1.98143e-8 -1.9922e-8 -1.94845e-8 -1.9922e-8 -1.98143e-8 -1.89525e-8 -1.91613e-8 -1.79896e-8 -1.93768e-8 -1.94845e-8 -2.06694e-8 -2.00231e-8 -1.98077e-8 -2.00231e-8 -1.94845e-8 -1.85216e-8 -1.86293e-8 -1.90602e-8 -1.85282e-8 -1.93768e-8 -1.43633e-8 -4.20552e-9 -2.04606e-8 -2.19555e-8 -2.04606e-8 -2.01374e-8 -2.03529e-8 -2.01374e-8 -1.98077e-8 -2.01374e-8 -1.93768e-8 -1.9922e-8 -1.98143e-8 -1.9922e-8 -2.00231e-8 -7.30639e-9 -1.86293e-8 -2.01374e-8 -1.91613e-8 -2.06694e-8 -2.00231e-8 -1.9922e-8 -1.98143e-8 -1.85216e-8 -1.78819e-8 -1.84139e-8 -1.85216e-8 -1.98143e-8 -6.03021e-9 -2.27971e-9 -1.43633e-8 -2.11003e-8 -2.09926e-8 -2.08849e-8 -2.07772e-8 -2.07838e-8 -2.06694e-8 -2.03529e-8 -1.90602e-8 -2.01374e-8 -2.06694e-8 -2.0676e-8 -2.16324e-8 -2.20292e-8 -2.15312e-8 -2.07838e-8 -2.06694e-8 -2.0676e-8 -1.93768e-8 -1.94845e-8 -2.03529e-8 -2.08849e-8 -2.08849e-8 -2.05683e-8 -2.03529e-8 -2.04606e-8 -8.89211e-10 -1.3201e-9 -9.86204e-9 -2.20292e-8 -2.08849e-8 -2.08849e-8 -2.09926e-8 -2.07772e-8 -2.07838e-8 -2.04606e-8 -1.98143e-8 -2.04606e-8 -2.07772e-8 -2.08849e-8 -2.08849e-8 -2.0676e-8 -2.07838e-8 -2.04606e-8 -2.14235e-8 -2.05683e-8 -1.9922e-8 -2.03529e-8 -2.09926e-8 -2.07772e-8 -2.06694e-8 -2.06694e-8 -2.0676e-8 -2.12081e-8 -8.89211e-10 -1.10404e-8 -1.17944e-8 -2.20292e-8 -2.09926e-8 -2.07772e-8 -2.09926e-8 -2.07772e-8 -2.12081e-8 -2.05683e-8 -1.98077e-8 -2.07772e-8 -2.11003e-8 -2.0676e-8 -2.07772e-8 -2.06694e-8 -2.09926e-8 -2.12081e-8 -2.13158e-8 -2.11003e-8 -2.00231e-8 -2.01374e-8 -2.14235e-8 -2.06694e-8 -2.03529e-8 -2.05683e-8 -1.98143e-8 -2.15312e-8 -8.89211e-10 -2.01374e-8 -7.51523e-9 -2.20292e-8 -2.15312e-8 -2.06694e-8 -2.08849e-8 -2.06694e-8 -2.12081e-8 -2.03529e-8 -1.98077e-8 -2.08849e-8 -2.12081e-8 -2.06694e-8 -2.08849e-8 -2.09926e-8 -2.08849e-8 -2.09926e-8 -2.12081e-8 -2.06694e-8 -2.05683e-8 -2.03529e-8 -2.06694e-8 -2.04606e-8 -2.06694e-8 -2.00231e-8 -1.84139e-8 -1.8737e-8 -8.89211e-10 -2.0676e-8 -3.34374e-9 -2.20292e-8 -2.14169e-8 -2.0676e-8 -2.08849e-8 -2.06694e-8 -2.11003e-8 -2.03529e-8 -2.00231e-8 -2.09926e-8 -2.12081e-8 -2.07772e-8 -2.09926e-8 -2.09926e-8 -2.08849e-8 -2.07772e-8 -2.09926e-8 -2.0676e-8 -2.0676e-8 -2.05683e-8 -2.04606e-8 -2.0676e-8 -2.14169e-8 -2.08849e-8 -1.92757e-8 -1.85216e-8 -8.89211e-10 -1.89525e-8 -5.0673e-9 -2.20292e-8 -2.13158e-8 -2.0676e-8 -2.07772e-8 -2.0676e-8 -2.09926e-8 -2.00231e-8 -1.98077e-8 -2.07772e-8 -2.12081e-8 -2.07838e-8 -2.07772e-8 -2.07772e-8 -2.07838e-8 -2.0676e-8 -2.06694e-8 -2.05683e-8 -2.05683e-8 -2.05683e-8 -2.08849e-8 -2.12081e-8 -2.14235e-8 -2.12081e-8 -2.08849e-8 -1.92691e-8 -8.89211e-10 -1.53196e-8 -7.30639e-9 -2.20292e-8 -2.11003e-8 -2.04606e-8 -2.09926e-8 -2.07838e-8 -2.11003e-8 -2.03529e-8 -1.98077e-8 -2.06694e-8 -2.09926e-8 -2.0676e-8 -2.07838e-8 -2.0676e-8 -2.0676e-8 -2.05683e-8 -2.06694e-8 -2.06694e-8 -2.04606e-8 -2.0676e-8 -2.12081e-8 -2.12081e-8 -2.09926e-8 -2.09926e-8 -2.14235e-8 -1.93768e-8 -8.89211e-10 -1.2764e-8 -1.26562e-8 -2.20292e-8 -2.11003e-8 -2.06694e-8 -2.09926e-8 -2.06694e-8 -2.12081e-8 -2.04606e-8 -1.98077e-8 -2.07838e-8 -2.08849e-8 -2.05683e-8 -2.0676e-8 -2.0676e-8 -2.07838e-8 -2.06694e-8 -2.09926e-8 -2.09926e-8 -2.05683e-8 -2.05683e-8 -2.12081e-8 -2.08849e-8 -2.13158e-8 -2.09926e-8 -2.15246e-8 -1.93768e-8 -8.89211e-10 -9.96976e-9 -1.76763e-8 -2.15246e-8 -2.11003e-8 -2.08849e-8 -2.09926e-8 -2.07772e-8 -2.12081e-8 -2.04606e-8 -1.98077e-8 -2.07838e-8 -2.09926e-8 -2.06694e-8 -2.07772e-8 -2.07772e-8 -2.08849e-8 -2.08849e-8 -2.12081e-8 -2.08849e-8 -2.05683e-8 -2.05683e-8 -2.13158e-8 -2.09926e-8 -2.12081e-8 -2.09926e-8 -2.17401e-8 -1.86293e-8 -8.89211e-10 -7.09094e-9 -1.92757e-8 -2.09926e-8 -2.11003e-8 -2.07772e-8 -2.09926e-8 -2.07772e-8 -2.13158e-8 -2.04606e-8 -1.9922e-8 -2.06694e-8 -2.11003e-8 -2.07772e-8 -2.07772e-8 -2.08849e-8 -2.08849e-8 -2.09926e-8 -2.13158e-8 -2.09926e-8 -2.03529e-8 -2.04606e-8 -2.13158e-8 -2.12081e-8 -2.11003e-8 -2.11003e-8 -2.19555e-8 -1.80973e-8 -8.89211e-10 -4.42097e-9 -1.91679e-8 -2.0676e-8 -2.11003e-8 -2.08849e-8 -2.12081e-8 -2.08849e-8 -2.14235e-8 -2.05683e-8 -1.98077e-8 -2.07772e-8 -2.11003e-8 -2.08849e-8 -2.07772e-8 -2.07772e-8 -2.08849e-8 -2.08849e-8 -2.13158e-8 -2.11003e-8 -2.03529e-8 -2.03529e-8 -2.13158e-8 -2.13158e-8 -2.09926e-8 -2.09926e-8 -2.20292e-8 -1.76664e-8 -8.89211e-10 -9.96934e-10 -2.20292e-8 -2.12081e-8 -2.12081e-8 -2.07838e-8 -2.09926e-8 -2.12081e-8 -2.09926e-8 -2.03529e-8 -1.92691e-8 -2.05683e-8 -2.14169e-8 -2.08849e-8 -2.07772e-8 -2.07772e-8 -2.09926e-8 -2.08849e-8 -2.15312e-8 -2.07772e-8 -1.92691e-8 -1.94845e-8 -2.15312e-8 -2.09926e-8 -2.12081e-8 -2.06694e-8 -2.18478e-8 -1.77741e-8 -8.89211e-10 -8.89211e-10 -1.93768e-8 -2.20292e-8 -2.07838e-8 -2.12081e-8 -2.08849e-8 -2.13158e-8 -2.11003e-8 -2.05683e-8 -1.93768e-8 -2.04606e-8 -2.13158e-8 -2.0676e-8 -2.08849e-8 -2.08849e-8 -2.08849e-8 -2.07772e-8 -2.13158e-8 -2.04606e-8 -1.91679e-8 -1.9922e-8 -2.14169e-8 -2.11003e-8 -2.14235e-8 -2.07838e-8 -2.16324e-8 -1.69288e-8 -8.89211e-10 -8.89211e-10 -5.81476e-9 -2.20292e-8 -2.15312e-8 -2.09926e-8 -2.07772e-8 -2.09926e-8 -2.12081e-8 -2.03529e-8 -1.89525e-8 -1.98077e-8 -2.13158e-8 -2.09926e-8 -2.09926e-8 -2.07772e-8 -2.07772e-8 -2.05683e-8 -2.12081e-8 -2.08849e-8 -1.91613e-8 -2.01374e-8 -2.13158e-8 -2.07772e-8 -2.09926e-8 -2.05683e-8 -2.18478e-8 -1.61814e-8 -8.89211e-10 -8.89211e-10 -1.95654e-9 -2.19555e-8 -2.16324e-8 -2.16324e-8 -2.17401e-8 -2.18478e-8 -2.17401e-8 -2.16324e-8 -2.13158e-8 -2.0676e-8 -2.07772e-8 -2.04606e-8 -2.04606e-8 -2.03529e-8 -2.04606e-8 -2.03529e-8 -2.07772e-8 -1.92691e-8 -1.77741e-8 -1.86293e-8 -2.05683e-8 -2.05683e-8 -2.05683e-8 -2.01374e-8 -2.14169e-8 -1.36125e-8 -8.89211e-10 -8.89211e-10 -6.87549e-9 -2.20292e-8 -2.13158e-8 -2.13158e-8 -2.09926e-8 -2.09926e-8 -2.12081e-8 -2.11003e-8 -2.01374e-8 -2.13158e-8 -2.20292e-8 -2.20292e-8 -2.20292e-8 -2.20292e-8 -2.20292e-8 -2.20292e-8 -2.20292e-8 -2.18478e-8 -2.11003e-8 -2.15312e-8 -2.19555e-8 -2.15246e-8 -2.18478e-8 -2.16324e-8 -2.20292e-8 -1.55351e-8 -8.89211e-10 -8.89211e-10 -8.89211e-10 -1.04007e-8 -2.05683e-8 -2.20292e-8 -2.20292e-8 -2.20292e-8 -2.20292e-8 -2.13158e-8 -2.20292e-8 -1.8737e-8 -6.12803e-9 -7.40751e-9 -7.19866e-9 -7.30639e-9 -7.19866e-9 -6.4512e-9 -5.4916e-9 -9.86864e-9 -1.2764e-8 -7.40751e-9 -2.91945e-9 -2.81172e-9 -4.95958e-9 -5.16843e-9 -6.03021e-9 -1.10466e-9 -8.89211e-10 -8.89211e-10 -8.89211e-10 -8.89211e-10 -8.89211e-10 -2.81172e-9 -4.0978e-9 -7.29979e-9 -1.06161e-8 -1.09327e-8 -1.26562e-8 -2.91285e-9 -8.89211e-10 -8.89211e-10 -8.89211e-10 -8.89211e-10 -8.89211e-10 -8.89211e-10 -8.89211e-10 -8.89211e-10 -8.89211e-10 -8.89211e-10 -8.89211e-10 -8.89211e-10 -8.89211e-10 -8.89211e-10 -8.89211e-10 -8.89211e-10 -8.89211e-10; -7.70389e-9 -7.70389e-9 -7.70389e-9 -7.70389e-9 -7.70389e-9 -7.70389e-9 -7.70389e-9 -7.70389e-9 -7.70389e-9 -7.70389e-9 -8.83363e-9 -1.13609e-8 -7.70389e-9 -7.70389e-9 -7.70389e-9 -7.70389e-9 -7.70389e-9 -1.61476e-8 -7.70389e-9 -7.70389e-9 -7.70389e-9 -7.70389e-9 -7.70389e-9 -7.70389e-9 -7.70389e-9 -7.70389e-9 -7.70389e-9 -7.70389e-9 -7.70389e-9 -7.70389e-9 -7.70389e-9 -7.70389e-9 -7.70389e-9 -7.70389e-9 -7.70389e-9 -7.70389e-9 -7.70389e-9 -9.67605e-9 -7.70389e-9 -7.70389e-9 -2.75169e-8 -7.29943e-8 -8.05956e-8 -6.38191e-8 -7.70389e-9 -7.70389e-9 -7.70389e-9 -8.21325e-9 -7.70389e-9 -7.70389e-9 -7.70389e-9 -7.70389e-9 -7.70389e-9 -7.70389e-9 -7.70389e-9 -7.70389e-9 -8.21325e-9 -7.70389e-9 -8.83363e-9 -7.70389e-9 -7.70389e-9 -7.70389e-9 -7.70389e-9 -7.70389e-9 -9.67605e-9 -7.70389e-9 -1.3333e-8 -1.12e-7 -1.39016e-7 -1.13352e-7 -1.08565e-7 -1.35581e-7 -1.54774e-7 -1.05639e-7 -7.70389e-9 -7.70389e-9 -8.21325e-9 -7.70389e-9 -7.70389e-9 -7.70389e-9 -7.70389e-9 -7.70389e-9 -7.70389e-9 -7.70389e-9 -8.83363e-9 -7.70389e-9 -7.70389e-9 -7.70389e-9 -7.70389e-9 -7.70389e-9 -7.70389e-9 -8.21325e-9 -7.70389e-9 -7.70389e-9 -1.14194e-7 -6.89389e-8 -7.70389e-9 -7.70389e-9 -7.70389e-9 -7.70389e-9 -7.70389e-9 -1.09917e-7 -9.15666e-8 -7.70389e-9 -1.05185e-8 -7.70389e-9 -7.70389e-9 -7.70389e-9 -7.70389e-9 -7.70389e-9 -7.70389e-9 -7.70389e-9 -7.70389e-9 -1.39534e-8 -8.93724e-8 -7.70389e-9 -1.18702e-8 -1.39534e-8 -8.83363e-9 -7.70389e-9 -7.70389e-9 -1.31193e-7 -9.41591e-8 -7.70389e-9 -8.83363e-9 -7.70389e-9 -7.70389e-9 -7.70389e-9 -7.70389e-9 -7.70389e-9 -1.58829e-7 -4.24323e-8 -7.70389e-9 -7.70389e-9 -8.83363e-9 -8.83363e-9 -1.05185e-8 -7.70389e-9 -1.3333e-8 -7.60309e-8 -7.70389e-9 -5.0876e-8 -7.00687e-8 -7.70389e-9 -7.70389e-9 -7.70389e-9 -7.70389e-9 -7.70389e-9 -7.70389e-9 -1.75207e-7 -6.07825e-8 -7.70389e-9 -7.70389e-9 -7.70389e-9 -7.70389e-9 -7.70389e-9 -7.70389e-9 -7.70389e-9 -1.532e-7 -9.41591e-8 -7.70389e-9 -7.70389e-9 -7.70389e-9 -7.70389e-9 -7.70389e-9 -7.70389e-9 -1.39534e-8 -1.04288e-7 -7.70389e-9 -3.87753e-8 -9.63533e-8 -9.78161e-8 -8.5095e-8 -8.79096e-8 -5.94307e-8 -7.70389e-9 -2.75169e-8 -1.75207e-7 -6.01621e-8 -7.70389e-9 -7.70389e-9 -7.70389e-9 -7.70389e-9 -7.70389e-9 -7.70389e-9 -7.70389e-9 -1.40701e-7 -1.48923e-7 -1.3333e-8 -7.70389e-9 -7.70389e-9 -7.70389e-9 -7.70389e-9 -7.70389e-9 -6.72541e-8 -4.60892e-8 -7.70389e-9 -1.19823e-7 -1.81067e-7 -1.52357e-7 -1.60514e-7 -1.7093e-7 -1.81067e-7 -1.63328e-7 -1.64458e-7 -1.62486e-7 -1.51737e-7 -1.58209e-7 -1.56857e-7 -1.58829e-7 -1.64458e-7 -1.52357e-7 -1.46108e-7 -1.33165e-7 -1.61866e-7 -1.77401e-7 -1.66985e-7 -1.37664e-7 -1.68958e-7 -1.7667e-7 -1.7605e-7 -1.49765e-7 -1.7093e-7 -6.30877e-8 -7.70389e-9 -1.52357e-7 -1.78642e-7 -1.62486e-7 -1.58829e-7 -1.54042e-7 -1.54774e-7 -1.63949e-7 -1.64458e-7 -1.63328e-7 -1.64458e-7 -1.63949e-7 -1.58209e-7 -1.61134e-7 -1.50385e-7 -1.62486e-7 -1.63328e-7 -1.7093e-7 -1.66985e-7 -1.65301e-7 -1.66985e-7 -1.63328e-7 -1.55394e-7 -1.56014e-7 -1.58829e-7 -1.54042e-7 -1.62486e-7 -1.18472e-7 -3.44979e-8 -1.68115e-7 -1.81058e-7 -1.68115e-7 -1.65921e-7 -1.67606e-7 -1.65921e-7 -1.65301e-7 -1.65921e-7 -1.62486e-7 -1.64458e-7 -1.63949e-7 -1.64458e-7 -1.66985e-7 -6.01621e-8 -1.56014e-7 -1.65921e-7 -1.61134e-7 -1.7093e-7 -1.66985e-7 -1.64458e-7 -1.63949e-7 -1.55394e-7 -1.49765e-7 -1.54774e-7 -1.55394e-7 -1.63949e-7 -4.80614e-8 -1.89622e-8 -1.18472e-7 -1.74077e-7 -1.73235e-7 -1.72393e-7 -1.7155e-7 -1.7042e-7 -1.7093e-7 -1.67606e-7 -1.58829e-7 -1.65921e-7 -1.7093e-7 -1.69578e-7 -1.78642e-7 -1.81067e-7 -1.7667e-7 -1.7042e-7 -1.7093e-7 -1.69578e-7 -1.62486e-7 -1.63328e-7 -1.67606e-7 -1.72393e-7 -1.72393e-7 -1.68958e-7 -1.67606e-7 -1.68115e-7 -7.70389e-9 -1.05185e-8 -8.36322e-8 -1.81067e-7 -1.72393e-7 -1.72393e-7 -1.73235e-7 -1.7155e-7 -1.7042e-7 -1.68115e-7 -1.63949e-7 -1.68115e-7 -1.7155e-7 -1.72393e-7 -1.72393e-7 -1.69578e-7 -1.7042e-7 -1.68115e-7 -1.7605e-7 -1.68958e-7 -1.64458e-7 -1.67606e-7 -1.73235e-7 -1.7155e-7 -1.7093e-7 -1.7093e-7 -1.69578e-7 -1.74587e-7 -7.70389e-9 -9.26963e-8 -9.78161e-8 -1.81067e-7 -1.73235e-7 -1.7155e-7 -1.73235e-7 -1.7155e-7 -1.74587e-7 -1.68958e-7 -1.65301e-7 -1.7155e-7 -1.74077e-7 -1.69578e-7 -1.7155e-7 -1.7093e-7 -1.73235e-7 -1.74587e-7 -1.75207e-7 -1.74077e-7 -1.66985e-7 -1.65921e-7 -1.7605e-7 -1.7093e-7 -1.67606e-7 -1.68958e-7 -1.63949e-7 -1.7667e-7 -7.70389e-9 -1.65921e-7 -6.30877e-8 -1.81067e-7 -1.7667e-7 -1.7093e-7 -1.72393e-7 -1.7093e-7 -1.74587e-7 -1.67606e-7 -1.65301e-7 -1.72393e-7 -1.74587e-7 -1.7093e-7 -1.72393e-7 -1.73235e-7 -1.72393e-7 -1.73235e-7 -1.74587e-7 -1.7093e-7 -1.68958e-7 -1.67606e-7 -1.7093e-7 -1.68115e-7 -1.7093e-7 -1.66985e-7 -1.54774e-7 -1.56857e-7 -7.70389e-9 -1.69578e-7 -2.88687e-8 -1.81067e-7 -1.77401e-7 -1.69578e-7 -1.72393e-7 -1.7093e-7 -1.74077e-7 -1.67606e-7 -1.66985e-7 -1.73235e-7 -1.74587e-7 -1.7155e-7 -1.73235e-7 -1.73235e-7 -1.72393e-7 -1.7155e-7 -1.73235e-7 -1.69578e-7 -1.69578e-7 -1.68958e-7 -1.68115e-7 -1.69578e-7 -1.77401e-7 -1.72393e-7 -1.60514e-7 -1.55394e-7 -7.70389e-9 -1.58209e-7 -4.02381e-8 -1.81067e-7 -1.75207e-7 -1.69578e-7 -1.7155e-7 -1.69578e-7 -1.73235e-7 -1.66985e-7 -1.65301e-7 -1.7155e-7 -1.74587e-7 -1.7042e-7 -1.7155e-7 -1.7155e-7 -1.7042e-7 -1.69578e-7 -1.7093e-7 -1.68958e-7 -1.68958e-7 -1.68958e-7 -1.72393e-7 -1.74587e-7 -1.7605e-7 -1.74587e-7 -1.72393e-7 -1.61866e-7 -7.70389e-9 -1.27758e-7 -6.01621e-8 -1.81067e-7 -1.74077e-7 -1.68115e-7 -1.73235e-7 -1.7042e-7 -1.74077e-7 -1.67606e-7 -1.65301e-7 -1.7093e-7 -1.73235e-7 -1.69578e-7 -1.7042e-7 -1.69578e-7 -1.69578e-7 -1.68958e-7 -1.7093e-7 -1.7093e-7 -1.68115e-7 -1.69578e-7 -1.74587e-7 -1.74587e-7 -1.73235e-7 -1.73235e-7 -1.7605e-7 -1.62486e-7 -7.70389e-9 -1.04288e-7 -1.03445e-7 -1.81067e-7 -1.74077e-7 -1.7093e-7 -1.73235e-7 -1.7093e-7 -1.74587e-7 -1.68115e-7 -1.65301e-7 -1.7042e-7 -1.72393e-7 -1.68958e-7 -1.69578e-7 -1.69578e-7 -1.7042e-7 -1.7093e-7 -1.73235e-7 -1.73235e-7 -1.68958e-7 -1.68958e-7 -1.74587e-7 -1.72393e-7 -1.75207e-7 -1.73235e-7 -1.78022e-7 -1.62486e-7 -7.70389e-9 -8.42526e-8 -1.46108e-7 -1.78022e-7 -1.74077e-7 -1.72393e-7 -1.73235e-7 -1.7155e-7 -1.74587e-7 -1.68115e-7 -1.65301e-7 -1.7042e-7 -1.73235e-7 -1.7093e-7 -1.7155e-7 -1.7155e-7 -1.72393e-7 -1.72393e-7 -1.74587e-7 -1.72393e-7 -1.68958e-7 -1.68958e-7 -1.75207e-7 -1.73235e-7 -1.74587e-7 -1.73235e-7 -1.79707e-7 -1.56014e-7 -7.70389e-9 -5.88104e-8 -1.60514e-7 -1.73235e-7 -1.74077e-7 -1.7155e-7 -1.73235e-7 -1.7155e-7 -1.75207e-7 -1.68115e-7 -1.64458e-7 -1.7093e-7 -1.74077e-7 -1.7155e-7 -1.7155e-7 -1.72393e-7 -1.72393e-7 -1.73235e-7 -1.75207e-7 -1.73235e-7 -1.67606e-7 -1.68115e-7 -1.75207e-7 -1.74587e-7 -1.74077e-7 -1.74077e-7 -1.81058e-7 -1.51228e-7 -7.70389e-9 -3.61827e-8 -1.59671e-7 -1.69578e-7 -1.74077e-7 -1.72393e-7 -1.74587e-7 -1.72393e-7 -1.7605e-7 -1.68958e-7 -1.65301e-7 -1.7155e-7 -1.74077e-7 -1.72393e-7 -1.7155e-7 -1.7155e-7 -1.72393e-7 -1.72393e-7 -1.75207e-7 -1.74077e-7 -1.67606e-7 -1.67606e-7 -1.75207e-7 -1.75207e-7 -1.73235e-7 -1.73235e-7 -1.81067e-7 -1.48302e-7 -7.70389e-9 -8.21325e-9 -1.81067e-7 -1.74587e-7 -1.74587e-7 -1.7042e-7 -1.73235e-7 -1.74587e-7 -1.73235e-7 -1.67606e-7 -1.61866e-7 -1.68958e-7 -1.77401e-7 -1.72393e-7 -1.7155e-7 -1.7155e-7 -1.73235e-7 -1.72393e-7 -1.7667e-7 -1.7155e-7 -1.61866e-7 -1.63328e-7 -1.7667e-7 -1.73235e-7 -1.74587e-7 -1.7093e-7 -1.80327e-7 -1.48923e-7 -7.70389e-9 -7.70389e-9 -1.62486e-7 -1.81067e-7 -1.7042e-7 -1.74587e-7 -1.72393e-7 -1.75207e-7 -1.74077e-7 -1.68958e-7 -1.62486e-7 -1.68115e-7 -1.75207e-7 -1.69578e-7 -1.72393e-7 -1.72393e-7 -1.72393e-7 -1.7155e-7 -1.75207e-7 -1.68115e-7 -1.59671e-7 -1.64458e-7 -1.77401e-7 -1.74077e-7 -1.7605e-7 -1.7042e-7 -1.78642e-7 -1.39636e-7 -7.70389e-9 -7.70389e-9 -4.67096e-8 -1.81067e-7 -1.7667e-7 -1.73235e-7 -1.7155e-7 -1.73235e-7 -1.74587e-7 -1.67606e-7 -1.58209e-7 -1.65301e-7 -1.75207e-7 -1.73235e-7 -1.73235e-7 -1.7155e-7 -1.7155e-7 -1.68958e-7 -1.74587e-7 -1.72393e-7 -1.61134e-7 -1.65921e-7 -1.75207e-7 -1.7155e-7 -1.73235e-7 -1.68958e-7 -1.80327e-7 -1.33165e-7 -7.70389e-9 -7.70389e-9 -1.699e-8 -1.81058e-7 -1.78642e-7 -1.78642e-7 -1.79707e-7 -1.80327e-7 -1.79707e-7 -1.78642e-7 -1.75207e-7 -1.69578e-7 -1.7155e-7 -1.68115e-7 -1.68115e-7 -1.67606e-7 -1.68115e-7 -1.67606e-7 -1.7155e-7 -1.61866e-7 -1.48923e-7 -1.56014e-7 -1.68958e-7 -1.68958e-7 -1.68958e-7 -1.65921e-7 -1.77401e-7 -1.12731e-7 -7.70389e-9 -7.70389e-9 -5.73476e-8 -1.81067e-7 -1.75207e-7 -1.75207e-7 -1.73235e-7 -1.73235e-7 -1.74587e-7 -1.74077e-7 -1.65921e-7 -1.75207e-7 -1.81067e-7 -1.81067e-7 -1.81067e-7 -1.81067e-7 -1.81067e-7 -1.81067e-7 -1.81067e-7 -1.80327e-7 -1.74077e-7 -1.7667e-7 -1.81058e-7 -1.78022e-7 -1.80327e-7 -1.78642e-7 -1.81067e-7 -1.29109e-7 -7.70389e-9 -7.70389e-9 -7.70389e-9 -8.70671e-8 -1.68958e-7 -1.81067e-7 -1.81067e-7 -1.81067e-7 -1.81067e-7 -1.75207e-7 -1.81067e-7 -1.56857e-7 -5.0876e-8 -6.24673e-8 -5.94307e-8 -6.01621e-8 -5.94307e-8 -5.31812e-8 -4.46264e-8 -8.22804e-8 -1.04288e-7 -6.24673e-8 -2.45914e-8 -2.4082e-8 -3.96177e-8 -4.24323e-8 -4.80614e-8 -8.83363e-9 -7.70389e-9 -7.70389e-9 -7.70389e-9 -7.70389e-9 -7.70389e-9 -2.4082e-8 -3.39885e-8 -6.14029e-8 -8.8752e-8 -9.21869e-8 -1.03445e-7 -2.60541e-8 -7.70389e-9 -7.70389e-9 -7.70389e-9 -7.70389e-9 -7.70389e-9 -7.70389e-9 -7.70389e-9 -7.70389e-9 -7.70389e-9 -7.70389e-9 -7.70389e-9 -7.70389e-9 -7.70389e-9 -7.70389e-9 -7.70389e-9 -7.70389e-9 -7.70389e-9; -7.9304e-9 -7.9304e-9 -7.9304e-9 -7.9304e-9 -7.9304e-9 -7.9304e-9 -7.9304e-9 -7.9304e-9 -7.9304e-9 -7.9304e-9 -9.2788e-9 -1.1912e-8 -7.9304e-9 -7.9304e-9 -7.9304e-9 -7.9304e-9 -7.9304e-9 -1.6798e-8 -7.9304e-9 -7.9304e-9 -7.9304e-9 -7.9304e-9 -7.9304e-9 -7.9304e-9 -7.9304e-9 -7.9304e-9 -7.9304e-9 -7.9304e-9 -7.9304e-9 -7.9304e-9 -7.9304e-9 -7.9304e-9 -7.9304e-9 -7.9304e-9 -7.9304e-9 -7.9304e-9 -7.9304e-9 -1.00085e-8 -7.9304e-9 -7.9304e-9 -2.90286e-8 -7.67295e-8 -8.48674e-8 -6.67991e-8 -7.9304e-9 -7.9304e-9 -7.9304e-9 -8.66011e-9 -7.9304e-9 -7.9304e-9 -7.9304e-9 -7.9304e-9 -7.9304e-9 -7.9304e-9 -7.9304e-9 -7.9304e-9 -8.66011e-9 -7.9304e-9 -9.2788e-9 -7.9304e-9 -7.9304e-9 -7.9304e-9 -7.9304e-9 -7.9304e-9 -1.00085e-8 -7.9304e-9 -1.39902e-8 -1.1753e-7 -1.45925e-7 -1.19434e-7 -1.13992e-7 -1.42388e-7 -1.62645e-7 -1.10741e-7 -7.9304e-9 -7.9304e-9 -8.66011e-9 -7.9304e-9 -7.9304e-9 -7.9304e-9 -7.9304e-9 -7.9304e-9 -7.9304e-9 -7.9304e-9 -9.2788e-9 -7.9304e-9 -7.9304e-9 -7.9304e-9 -7.9304e-9 -7.9304e-9 -7.9304e-9 -8.66011e-9 -7.9304e-9 -7.9304e-9 -1.20163e-7 -7.22402e-8 -7.9304e-9 -7.9304e-9 -7.9304e-9 -7.9304e-9 -7.9304e-9 -1.15452e-7 -9.59242e-8 -7.9304e-9 -1.11823e-8 -7.9304e-9 -7.9304e-9 -7.9304e-9 -7.9304e-9 -7.9304e-9 -7.9304e-9 -7.9304e-9 -7.9304e-9 -1.47199e-8 -9.3846e-8 -7.9304e-9 -1.26418e-8 -1.47199e-8 -9.2788e-9 -7.9304e-9 -7.9304e-9 -1.37676e-7 -9.8954e-8 -7.9304e-9 -9.2788e-9 -7.9304e-9 -7.9304e-9 -7.9304e-9 -7.9304e-9 -7.9304e-9 -1.66801e-7 -4.45746e-8 -7.9304e-9 -7.9304e-9 -9.2788e-9 -9.2788e-9 -1.11823e-8 -7.9304e-9 -1.39902e-8 -7.97594e-8 -7.9304e-9 -5.34422e-8 -7.35886e-8 -7.9304e-9 -7.9304e-9 -7.9304e-9 -7.9304e-9 -7.9304e-9 -7.9304e-9 -1.84251e-7 -6.39913e-8 -7.9304e-9 -7.9304e-9 -7.9304e-9 -7.9304e-9 -7.9304e-9 -7.9304e-9 -7.9304e-9 -1.60742e-7 -9.8954e-8 -7.9304e-9 -7.9304e-9 -7.9304e-9 -7.9304e-9 -7.9304e-9 -7.9304e-9 -1.47199e-8 -1.09503e-7 -7.9304e-9 -4.10371e-8 -1.01365e-7 -1.02714e-7 -8.91347e-8 -9.23866e-8 -6.26429e-8 -7.9304e-9 -2.90286e-8 -1.84251e-7 -6.32616e-8 -7.9304e-9 -7.9304e-9 -7.9304e-9 -7.9304e-9 -7.9304e-9 -7.9304e-9 -7.9304e-9 -1.47829e-7 -1.56474e-7 -1.39902e-8 -7.9304e-9 -7.9304e-9 -7.9304e-9 -7.9304e-9 -7.9304e-9 -7.07808e-8 -4.83342e-8 -7.9304e-9 -1.26001e-7 -1.90407e-7 -1.60234e-7 -1.68483e-7 -1.79762e-7 -1.90407e-7 -1.71513e-7 -1.72972e-7 -1.70783e-7 -1.59504e-7 -1.66183e-7 -1.64723e-7 -1.66801e-7 -1.72972e-7 -1.60234e-7 -1.53445e-7 -1.4031e-7 -1.70164e-7 -1.86329e-7 -1.7505e-7 -1.44577e-7 -1.7735e-7 -1.85599e-7 -1.8487e-7 -1.57204e-7 -1.79762e-7 -6.60694e-8 -7.9304e-9 -1.60234e-7 -1.87678e-7 -1.70783e-7 -1.66801e-7 -1.61915e-7 -1.62645e-7 -1.72242e-7 -1.72972e-7 -1.71513e-7 -1.72972e-7 -1.72242e-7 -1.66183e-7 -1.69435e-7 -1.58156e-7 -1.70783e-7 -1.71513e-7 -1.79762e-7 -1.7505e-7 -1.73591e-7 -1.7505e-7 -1.71513e-7 -1.63264e-7 -1.63994e-7 -1.66801e-7 -1.61915e-7 -1.70783e-7 -1.24319e-7 -3.63257e-8 -1.76732e-7 -1.90089e-7 -1.76732e-7 -1.74321e-7 -1.76002e-7 -1.74321e-7 -1.73591e-7 -1.74321e-7 -1.70783e-7 -1.72972e-7 -1.72242e-7 -1.72972e-7 -1.7505e-7 -6.32616e-8 -1.63994e-7 -1.74321e-7 -1.69435e-7 -1.79762e-7 -1.7505e-7 -1.72972e-7 -1.72242e-7 -1.63264e-7 -1.57204e-7 -1.62645e-7 -1.63264e-7 -1.72242e-7 -5.06344e-8 -2.00499e-8 -1.24319e-7 -1.8257e-7 -1.8184e-7 -1.8111e-7 -1.80491e-7 -1.7881e-7 -1.79762e-7 -1.76002e-7 -1.66801e-7 -1.74321e-7 -1.79762e-7 -1.7808e-7 -1.87678e-7 -1.90407e-7 -1.85599e-7 -1.7881e-7 -1.79762e-7 -1.7808e-7 -1.70783e-7 -1.71513e-7 -1.76002e-7 -1.8111e-7 -1.8111e-7 -1.7735e-7 -1.76002e-7 -1.76732e-7 -7.9304e-9 -1.11823e-8 -8.76753e-8 -1.90407e-7 -1.8111e-7 -1.8111e-7 -1.8184e-7 -1.80491e-7 -1.7881e-7 -1.76732e-7 -1.72242e-7 -1.76732e-7 -1.80491e-7 -1.8111e-7 -1.8111e-7 -1.7808e-7 -1.7881e-7 -1.76732e-7 -1.8487e-7 -1.7735e-7 -1.72972e-7 -1.76002e-7 -1.8184e-7 -1.80491e-7 -1.79762e-7 -1.79762e-7 -1.7808e-7 -1.83521e-7 -7.9304e-9 -9.76056e-8 -1.02714e-7 -1.90407e-7 -1.8184e-7 -1.80491e-7 -1.8184e-7 -1.80491e-7 -1.83521e-7 -1.7735e-7 -1.73591e-7 -1.80491e-7 -1.8257e-7 -1.7808e-7 -1.80491e-7 -1.79762e-7 -1.8184e-7 -1.83521e-7 -1.84251e-7 -1.8257e-7 -1.7505e-7 -1.74321e-7 -1.8487e-7 -1.79762e-7 -1.76002e-7 -1.7735e-7 -1.72242e-7 -1.85599e-7 -7.9304e-9 -1.74321e-7 -6.60694e-8 -1.90407e-7 -1.85599e-7 -1.79762e-7 -1.8111e-7 -1.79762e-7 -1.83521e-7 -1.76002e-7 -1.73591e-7 -1.8111e-7 -1.83521e-7 -1.79762e-7 -1.8111e-7 -1.8184e-7 -1.8111e-7 -1.8184e-7 -1.83521e-7 -1.79762e-7 -1.7735e-7 -1.76002e-7 -1.79762e-7 -1.76732e-7 -1.79762e-7 -1.7505e-7 -1.62645e-7 -1.64723e-7 -7.9304e-9 -1.7808e-7 -3.0377e-8 -1.90407e-7 -1.86329e-7 -1.7808e-7 -1.8111e-7 -1.79762e-7 -1.8257e-7 -1.76002e-7 -1.7505e-7 -1.8184e-7 -1.83521e-7 -1.80491e-7 -1.8184e-7 -1.8184e-7 -1.8111e-7 -1.80491e-7 -1.8184e-7 -1.7808e-7 -1.7808e-7 -1.7735e-7 -1.76732e-7 -1.7808e-7 -1.86329e-7 -1.8111e-7 -1.68483e-7 -1.63264e-7 -7.9304e-9 -1.66183e-7 -4.23855e-8 -1.90407e-7 -1.84251e-7 -1.7808e-7 -1.80491e-7 -1.7808e-7 -1.8184e-7 -1.7505e-7 -1.73591e-7 -1.80491e-7 -1.83521e-7 -1.7881e-7 -1.80491e-7 -1.80491e-7 -1.7881e-7 -1.7808e-7 -1.79762e-7 -1.7735e-7 -1.7735e-7 -1.7735e-7 -1.8111e-7 -1.83521e-7 -1.8487e-7 -1.83521e-7 -1.8111e-7 -1.70164e-7 -7.9304e-9 -1.3425e-7 -6.32616e-8 -1.90407e-7 -1.8257e-7 -1.76732e-7 -1.8184e-7 -1.7881e-7 -1.8257e-7 -1.76002e-7 -1.73591e-7 -1.79762e-7 -1.8184e-7 -1.7808e-7 -1.7881e-7 -1.7808e-7 -1.7808e-7 -1.7735e-7 -1.79762e-7 -1.79762e-7 -1.76732e-7 -1.7808e-7 -1.83521e-7 -1.83521e-7 -1.8184e-7 -1.8184e-7 -1.8487e-7 -1.70783e-7 -7.9304e-9 -1.09503e-7 -1.08884e-7 -1.90407e-7 -1.8257e-7 -1.79762e-7 -1.8184e-7 -1.79762e-7 -1.83521e-7 -1.76732e-7 -1.73591e-7 -1.7881e-7 -1.8111e-7 -1.7735e-7 -1.7808e-7 -1.7808e-7 -1.7881e-7 -1.79762e-7 -1.8184e-7 -1.8184e-7 -1.7735e-7 -1.7735e-7 -1.83521e-7 -1.8111e-7 -1.84251e-7 -1.8184e-7 -1.87059e-7 -1.70783e-7 -7.9304e-9 -8.8405e-8 -1.53445e-7 -1.87059e-7 -1.8257e-7 -1.8111e-7 -1.8184e-7 -1.80491e-7 -1.83521e-7 -1.76732e-7 -1.73591e-7 -1.7881e-7 -1.8184e-7 -1.79762e-7 -1.80491e-7 -1.80491e-7 -1.8111e-7 -1.8111e-7 -1.83521e-7 -1.8111e-7 -1.7735e-7 -1.7735e-7 -1.84251e-7 -1.8184e-7 -1.83521e-7 -1.8184e-7 -1.88407e-7 -1.63994e-7 -7.9304e-9 -6.19132e-8 -1.68483e-7 -1.8184e-7 -1.8257e-7 -1.80491e-7 -1.8184e-7 -1.80491e-7 -1.84251e-7 -1.76732e-7 -1.72972e-7 -1.79762e-7 -1.8257e-7 -1.80491e-7 -1.80491e-7 -1.8111e-7 -1.8111e-7 -1.8184e-7 -1.84251e-7 -1.8184e-7 -1.76002e-7 -1.76732e-7 -1.84251e-7 -1.83521e-7 -1.8257e-7 -1.8257e-7 -1.90089e-7 -1.58886e-7 -7.9304e-9 -3.76741e-8 -1.67531e-7 -1.7808e-7 -1.8257e-7 -1.8111e-7 -1.83521e-7 -1.8111e-7 -1.8487e-7 -1.7735e-7 -1.73591e-7 -1.80491e-7 -1.8257e-7 -1.8111e-7 -1.80491e-7 -1.80491e-7 -1.8111e-7 -1.8111e-7 -1.84251e-7 -1.8257e-7 -1.76002e-7 -1.76002e-7 -1.84251e-7 -1.84251e-7 -1.8184e-7 -1.8184e-7 -1.90407e-7 -1.55856e-7 -7.9304e-9 -8.66011e-9 -1.90407e-7 -1.83521e-7 -1.83521e-7 -1.7881e-7 -1.8184e-7 -1.83521e-7 -1.8184e-7 -1.76002e-7 -1.70164e-7 -1.7735e-7 -1.86329e-7 -1.8111e-7 -1.80491e-7 -1.80491e-7 -1.8184e-7 -1.8111e-7 -1.85599e-7 -1.80491e-7 -1.70164e-7 -1.71513e-7 -1.85599e-7 -1.8184e-7 -1.83521e-7 -1.79762e-7 -1.89137e-7 -1.56474e-7 -7.9304e-9 -7.9304e-9 -1.70783e-7 -1.90407e-7 -1.7881e-7 -1.83521e-7 -1.8111e-7 -1.84251e-7 -1.8257e-7 -1.7735e-7 -1.70783e-7 -1.76732e-7 -1.84251e-7 -1.7808e-7 -1.8111e-7 -1.8111e-7 -1.8111e-7 -1.80491e-7 -1.84251e-7 -1.76732e-7 -1.67531e-7 -1.72972e-7 -1.86329e-7 -1.8257e-7 -1.8487e-7 -1.7881e-7 -1.87678e-7 -1.46655e-7 -7.9304e-9 -7.9304e-9 -4.89529e-8 -1.90407e-7 -1.85599e-7 -1.8184e-7 -1.80491e-7 -1.8184e-7 -1.83521e-7 -1.76002e-7 -1.66183e-7 -1.73591e-7 -1.84251e-7 -1.8184e-7 -1.8184e-7 -1.80491e-7 -1.80491e-7 -1.7735e-7 -1.83521e-7 -1.8111e-7 -1.69435e-7 -1.74321e-7 -1.84251e-7 -1.80491e-7 -1.8184e-7 -1.7735e-7 -1.89137e-7 -1.4031e-7 -7.9304e-9 -7.9304e-9 -1.75277e-8 -1.90089e-7 -1.87678e-7 -1.87678e-7 -1.88407e-7 -1.89137e-7 -1.88407e-7 -1.87678e-7 -1.84251e-7 -1.7808e-7 -1.80491e-7 -1.76732e-7 -1.76732e-7 -1.76002e-7 -1.76732e-7 -1.76002e-7 -1.80491e-7 -1.70164e-7 -1.56474e-7 -1.63994e-7 -1.7735e-7 -1.7735e-7 -1.7735e-7 -1.74321e-7 -1.86329e-7 -1.18482e-7 -7.9304e-9 -7.9304e-9 -6.00097e-8 -1.90407e-7 -1.84251e-7 -1.84251e-7 -1.8184e-7 -1.8184e-7 -1.83521e-7 -1.8257e-7 -1.74321e-7 -1.84251e-7 -1.90407e-7 -1.90407e-7 -1.90407e-7 -1.90407e-7 -1.90407e-7 -1.90407e-7 -1.90407e-7 -1.89137e-7 -1.8257e-7 -1.85599e-7 -1.90089e-7 -1.87059e-7 -1.89137e-7 -1.87678e-7 -1.90407e-7 -1.35598e-7 -7.9304e-9 -7.9304e-9 -7.9304e-9 -9.16569e-8 -1.7735e-7 -1.90407e-7 -1.90407e-7 -1.90407e-7 -1.90407e-7 -1.84251e-7 -1.90407e-7 -1.64723e-7 -5.34422e-8 -6.54507e-8 -6.26429e-8 -6.32616e-8 -6.26429e-8 -5.57424e-8 -4.68748e-8 -8.63268e-8 -1.09503e-7 -6.54507e-8 -2.59987e-8 -2.5269e-8 -4.16558e-8 -4.45746e-8 -5.06344e-8 -9.2788e-9 -7.9304e-9 -7.9304e-9 -7.9304e-9 -7.9304e-9 -7.9304e-9 -2.5269e-8 -3.5596e-8 -6.4721e-8 -9.31163e-8 -9.66539e-8 -1.08884e-7 -2.73471e-8 -7.9304e-9 -7.9304e-9 -7.9304e-9 -7.9304e-9 -7.9304e-9 -7.9304e-9 -7.9304e-9 -7.9304e-9 -7.9304e-9 -7.9304e-9 -7.9304e-9 -7.9304e-9 -7.9304e-9 -7.9304e-9 -7.9304e-9 -7.9304e-9 -7.9304e-9; 3.70484e-9 3.70484e-9 3.70484e-9 3.70484e-9 3.70484e-9 3.70484e-9 3.70484e-9 3.70484e-9 3.70484e-9 3.70484e-9 4.17919e-9 5.00174e-9 3.70484e-9 3.70484e-9 3.70484e-9 3.70484e-9 3.70484e-9 7.3281e-9 3.70484e-9 3.70484e-9 3.70484e-9 3.70484e-9 3.70484e-9 3.70484e-9 3.70484e-9 3.70484e-9 3.70484e-9 3.70484e-9 3.70484e-9 3.70484e-9 3.70484e-9 3.70484e-9 3.70484e-9 3.70484e-9 3.70484e-9 3.70484e-9 3.70484e-9 4.41636e-9 3.70484e-9 3.70484e-9 1.24552e-8 3.28524e-8 3.66826e-8 2.877e-8 3.70484e-9 3.70484e-9 3.70484e-9 3.94201e-9 3.70484e-9 3.70484e-9 3.70484e-9 3.70484e-9 3.70484e-9 3.70484e-9 3.70484e-9 3.70484e-9 3.94201e-9 3.70484e-9 4.17919e-9 3.70484e-9 3.70484e-9 3.70484e-9 3.70484e-9 3.70484e-9 4.41636e-9 3.70484e-9 6.15735e-9 5.056e-8 6.26813e-8 5.12564e-8 4.90411e-8 6.13844e-8 7.01196e-8 4.76483e-8 3.70484e-9 3.70484e-9 3.94201e-9 3.70484e-9 3.70484e-9 3.70484e-9 3.70484e-9 3.70484e-9 3.70484e-9 3.70484e-9 4.17919e-9 3.70484e-9 3.70484e-9 3.70484e-9 3.70484e-9 3.70484e-9 3.70484e-9 3.94201e-9 3.70484e-9 3.70484e-9 5.17156e-8 3.10963e-8 3.70484e-9 3.70484e-9 3.70484e-9 3.70484e-9 3.70484e-9 4.96264e-8 4.13505e-8 3.70484e-9 4.76456e-9 3.70484e-9 3.70484e-9 3.70484e-9 3.70484e-9 3.70484e-9 3.70484e-9 3.70484e-9 3.70484e-9 6.39453e-9 4.05279e-8 3.70484e-9 5.23891e-9 6.39453e-9 4.17919e-9 3.70484e-9 3.70484e-9 5.92952e-8 4.27432e-8 3.70484e-9 4.17919e-9 3.70484e-9 3.70484e-9 3.70484e-9 3.70484e-9 3.70484e-9 7.18757e-8 1.92122e-8 3.70484e-9 3.70484e-9 4.17919e-9 4.17919e-9 4.76456e-9 3.70484e-9 6.15735e-9 3.44673e-8 3.70484e-9 2.29465e-8 3.16817e-8 3.70484e-9 3.70484e-9 3.70484e-9 3.70484e-9 3.70484e-9 3.70484e-9 7.93291e-8 2.77102e-8 3.70484e-9 3.70484e-9 3.70484e-9 3.70484e-9 3.70484e-9 3.70484e-9 3.70484e-9 6.92012e-8 4.27432e-8 3.70484e-9 3.70484e-9 3.70484e-9 3.70484e-9 3.70484e-9 3.70484e-9 6.39453e-9 4.71739e-8 3.70484e-9 1.75822e-8 4.35658e-8 4.40401e-8 3.84387e-8 3.98315e-8 2.67918e-8 3.70484e-9 1.24552e-8 7.93291e-8 2.7251e-8 3.70484e-9 3.70484e-9 3.70484e-9 3.70484e-9 3.70484e-9 3.70484e-9 3.70484e-9 6.35997e-8 6.7445e-8 6.15735e-9 3.70484e-9 3.70484e-9 3.70484e-9 3.70484e-9 3.70484e-9 3.03999e-8 2.07311e-8 3.70484e-9 5.41681e-8 8.2129e-8 6.87419e-8 7.25721e-8 7.724e-8 8.2129e-8 7.36318e-8 7.43282e-8 7.35057e-8 6.85048e-8 7.16385e-8 7.09421e-8 7.18757e-8 7.43282e-8 6.87419e-8 6.60522e-8 6.02288e-8 7.32685e-8 8.01517e-8 7.52618e-8 6.22069e-8 7.64174e-8 7.99145e-8 7.95663e-8 6.75712e-8 7.724e-8 2.86438e-8 3.70484e-9 6.87419e-8 8.0626e-8 7.35057e-8 7.18757e-8 6.98824e-8 7.01196e-8 7.40911e-8 7.43282e-8 7.36318e-8 7.43282e-8 7.40911e-8 7.16385e-8 7.28093e-8 6.80304e-8 7.35057e-8 7.36318e-8 7.724e-8 7.52618e-8 7.45654e-8 7.52618e-8 7.36318e-8 7.03568e-8 7.0816e-8 7.18757e-8 6.98824e-8 7.35057e-8 5.34717e-8 1.58261e-8 7.61802e-8 8.20037e-8 7.61802e-8 7.50246e-8 7.59431e-8 7.50246e-8 7.45654e-8 7.50246e-8 7.35057e-8 7.43282e-8 7.40911e-8 7.43282e-8 7.52618e-8 2.7251e-8 7.0816e-8 7.50246e-8 7.28093e-8 7.724e-8 7.52618e-8 7.43282e-8 7.40911e-8 7.03568e-8 6.75712e-8 7.01196e-8 7.03568e-8 7.40911e-8 2.18868e-8 8.38782e-9 5.34717e-8 7.86328e-8 7.81735e-8 7.79364e-8 7.76992e-8 7.70028e-8 7.724e-8 7.59431e-8 7.18757e-8 7.50246e-8 7.724e-8 7.68766e-8 8.0626e-8 8.2129e-8 7.99145e-8 7.70028e-8 7.724e-8 7.68766e-8 7.35057e-8 7.36318e-8 7.59431e-8 7.79364e-8 7.79364e-8 7.64174e-8 7.59431e-8 7.61802e-8 3.70484e-9 4.76456e-9 3.77423e-8 8.2129e-8 7.79364e-8 7.79364e-8 7.81735e-8 7.76992e-8 7.70028e-8 7.61802e-8 7.40911e-8 7.61802e-8 7.76992e-8 7.79364e-8 7.79364e-8 7.68766e-8 7.70028e-8 7.61802e-8 7.95663e-8 7.64174e-8 7.43282e-8 7.59431e-8 7.81735e-8 7.76992e-8 7.724e-8 7.724e-8 7.68766e-8 7.9092e-8 3.70484e-9 4.20469e-8 4.40401e-8 8.2129e-8 7.81735e-8 7.76992e-8 7.81735e-8 7.76992e-8 7.9092e-8 7.64174e-8 7.45654e-8 7.76992e-8 7.86328e-8 7.68766e-8 7.76992e-8 7.724e-8 7.81735e-8 7.9092e-8 7.93291e-8 7.86328e-8 7.52618e-8 7.50246e-8 7.95663e-8 7.724e-8 7.59431e-8 7.64174e-8 7.40911e-8 7.99145e-8 3.70484e-9 7.50246e-8 2.86438e-8 8.2129e-8 7.99145e-8 7.724e-8 7.79364e-8 7.724e-8 7.9092e-8 7.59431e-8 7.45654e-8 7.79364e-8 7.9092e-8 7.724e-8 7.79364e-8 7.81735e-8 7.79364e-8 7.81735e-8 7.9092e-8 7.724e-8 7.64174e-8 7.59431e-8 7.724e-8 7.61802e-8 7.724e-8 7.52618e-8 7.01196e-8 7.09421e-8 3.70484e-9 7.68766e-8 1.31516e-8 8.2129e-8 8.01517e-8 7.68766e-8 7.79364e-8 7.724e-8 7.86328e-8 7.59431e-8 7.52618e-8 7.81735e-8 7.9092e-8 7.76992e-8 7.81735e-8 7.81735e-8 7.79364e-8 7.76992e-8 7.81735e-8 7.68766e-8 7.68766e-8 7.64174e-8 7.61802e-8 7.68766e-8 8.01517e-8 7.79364e-8 7.25721e-8 7.03568e-8 3.70484e-9 7.16385e-8 1.82786e-8 8.2129e-8 7.93291e-8 7.68766e-8 7.76992e-8 7.68766e-8 7.81735e-8 7.52618e-8 7.45654e-8 7.76992e-8 7.9092e-8 7.70028e-8 7.76992e-8 7.76992e-8 7.70028e-8 7.68766e-8 7.724e-8 7.64174e-8 7.64174e-8 7.64174e-8 7.79364e-8 7.9092e-8 7.95663e-8 7.9092e-8 7.79364e-8 7.32685e-8 3.70484e-9 5.79983e-8 2.7251e-8 8.2129e-8 7.86328e-8 7.61802e-8 7.81735e-8 7.70028e-8 7.86328e-8 7.59431e-8 7.45654e-8 7.724e-8 7.81735e-8 7.68766e-8 7.70028e-8 7.68766e-8 7.68766e-8 7.64174e-8 7.724e-8 7.724e-8 7.61802e-8 7.68766e-8 7.9092e-8 7.9092e-8 7.81735e-8 7.81735e-8 7.95663e-8 7.35057e-8 3.70484e-9 4.71739e-8 4.69368e-8 8.2129e-8 7.86328e-8 7.724e-8 7.81735e-8 7.724e-8 7.9092e-8 7.61802e-8 7.45654e-8 7.70028e-8 7.79364e-8 7.64174e-8 7.68766e-8 7.68766e-8 7.70028e-8 7.724e-8 7.81735e-8 7.81735e-8 7.64174e-8 7.64174e-8 7.9092e-8 7.79364e-8 7.93291e-8 7.81735e-8 8.03889e-8 7.35057e-8 3.70484e-9 3.79795e-8 6.60522e-8 8.03889e-8 7.86328e-8 7.79364e-8 7.81735e-8 7.76992e-8 7.9092e-8 7.61802e-8 7.45654e-8 7.70028e-8 7.81735e-8 7.724e-8 7.76992e-8 7.76992e-8 7.79364e-8 7.79364e-8 7.9092e-8 7.79364e-8 7.64174e-8 7.64174e-8 7.93291e-8 7.81735e-8 7.9092e-8 7.81735e-8 8.10853e-8 7.0816e-8 3.70484e-9 2.63326e-8 7.25721e-8 7.81735e-8 7.86328e-8 7.76992e-8 7.81735e-8 7.76992e-8 7.93291e-8 7.61802e-8 7.43282e-8 7.724e-8 7.86328e-8 7.76992e-8 7.76992e-8 7.79364e-8 7.79364e-8 7.81735e-8 7.93291e-8 7.81735e-8 7.59431e-8 7.61802e-8 7.93291e-8 7.9092e-8 7.86328e-8 7.86328e-8 8.20037e-8 6.82676e-8 3.70484e-9 1.65225e-8 7.21129e-8 7.68766e-8 7.86328e-8 7.79364e-8 7.9092e-8 7.79364e-8 7.95663e-8 7.64174e-8 7.45654e-8 7.76992e-8 7.86328e-8 7.79364e-8 7.76992e-8 7.76992e-8 7.79364e-8 7.79364e-8 7.93291e-8 7.86328e-8 7.59431e-8 7.59431e-8 7.93291e-8 7.93291e-8 7.81735e-8 7.81735e-8 8.2129e-8 6.69858e-8 3.70484e-9 3.94201e-9 8.2129e-8 7.9092e-8 7.9092e-8 7.70028e-8 7.81735e-8 7.9092e-8 7.81735e-8 7.59431e-8 7.32685e-8 7.64174e-8 8.01517e-8 7.79364e-8 7.76992e-8 7.76992e-8 7.81735e-8 7.79364e-8 7.99145e-8 7.76992e-8 7.32685e-8 7.36318e-8 7.99145e-8 7.81735e-8 7.9092e-8 7.724e-8 8.15445e-8 6.7445e-8 3.70484e-9 3.70484e-9 7.35057e-8 8.2129e-8 7.70028e-8 7.9092e-8 7.79364e-8 7.93291e-8 7.86328e-8 7.64174e-8 7.35057e-8 7.61802e-8 7.93291e-8 7.68766e-8 7.79364e-8 7.79364e-8 7.79364e-8 7.76992e-8 7.93291e-8 7.61802e-8 7.21129e-8 7.43282e-8 8.01517e-8 7.86328e-8 7.95663e-8 7.70028e-8 8.0626e-8 6.31405e-8 3.70484e-9 3.70484e-9 2.11904e-8 8.2129e-8 7.99145e-8 7.81735e-8 7.76992e-8 7.81735e-8 7.9092e-8 7.59431e-8 7.16385e-8 7.45654e-8 7.93291e-8 7.81735e-8 7.81735e-8 7.76992e-8 7.76992e-8 7.64174e-8 7.9092e-8 7.79364e-8 7.28093e-8 7.50246e-8 7.93291e-8 7.76992e-8 7.81735e-8 7.64174e-8 8.15445e-8 6.02288e-8 3.70484e-9 3.70484e-9 7.45425e-9 8.20037e-8 8.0626e-8 8.0626e-8 8.10853e-8 8.15445e-8 8.10853e-8 8.0626e-8 7.93291e-8 7.68766e-8 7.76992e-8 7.61802e-8 7.61802e-8 7.59431e-8 7.61802e-8 7.59431e-8 7.76992e-8 7.32685e-8 6.7445e-8 7.0816e-8 7.64174e-8 7.64174e-8 7.64174e-8 7.50246e-8 8.01517e-8 5.07972e-8 3.70484e-9 3.70484e-9 2.58582e-8 8.2129e-8 7.93291e-8 7.93291e-8 7.81735e-8 7.81735e-8 7.9092e-8 7.86328e-8 7.50246e-8 7.93291e-8 8.2129e-8 8.2129e-8 8.2129e-8 8.2129e-8 8.2129e-8 8.2129e-8 8.2129e-8 8.15445e-8 7.86328e-8 7.99145e-8 8.20037e-8 8.03889e-8 8.15445e-8 8.0626e-8 8.2129e-8 5.84727e-8 3.70484e-9 3.70484e-9 3.70484e-9 3.95943e-8 7.64174e-8 8.2129e-8 8.2129e-8 8.2129e-8 8.2129e-8 7.93291e-8 8.2129e-8 7.09421e-8 2.29465e-8 2.84066e-8 2.67918e-8 2.7251e-8 2.67918e-8 2.41021e-8 2.00348e-8 3.7157e-8 4.71739e-8 2.84066e-8 1.10624e-8 1.08252e-8 1.78194e-8 1.92122e-8 2.18868e-8 4.17919e-9 3.70484e-9 3.70484e-9 3.70484e-9 3.70484e-9 3.70484e-9 1.08252e-8 1.55889e-8 2.79474e-8 4.02907e-8 4.15876e-8 4.69368e-8 1.17588e-8 3.70484e-9 3.70484e-9 3.70484e-9 3.70484e-9 3.70484e-9 3.70484e-9 3.70484e-9 3.70484e-9 3.70484e-9 3.70484e-9 3.70484e-9 3.70484e-9 3.70484e-9 3.70484e-9 3.70484e-9 3.70484e-9 3.70484e-9]\n"
          ],
          "name": "stdout"
        }
      ]
    },
    {
      "cell_type": "markdown",
      "metadata": {
        "id": "LG4Qqva_Q22M",
        "colab_type": "text"
      },
      "source": [
        "\n",
        "###3. Implement the algorithm in your Colaboratory notebook.\n",
        "\n"
      ]
    },
    {
      "cell_type": "markdown",
      "metadata": {
        "id": "XIc72CTxYqSm",
        "colab_type": "text"
      },
      "source": [
        "#### I have copied the main gradient function here as this is the crux of the MLP algorithm. Much of the code used for the algorithm is in the question above, as it was helpful for easily calculating gradients and comparing to the finite difference"
      ]
    },
    {
      "cell_type": "code",
      "metadata": {
        "id": "7FrmMn-6QW5a",
        "colab_type": "code",
        "colab": {}
      },
      "source": [
        "# Calculate gradients on zero perceptron\n",
        "fprime(m, x, y) = fprime!(zero(m), m, x, y)\n",
        "\n",
        "# Update gradients on gradm\n",
        "function fprime!(gradm, m, x, y)\n",
        "    # Forward pass\n",
        "    h1     = logistic.(m.W1*x + m.b1)         # activations of first layer\n",
        "    h2     = logistic.(m.W2*h1 + m.b2)        # activations of second layer\n",
        "    h3     = dot(m.w3, h2) + m.b3             # activations of third layer\n",
        "    yprime = logistic(h3)                     # output \n",
        "\n",
        "    # Backwards pass  \n",
        "    error3        = yprime - y                 \n",
        "    gradm.b3      += error3\n",
        "    gradm.w3[:]   += error3*h2\n",
        "    error2        = (m.w3*error3).*logisticprime.(h2)\n",
        "    gradm.b2[:]   += error2\n",
        "    gradm.W2[:,:] += error2*transpose(h1)\n",
        "    error1        = transpose(sum((m.W2.*error2).*transpose(logisticprime.(h1)),dims=1))\n",
        "    gradm.b1[:]   += error1\n",
        "    gradm.W1[:,:] += error1*transpose(x)\n",
        "\n",
        "    gradm\n",
        "end;"
      ],
      "execution_count": 0,
      "outputs": []
    },
    {
      "cell_type": "markdown",
      "metadata": {
        "id": "qKigkBpNY3pn",
        "colab_type": "text"
      },
      "source": [
        "#### glorot initialisation function from lecture"
      ]
    },
    {
      "cell_type": "code",
      "metadata": {
        "id": "svwbVeI9QW2K",
        "colab_type": "code",
        "colab": {}
      },
      "source": [
        "fanin(W::Matrix)  = size(W)[2]\n",
        "fanin(W::Vector)  = size(W)[1]\n",
        "fanout(W::Matrix) = size(W)[1]\n",
        "fanout(W::Vector) = 1\n",
        "\n",
        "function glorot!(W; islogistic=true)\n",
        "    x = sqrt(6/(fanin(W) + fanout(W)))*(islogistic ? 4 : 1)\n",
        "    W[:] = -2x .* rand(size(W)...) .+ x\n",
        "end;"
      ],
      "execution_count": 0,
      "outputs": []
    },
    {
      "cell_type": "markdown",
      "metadata": {
        "id": "BGZGU8UyY9Qa",
        "colab_type": "text"
      },
      "source": [
        "#### Define accuracy of model\n"
      ]
    },
    {
      "cell_type": "code",
      "metadata": {
        "id": "AaLdJ0gvQWwm",
        "colab_type": "code",
        "colab": {}
      },
      "source": [
        "function accuracy(datax, datay, m)\n",
        "    correct = 0\n",
        "    for i in 1:length(datay)\n",
        "        p(m, datax[:, i]) == datay[i] || continue\n",
        "        correct += 1\n",
        "    end\n",
        "    correct/length(datay)*100\n",
        "end;"
      ],
      "execution_count": 0,
      "outputs": []
    },
    {
      "cell_type": "markdown",
      "metadata": {
        "id": "4PIyfTMpaECv",
        "colab_type": "text"
      },
      "source": [
        "###4. Train your model to convergence using full-batch gradient descent on the training set."
      ]
    },
    {
      "cell_type": "code",
      "metadata": {
        "id": "kJlzcnMZ9jnu",
        "colab_type": "code",
        "colab": {}
      },
      "source": [
        "triple_m = ThreeLayerPerceptron(6,6) # Initialise new mlp to train\n",
        "glorot!(triple_m.W1) # Intialize W1 using glorot\n",
        "glorot!(triple_m.W2) # Intialize W2 using glorot\n",
        "glorot!(triple_m.w3) # Intialize w3 using glorot\n",
        "bestm   = deepcopy(triple_m) # This will store best-trained mlp for dev data\n",
        "bestacc = 0.0 # This will store the best accuracy\n",
        "max_epochs = 5000 # Set maximum number of epochs\n",
        "losses = Float64[] # This will store the loss at each epoch\n",
        "train_accuracies = Float64[] # This will store the train accuracy at each epoch\n",
        "dev_accuracies = Float64[] # This will store the dev accuracy at each epoch\n",
        "\n",
        "learningrate = .1\n",
        "\n",
        "for iteration in 1:max_epochs\n",
        "    # Initialise and zero gradient\n",
        "    gradm = deepcopy(triple_m)\n",
        "    gradm = zero(gradm)\n",
        "    epoch_loss = 0\n",
        "\n",
        "    # Apply gradient for each sample and add loss\n",
        "    for i in 1:length(trainys)\n",
        "        x  = trainx[:,i]\n",
        "        y = trainys[i]\n",
        "        fprime!(gradm, triple_m, x, y)\n",
        "        epoch_loss += loss(triple_m, x, y)\n",
        "    end\n",
        "\n",
        "    # Calculate and append training loss\n",
        "    epoch_loss /= length(trainys) # Normalize loss to size of dataset\n",
        "    push!(losses,epoch_loss)\n",
        "\n",
        "    # Scale gradient by size of training data\n",
        "    gradm.W1 ./= length(trainys)\n",
        "    gradm.b1 ./= length(trainys)\n",
        "    gradm.W2 ./= length(trainys)\n",
        "    gradm.b2 ./= length(trainys)\n",
        "    gradm.w3 ./= length(trainys)\n",
        "    gradm.b3  /= length(trainys)\n",
        "\n",
        "    # Update weights and biases\n",
        "    triple_m.W1  .-= learningrate*gradm.W1\n",
        "    triple_m.b1  .-= learningrate*gradm.b1\n",
        "    triple_m.W2  .-= learningrate*gradm.W2\n",
        "    triple_m.b2  .-= learningrate*gradm.b2      \n",
        "    triple_m.w3  .-= learningrate*gradm.w3\n",
        "    triple_m.b3   -= learningrate*gradm.b3\n",
        "\n",
        "    # Calculate and append training and dev accuracy\n",
        "    train_acc = accuracy(trainx, trainys, triple_m)\n",
        "    dev_acc = accuracy(devx, devys, triple_m)\n",
        "    push!(train_accuracies,train_acc)\n",
        "    push!(dev_accuracies,dev_acc)\n",
        "    \n",
        "    # Show iteration number and current training accuracy and loss\n",
        "    @show iteration \n",
        "    @show dev_acc\n",
        "    @show epoch_loss\n",
        "\n",
        "    # Break if loss is no longer decreasing. This will signal convergence.\n",
        "    if((iteration > 50) && ((epoch_loss - losses[iteration - 50]) > 0))\n",
        "        break\n",
        "    end   \n",
        "\n",
        "    # Update best model and accuracy if necessary with best validation accuracy\n",
        "    dev_acc > bestacc || continue\n",
        "    bestm   = deepcopy(triple_m)\n",
        "    bestacc = dev_acc\n",
        "\n",
        "end\n",
        "\n",
        "# Update perceptron values to best model\n",
        "triple_m.W1[:,:] = bestm.W1[:,:]\n",
        "triple_m.b1[:]   = bestm.b1[:]\n",
        "triple_m.W2[:,:] = bestm.W2[:,:]\n",
        "triple_m.b2[:]   = bestm.b2[:]\n",
        "triple_m.w3[:]   = bestm.w3[:]\n",
        "triple_m.b3      = bestm.b3;"
      ],
      "execution_count": 0,
      "outputs": []
    },
    {
      "cell_type": "markdown",
      "metadata": {
        "id": "6D6SYPqcaOuj",
        "colab_type": "text"
      },
      "source": [
        "###5. Provide a plot of the loss on the training set for each epoch."
      ]
    },
    {
      "cell_type": "code",
      "metadata": {
        "id": "NEc9NgphLT_D",
        "colab_type": "code",
        "outputId": "cf25fd54-6617-488d-e308-146e5d100a1f",
        "colab": {
          "base_uri": "https://localhost:8080/",
          "height": 420
        }
      },
      "source": [
        "plot(1:length(losses),losses,ylims = (0,maximum(losses)),xlabel = \"Epochs\",label=[\"Loss\"])"
      ],
      "execution_count": 0,
      "outputs": [
        {
          "output_type": "execute_result",
          "data": {
            "image/svg+xml": "<?xml version=\"1.0\" encoding=\"utf-8\"?>\n<svg xmlns=\"http://www.w3.org/2000/svg\" xmlns:xlink=\"http://www.w3.org/1999/xlink\" width=\"600\" height=\"400\" viewBox=\"0 0 2400 1600\">\n<defs>\n  <clipPath id=\"clip7800\">\n    <rect x=\"0\" y=\"0\" width=\"2400\" height=\"1600\"/>\n  </clipPath>\n</defs>\n<path clip-path=\"url(#clip7800)\" d=\"\nM0 1600 L2400 1600 L2400 0 L0 0  Z\n  \" fill=\"#ffffff\" fill-rule=\"evenodd\" fill-opacity=\"1\"/>\n<defs>\n  <clipPath id=\"clip7801\">\n    <rect x=\"480\" y=\"0\" width=\"1681\" height=\"1600\"/>\n  </clipPath>\n</defs>\n<path clip-path=\"url(#clip7800)\" d=\"\nM180.66 1425.62 L2352.76 1425.62 L2352.76 47.2441 L180.66 47.2441  Z\n  \" fill=\"#ffffff\" fill-rule=\"evenodd\" fill-opacity=\"1\"/>\n<defs>\n  <clipPath id=\"clip7802\">\n    <rect x=\"180\" y=\"47\" width=\"2173\" height=\"1379\"/>\n  </clipPath>\n</defs>\n<polyline clip-path=\"url(#clip7802)\" style=\"stroke:#000000; stroke-width:2; stroke-opacity:0.1; fill:none\" points=\"\n  239.827,1425.62 239.827,47.2441 \n  \"/>\n<polyline clip-path=\"url(#clip7802)\" style=\"stroke:#000000; stroke-width:2; stroke-opacity:0.1; fill:none\" points=\"\n  701.347,1425.62 701.347,47.2441 \n  \"/>\n<polyline clip-path=\"url(#clip7802)\" style=\"stroke:#000000; stroke-width:2; stroke-opacity:0.1; fill:none\" points=\"\n  1162.87,1425.62 1162.87,47.2441 \n  \"/>\n<polyline clip-path=\"url(#clip7802)\" style=\"stroke:#000000; stroke-width:2; stroke-opacity:0.1; fill:none\" points=\"\n  1624.39,1425.62 1624.39,47.2441 \n  \"/>\n<polyline clip-path=\"url(#clip7802)\" style=\"stroke:#000000; stroke-width:2; stroke-opacity:0.1; fill:none\" points=\"\n  2085.91,1425.62 2085.91,47.2441 \n  \"/>\n<polyline clip-path=\"url(#clip7802)\" style=\"stroke:#000000; stroke-width:2; stroke-opacity:0.1; fill:none\" points=\"\n  180.66,1425.62 2352.76,1425.62 \n  \"/>\n<polyline clip-path=\"url(#clip7802)\" style=\"stroke:#000000; stroke-width:2; stroke-opacity:0.1; fill:none\" points=\"\n  180.66,1131.5 2352.76,1131.5 \n  \"/>\n<polyline clip-path=\"url(#clip7802)\" style=\"stroke:#000000; stroke-width:2; stroke-opacity:0.1; fill:none\" points=\"\n  180.66,837.374 2352.76,837.374 \n  \"/>\n<polyline clip-path=\"url(#clip7802)\" style=\"stroke:#000000; stroke-width:2; stroke-opacity:0.1; fill:none\" points=\"\n  180.66,543.252 2352.76,543.252 \n  \"/>\n<polyline clip-path=\"url(#clip7802)\" style=\"stroke:#000000; stroke-width:2; stroke-opacity:0.1; fill:none\" points=\"\n  180.66,249.13 2352.76,249.13 \n  \"/>\n<polyline clip-path=\"url(#clip7800)\" style=\"stroke:#000000; stroke-width:4; stroke-opacity:1; fill:none\" points=\"\n  180.66,1425.62 2352.76,1425.62 \n  \"/>\n<polyline clip-path=\"url(#clip7800)\" style=\"stroke:#000000; stroke-width:4; stroke-opacity:1; fill:none\" points=\"\n  180.66,1425.62 180.66,47.2441 \n  \"/>\n<polyline clip-path=\"url(#clip7800)\" style=\"stroke:#000000; stroke-width:4; stroke-opacity:1; fill:none\" points=\"\n  239.827,1425.62 239.827,1404.94 \n  \"/>\n<polyline clip-path=\"url(#clip7800)\" style=\"stroke:#000000; stroke-width:4; stroke-opacity:1; fill:none\" points=\"\n  701.347,1425.62 701.347,1404.94 \n  \"/>\n<polyline clip-path=\"url(#clip7800)\" style=\"stroke:#000000; stroke-width:4; stroke-opacity:1; fill:none\" points=\"\n  1162.87,1425.62 1162.87,1404.94 \n  \"/>\n<polyline clip-path=\"url(#clip7800)\" style=\"stroke:#000000; stroke-width:4; stroke-opacity:1; fill:none\" points=\"\n  1624.39,1425.62 1624.39,1404.94 \n  \"/>\n<polyline clip-path=\"url(#clip7800)\" style=\"stroke:#000000; stroke-width:4; stroke-opacity:1; fill:none\" points=\"\n  2085.91,1425.62 2085.91,1404.94 \n  \"/>\n<polyline clip-path=\"url(#clip7800)\" style=\"stroke:#000000; stroke-width:4; stroke-opacity:1; fill:none\" points=\"\n  180.66,1425.62 213.242,1425.62 \n  \"/>\n<polyline clip-path=\"url(#clip7800)\" style=\"stroke:#000000; stroke-width:4; stroke-opacity:1; fill:none\" points=\"\n  180.66,1131.5 213.242,1131.5 \n  \"/>\n<polyline clip-path=\"url(#clip7800)\" style=\"stroke:#000000; stroke-width:4; stroke-opacity:1; fill:none\" points=\"\n  180.66,837.374 213.242,837.374 \n  \"/>\n<polyline clip-path=\"url(#clip7800)\" style=\"stroke:#000000; stroke-width:4; stroke-opacity:1; fill:none\" points=\"\n  180.66,543.252 213.242,543.252 \n  \"/>\n<polyline clip-path=\"url(#clip7800)\" style=\"stroke:#000000; stroke-width:4; stroke-opacity:1; fill:none\" points=\"\n  180.66,249.13 213.242,249.13 \n  \"/>\n<g clip-path=\"url(#clip7800)\">\n<text style=\"fill:#000000; fill-opacity:1; font-family:Arial,Helvetica Neue,Helvetica,sans-serif; font-size:48px; text-anchor:middle;\" transform=\"rotate(0, 239.827, 1479.62)\" x=\"239.827\" y=\"1479.62\">0</text>\n</g>\n<g clip-path=\"url(#clip7800)\">\n<text style=\"fill:#000000; fill-opacity:1; font-family:Arial,Helvetica Neue,Helvetica,sans-serif; font-size:48px; text-anchor:middle;\" transform=\"rotate(0, 701.347, 1479.62)\" x=\"701.347\" y=\"1479.62\">200</text>\n</g>\n<g clip-path=\"url(#clip7800)\">\n<text style=\"fill:#000000; fill-opacity:1; font-family:Arial,Helvetica Neue,Helvetica,sans-serif; font-size:48px; text-anchor:middle;\" transform=\"rotate(0, 1162.87, 1479.62)\" x=\"1162.87\" y=\"1479.62\">400</text>\n</g>\n<g clip-path=\"url(#clip7800)\">\n<text style=\"fill:#000000; fill-opacity:1; font-family:Arial,Helvetica Neue,Helvetica,sans-serif; font-size:48px; text-anchor:middle;\" transform=\"rotate(0, 1624.39, 1479.62)\" x=\"1624.39\" y=\"1479.62\">600</text>\n</g>\n<g clip-path=\"url(#clip7800)\">\n<text style=\"fill:#000000; fill-opacity:1; font-family:Arial,Helvetica Neue,Helvetica,sans-serif; font-size:48px; text-anchor:middle;\" transform=\"rotate(0, 2085.91, 1479.62)\" x=\"2085.91\" y=\"1479.62\">800</text>\n</g>\n<g clip-path=\"url(#clip7800)\">\n<text style=\"fill:#000000; fill-opacity:1; font-family:Arial,Helvetica Neue,Helvetica,sans-serif; font-size:48px; text-anchor:end;\" transform=\"rotate(0, 156.66, 1443.12)\" x=\"156.66\" y=\"1443.12\">0.00</text>\n</g>\n<g clip-path=\"url(#clip7800)\">\n<text style=\"fill:#000000; fill-opacity:1; font-family:Arial,Helvetica Neue,Helvetica,sans-serif; font-size:48px; text-anchor:end;\" transform=\"rotate(0, 156.66, 1149)\" x=\"156.66\" y=\"1149\">0.25</text>\n</g>\n<g clip-path=\"url(#clip7800)\">\n<text style=\"fill:#000000; fill-opacity:1; font-family:Arial,Helvetica Neue,Helvetica,sans-serif; font-size:48px; text-anchor:end;\" transform=\"rotate(0, 156.66, 854.874)\" x=\"156.66\" y=\"854.874\">0.50</text>\n</g>\n<g clip-path=\"url(#clip7800)\">\n<text style=\"fill:#000000; fill-opacity:1; font-family:Arial,Helvetica Neue,Helvetica,sans-serif; font-size:48px; text-anchor:end;\" transform=\"rotate(0, 156.66, 560.752)\" x=\"156.66\" y=\"560.752\">0.75</text>\n</g>\n<g clip-path=\"url(#clip7800)\">\n<text style=\"fill:#000000; fill-opacity:1; font-family:Arial,Helvetica Neue,Helvetica,sans-serif; font-size:48px; text-anchor:end;\" transform=\"rotate(0, 156.66, 266.63)\" x=\"156.66\" y=\"266.63\">1.00</text>\n</g>\n<g clip-path=\"url(#clip7800)\">\n<text style=\"fill:#000000; fill-opacity:1; font-family:Arial,Helvetica Neue,Helvetica,sans-serif; font-size:66px; text-anchor:middle;\" transform=\"rotate(0, 1266.71, 1559.48)\" x=\"1266.71\" y=\"1559.48\">Epochs</text>\n</g>\n<polyline clip-path=\"url(#clip7802)\" style=\"stroke:#009af9; stroke-width:4; stroke-opacity:1; fill:none\" points=\"\n  242.135,47.2441 244.442,300.423 246.75,425.846 249.058,479.428 251.365,515.82 253.673,547.152 255.98,575.614 258.288,601.723 260.596,625.759 262.903,647.963 \n  265.211,668.556 267.518,687.73 269.826,705.646 272.133,722.44 274.441,738.22 276.749,753.081 279.056,767.097 281.364,780.334 283.671,792.851 285.979,804.698 \n  288.287,815.922 290.594,826.568 292.902,836.676 295.209,846.286 297.517,855.436 299.825,864.159 302.132,872.492 304.44,880.465 306.747,888.108 309.055,895.45 \n  311.363,902.517 313.67,909.331 315.978,915.914 318.285,922.286 320.593,928.464 322.901,934.462 325.208,940.293 327.516,945.97 329.823,951.503 332.131,956.899 \n  334.439,962.166 336.746,967.311 339.054,972.338 341.361,977.253 343.669,982.059 345.977,986.76 348.284,991.357 350.592,995.854 352.899,1000.25 355.207,1004.55 \n  357.515,1008.76 359.822,1012.87 362.13,1016.88 364.437,1020.81 366.745,1024.64 369.053,1028.38 371.36,1032.03 373.668,1035.6 375.975,1039.07 378.283,1042.46 \n  380.591,1045.77 382.898,1048.99 385.206,1052.13 387.513,1055.18 389.821,1058.16 392.129,1061.06 394.436,1063.88 396.744,1066.63 399.051,1069.3 401.359,1071.9 \n  403.667,1074.43 405.974,1076.9 408.282,1079.29 410.589,1081.62 412.897,1083.89 415.205,1086.1 417.512,1088.24 419.82,1090.33 422.127,1092.36 424.435,1094.34 \n  426.743,1096.27 429.05,1098.14 431.358,1099.97 433.665,1101.75 435.973,1103.48 438.281,1105.17 440.588,1106.81 442.896,1108.41 445.203,1109.98 447.511,1111.5 \n  449.819,1112.99 452.126,1114.44 454.434,1115.86 456.741,1117.25 459.049,1118.6 461.357,1119.92 463.664,1121.22 465.972,1122.48 468.279,1123.72 470.587,1124.92 \n  472.894,1126.11 475.202,1127.27 477.51,1128.4 479.817,1129.51 482.125,1130.6 484.432,1131.67 486.74,1132.72 489.048,1133.74 491.355,1134.75 493.663,1135.74 \n  495.97,1136.71 498.278,1137.66 500.586,1138.6 502.893,1139.52 505.201,1140.42 507.508,1141.31 509.816,1142.18 512.124,1143.04 514.431,1143.88 516.739,1144.71 \n  519.046,1145.53 521.354,1146.33 523.662,1147.13 525.969,1147.9 528.277,1148.67 530.584,1149.43 532.892,1150.17 535.2,1150.91 537.507,1151.63 539.815,1152.34 \n  542.122,1153.05 544.43,1153.74 546.738,1154.42 549.045,1155.1 551.353,1155.76 553.66,1156.42 555.968,1157.07 558.276,1157.71 560.583,1158.34 562.891,1158.96 \n  565.198,1159.58 567.506,1160.19 569.814,1160.79 572.121,1161.38 574.429,1161.97 576.736,1162.55 579.044,1163.12 581.352,1163.69 583.659,1164.25 585.967,1164.8 \n  588.274,1165.35 590.582,1165.89 592.89,1166.42 595.197,1166.95 597.505,1167.48 599.812,1168 602.12,1168.51 604.428,1169.02 606.735,1169.52 609.043,1170.02 \n  611.35,1170.51 613.658,1171 615.966,1171.48 618.273,1171.96 620.581,1172.43 622.888,1172.9 625.196,1173.36 627.504,1173.82 629.811,1174.28 632.119,1174.73 \n  634.426,1175.17 636.734,1175.62 639.042,1176.06 641.349,1176.49 643.657,1176.92 645.964,1177.35 648.272,1177.77 650.58,1178.19 652.887,1178.61 655.195,1179.02 \n  657.502,1179.43 659.81,1179.84 662.118,1180.24 664.425,1180.64 666.733,1181.04 669.04,1181.43 671.348,1181.82 673.655,1182.21 675.963,1182.59 678.271,1182.97 \n  680.578,1183.35 682.886,1183.73 685.193,1184.1 687.501,1184.47 689.809,1184.83 692.116,1185.2 694.424,1185.56 696.731,1185.92 699.039,1186.27 701.347,1186.63 \n  703.654,1186.98 705.962,1187.33 708.269,1187.67 710.577,1188.02 712.885,1188.36 715.192,1188.7 717.5,1189.04 719.807,1189.37 722.115,1189.7 724.423,1190.03 \n  726.73,1190.36 729.038,1190.69 731.345,1191.01 733.653,1191.34 735.961,1191.66 738.268,1191.97 740.576,1192.29 742.883,1192.6 745.191,1192.92 747.499,1193.23 \n  749.806,1193.53 752.114,1193.84 754.421,1194.15 756.729,1194.45 759.037,1194.75 761.344,1195.05 763.652,1195.35 765.959,1195.64 768.267,1195.94 770.575,1196.23 \n  772.882,1196.52 775.19,1196.81 777.497,1197.1 779.805,1197.38 782.113,1197.67 784.42,1197.95 786.728,1198.23 789.035,1198.51 791.343,1198.79 793.651,1199.07 \n  795.958,1199.34 798.266,1199.62 800.573,1199.89 802.881,1200.16 805.189,1200.43 807.496,1200.7 809.804,1200.96 812.111,1201.23 814.419,1201.49 816.727,1201.76 \n  819.034,1202.02 821.342,1202.28 823.649,1202.54 825.957,1202.79 828.265,1203.05 830.572,1203.3 832.88,1203.56 835.187,1203.81 837.495,1204.06 839.803,1204.31 \n  842.11,1204.56 844.418,1204.81 846.725,1205.05 849.033,1205.3 851.341,1205.54 853.648,1205.79 855.956,1206.03 858.263,1206.27 860.571,1206.51 862.879,1206.75 \n  865.186,1206.98 867.494,1207.22 869.801,1207.45 872.109,1207.69 874.416,1207.92 876.724,1208.15 879.032,1208.38 881.339,1208.61 883.647,1208.84 885.954,1209.07 \n  888.262,1209.3 890.57,1209.52 892.877,1209.75 895.185,1209.97 897.492,1210.19 899.8,1210.41 902.108,1210.63 904.415,1210.85 906.723,1211.07 909.03,1211.29 \n  911.338,1211.51 913.646,1211.72 915.953,1211.94 918.261,1212.15 920.568,1212.36 922.876,1212.58 925.184,1212.79 927.491,1213 929.799,1213.21 932.106,1213.42 \n  934.414,1213.62 936.722,1213.83 939.029,1214.04 941.337,1214.24 943.644,1214.44 945.952,1214.65 948.26,1214.85 950.567,1215.05 952.875,1215.25 955.182,1215.45 \n  957.49,1215.65 959.798,1215.85 962.105,1216.05 964.413,1216.24 966.72,1216.44 969.028,1216.63 971.336,1216.83 973.643,1217.02 975.951,1217.21 978.258,1217.4 \n  980.566,1217.59 982.874,1217.78 985.181,1217.97 987.489,1218.16 989.796,1218.35 992.104,1218.54 994.412,1218.72 996.719,1218.91 999.027,1219.09 1001.33,1219.27 \n  1003.64,1219.46 1005.95,1219.64 1008.26,1219.82 1010.56,1220 1012.87,1220.18 1015.18,1220.36 1017.49,1220.54 1019.8,1220.72 1022.1,1220.89 1024.41,1221.07 \n  1026.72,1221.24 1029.03,1221.42 1031.33,1221.59 1033.64,1221.77 1035.95,1221.94 1038.26,1222.11 1040.56,1222.28 1042.87,1222.45 1045.18,1222.62 1047.49,1222.79 \n  1049.79,1222.96 1052.1,1223.13 1054.41,1223.29 1056.72,1223.46 1059.02,1223.62 1061.33,1223.79 1063.64,1223.95 1065.95,1224.12 1068.25,1224.28 1070.56,1224.44 \n  1072.87,1224.6 1075.18,1224.76 1077.49,1224.92 1079.79,1225.08 1082.1,1225.24 1084.41,1225.4 1086.72,1225.56 1089.02,1225.71 1091.33,1225.87 1093.64,1226.03 \n  1095.95,1226.18 1098.25,1226.33 1100.56,1226.49 1102.87,1226.64 1105.18,1226.79 1107.48,1226.94 1109.79,1227.09 1112.1,1227.24 1114.41,1227.39 1116.71,1227.54 \n  1119.02,1227.69 1121.33,1227.84 1123.64,1227.99 1125.94,1228.13 1128.25,1228.28 1130.56,1228.42 1132.87,1228.57 1135.18,1228.71 1137.48,1228.86 1139.79,1229 \n  1142.1,1229.14 1144.41,1229.28 1146.71,1229.42 1149.02,1229.56 1151.33,1229.7 1153.64,1229.84 1155.94,1229.98 1158.25,1230.12 1160.56,1230.25 1162.87,1230.39 \n  1165.17,1230.53 1167.48,1230.66 1169.79,1230.8 1172.1,1230.93 1174.4,1231.06 1176.71,1231.2 1179.02,1231.33 1181.33,1231.46 1183.63,1231.59 1185.94,1231.72 \n  1188.25,1231.85 1190.56,1231.98 1192.86,1232.11 1195.17,1232.24 1197.48,1232.37 1199.79,1232.5 1202.1,1232.62 1204.4,1232.75 1206.71,1232.87 1209.02,1233 \n  1211.33,1233.12 1213.63,1233.25 1215.94,1233.37 1218.25,1233.49 1220.56,1233.62 1222.86,1233.74 1225.17,1233.86 1227.48,1233.98 1229.79,1234.1 1232.09,1234.22 \n  1234.4,1234.34 1236.71,1234.46 1239.02,1234.57 1241.32,1234.69 1243.63,1234.81 1245.94,1234.93 1248.25,1235.04 1250.55,1235.16 1252.86,1235.27 1255.17,1235.39 \n  1257.48,1235.5 1259.79,1235.61 1262.09,1235.72 1264.4,1235.84 1266.71,1235.95 1269.02,1236.06 1271.32,1236.17 1273.63,1236.28 1275.94,1236.39 1278.25,1236.5 \n  1280.55,1236.61 1282.86,1236.71 1285.17,1236.82 1287.48,1236.93 1289.78,1237.04 1292.09,1237.14 1294.4,1237.25 1296.71,1237.35 1299.01,1237.46 1301.32,1237.56 \n  1303.63,1237.66 1305.94,1237.77 1308.24,1237.87 1310.55,1237.97 1312.86,1238.07 1315.17,1238.18 1317.48,1238.28 1319.78,1238.38 1322.09,1238.48 1324.4,1238.58 \n  1326.71,1238.67 1329.01,1238.77 1331.32,1238.87 1333.63,1238.97 1335.94,1239.06 1338.24,1239.16 1340.55,1239.26 1342.86,1239.35 1345.17,1239.45 1347.47,1239.54 \n  1349.78,1239.64 1352.09,1239.73 1354.4,1239.82 1356.7,1239.92 1359.01,1240.01 1361.32,1240.1 1363.63,1240.19 1365.93,1240.28 1368.24,1240.37 1370.55,1240.46 \n  1372.86,1240.55 1375.17,1240.64 1377.47,1240.73 1379.78,1240.82 1382.09,1240.91 1384.4,1241 1386.7,1241.08 1389.01,1241.17 1391.32,1241.26 1393.63,1241.34 \n  1395.93,1241.43 1398.24,1241.51 1400.55,1241.6 1402.86,1241.68 1405.16,1241.77 1407.47,1241.85 1409.78,1241.93 1412.09,1242.01 1414.39,1242.1 1416.7,1242.18 \n  1419.01,1242.26 1421.32,1242.34 1423.62,1242.42 1425.93,1242.5 1428.24,1242.58 1430.55,1242.66 1432.86,1242.74 1435.16,1242.82 1437.47,1242.9 1439.78,1242.97 \n  1442.09,1243.05 1444.39,1243.13 1446.7,1243.21 1449.01,1243.28 1451.32,1243.36 1453.62,1243.43 1455.93,1243.51 1458.24,1243.58 1460.55,1243.66 1462.85,1243.73 \n  1465.16,1243.8 1467.47,1243.88 1469.78,1243.95 1472.08,1244.02 1474.39,1244.09 1476.7,1244.17 1479.01,1244.24 1481.31,1244.31 1483.62,1244.38 1485.93,1244.45 \n  1488.24,1244.52 1490.55,1244.59 1492.85,1244.66 1495.16,1244.73 1497.47,1244.8 1499.78,1244.86 1502.08,1244.93 1504.39,1245 1506.7,1245.07 1509.01,1245.13 \n  1511.31,1245.2 1513.62,1245.26 1515.93,1245.33 1518.24,1245.4 1520.54,1245.46 1522.85,1245.52 1525.16,1245.59 1527.47,1245.65 1529.77,1245.72 1532.08,1245.78 \n  1534.39,1245.84 1536.7,1245.91 1539,1245.97 1541.31,1246.03 1543.62,1246.09 1545.93,1246.15 1548.24,1246.21 1550.54,1246.27 1552.85,1246.33 1555.16,1246.39 \n  1557.47,1246.45 1559.77,1246.51 1562.08,1246.57 1564.39,1246.63 1566.7,1246.69 1569,1246.75 1571.31,1246.8 1573.62,1246.86 1575.93,1246.92 1578.23,1246.97 \n  1580.54,1247.03 1582.85,1247.09 1585.16,1247.14 1587.46,1247.2 1589.77,1247.25 1592.08,1247.31 1594.39,1247.36 1596.69,1247.42 1599,1247.47 1601.31,1247.52 \n  1603.62,1247.58 1605.92,1247.63 1608.23,1247.68 1610.54,1247.73 1612.85,1247.79 1615.16,1247.84 1617.46,1247.89 1619.77,1247.94 1622.08,1247.99 1624.39,1248.04 \n  1626.69,1248.09 1629,1248.14 1631.31,1248.19 1633.62,1248.24 1635.92,1248.29 1638.23,1248.34 1640.54,1248.39 1642.85,1248.44 1645.15,1248.49 1647.46,1248.53 \n  1649.77,1248.58 1652.08,1248.63 1654.38,1248.67 1656.69,1248.72 1659,1248.77 1661.31,1248.81 1663.61,1248.86 1665.92,1248.91 1668.23,1248.95 1670.54,1249 \n  1672.85,1249.04 1675.15,1249.08 1677.46,1249.13 1679.77,1249.17 1682.08,1249.22 1684.38,1249.26 1686.69,1249.3 1689,1249.35 1691.31,1249.39 1693.61,1249.43 \n  1695.92,1249.47 1698.23,1249.52 1700.54,1249.56 1702.84,1249.6 1705.15,1249.64 1707.46,1249.68 1709.77,1249.72 1712.07,1249.76 1714.38,1249.8 1716.69,1249.84 \n  1719,1249.88 1721.3,1249.92 1723.61,1249.96 1725.92,1250 1728.23,1250.04 1730.54,1250.08 1732.84,1250.11 1735.15,1250.15 1737.46,1250.19 1739.77,1250.23 \n  1742.07,1250.26 1744.38,1250.3 1746.69,1250.34 1749,1250.37 1751.3,1250.41 1753.61,1250.45 1755.92,1250.48 1758.23,1250.52 1760.53,1250.55 1762.84,1250.59 \n  1765.15,1250.62 1767.46,1250.66 1769.76,1250.69 1772.07,1250.73 1774.38,1250.76 1776.69,1250.8 1778.99,1250.83 1781.3,1250.86 1783.61,1250.9 1785.92,1250.93 \n  1788.23,1250.96 1790.53,1250.99 1792.84,1251.03 1795.15,1251.06 1797.46,1251.09 1799.76,1251.12 1802.07,1251.15 1804.38,1251.18 1806.69,1251.21 1808.99,1251.25 \n  1811.3,1251.28 1813.61,1251.31 1815.92,1251.34 1818.22,1251.37 1820.53,1251.4 1822.84,1251.43 1825.15,1251.45 1827.45,1251.48 1829.76,1251.51 1832.07,1251.54 \n  1834.38,1251.57 1836.68,1251.6 1838.99,1251.63 1841.3,1251.65 1843.61,1251.68 1845.92,1251.71 1848.22,1251.74 1850.53,1251.76 1852.84,1251.79 1855.15,1251.82 \n  1857.45,1251.84 1859.76,1251.87 1862.07,1251.9 1864.38,1251.92 1866.68,1251.95 1868.99,1251.97 1871.3,1252 1873.61,1252.02 1875.91,1252.05 1878.22,1252.07 \n  1880.53,1252.1 1882.84,1252.12 1885.14,1252.15 1887.45,1252.17 1889.76,1252.19 1892.07,1252.22 1894.37,1252.24 1896.68,1252.26 1898.99,1252.29 1901.3,1252.31 \n  1903.61,1252.33 1905.91,1252.35 1908.22,1252.38 1910.53,1252.4 1912.84,1252.42 1915.14,1252.44 1917.45,1252.46 1919.76,1252.48 1922.07,1252.51 1924.37,1252.53 \n  1926.68,1252.55 1928.99,1252.57 1931.3,1252.59 1933.6,1252.61 1935.91,1252.63 1938.22,1252.65 1940.53,1252.67 1942.83,1252.69 1945.14,1252.71 1947.45,1252.73 \n  1949.76,1252.74 1952.06,1252.76 1954.37,1252.78 1956.68,1252.8 1958.99,1252.82 1961.3,1252.84 1963.6,1252.85 1965.91,1252.87 1968.22,1252.89 1970.53,1252.91 \n  1972.83,1252.92 1975.14,1252.94 1977.45,1252.96 1979.76,1252.97 1982.06,1252.99 1984.37,1253.01 1986.68,1253.02 1988.99,1253.04 1991.29,1253.06 1993.6,1253.07 \n  1995.91,1253.09 1998.22,1253.1 2000.52,1253.12 2002.83,1253.13 2005.14,1253.15 2007.45,1253.16 2009.75,1253.18 2012.06,1253.19 2014.37,1253.2 2016.68,1253.22 \n  2018.98,1253.23 2021.29,1253.25 2023.6,1253.26 2025.91,1253.27 2028.22,1253.29 2030.52,1253.3 2032.83,1253.31 2035.14,1253.32 2037.45,1253.34 2039.75,1253.35 \n  2042.06,1253.36 2044.37,1253.37 2046.68,1253.38 2048.98,1253.4 2051.29,1253.41 2053.6,1253.42 2055.91,1253.43 2058.21,1253.44 2060.52,1253.45 2062.83,1253.46 \n  2065.14,1253.47 2067.44,1253.48 2069.75,1253.49 2072.06,1253.5 2074.37,1253.51 2076.67,1253.52 2078.98,1253.53 2081.29,1253.54 2083.6,1253.55 2085.91,1253.56 \n  2088.21,1253.57 2090.52,1253.58 2092.83,1253.59 2095.14,1253.6 2097.44,1253.6 2099.75,1253.61 2102.06,1253.62 2104.37,1253.63 2106.67,1253.64 2108.98,1253.64 \n  2111.29,1253.65 2113.6,1253.66 2115.9,1253.67 2118.21,1253.67 2120.52,1253.68 2122.83,1253.69 2125.13,1253.69 2127.44,1253.7 2129.75,1253.71 2132.06,1253.71 \n  2134.36,1253.72 2136.67,1253.72 2138.98,1253.73 2141.29,1253.74 2143.6,1253.74 2145.9,1253.75 2148.21,1253.75 2150.52,1253.76 2152.83,1253.76 2155.13,1253.77 \n  2157.44,1253.77 2159.75,1253.77 2162.06,1253.78 2164.36,1253.78 2166.67,1253.79 2168.98,1253.79 2171.29,1253.79 2173.59,1253.8 2175.9,1253.8 2178.21,1253.8 \n  2180.52,1253.81 2182.82,1253.81 2185.13,1253.81 2187.44,1253.82 2189.75,1253.82 2192.05,1253.82 2194.36,1253.82 2196.67,1253.83 2198.98,1253.83 2201.29,1253.83 \n  2203.59,1253.83 2205.9,1253.83 2208.21,1253.83 2210.52,1253.84 2212.82,1253.84 2215.13,1253.84 2217.44,1253.84 2219.75,1253.84 2222.05,1253.84 2224.36,1253.84 \n  2226.67,1253.84 2228.98,1253.84 2231.28,1253.84 2233.59,1253.84 2235.9,1253.84 2238.21,1253.84 2240.51,1253.84 2242.82,1253.84 2245.13,1253.84 2247.44,1253.84 \n  2249.74,1253.84 2252.05,1253.84 2254.36,1253.83 2256.67,1253.83 2258.98,1253.83 2261.28,1253.83 2263.59,1253.83 2265.9,1253.83 2268.21,1253.83 2270.51,1253.82 \n  2272.82,1253.82 2275.13,1253.82 2277.44,1253.82 2279.74,1253.81 2282.05,1253.81 2284.36,1253.81 2286.67,1253.81 2288.97,1253.8 2291.28,1253.8 \n  \"/>\n<path clip-path=\"url(#clip7800)\" d=\"\nM1939.1 251.724 L2280.76 251.724 L2280.76 130.764 L1939.1 130.764  Z\n  \" fill=\"#ffffff\" fill-rule=\"evenodd\" fill-opacity=\"1\"/>\n<polyline clip-path=\"url(#clip7800)\" style=\"stroke:#000000; stroke-width:4; stroke-opacity:1; fill:none\" points=\"\n  1939.1,251.724 2280.76,251.724 2280.76,130.764 1939.1,130.764 1939.1,251.724 \n  \"/>\n<polyline clip-path=\"url(#clip7800)\" style=\"stroke:#009af9; stroke-width:4; stroke-opacity:1; fill:none\" points=\"\n  1963.1,191.244 2107.1,191.244 \n  \"/>\n<g clip-path=\"url(#clip7800)\">\n<text style=\"fill:#000000; fill-opacity:1; font-family:Arial,Helvetica Neue,Helvetica,sans-serif; font-size:48px; text-anchor:start;\" transform=\"rotate(0, 2131.1, 208.744)\" x=\"2131.1\" y=\"208.744\">Loss</text>\n</g>\n</svg>\n"
          },
          "metadata": {
            "tags": []
          },
          "execution_count": 42
        }
      ]
    },
    {
      "cell_type": "markdown",
      "metadata": {
        "id": "SQFfyUKVaUZk",
        "colab_type": "text"
      },
      "source": [
        "###6. Provide a plot of the accuracy on the training set for each epoch."
      ]
    },
    {
      "cell_type": "code",
      "metadata": {
        "id": "FxJKbGD3LUN3",
        "colab_type": "code",
        "outputId": "dc758564-0160-47e8-8dec-d600db6107f9",
        "colab": {
          "base_uri": "https://localhost:8080/",
          "height": 420
        }
      },
      "source": [
        "plot(1:length(train_accuracies),train_accuracies,ylims = (0,100),xlabel = \"Epochs\",label=[\"Accuracy\"])"
      ],
      "execution_count": 0,
      "outputs": [
        {
          "output_type": "execute_result",
          "data": {
            "image/svg+xml": "<?xml version=\"1.0\" encoding=\"utf-8\"?>\n<svg xmlns=\"http://www.w3.org/2000/svg\" xmlns:xlink=\"http://www.w3.org/1999/xlink\" width=\"600\" height=\"400\" viewBox=\"0 0 2400 1600\">\n<defs>\n  <clipPath id=\"clip8200\">\n    <rect x=\"0\" y=\"0\" width=\"2400\" height=\"1600\"/>\n  </clipPath>\n</defs>\n<path clip-path=\"url(#clip8200)\" d=\"\nM0 1600 L2400 1600 L2400 0 L0 0  Z\n  \" fill=\"#ffffff\" fill-rule=\"evenodd\" fill-opacity=\"1\"/>\n<defs>\n  <clipPath id=\"clip8201\">\n    <rect x=\"480\" y=\"0\" width=\"1681\" height=\"1600\"/>\n  </clipPath>\n</defs>\n<path clip-path=\"url(#clip8200)\" d=\"\nM167.279 1425.62 L2352.76 1425.62 L2352.76 47.2441 L167.279 47.2441  Z\n  \" fill=\"#ffffff\" fill-rule=\"evenodd\" fill-opacity=\"1\"/>\n<defs>\n  <clipPath id=\"clip8202\">\n    <rect x=\"167\" y=\"47\" width=\"2186\" height=\"1379\"/>\n  </clipPath>\n</defs>\n<polyline clip-path=\"url(#clip8202)\" style=\"stroke:#000000; stroke-width:2; stroke-opacity:0.1; fill:none\" points=\"\n  226.81,1425.62 226.81,47.2441 \n  \"/>\n<polyline clip-path=\"url(#clip8202)\" style=\"stroke:#000000; stroke-width:2; stroke-opacity:0.1; fill:none\" points=\"\n  691.173,1425.62 691.173,47.2441 \n  \"/>\n<polyline clip-path=\"url(#clip8202)\" style=\"stroke:#000000; stroke-width:2; stroke-opacity:0.1; fill:none\" points=\"\n  1155.54,1425.62 1155.54,47.2441 \n  \"/>\n<polyline clip-path=\"url(#clip8202)\" style=\"stroke:#000000; stroke-width:2; stroke-opacity:0.1; fill:none\" points=\"\n  1619.9,1425.62 1619.9,47.2441 \n  \"/>\n<polyline clip-path=\"url(#clip8202)\" style=\"stroke:#000000; stroke-width:2; stroke-opacity:0.1; fill:none\" points=\"\n  2084.26,1425.62 2084.26,47.2441 \n  \"/>\n<polyline clip-path=\"url(#clip8202)\" style=\"stroke:#000000; stroke-width:2; stroke-opacity:0.1; fill:none\" points=\"\n  167.279,1425.62 2352.76,1425.62 \n  \"/>\n<polyline clip-path=\"url(#clip8202)\" style=\"stroke:#000000; stroke-width:2; stroke-opacity:0.1; fill:none\" points=\"\n  167.279,1149.94 2352.76,1149.94 \n  \"/>\n<polyline clip-path=\"url(#clip8202)\" style=\"stroke:#000000; stroke-width:2; stroke-opacity:0.1; fill:none\" points=\"\n  167.279,874.269 2352.76,874.269 \n  \"/>\n<polyline clip-path=\"url(#clip8202)\" style=\"stroke:#000000; stroke-width:2; stroke-opacity:0.1; fill:none\" points=\"\n  167.279,598.594 2352.76,598.594 \n  \"/>\n<polyline clip-path=\"url(#clip8202)\" style=\"stroke:#000000; stroke-width:2; stroke-opacity:0.1; fill:none\" points=\"\n  167.279,322.919 2352.76,322.919 \n  \"/>\n<polyline clip-path=\"url(#clip8202)\" style=\"stroke:#000000; stroke-width:2; stroke-opacity:0.1; fill:none\" points=\"\n  167.279,47.2441 2352.76,47.2441 \n  \"/>\n<polyline clip-path=\"url(#clip8200)\" style=\"stroke:#000000; stroke-width:4; stroke-opacity:1; fill:none\" points=\"\n  167.279,1425.62 2352.76,1425.62 \n  \"/>\n<polyline clip-path=\"url(#clip8200)\" style=\"stroke:#000000; stroke-width:4; stroke-opacity:1; fill:none\" points=\"\n  167.279,1425.62 167.279,47.2441 \n  \"/>\n<polyline clip-path=\"url(#clip8200)\" style=\"stroke:#000000; stroke-width:4; stroke-opacity:1; fill:none\" points=\"\n  226.81,1425.62 226.81,1404.94 \n  \"/>\n<polyline clip-path=\"url(#clip8200)\" style=\"stroke:#000000; stroke-width:4; stroke-opacity:1; fill:none\" points=\"\n  691.173,1425.62 691.173,1404.94 \n  \"/>\n<polyline clip-path=\"url(#clip8200)\" style=\"stroke:#000000; stroke-width:4; stroke-opacity:1; fill:none\" points=\"\n  1155.54,1425.62 1155.54,1404.94 \n  \"/>\n<polyline clip-path=\"url(#clip8200)\" style=\"stroke:#000000; stroke-width:4; stroke-opacity:1; fill:none\" points=\"\n  1619.9,1425.62 1619.9,1404.94 \n  \"/>\n<polyline clip-path=\"url(#clip8200)\" style=\"stroke:#000000; stroke-width:4; stroke-opacity:1; fill:none\" points=\"\n  2084.26,1425.62 2084.26,1404.94 \n  \"/>\n<polyline clip-path=\"url(#clip8200)\" style=\"stroke:#000000; stroke-width:4; stroke-opacity:1; fill:none\" points=\"\n  167.279,1425.62 200.061,1425.62 \n  \"/>\n<polyline clip-path=\"url(#clip8200)\" style=\"stroke:#000000; stroke-width:4; stroke-opacity:1; fill:none\" points=\"\n  167.279,1149.94 200.061,1149.94 \n  \"/>\n<polyline clip-path=\"url(#clip8200)\" style=\"stroke:#000000; stroke-width:4; stroke-opacity:1; fill:none\" points=\"\n  167.279,874.269 200.061,874.269 \n  \"/>\n<polyline clip-path=\"url(#clip8200)\" style=\"stroke:#000000; stroke-width:4; stroke-opacity:1; fill:none\" points=\"\n  167.279,598.594 200.061,598.594 \n  \"/>\n<polyline clip-path=\"url(#clip8200)\" style=\"stroke:#000000; stroke-width:4; stroke-opacity:1; fill:none\" points=\"\n  167.279,322.919 200.061,322.919 \n  \"/>\n<polyline clip-path=\"url(#clip8200)\" style=\"stroke:#000000; stroke-width:4; stroke-opacity:1; fill:none\" points=\"\n  167.279,47.2441 200.061,47.2441 \n  \"/>\n<g clip-path=\"url(#clip8200)\">\n<text style=\"fill:#000000; fill-opacity:1; font-family:Arial,Helvetica Neue,Helvetica,sans-serif; font-size:48px; text-anchor:middle;\" transform=\"rotate(0, 226.81, 1479.62)\" x=\"226.81\" y=\"1479.62\">0</text>\n</g>\n<g clip-path=\"url(#clip8200)\">\n<text style=\"fill:#000000; fill-opacity:1; font-family:Arial,Helvetica Neue,Helvetica,sans-serif; font-size:48px; text-anchor:middle;\" transform=\"rotate(0, 691.173, 1479.62)\" x=\"691.173\" y=\"1479.62\">200</text>\n</g>\n<g clip-path=\"url(#clip8200)\">\n<text style=\"fill:#000000; fill-opacity:1; font-family:Arial,Helvetica Neue,Helvetica,sans-serif; font-size:48px; text-anchor:middle;\" transform=\"rotate(0, 1155.54, 1479.62)\" x=\"1155.54\" y=\"1479.62\">400</text>\n</g>\n<g clip-path=\"url(#clip8200)\">\n<text style=\"fill:#000000; fill-opacity:1; font-family:Arial,Helvetica Neue,Helvetica,sans-serif; font-size:48px; text-anchor:middle;\" transform=\"rotate(0, 1619.9, 1479.62)\" x=\"1619.9\" y=\"1479.62\">600</text>\n</g>\n<g clip-path=\"url(#clip8200)\">\n<text style=\"fill:#000000; fill-opacity:1; font-family:Arial,Helvetica Neue,Helvetica,sans-serif; font-size:48px; text-anchor:middle;\" transform=\"rotate(0, 2084.26, 1479.62)\" x=\"2084.26\" y=\"1479.62\">800</text>\n</g>\n<g clip-path=\"url(#clip8200)\">\n<text style=\"fill:#000000; fill-opacity:1; font-family:Arial,Helvetica Neue,Helvetica,sans-serif; font-size:48px; text-anchor:end;\" transform=\"rotate(0, 143.279, 1443.12)\" x=\"143.279\" y=\"1443.12\">0</text>\n</g>\n<g clip-path=\"url(#clip8200)\">\n<text style=\"fill:#000000; fill-opacity:1; font-family:Arial,Helvetica Neue,Helvetica,sans-serif; font-size:48px; text-anchor:end;\" transform=\"rotate(0, 143.279, 1167.44)\" x=\"143.279\" y=\"1167.44\">20</text>\n</g>\n<g clip-path=\"url(#clip8200)\">\n<text style=\"fill:#000000; fill-opacity:1; font-family:Arial,Helvetica Neue,Helvetica,sans-serif; font-size:48px; text-anchor:end;\" transform=\"rotate(0, 143.279, 891.769)\" x=\"143.279\" y=\"891.769\">40</text>\n</g>\n<g clip-path=\"url(#clip8200)\">\n<text style=\"fill:#000000; fill-opacity:1; font-family:Arial,Helvetica Neue,Helvetica,sans-serif; font-size:48px; text-anchor:end;\" transform=\"rotate(0, 143.279, 616.094)\" x=\"143.279\" y=\"616.094\">60</text>\n</g>\n<g clip-path=\"url(#clip8200)\">\n<text style=\"fill:#000000; fill-opacity:1; font-family:Arial,Helvetica Neue,Helvetica,sans-serif; font-size:48px; text-anchor:end;\" transform=\"rotate(0, 143.279, 340.419)\" x=\"143.279\" y=\"340.419\">80</text>\n</g>\n<g clip-path=\"url(#clip8200)\">\n<text style=\"fill:#000000; fill-opacity:1; font-family:Arial,Helvetica Neue,Helvetica,sans-serif; font-size:48px; text-anchor:end;\" transform=\"rotate(0, 143.279, 64.7441)\" x=\"143.279\" y=\"64.7441\">100</text>\n</g>\n<g clip-path=\"url(#clip8200)\">\n<text style=\"fill:#000000; fill-opacity:1; font-family:Arial,Helvetica Neue,Helvetica,sans-serif; font-size:66px; text-anchor:middle;\" transform=\"rotate(0, 1260.02, 1559.48)\" x=\"1260.02\" y=\"1559.48\">Epochs</text>\n</g>\n<polyline clip-path=\"url(#clip8202)\" style=\"stroke:#009af9; stroke-width:4; stroke-opacity:1; fill:none\" points=\"\n  229.132,794.323 231.454,887.134 233.776,870.363 236.098,826.6 238.42,780.769 240.741,730.803 243.063,679.114 245.385,628.459 247.707,585.729 250.029,542.77 \n  252.35,508.31 254.672,475.344 256.994,447.547 259.316,424.344 261.638,404.932 263.959,387.358 266.281,376.216 268.603,363.926 270.925,353.014 273.247,345.777 \n  275.569,337.851 277.89,329.811 280.212,324.068 282.534,318.095 284.856,313.615 287.178,308.331 289.499,304.885 291.821,300.406 294.143,297.189 296.465,293.399 \n  298.787,292.02 301.108,290.297 303.43,287.656 305.752,284.439 308.074,281.912 310.396,280.534 312.718,278.007 315.039,276.399 317.361,273.757 319.683,271.23 \n  322.005,267.669 324.327,265.946 326.648,263.189 328.97,260.088 331.292,257.331 333.614,255.608 335.936,253.771 338.258,251.588 340.579,248.487 342.901,245.5 \n  345.223,242.054 347.545,239.642 349.867,237.919 352.188,235.277 354.51,233.21 356.832,229.534 359.154,227.237 361.476,224.365 363.797,221.264 366.119,219.081 \n  368.441,215.98 370.763,212.764 373.085,210.122 375.407,207.94 377.728,205.413 380.05,202.196 382.372,200.244 384.694,198.75 387.016,195.994 389.337,193.926 \n  391.659,191.744 393.981,189.906 396.303,187.953 398.625,186 400.946,183.588 403.268,182.555 405.59,180.602 407.912,178.764 410.234,177.271 412.556,176.007 \n  414.877,174.859 417.199,173.021 419.521,171.068 421.843,170.379 424.165,170.149 426.486,168.196 428.808,167.967 431.13,167.163 433.452,165.44 435.774,164.176 \n  438.095,163.028 440.417,162.109 442.739,160.615 445.061,159.467 447.383,158.892 449.705,157.514 452.026,156.365 454.348,155.906 456.67,155.217 458.992,154.757 \n  461.314,154.528 463.635,153.609 465.957,153.034 468.279,152.575 470.601,151.771 472.923,151.197 475.245,150.392 477.566,149.703 479.888,149.588 482.21,149.359 \n  484.532,149.014 486.854,148.21 489.175,147.865 491.497,147.751 493.819,147.406 496.141,146.947 498.463,146.717 500.784,146.372 503.106,145.798 505.428,145.224 \n  507.75,144.534 510.072,144.305 512.394,143.96 514.715,143.501 517.037,143.041 519.359,142.926 521.681,143.041 524.003,142.582 526.324,142.237 528.646,142.237 \n  530.968,142.007 533.29,141.318 535.612,141.088 537.933,140.859 540.255,140.629 542.577,140.399 544.899,140.055 547.221,139.71 549.543,139.48 551.864,139.251 \n  554.186,138.791 556.508,138.906 558.83,138.791 561.152,138.447 563.473,138.217 565.795,137.757 568.117,137.298 570.439,136.953 572.761,136.609 575.082,136.494 \n  577.404,136.379 579.726,136.034 582.048,135.92 584.37,135.575 586.692,135.345 589.013,135.345 591.335,135.001 593.657,135.001 595.979,134.886 598.301,134.886 \n  600.622,134.426 602.944,134.311 605.266,134.197 607.588,134.311 609.91,134.426 612.232,134.541 614.553,134.426 616.875,134.541 619.197,134.541 621.519,134.541 \n  623.841,134.426 626.162,134.541 628.484,134.311 630.806,134.082 633.128,134.082 635.45,134.082 637.771,134.082 640.093,134.082 642.415,133.967 644.737,133.967 \n  647.059,133.967 649.381,133.852 651.702,133.622 654.024,133.278 656.346,133.507 658.668,133.393 660.99,133.393 663.311,133.278 665.633,133.048 667.955,132.933 \n  670.277,132.818 672.599,132.588 674.92,132.474 677.242,132.588 679.564,132.359 681.886,132.359 684.208,132.244 686.53,132.129 688.851,132.129 691.173,132.244 \n  693.495,132.359 695.817,132.359 698.139,132.359 700.46,132.359 702.782,132.014 705.104,132.244 707.426,132.129 709.748,131.899 712.07,131.67 714.391,131.555 \n  716.713,131.555 719.035,131.325 721.357,130.98 723.679,130.636 726,130.406 728.322,130.176 730.644,129.947 732.966,129.832 735.288,129.717 737.609,129.717 \n  739.931,129.602 742.253,129.372 744.575,129.372 746.897,129.257 749.219,129.143 751.54,129.143 753.862,129.143 756.184,129.143 758.506,129.143 760.828,129.028 \n  763.149,129.028 765.471,129.028 767.793,129.143 770.115,129.143 772.437,129.028 774.758,129.028 777.08,128.798 779.402,128.683 781.724,128.568 784.046,128.683 \n  786.368,128.568 788.689,128.568 791.011,128.683 793.333,128.913 795.655,128.913 797.977,128.913 800.298,128.913 802.62,128.798 804.942,128.798 807.264,128.683 \n  809.586,128.683 811.907,128.568 814.229,128.683 816.551,128.453 818.873,128.338 821.195,128.224 823.517,128.338 825.838,128.338 828.16,128.338 830.482,128.224 \n  832.804,128.224 835.126,128.109 837.447,127.994 839.769,127.994 842.091,127.879 844.413,127.764 846.735,127.649 849.057,127.649 851.378,127.764 853.7,127.649 \n  856.022,127.649 858.344,127.534 860.666,127.649 862.987,127.649 865.309,127.534 867.631,127.534 869.953,127.534 872.275,127.534 874.596,127.42 876.918,127.305 \n  879.24,127.075 881.562,127.19 883.884,127.305 886.206,127.19 888.527,127.19 890.849,127.19 893.171,126.845 895.493,126.615 897.815,126.271 900.136,126.271 \n  902.458,126.156 904.78,125.926 907.102,125.926 909.424,126.271 911.745,126.271 914.067,126.271 916.389,126.156 918.711,126.041 921.033,126.041 923.355,126.041 \n  925.676,125.811 927.998,125.926 930.32,125.697 932.642,125.467 934.964,125.697 937.285,125.582 939.607,125.697 941.929,125.582 944.251,125.467 946.573,125.467 \n  948.894,125.582 951.216,125.582 953.538,125.697 955.86,125.697 958.182,125.811 960.504,125.697 962.825,125.811 965.147,125.811 967.469,125.697 969.791,125.811 \n  972.113,125.811 974.434,125.697 976.756,125.697 979.078,125.811 981.4,125.582 983.722,125.582 986.044,125.582 988.365,125.582 990.687,125.697 993.009,125.697 \n  995.331,125.352 997.653,125.352 999.974,125.237 1002.3,125.237 1004.62,125.237 1006.94,125.237 1009.26,125.352 1011.58,125.237 1013.91,125.237 1016.23,125.237 \n  1018.55,125.007 1020.87,124.893 1023.19,124.893 1025.51,124.778 1027.84,124.778 1030.16,124.893 1032.48,125.007 1034.8,125.007 1037.12,124.778 1039.45,124.663 \n  1041.77,124.663 1044.09,124.663 1046.41,124.778 1048.73,124.778 1051.05,124.548 1053.38,124.433 1055.7,124.318 1058.02,124.318 1060.34,124.433 1062.66,124.433 \n  1064.99,124.433 1067.31,124.318 1069.63,124.318 1071.95,124.318 1074.27,124.318 1076.59,124.318 1078.92,124.203 1081.24,124.088 1083.56,123.974 1085.88,123.974 \n  1088.2,123.744 1090.53,123.629 1092.85,123.629 1095.17,123.629 1097.49,123.514 1099.81,123.514 1102.13,123.514 1104.46,123.399 1106.78,123.284 1109.1,123.17 \n  1111.42,123.17 1113.74,123.17 1116.07,123.17 1118.39,123.055 1120.71,122.94 1123.03,122.825 1125.35,122.825 1127.67,122.825 1130,122.825 1132.32,122.825 \n  1134.64,122.366 1136.96,122.251 1139.28,122.366 1141.61,122.366 1143.93,122.251 1146.25,122.251 1148.57,122.251 1150.89,122.251 1153.21,122.251 1155.54,122.136 \n  1157.86,122.136 1160.18,122.251 1162.5,122.136 1164.82,122.021 1167.14,122.136 1169.47,122.136 1171.79,122.021 1174.11,122.136 1176.43,122.136 1178.75,122.136 \n  1181.08,122.136 1183.4,122.251 1185.72,122.251 1188.04,122.021 1190.36,121.906 1192.68,121.791 1195.01,121.561 1197.33,121.217 1199.65,121.217 1201.97,121.102 \n  1204.29,120.987 1206.62,120.987 1208.94,121.102 1211.26,120.987 1213.58,120.987 1215.9,120.872 1218.22,120.872 1220.55,120.872 1222.87,120.643 1225.19,120.643 \n  1227.51,120.528 1229.83,120.528 1232.16,120.528 1234.48,120.528 1236.8,120.528 1239.12,120.413 1241.44,120.413 1243.76,120.413 1246.09,120.413 1248.41,120.528 \n  1250.73,120.528 1253.05,120.413 1255.37,120.413 1257.7,120.528 1260.02,120.413 1262.34,120.183 1264.66,120.298 1266.98,120.068 1269.3,120.183 1271.63,120.298 \n  1273.95,120.183 1276.27,120.183 1278.59,120.183 1280.91,120.183 1283.24,120.298 1285.56,120.298 1287.88,120.183 1290.2,120.298 1292.52,120.183 1294.84,120.413 \n  1297.17,120.298 1299.49,120.183 1301.81,120.068 1304.13,120.068 1306.45,120.068 1308.78,119.838 1311.1,119.609 1313.42,119.609 1315.74,119.609 1318.06,119.609 \n  1320.38,119.609 1322.71,119.724 1325.03,119.609 1327.35,119.609 1329.67,119.379 1331.99,119.264 1334.32,119.264 1336.64,119.379 1338.96,119.494 1341.28,119.494 \n  1343.6,119.494 1345.92,119.494 1348.25,119.379 1350.57,119.379 1352.89,119.609 1355.21,119.724 1357.53,119.494 1359.86,119.379 1362.18,119.379 1364.5,119.494 \n  1366.82,119.379 1369.14,119.379 1371.46,119.264 1373.79,119.379 1376.11,119.379 1378.43,119.379 1380.75,119.379 1383.07,119.264 1385.4,119.379 1387.72,119.379 \n  1390.04,119.264 1392.36,119.264 1394.68,119.264 1397,119.609 1399.33,119.494 1401.65,119.494 1403.97,119.494 1406.29,119.494 1408.61,119.494 1410.94,119.379 \n  1413.26,119.379 1415.58,119.379 1417.9,119.379 1420.22,119.494 1422.54,119.494 1424.87,119.609 1427.19,119.609 1429.51,119.609 1431.83,119.494 1434.15,119.494 \n  1436.48,119.494 1438.8,119.609 1441.12,119.609 1443.44,119.609 1445.76,119.724 1448.08,119.724 1450.41,119.609 1452.73,119.494 1455.05,119.724 1457.37,119.724 \n  1459.69,119.953 1462.02,120.068 1464.34,120.068 1466.66,120.413 1468.98,120.413 1471.3,120.528 1473.62,120.413 1475.95,120.413 1478.27,120.413 1480.59,120.413 \n  1482.91,120.528 1485.23,120.413 1487.56,120.413 1489.88,120.528 1492.2,120.528 1494.52,120.528 1496.84,120.872 1499.16,120.872 1501.49,120.872 1503.81,120.872 \n  1506.13,120.757 1508.45,120.757 1510.77,120.757 1513.1,120.757 1515.42,120.757 1517.74,120.643 1520.06,120.643 1522.38,120.643 1524.7,120.757 1527.03,120.757 \n  1529.35,120.757 1531.67,120.872 1533.99,120.872 1536.31,120.987 1538.64,120.987 1540.96,120.987 1543.28,120.872 1545.6,120.872 1547.92,120.987 1550.24,120.987 \n  1552.57,120.987 1554.89,120.987 1557.21,120.987 1559.53,120.987 1561.85,120.987 1564.18,121.102 1566.5,120.987 1568.82,120.987 1571.14,120.987 1573.46,120.757 \n  1575.78,120.643 1578.11,120.757 1580.43,120.757 1582.75,120.757 1585.07,120.757 1587.39,120.757 1589.72,120.757 1592.04,120.643 1594.36,120.643 1596.68,120.528 \n  1599,120.528 1601.32,120.528 1603.65,120.298 1605.97,120.183 1608.29,120.183 1610.61,120.183 1612.93,120.183 1615.26,120.183 1617.58,120.183 1619.9,120.183 \n  1622.22,120.183 1624.54,120.183 1626.86,120.298 1629.19,120.413 1631.51,120.413 1633.83,120.298 1636.15,120.298 1638.47,120.413 1640.79,120.413 1643.12,120.298 \n  1645.44,120.298 1647.76,120.298 1650.08,120.413 1652.4,120.643 1654.73,120.643 1657.05,120.413 1659.37,120.528 1661.69,120.413 1664.01,120.298 1666.33,120.413 \n  1668.66,120.413 1670.98,120.413 1673.3,120.413 1675.62,120.413 1677.94,120.413 1680.27,120.528 1682.59,120.413 1684.91,120.413 1687.23,120.298 1689.55,120.413 \n  1691.87,120.298 1694.2,120.298 1696.52,120.298 1698.84,120.298 1701.16,120.183 1703.48,120.068 1705.81,120.068 1708.13,120.068 1710.45,120.183 1712.77,119.953 \n  1715.09,119.953 1717.41,119.838 1719.74,119.838 1722.06,119.724 1724.38,119.724 1726.7,119.609 1729.02,119.494 1731.35,119.379 1733.67,119.379 1735.99,119.379 \n  1738.31,119.264 1740.63,119.264 1742.95,119.264 1745.28,119.264 1747.6,119.379 1749.92,119.264 1752.24,119.264 1754.56,119.264 1756.89,119.149 1759.21,119.149 \n  1761.53,119.149 1763.85,119.149 1766.17,119.034 1768.49,119.034 1770.82,119.034 1773.14,119.034 1775.46,118.92 1777.78,118.805 1780.1,118.805 1782.43,118.92 \n  1784.75,118.92 1787.07,119.034 1789.39,119.034 1791.71,118.805 1794.03,118.805 1796.36,118.805 1798.68,118.92 1801,118.92 1803.32,118.69 1805.64,118.69 \n  1807.97,118.69 1810.29,118.575 1812.61,118.69 1814.93,118.805 1817.25,118.805 1819.57,118.805 1821.9,118.805 1824.22,118.805 1826.54,118.92 1828.86,119.034 \n  1831.18,119.149 1833.51,119.149 1835.83,119.149 1838.15,119.149 1840.47,119.034 1842.79,119.034 1845.11,119.149 1847.44,119.149 1849.76,119.264 1852.08,119.264 \n  1854.4,119.149 1856.72,119.034 1859.05,118.92 1861.37,118.805 1863.69,118.805 1866.01,118.805 1868.33,118.805 1870.65,118.805 1872.98,118.805 1875.3,118.805 \n  1877.62,118.805 1879.94,118.69 1882.26,118.69 1884.59,118.69 1886.91,118.805 1889.23,118.805 1891.55,118.805 1893.87,118.805 1896.19,118.805 1898.52,118.805 \n  1900.84,118.805 1903.16,118.805 1905.48,118.92 1907.8,119.034 1910.13,119.034 1912.45,119.034 1914.77,119.149 1917.09,119.149 1919.41,119.149 1921.73,119.379 \n  1924.06,119.149 1926.38,119.264 1928.7,119.149 1931.02,119.149 1933.34,119.149 1935.67,119.149 1937.99,119.149 1940.31,119.149 1942.63,118.805 1944.95,118.805 \n  1947.27,118.805 1949.6,118.575 1951.92,118.575 1954.24,118.575 1956.56,118.69 1958.88,118.805 1961.21,118.805 1963.53,118.805 1965.85,118.805 1968.17,118.805 \n  1970.49,118.575 1972.81,118.575 1975.14,118.575 1977.46,118.575 1979.78,118.345 1982.1,118.345 1984.42,118.23 1986.75,118.23 1989.07,118.23 1991.39,118.23 \n  1993.71,118.23 1996.03,118.23 1998.35,118.46 2000.68,118.345 2003,118.116 2005.32,118.116 2007.64,118.001 2009.96,118.001 2012.29,118.001 2014.61,118.001 \n  2016.93,118.001 2019.25,118.116 2021.57,118.116 2023.89,118.23 2026.22,118.23 2028.54,118.23 2030.86,118.345 2033.18,118.345 2035.5,118.46 2037.83,118.46 \n  2040.15,118.46 2042.47,118.46 2044.79,118.46 2047.11,118.46 2049.43,118.46 2051.76,118.46 2054.08,118.46 2056.4,118.575 2058.72,118.575 2061.04,118.575 \n  2063.37,118.46 2065.69,118.46 2068.01,118.46 2070.33,118.23 2072.65,118.23 2074.97,118.23 2077.3,118.116 2079.62,118.23 2081.94,118.23 2084.26,118.345 \n  2086.58,118.345 2088.91,118.345 2091.23,118.345 2093.55,118.345 2095.87,118.345 2098.19,118.345 2100.51,118.345 2102.84,118.345 2105.16,118.46 2107.48,118.46 \n  2109.8,118.46 2112.12,118.46 2114.44,118.46 2116.77,118.46 2119.09,118.46 2121.41,118.345 2123.73,118.46 2126.05,118.46 2128.38,118.46 2130.7,118.345 \n  2133.02,118.345 2135.34,118.345 2137.66,118.345 2139.98,118.345 2142.31,118.46 2144.63,118.575 2146.95,118.575 2149.27,118.575 2151.59,118.575 2153.92,118.575 \n  2156.24,118.575 2158.56,118.575 2160.88,118.575 2163.2,118.575 2165.52,118.575 2167.85,118.575 2170.17,118.575 2172.49,118.46 2174.81,118.46 2177.13,118.46 \n  2179.46,118.46 2181.78,118.46 2184.1,118.46 2186.42,118.345 2188.74,118.345 2191.06,118.345 2193.39,118.46 2195.71,118.345 2198.03,118.345 2200.35,118.345 \n  2202.67,118.345 2205,118.345 2207.32,118.23 2209.64,118.23 2211.96,118.23 2214.28,118.23 2216.6,118.23 2218.93,118.23 2221.25,118.23 2223.57,118.23 \n  2225.89,118.23 2228.21,118.345 2230.54,118.345 2232.86,118.345 2235.18,118.46 2237.5,118.46 2239.82,118.345 2242.14,118.575 2244.47,118.575 2246.79,118.575 \n  2249.11,118.575 2251.43,118.575 2253.75,118.46 2256.08,118.46 2258.4,118.46 2260.72,118.46 2263.04,118.345 2265.36,118.23 2267.68,118.23 2270.01,118.23 \n  2272.33,118.23 2274.65,118.116 2276.97,118.116 2279.29,118.116 2281.62,118.116 2283.94,118.001 2286.26,118.001 2288.58,118.001 2290.9,118.001 \n  \"/>\n<path clip-path=\"url(#clip8200)\" d=\"\nM1842.83 251.724 L2280.76 251.724 L2280.76 130.764 L1842.83 130.764  Z\n  \" fill=\"#ffffff\" fill-rule=\"evenodd\" fill-opacity=\"1\"/>\n<polyline clip-path=\"url(#clip8200)\" style=\"stroke:#000000; stroke-width:4; stroke-opacity:1; fill:none\" points=\"\n  1842.83,251.724 2280.76,251.724 2280.76,130.764 1842.83,130.764 1842.83,251.724 \n  \"/>\n<polyline clip-path=\"url(#clip8200)\" style=\"stroke:#009af9; stroke-width:4; stroke-opacity:1; fill:none\" points=\"\n  1866.83,191.244 2010.83,191.244 \n  \"/>\n<g clip-path=\"url(#clip8200)\">\n<text style=\"fill:#000000; fill-opacity:1; font-family:Arial,Helvetica Neue,Helvetica,sans-serif; font-size:48px; text-anchor:start;\" transform=\"rotate(0, 2034.83, 208.744)\" x=\"2034.83\" y=\"208.744\">Accuracy</text>\n</g>\n</svg>\n"
          },
          "metadata": {
            "tags": []
          },
          "execution_count": 43
        }
      ]
    },
    {
      "cell_type": "markdown",
      "metadata": {
        "id": "8Udobe3Bae42",
        "colab_type": "text"
      },
      "source": [
        "###7. Provide the accuracy on the training and validation set, for the epoch on which you obtain your highest accuracy on the validation set."
      ]
    },
    {
      "cell_type": "code",
      "metadata": {
        "id": "Nuw-cYvBLkwN",
        "colab_type": "code",
        "outputId": "961b5611-270e-43e4-c51e-635b309c8e25",
        "colab": {
          "base_uri": "https://localhost:8080/",
          "height": 32
        }
      },
      "source": [
        "print(\"Train accuracy: \",accuracy(trainx, trainys, bestm),\"%\")"
      ],
      "execution_count": 0,
      "outputs": [
        {
          "output_type": "stream",
          "text": [
            "Train accuracy: 94.35833333333333%"
          ],
          "name": "stdout"
        }
      ]
    },
    {
      "cell_type": "code",
      "metadata": {
        "id": "wkKHnvKzLk-q",
        "colab_type": "code",
        "outputId": "3ed85fa4-76cf-48b2-d4de-096d486cc469",
        "colab": {
          "base_uri": "https://localhost:8080/",
          "height": 32
        }
      },
      "source": [
        "print(\"Validation accuracy: \",accuracy(devx, devys, bestm),\"%\")"
      ],
      "execution_count": 0,
      "outputs": [
        {
          "output_type": "stream",
          "text": [
            "Validation accuracy: 95.7%"
          ],
          "name": "stdout"
        }
      ]
    },
    {
      "cell_type": "markdown",
      "metadata": {
        "id": "QUjhytK5jaHz",
        "colab_type": "text"
      },
      "source": [
        "## Assignment 1.4: Hyperparameter tuning ##"
      ]
    },
    {
      "cell_type": "markdown",
      "metadata": {
        "id": "wWCiFCi_4vEf",
        "colab_type": "text"
      },
      "source": [
        "Define sigmoid function and its derivative:"
      ]
    },
    {
      "cell_type": "code",
      "metadata": {
        "id": "e2H9us1TAybL",
        "colab_type": "code",
        "colab": {}
      },
      "source": [
        "logistic(x)      = 1/(1 + exp(-x))\n",
        "logisticprime(x) = logistic(x)*(1 - logistic(x))"
      ],
      "execution_count": 0,
      "outputs": []
    },
    {
      "cell_type": "markdown",
      "metadata": {
        "id": "e9dRl01aAzJa",
        "colab_type": "text"
      },
      "source": [
        "Define the Two-Layer Perceptron as presented in the lecture:"
      ]
    },
    {
      "cell_type": "code",
      "metadata": {
        "id": "sl61j72OXctc",
        "colab_type": "code",
        "colab": {}
      },
      "source": [
        "mutable struct TwoLayerPerceptron\n",
        "    W1 ::Matrix{Float64}\n",
        "    b1 ::Vector{Float64}\n",
        "    w2 ::Vector{Float64}\n",
        "    b2 ::Float64\n",
        "end\n",
        "TwoLayerPerceptron(hids) = TwoLayerPerceptron(\n",
        "        randn(hids, size(trainxs)[1]*size(trainxs)[2])./100,\n",
        "        zeros(hids),\n",
        "        randn(hids)./100,\n",
        "        0.0,\n",
        "    )\n",
        "f(m::TwoLayerPerceptron, x) = logistic(dot(m.w2, logistic.(m.W1*x + m.b1)) + m.b2)  # predictive function\n",
        "p(m::TwoLayerPerceptron, x) = f(m, x) >= 0.5                                        # boundary\n",
        "\n",
        "mlp = TwoLayerPerceptron(3);\n"
      ],
      "execution_count": 0,
      "outputs": []
    },
    {
      "cell_type": "markdown",
      "metadata": {
        "id": "m-9Dfpo_7L_X",
        "colab_type": "text"
      },
      "source": [
        "Define the loss function:"
      ]
    },
    {
      "cell_type": "code",
      "metadata": {
        "id": "NDiHA5k07Mc3",
        "colab_type": "code",
        "colab": {}
      },
      "source": [
        "# loss function\n",
        "loss(m, x, y) = -log((1 - f(m, x))^(1 - y)) + -log(f(m, x)^y)"
      ],
      "execution_count": 0,
      "outputs": []
    },
    {
      "cell_type": "markdown",
      "metadata": {
        "id": "GoTZlendznvE",
        "colab_type": "text"
      },
      "source": [
        "Glorot initialisation as presented in the lecture:"
      ]
    },
    {
      "cell_type": "code",
      "metadata": {
        "id": "Y1_b5d7V7K13",
        "colab_type": "code",
        "colab": {}
      },
      "source": [
        "# glorot initialisation\n",
        "fanin(W::Matrix)  = size(W)[2]\n",
        "fanin(W::Vector)  = size(W)[1]\n",
        "fanout(W::Matrix) = size(W)[1]\n",
        "fanout(W::Vector) = 1\n",
        "\n",
        "function glorot!(W; islogistic=true)\n",
        "    x = sqrt(6/(fanin(W) + fanout(W)))*(islogistic ? 4 : 1)\n",
        "    W[:] = -2x .* rand(size(W)...) .+ x\n",
        "end"
      ],
      "execution_count": 0,
      "outputs": []
    },
    {
      "cell_type": "markdown",
      "metadata": {
        "id": "ajvbW7t27VTJ",
        "colab_type": "text"
      },
      "source": [
        "Backpropagation algorithm as presented in the lecture:"
      ]
    },
    {
      "cell_type": "code",
      "metadata": {
        "id": "640BT3OQpg2T",
        "colab_type": "code",
        "colab": {}
      },
      "source": [
        "# Convenience function\n",
        "import Base: zero\n",
        "function zero(m::TwoLayerPerceptron)\n",
        "    gradm = deepcopy(m)\n",
        "    glorot!(gradm.W1)\n",
        "    fill!(gradm.b1, 0)\n",
        "    glorot!(gradm.w2)\n",
        "    gradm.b2 = 0\n",
        "    gradm\n",
        "end\n",
        "\n",
        "# calculate gradients\n",
        "fprime(m, x, y) = fprime!(zero(m), m, x, y)\n",
        "function fprime!(gradm, m, x, y)\n",
        "    # Forward pass\n",
        "    h1     = logistic.(m.W1*x + m.b1)         # activations of first layer\n",
        "    h2     = dot(m.w2, h1) + m.b2             # activations of second layer\n",
        "    yprime = logistic(h2)                     # output \n",
        "\n",
        "    # Backwards pass  \n",
        "    error2       = yprime - y                 # error\n",
        "    gradm.b2    += error2                     # add error to bias\n",
        "    gradm.w2[:] += error2*h1                  # backpropagation from last layer\n",
        "    error1       = (m.w2*error2).*logisticprime.(h1)\n",
        "    gradm.b1[:]   += error1\n",
        "    gradm.W1[:,:] += error1*transpose(x)\n",
        "\n",
        "    gradm\n",
        "end;"
      ],
      "execution_count": 0,
      "outputs": []
    },
    {
      "cell_type": "markdown",
      "metadata": {
        "id": "jWcrqZwdWtBP",
        "colab_type": "text"
      },
      "source": [
        "Stack pixel matrices in vectors for input matrix:\n"
      ]
    },
    {
      "cell_type": "code",
      "metadata": {
        "id": "DkQxAQfpWthh",
        "colab_type": "code",
        "colab": {}
      },
      "source": [
        "trainx = zeros((size(trainxs)[1]*size(trainxs)[2],size(trainxs)[3]))\n",
        "devx = zeros((size(devxs)[1]*size(devxs)[2],size(devxs)[3]))\n",
        "testx = zeros((size(testxs)[1]*size(testxs)[2],size(testxs)[3]))\n",
        "\n",
        "for i in 1:size(trainxs)[3]\n",
        "    trainx[:,i] = reshape(trainxs[:,:,i], size(trainxs)[1]*size(trainxs)[2], 1)\n",
        "end\n",
        "for i in 1:size(devxs)[3]\n",
        "    devx[:,i] = reshape(devxs[:,:,i], size(devxs)[1]*size(devxs)[2], 1)\n",
        "end\n",
        "for i in 1:size(testxs)[3]\n",
        "    testx[:,i] = reshape(testxs[:,:,i], size(testxs)[1]*size(testxs)[2], 1)\n",
        "end"
      ],
      "execution_count": 0,
      "outputs": []
    },
    {
      "cell_type": "markdown",
      "metadata": {
        "id": "Z2APE5l-0eAJ",
        "colab_type": "text"
      },
      "source": [
        "Accuracy function:"
      ]
    },
    {
      "cell_type": "code",
      "metadata": {
        "id": "fBY0KTRt0ezU",
        "colab_type": "code",
        "colab": {}
      },
      "source": [
        "function accuracy(datax, datay, m)\n",
        "    correct = 0.0\n",
        "    for i in 1:length(datay)\n",
        "        p(m, datax[:, i]) == datay[i] || continue\n",
        "        correct += 1\n",
        "    end\n",
        "    correct/length(datay)*100\n",
        "end"
      ],
      "execution_count": 0,
      "outputs": []
    },
    {
      "cell_type": "markdown",
      "metadata": {
        "id": "5TG8J8Nz7POV",
        "colab_type": "text"
      },
      "source": [
        "Function to create batches as presented in the lecture:"
      ]
    },
    {
      "cell_type": "code",
      "metadata": {
        "id": "q_kDoNyT7QGs",
        "colab_type": "code",
        "colab": {}
      },
      "source": [
        "batchify(x, n) = [x[i:min(i + n - 1, length(x))] for i in 1:n:length(x)]"
      ],
      "execution_count": 0,
      "outputs": []
    },
    {
      "cell_type": "markdown",
      "metadata": {
        "id": "gMcASjl5r8Be",
        "colab_type": "text"
      },
      "source": [
        "**Exercise 1**\n",
        "\n",
        "(a) (Full-)batch gradient descent without momentum:"
      ]
    },
    {
      "cell_type": "code",
      "metadata": {
        "id": "Hjur5YiYfxht",
        "colab_type": "code",
        "colab": {}
      },
      "source": [
        "mlp1 = TwoLayerPerceptron(3);"
      ],
      "execution_count": 0,
      "outputs": []
    },
    {
      "cell_type": "code",
      "metadata": {
        "colab_type": "code",
        "id": "aWf_E0vQ3LfL",
        "colab": {}
      },
      "source": [
        "learningrate = 0.1\n",
        "\n",
        "let m = mlp1\n",
        "    bestm   = deepcopy(m)\n",
        "    bestacc = 0.0\n",
        "\n",
        "    epochs = 5000\n",
        "    trainloss = zeros(epochs)\n",
        "\n",
        "    convergence = 0\n",
        "    convergence_epoch = 0\n",
        "\n",
        "    for iteration in 1:epochs\n",
        "        # shuffle at every epoch\n",
        "        trainindx = shuffle(collect(1:1:length(trainys)))\n",
        "\n",
        "        # initialise gradient\n",
        "        gradm = deepcopy(m)\n",
        "        gradm = zero(m)\n",
        "\n",
        "        # Process\n",
        "        for i in 1:length(trainys)\n",
        "            x  = trainx[:,i]\n",
        "            y = trainys[i]\n",
        "            gradm = fprime!(gradm, m, x, y)\n",
        "        end\n",
        "\n",
        "        gradm.W1 ./= length(trainys)\n",
        "        gradm.b1 ./= length(trainys)\n",
        "        gradm.w2 ./= length(trainys)\n",
        "        gradm.b2  /= length(trainys)\n",
        "\n",
        "        # Update weights and biases\n",
        "        m.W1  .-= learningrate*gradm.W1\n",
        "        m.b1  .-= learningrate*gradm.b1\n",
        "        m.w2  .-= learningrate*gradm.w2\n",
        "        m.b2   -= learningrate*gradm.b2\n",
        "\n",
        "        # store loss on training set\n",
        "        for j in 1:length(trainys)\n",
        "            trainloss[iteration] += loss(m, trainx[:,j], trainys[j])/length(trainys)\n",
        "        end\n",
        "\n",
        "        @show iteration currentvalacc = accuracy(devx, devys, m)\n",
        "        if currentvalacc > bestacc \n",
        "            bestm   = deepcopy(m)\n",
        "            bestacc = currentvalacc\n",
        "        end\n",
        "\n",
        "        # stop optimising if model has converged\n",
        "        if iteration > 80 && abs(trainloss[iteration] - trainloss[iteration-80]) < 0.0001\n",
        "            convergence = 1\n",
        "            convergence_epoch = iteration\n",
        "            break\n",
        "        end\n",
        "\n",
        "    end\n",
        "\n",
        "    if convergence == 1 \n",
        "        println(\"Convergence after $convergence_epoch epochs\")\n",
        "    else\n",
        "        println(\"No convergence after $epochs epochs\")\n",
        "    end\n",
        "\n",
        "    m.W1[:,:] = bestm.W1[:,:]\n",
        "    m.b1[:]   = bestm.b1[:]\n",
        "    m.w2[:]   = bestm.w2[:]\n",
        "    m.b2      = bestm.b2;\n",
        "\n",
        "end\n",
        "\n",
        "@show accuracy(trainx, trainys, mlp1)\n",
        "@show accuracy(devx, devys, mlp1)\n",
        "@show accuracy(testx, testys, mlp1);"
      ],
      "execution_count": 0,
      "outputs": []
    },
    {
      "cell_type": "markdown",
      "metadata": {
        "id": "HITkNEA-sc0d",
        "colab_type": "text"
      },
      "source": [
        "(b) Stochastic gradient descent without momentum:\n",
        "\n"
      ]
    },
    {
      "cell_type": "code",
      "metadata": {
        "id": "zLqJ38IDf1vG",
        "colab_type": "code",
        "colab": {}
      },
      "source": [
        "mlp2 = TwoLayerPerceptron(3);"
      ],
      "execution_count": 0,
      "outputs": []
    },
    {
      "cell_type": "code",
      "metadata": {
        "id": "R7glBPEMv1-q",
        "colab_type": "code",
        "colab": {}
      },
      "source": [
        "learningrate = 0.1\n",
        "\n",
        "let m = mlp2\n",
        "    bestm   = deepcopy(m)\n",
        "    bestacc = 0.0\n",
        "\n",
        "    epochs = 5000\n",
        "    trainloss = zeros(epochs)\n",
        "\n",
        "    convergence = 0\n",
        "    convergence_epoch = 0\n",
        "\n",
        "    for iteration in 1:epochs\n",
        "        # shuffle at every epoch\n",
        "        trainindx = shuffle(collect(1:1:length(trainys)))\n",
        "\n",
        "        # Draw a random sample index\n",
        "        indx = rand(trainindx)\n",
        "\n",
        "        # Process and update \n",
        "        gradm = deepcopy(m)\n",
        "        gradm = zero(m)\n",
        "\n",
        "        # Process \n",
        "        x  = trainx[:,indx]\n",
        "        y = trainys[indx]\n",
        "        gradm = fprime!(gradm, m, x, y)\n",
        "\n",
        "        # Update weights and biases\n",
        "        m.W1  .-= learningrate*gradm.W1\n",
        "        m.b1  .-= learningrate*gradm.b1\n",
        "        m.w2  .-= learningrate*gradm.w2\n",
        "        m.b2   -= learningrate*gradm.b2\n",
        "\n",
        "        # store loss on training set\n",
        "        for j in 1:length(trainys)\n",
        "            trainloss[iteration] += loss(m, trainx[:,j], trainys[j])/length(trainys)\n",
        "        end\n",
        "\n",
        "        @show iteration currentvalacc = accuracy(devx, devys, m)\n",
        "        if currentvalacc > bestacc \n",
        "            bestm   = deepcopy(m)\n",
        "            bestacc = currentvalacc\n",
        "        end\n",
        "\n",
        "        # stop optimising if model has converged\n",
        "        if iteration > 80 && abs(trainloss[iteration] - trainloss[iteration-80]) < 0.0001\n",
        "            convergence = 1\n",
        "            convergence_epoch = iteration\n",
        "            break\n",
        "        end\n",
        "\n",
        "    end\n",
        "\n",
        "    if convergence == 1 \n",
        "        println(\"Convergence after $convergence_epoch epochs\")\n",
        "    else\n",
        "        println(\"No convergence after $epochs epochs\")\n",
        "    end\n",
        "\n",
        "    m.W1[:,:] = bestm.W1[:,:]\n",
        "    m.b1[:]   = bestm.b1[:]\n",
        "    m.w2[:]   = bestm.w2[:]\n",
        "    m.b2      = bestm.b2;\n",
        "\n",
        "end\n",
        "\n",
        "@show accuracy(trainx, trainys, mlp2)\n",
        "@show accuracy(devx, devys, mlp2)\n",
        "@show accuracy(testx, testys, mlp2);"
      ],
      "execution_count": 0,
      "outputs": []
    },
    {
      "cell_type": "markdown",
      "metadata": {
        "id": "XN675utksdHZ",
        "colab_type": "text"
      },
      "source": [
        "(c) Mini-batch gradient descent without momentum:"
      ]
    },
    {
      "cell_type": "code",
      "metadata": {
        "id": "vRkfiDJ5f_Q9",
        "colab_type": "code",
        "colab": {}
      },
      "source": [
        "mlp3 = TwoLayerPerceptron(3);"
      ],
      "execution_count": 0,
      "outputs": []
    },
    {
      "cell_type": "code",
      "metadata": {
        "id": "FXub5EXOv2v5",
        "colab_type": "code",
        "colab": {}
      },
      "source": [
        "learningrate = 0.01\n",
        "batchsize    = 512\n",
        "\n",
        "let m = mlp3\n",
        "    bestm   = deepcopy(m)\n",
        "    bestacc = 0.0\n",
        "\n",
        "    epochs = 5000\n",
        "    trainloss = zeros(epochs)\n",
        "\n",
        "    convergence = 0\n",
        "    convergence_epoch = 0\n",
        "\n",
        "    for iteration in 1:epochs\n",
        "        # shuffle at every epoch\n",
        "        trainindx = shuffle(collect(1:1:length(trainys)))\n",
        "\n",
        "        # Define mini-batches\n",
        "        batches = batchify(trainindx, batchsize)\n",
        "\n",
        "        # Process and update per Full-batch\n",
        "        for batch in batches\n",
        "            gradm = deepcopy(m)\n",
        "            gradm = zero(m)\n",
        "\n",
        "            # Process batch\n",
        "            for i in batch\n",
        "                x  = trainx[:,i]\n",
        "                y = trainys[i]\n",
        "                gradm = fprime!(gradm, m, x, y)\n",
        "            end\n",
        "\n",
        "            gradm.W1 ./= length(batch)\n",
        "            gradm.b1 ./= length(batch)\n",
        "            gradm.w2 ./= length(batch)\n",
        "            gradm.b2  /= length(batch)\n",
        "\n",
        "            # Update weights and biases\n",
        "            m.W1  .-= learningrate*gradm.W1\n",
        "            m.b1  .-= learningrate*gradm.b1\n",
        "            m.w2  .-= learningrate*gradm.w2\n",
        "            m.b2   -= learningrate*gradm.b2\n",
        "        \n",
        "        end\n",
        "\n",
        "        # store loss on training set\n",
        "        for j in 1:length(trainys)\n",
        "            trainloss[iteration] += loss(m, trainx[:,j], trainys[j])/length(trainys)\n",
        "        end\n",
        "\n",
        "        @show iteration currentvalacc = accuracy(devx, devys, m)\n",
        "        if currentvalacc > bestacc \n",
        "            bestm   = deepcopy(m)\n",
        "            bestacc = currentvalacc\n",
        "        end\n",
        "\n",
        "        # stop optimising if model has converged\n",
        "        if iteration > 80 && abs(trainloss[iteration] - trainloss[iteration-80]) < 0.0001\n",
        "            convergence = 1\n",
        "            convergence_epoch = iteration\n",
        "            break\n",
        "        end\n",
        "\n",
        "    end\n",
        "\n",
        "    if convergence == 1 \n",
        "        println(\"Convergence after $convergence_epoch epochs\")\n",
        "    else\n",
        "        println(\"No convergence after $epochs epochs\")\n",
        "    end\n",
        "\n",
        "    m.W1[:,:] = bestm.W1[:,:]\n",
        "    m.b1[:]   = bestm.b1[:]\n",
        "    m.w2[:]   = bestm.w2[:]\n",
        "    m.b2      = bestm.b2;\n",
        "\n",
        "end\n",
        "\n",
        "@show accuracy(trainx, trainys, mlp3)\n",
        "@show accuracy(devx, devys, mlp3)\n",
        "@show accuracy(testx, testys, mlp3);"
      ],
      "execution_count": 0,
      "outputs": []
    },
    {
      "cell_type": "markdown",
      "metadata": {
        "id": "-txrMgZnsdeM",
        "colab_type": "text"
      },
      "source": [
        "(d) (Full-)batch gradient descent with momentum:"
      ]
    },
    {
      "cell_type": "code",
      "metadata": {
        "id": "UjBaeDImgEh4",
        "colab_type": "code",
        "colab": {}
      },
      "source": [
        "mlp4 = TwoLayerPerceptron(3);"
      ],
      "execution_count": 0,
      "outputs": []
    },
    {
      "cell_type": "code",
      "metadata": {
        "id": "hhg2YYl_t_rf",
        "colab_type": "code",
        "colab": {}
      },
      "source": [
        "learningrate = 0.1\n",
        "momentum     = 0.95\n",
        "\n",
        "let m = mlp4\n",
        "    bestm   = deepcopy(m)\n",
        "    bestacc = 0.0\n",
        "    oldv    = deepcopy(m)\n",
        "    fill!(oldv.W1, 0)\n",
        "    fill!(oldv.b1, 0)\n",
        "    fill!(oldv.w2, 0)\n",
        "    oldv.b2 = 0\n",
        "\n",
        "    epochs = 5000\n",
        "    trainloss = zeros(epochs)\n",
        "\n",
        "    convergence = 0\n",
        "    convergence_epoch = 0\n",
        "\n",
        "    for iteration in 1:epochs\n",
        "        # shuffle at every epoch\n",
        "        trainindx = shuffle(collect(1:1:length(trainys)))\n",
        "\n",
        "        # initialise gradient an velocity\n",
        "        gradm = deepcopy(m)\n",
        "        oldm  = deepcopy(m)\n",
        "        v = deepcopy(oldv)\n",
        "        fill!(v.W1, 0)\n",
        "        fill!(v.b1, 0)\n",
        "        fill!(v.w2, 0)\n",
        "        v.b2 = 0\n",
        "        gradm = zero(m)\n",
        "\n",
        "        # Process\n",
        "        for i in 1:length(trainys)\n",
        "            x  = trainx[:,i]\n",
        "            y = trainys[i]\n",
        "            gradm = fprime!(gradm, m, x, y)\n",
        "        end\n",
        "\n",
        "        gradm.W1 ./= length(trainys)\n",
        "        gradm.b1 ./= length(trainys)\n",
        "        gradm.w2 ./= length(trainys)\n",
        "        gradm.b2  /= length(trainys)\n",
        "\n",
        "        # update velocity and store it\n",
        "        v.W1 = momentum.*oldv.W1-(1-momentum)*learningrate.*gradm.W1\n",
        "        v.b1 = momentum.*oldv.b1-(1-momentum)*learningrate.*gradm.b1\n",
        "        v.w2 = momentum.*oldv.w2-(1-momentum)*learningrate.*gradm.w2\n",
        "        v.b2 = momentum*oldv.b2-(1-momentum)*learningrate*gradm.b2\n",
        "        oldv = deepcopy(v)\n",
        "\n",
        "        # Update weights and biases\n",
        "        m.W1 = oldm.W1 + v.W1\n",
        "        m.b1 = oldm.b1 + v.b1\n",
        "        m.w2 = oldm.w2 + v.w2\n",
        "        m.b2 = oldm.b2 + v.b2\n",
        "\n",
        "        # store loss on training set\n",
        "        for j in 1:length(trainys)\n",
        "            trainloss[iteration] += loss(m, trainx[:,j], trainys[j])/length(trainys)\n",
        "        end\n",
        "\n",
        "        @show iteration currentvalacc = accuracy(devx, devys, m)\n",
        "        if currentvalacc > bestacc \n",
        "            bestm   = deepcopy(m)\n",
        "            bestacc = currentvalacc\n",
        "        end\n",
        "\n",
        "        # stop optimising if model has converged\n",
        "        if iteration > 80 && abs(trainloss[iteration] - trainloss[iteration-80]) < 0.0001\n",
        "            convergence = 1\n",
        "            convergence_epoch = iteration\n",
        "            break\n",
        "        end\n",
        "\n",
        "    end\n",
        "\n",
        "    if convergence == 1 \n",
        "        println(\"Convergence after $convergence_epoch epochs\")\n",
        "    else\n",
        "        println(\"No convergence after $epochs epochs\")\n",
        "    end\n",
        "\n",
        "    m.W1[:,:] = bestm.W1[:,:]\n",
        "    m.b1[:]   = bestm.b1[:]\n",
        "    m.w2[:]   = bestm.w2[:]\n",
        "    m.b2      = bestm.b2;\n",
        "\n",
        "end\n",
        "\n",
        "@show accuracy(trainx, trainys, mlp4)\n",
        "@show accuracy(devx, devys, mlp4)\n",
        "@show accuracy(testx, testys, mlp4);"
      ],
      "execution_count": 0,
      "outputs": []
    },
    {
      "cell_type": "markdown",
      "metadata": {
        "id": "x6u7JNKLs96f",
        "colab_type": "text"
      },
      "source": [
        "(e) Stochastic gradient descent with momentum:"
      ]
    },
    {
      "cell_type": "code",
      "metadata": {
        "id": "RRNkijiYgKPe",
        "colab_type": "code",
        "colab": {}
      },
      "source": [
        "mlp5 = TwoLayerPerceptron(3);"
      ],
      "execution_count": 0,
      "outputs": []
    },
    {
      "cell_type": "code",
      "metadata": {
        "id": "JVvRCdDK3rEt",
        "colab_type": "code",
        "colab": {}
      },
      "source": [
        "learningrate = 0.01\n",
        "momentum     = 0.95\n",
        "\n",
        "let m = mlp5\n",
        "    bestm   = deepcopy(m)\n",
        "    bestacc = 0.0\n",
        "    oldv    = deepcopy(m)\n",
        "    fill!(oldv.W1, 0)\n",
        "    fill!(oldv.b1, 0)\n",
        "    fill!(oldv.w2, 0)\n",
        "    oldv.b2 = 0\n",
        "\n",
        "    epochs = 5000\n",
        "    trainloss = zeros(epochs)\n",
        "\n",
        "    convergence = 0\n",
        "    convergence_epoch = 0\n",
        "\n",
        "    for iteration in 1:epochs\n",
        "        # shuffle at every epoch\n",
        "        trainindx = shuffle(collect(1:1:length(trainys)))\n",
        "\n",
        "        # Draw a random sample index\n",
        "        indx = rand(trainindx)\n",
        "\n",
        "        # initialise gradient and velocity\n",
        "        gradm = deepcopy(m)\n",
        "        oldm = deepcopy(m)\n",
        "        v = deepcopy(oldv)\n",
        "        fill!(v.W1, 0)\n",
        "        fill!(v.b1, 0)\n",
        "        fill!(v.w2, 0)\n",
        "        v.b2 = 0\n",
        "        gradm = zero(m)\n",
        "\n",
        "        # Process \n",
        "        x  = trainx[:,indx]\n",
        "        y = trainys[indx]\n",
        "        gradm = fprime!(gradm, m, x, y)\n",
        "\n",
        "        # update velocity and store it\n",
        "        v.W1 = momentum.*oldv.W1-(1-momentum)*learningrate.*gradm.W1\n",
        "        v.b1 = momentum.*oldv.b1-(1-momentum)*learningrate.*gradm.b1\n",
        "        v.w2 = momentum.*oldv.w2-(1-momentum)*learningrate.*gradm.w2\n",
        "        v.b2 = momentum*oldv.b2-(1-momentum)*learningrate*gradm.b2\n",
        "        oldv = deepcopy(v)\n",
        "\n",
        "        # Update weights and biases\n",
        "        m.W1 = oldm.W1 + v.W1\n",
        "        m.b1 = oldm.b1 + v.b1\n",
        "        m.w2 = oldm.w2 + v.w2\n",
        "        m.b2 = oldm.b2 + v.b2\n",
        "\n",
        "        # store loss on training set\n",
        "        for j in 1:length(trainys)\n",
        "            trainloss[iteration] += loss(m, trainx[:,j], trainys[j])/length(trainys)\n",
        "        end\n",
        "\n",
        "        @show iteration currentvalacc = accuracy(devx, devys, m)\n",
        "        if currentvalacc > bestacc \n",
        "            bestm   = deepcopy(m)\n",
        "            bestacc = currentvalacc\n",
        "        end\n",
        "\n",
        "        # stop optimising if model has converged\n",
        "        if iteration > 80 && abs(trainloss[iteration] - trainloss[iteration-80]) < 0.0001\n",
        "            convergence = 1\n",
        "            convergence_epoch = iteration\n",
        "            break\n",
        "        end\n",
        "\n",
        "    end\n",
        "\n",
        "    if convergence == 1 \n",
        "        println(\"Convergence after $convergence_epoch epochs\")\n",
        "    else\n",
        "        println(\"No convergence after $epochs epochs\")\n",
        "    end\n",
        "\n",
        "    m.W1[:,:] = bestm.W1[:,:]\n",
        "    m.b1[:]   = bestm.b1[:]\n",
        "    m.w2[:]   = bestm.w2[:]\n",
        "    m.b2      = bestm.b2;\n",
        "\n",
        "end\n",
        "\n",
        "@show accuracy(trainx, trainys, mlp5)\n",
        "@show accuracy(devx, devys, mlp5)\n",
        "@show accuracy(testx, testys, mlp5);"
      ],
      "execution_count": 0,
      "outputs": []
    },
    {
      "cell_type": "markdown",
      "metadata": {
        "id": "PlcFqhMHs-NB",
        "colab_type": "text"
      },
      "source": [
        "(f) Mini-batch gradient descent with momentum:"
      ]
    },
    {
      "cell_type": "code",
      "metadata": {
        "id": "EOLmXYNwgQs7",
        "colab_type": "code",
        "colab": {}
      },
      "source": [
        "mlp6 = TwoLayerPerceptron(3);"
      ],
      "execution_count": 0,
      "outputs": []
    },
    {
      "cell_type": "code",
      "metadata": {
        "id": "DnMOxL5g3uai",
        "colab_type": "code",
        "colab": {}
      },
      "source": [
        "learningrate = 0.1\n",
        "batchsize    = 256\n",
        "momentum     = 0.95\n",
        "\n",
        "let m = mlp6\n",
        "    bestm   = deepcopy(m)\n",
        "    bestacc = 0.0\n",
        "    oldv    = deepcopy(m)\n",
        "    fill!(oldv.W1, 0)\n",
        "    fill!(oldv.b1, 0)\n",
        "    fill!(oldv.w2, 0)\n",
        "    oldv.b2 = 0\n",
        "\n",
        "    epochs = 5000\n",
        "    trainloss = zeros(epochs)\n",
        "\n",
        "    convergence = 0\n",
        "    convergence_epoch = 0\n",
        "\n",
        "    for iteration in 1:epochs\n",
        "        # shuffle at every epoch\n",
        "        trainindx = shuffle(collect(1:1:length(trainys)))\n",
        "\n",
        "        # Define mini-batches\n",
        "        batches = batchify(trainindx, batchsize)\n",
        "\n",
        "        # Process and update per Full-batch\n",
        "        for batch in batches\n",
        "\n",
        "            # initialise gradient and velocity\n",
        "            gradm = deepcopy(m)\n",
        "            oldm = deepcopy(m)\n",
        "            v = deepcopy(oldv)\n",
        "            fill!(v.W1, 0)\n",
        "            fill!(v.b1, 0)\n",
        "            fill!(v.w2, 0)\n",
        "            v.b2 = 0\n",
        "            gradm = zero(m)\n",
        "\n",
        "            # Process batch\n",
        "            for i in batch\n",
        "                x  = trainx[:,i]\n",
        "                y = trainys[i]\n",
        "                gradm = fprime!(gradm, m, x, y)\n",
        "            end\n",
        "\n",
        "            gradm.W1 ./= length(batch)\n",
        "            gradm.b1 ./= length(batch)\n",
        "            gradm.w2 ./= length(batch)\n",
        "            gradm.b2  /= length(batch)\n",
        "\n",
        "            # update velocity and store it\n",
        "            v.W1 = momentum.*oldv.W1-(1-momentum)*learningrate.*gradm.W1\n",
        "            v.b1 = momentum.*oldv.b1-(1-momentum)*learningrate.*gradm.b1\n",
        "            v.w2 = momentum.*oldv.w2-(1-momentum)*learningrate.*gradm.w2\n",
        "            v.b2 = momentum*oldv.b2-(1-momentum)*learningrate*gradm.b2\n",
        "            oldv = deepcopy(v)\n",
        "\n",
        "            # Update weights and biases\n",
        "            m.W1 = oldm.W1 + v.W1\n",
        "            m.b1 = oldm.b1 + v.b1\n",
        "            m.w2 = oldm.w2 + v.w2\n",
        "            m.b2 = oldm.b2 + v.b2\n",
        "        \n",
        "        end\n",
        "\n",
        "        # store loss on training set\n",
        "        for j in 1:length(trainys)\n",
        "            trainloss[iteration] += loss(m, trainx[:,j], trainys[j])/length(trainys)\n",
        "        end\n",
        "\n",
        "        @show iteration currentvalacc = accuracy(devx, devys, m)\n",
        "        if currentvalacc > bestacc \n",
        "            bestm   = deepcopy(m)\n",
        "            bestacc = currentvalacc\n",
        "        end\n",
        "\n",
        "        # stop optimising if model has converged\n",
        "        if iteration > 80 && abs(trainloss[iteration] - trainloss[iteration-80]) < 0.0001\n",
        "            convergence = 1\n",
        "            convergence_epoch = iteration\n",
        "            break\n",
        "        end\n",
        "\n",
        "    end\n",
        "\n",
        "    if convergence == 1 \n",
        "        println(\"Convergence after $convergence_epoch epochs\")\n",
        "    else\n",
        "        println(\"No convergence after $epochs epochs\")\n",
        "    end\n",
        "\n",
        "    m.W1[:,:] = bestm.W1[:,:]\n",
        "    m.b1[:]   = bestm.b1[:]\n",
        "    m.w2[:]   = bestm.w2[:]\n",
        "    m.b2      = bestm.b2;\n",
        "\n",
        "end\n",
        "\n",
        "@show accuracy(trainx, trainys, mlp6)\n",
        "@show accuracy(devx, devys, mlp6)\n",
        "@show accuracy(testx, testys, mlp6);"
      ],
      "execution_count": 0,
      "outputs": []
    },
    {
      "cell_type": "markdown",
      "metadata": {
        "id": "S3gj2irIC9Pm",
        "colab_type": "text"
      },
      "source": [
        "**Exercise 2**\n",
        "\n",
        "Grid search to find \"good\" hyperparameters:"
      ]
    },
    {
      "cell_type": "code",
      "metadata": {
        "id": "sx_Or7hwDMgc",
        "colab_type": "code",
        "outputId": "c4167f07-d245-49d0-e800-026a0e68d1c5",
        "colab": {
          "base_uri": "https://localhost:8080/",
          "height": 289
        }
      },
      "source": [
        "learningrates = [0.04, 0.05, 0.06]\n",
        "batchsizes    = [1024]\n",
        "momentums     = [0.9]\n",
        "\n",
        "hyperparamacc = zeros((length(learningrates),length(batchsizes), length(momentums)))\n",
        "\n",
        "for (l, learningrate) in enumerate(learningrates)\n",
        "    for (b, batchsize) in enumerate(batchsizes)\n",
        "        for (n, momentum) in enumerate(momentums)\n",
        "\n",
        "            mlp = TwoLayerPerceptron(3)\n",
        "\n",
        "            let m = mlp\n",
        "                bestm   = deepcopy(m)\n",
        "                bestacc = 0.0\n",
        "                bestlearn = 0.0\n",
        "                bestbatch = 0\n",
        "                bestmomentum = 0.0\n",
        "                oldv    = deepcopy(m)\n",
        "                fill!(oldv.W1, 0)\n",
        "                fill!(oldv.b1, 0)\n",
        "                fill!(oldv.w2, 0)\n",
        "                oldv.b2 = 0\n",
        "                    \n",
        "                epochs = 1500\n",
        "                trainloss = zeros(epochs)\n",
        "\n",
        "                convergence = 0\n",
        "                convergence_epoch = 0\n",
        "\n",
        "                for iteration in 1:epochs\n",
        "                    # shuffle at every epoch\n",
        "                    trainindx = shuffle(collect(1:1:length(trainys)))\n",
        "\n",
        "                    # Define mini-batches\n",
        "                    batches = batchify(trainindx, batchsize)\n",
        "\n",
        "                    # Process and update per mini-batch\n",
        "                    for batch in batches\n",
        "\n",
        "                        # initialise gradient and velocity\n",
        "                        gradm = deepcopy(m)\n",
        "                        oldm = deepcopy(m)\n",
        "                        v = deepcopy(oldv)\n",
        "                        fill!(v.W1, 0)\n",
        "                        fill!(v.b1, 0)\n",
        "                        fill!(v.w2, 0)\n",
        "                        v.b2 = 0\n",
        "                        gradm = zero(m)\n",
        "\n",
        "                        # Process batch\n",
        "                        for i in batch\n",
        "                            x  = trainx[:,i]\n",
        "                            y = trainys[i]\n",
        "                            gradm = fprime!(gradm, m, x, y)\n",
        "                        end\n",
        "\n",
        "                        gradm.W1 ./= length(batch)\n",
        "                        gradm.b1 ./= length(batch)\n",
        "                        gradm.w2 ./= length(batch)\n",
        "                        gradm.b2  /= length(batch)\n",
        "\n",
        "                        # update velocity and store it\n",
        "                        v.W1 = momentum.*oldv.W1-(1-momentum)*learningrate.*gradm.W1\n",
        "                        v.b1 = momentum.*oldv.b1-(1-momentum)*learningrate.*gradm.b1\n",
        "                        v.w2 = momentum.*oldv.w2-(1-momentum)*learningrate.*gradm.w2\n",
        "                        v.b2 = momentum*oldv.b2-(1-momentum)*learningrate*gradm.b2\n",
        "                        oldv = deepcopy(v)\n",
        "\n",
        "                        # Update weights and biases\n",
        "                        m.W1 = oldm.W1 + v.W1\n",
        "                        m.b1 = oldm.b1 + v.b1\n",
        "                        m.w2 = oldm.w2 + v.w2\n",
        "                        m.b2 = oldm.b2 + v.b2\n",
        "        \n",
        "                    end\n",
        "\n",
        "                    # store loss on training set\n",
        "                    for j in 1:length(trainys)\n",
        "                        trainloss[iteration] += loss(m, trainx[:,j], trainys[j])/length(trainys)\n",
        "                    end\n",
        "\n",
        "                    currentvalacc = accuracy(devx, devys, m)\n",
        "                    if currentvalacc > bestacc \n",
        "                        bestm   = deepcopy(m)\n",
        "                        bestacc = currentvalacc\n",
        "                    end\n",
        "                    hyperparamacc[l, b, n] = bestacc\n",
        "\n",
        "                    # stop optimising if model has converged\n",
        "                    if iteration > 80 && abs(trainloss[iteration] - trainloss[iteration-80]) < 0.0001\n",
        "                        convergence = 1\n",
        "                        convergence_epoch = iteration\n",
        "                        break\n",
        "                    end\n",
        "\n",
        "                end\n",
        "\n",
        "                @show l b n hyperparamacc[l, b, n]\n",
        "                if convergence == 1 \n",
        "                    println(\"Convergence after $convergence_epoch epochs\")\n",
        "                else\n",
        "                    println(\"No convergence after $epochs epochs\")\n",
        "                end \n",
        "\n",
        "                m.W1[:,:] = bestm.W1[:,:]\n",
        "                m.b1[:]   = bestm.b1[:]\n",
        "                m.w2[:]   = bestm.w2[:]\n",
        "                m.b2      = bestm.b2;\n",
        "\n",
        "            end\n",
        "\n",
        "        end\n",
        "    end\n",
        "end\n",
        "\n",
        "@show hyperparamacc;"
      ],
      "execution_count": 0,
      "outputs": [
        {
          "output_type": "stream",
          "text": [
            "l = 1\n",
            "b = 1\n",
            "n = 1\n",
            "hyperparamacc[l, b, n] = 94.3\n",
            "No convergence after 1500 epochs\n",
            "l = 2\n",
            "b = 1\n",
            "n = 1\n",
            "hyperparamacc[l, b, n] = 94.39999999999999\n",
            "Convergence after 265 epochs\n",
            "l = 3\n",
            "b = 1\n",
            "n = 1\n",
            "hyperparamacc[l, b, n] = 94.6\n",
            "Convergence after 1281 epochs\n",
            "hyperparamacc = [94.3; 94.4; 94.6]\n"
          ],
          "name": "stdout"
        }
      ]
    },
    {
      "cell_type": "markdown",
      "metadata": {
        "colab_type": "text",
        "id": "hTOOeS4Gh8-s"
      },
      "source": [
        "**Exercise 3**\n",
        "\n",
        "List of evaluated hyperparameters and description of strategy & results:\n",
        "\n",
        "The general strategy was to start with a wide grid covering the smaller learning rates, the upper range of batch sizes (to provide smooth gradients) as well as the common range of momentum parameters and gradually refine the grid until no higher accuracy can be expected in the direct nieghbourhood.\n",
        "\n",
        "Round one revealed that combinations spanning the smaller learning rates, smaller batch sizes and moderately large momentum parameters perform very well. Therefore, the second, third and fourth grid covered and refined these regions for varying learning rates. In round five and six, the larger learning rates were examined further, as they also performed reasonably well in round one.\n",
        "\n",
        "The following table shows which parameters have been evaluated in which round:\n",
        "\n",
        "|hyperparameter | 1 | 2 | 3 | 4 | 5 | 6 |\n",
        "|----| | | | | | |\n",
        "| learning rate | 0.001, 0.005, 0.01, 0.05 | 0.004, 0.005, 0.006 | 0.0001, 0.001, 0.002 | 0.0015, 0.002, 0.0025| 0.03, 0.05, 0.07 |0.04, 0.05, 0.06 |\n",
        "| batch size | length(data), 2048, 1024 | 2048, 1024, 512 | 2048, 1024, 512 | 1024 | 2048, 1024, 512 |1024 |\n",
        "| momentum | 0.99, 0.97, 0.95, 0.92 0.9 | 0.96, 0.95, 0.94 | 0.98, 0.97, 0.96 | 0.97 | 0.89, 0.9, 0.91 |0.9 |\n",
        "\n",
        "The final hyperparameters $learning \\, rate=0.0025$ ,  $batch \\, size=1024$  and  $momentum=0.97$  achieved an accuracy of  $96.5%$  on the validation set.\n"
      ]
    },
    {
      "cell_type": "markdown",
      "metadata": {
        "id": "Z4YanY8EDw4B",
        "colab_type": "text"
      },
      "source": [
        "**Exercise 4**\n",
        "\n",
        "Plot of the loss on training and validation set for each epoch for the \"good\" parameters:"
      ]
    },
    {
      "cell_type": "code",
      "metadata": {
        "id": "nYI-ffMChZLK",
        "colab_type": "code",
        "colab": {}
      },
      "source": [
        "mlp = TwoLayerPerceptron(3);"
      ],
      "execution_count": 0,
      "outputs": []
    },
    {
      "cell_type": "code",
      "metadata": {
        "colab_type": "code",
        "id": "UETLtnZnAUte",
        "colab": {}
      },
      "source": [
        "# train the mlp with the \"good\" parameters\n",
        "learningrate = 0.0025\n",
        "batchsize    = 1024\n",
        "momentum     = 0.97\n",
        "\n",
        "epochs = 5000\n",
        "\n",
        "trainloss = zeros(epochs)\n",
        "valiloss  = zeros(epochs)\n",
        "trainacc  = zeros(epochs)\n",
        "valiacc   = zeros(epochs)\n",
        "\n",
        "convergence = 0\n",
        "convergence_epoch = 0\n",
        "\n",
        "let m = mlp\n",
        "    bestm   = deepcopy(m)\n",
        "    bestacc = 0.0\n",
        "    oldv    = deepcopy(m)\n",
        "    fill!(oldv.W1, 0)\n",
        "    fill!(oldv.b1, 0)\n",
        "    fill!(oldv.w2, 0)\n",
        "    oldv.b2 = 0\n",
        "\n",
        "    for iteration in 1:epochs\n",
        "        # Shuffle at every epoch\n",
        "        trainindx = shuffle(collect(1:1:length(trainys)))\n",
        "\n",
        "        # Define mini-batches\n",
        "        batches = batchify(trainindx, batchsize)\n",
        "\n",
        "        # Process and update per mini-batch\n",
        "        for batch in batches\n",
        "\n",
        "            # initialise gradient and velocity\n",
        "            gradm = deepcopy(m)\n",
        "            oldm = deepcopy(m)\n",
        "            v = deepcopy(oldv)\n",
        "            fill!(v.W1, 0)\n",
        "            fill!(v.b1, 0)\n",
        "            fill!(v.w2, 0)\n",
        "            v.b2 = 0\n",
        "            gradm = fprime(gradm, trainx[:,1], trainys[1])\n",
        "\n",
        "            # Process batch\n",
        "            for i in 1:length(trainys)\n",
        "                x  = trainx[:,i]\n",
        "                y = trainys[i]\n",
        "                gradm = fprime!(gradm, m, x, y)\n",
        "            end\n",
        "\n",
        "            gradm.W1 ./= length(batch)\n",
        "            gradm.b1 ./= length(batch)\n",
        "            gradm.w2 ./= length(batch)\n",
        "            gradm.b2  /= length(batch)\n",
        "\n",
        "            # update velocity and store it\n",
        "            v.W1 = momentum.*oldv.W1-(1-momentum)*learningrate.*gradm.W1\n",
        "            v.b1 = momentum.*oldv.b1-(1-momentum)*learningrate.*gradm.b1\n",
        "            v.w2 = momentum.*oldv.w2-(1-momentum)*learningrate.*gradm.w2\n",
        "            v.b2 = momentum*oldv.b2-(1-momentum)*learningrate*gradm.b2\n",
        "            oldv = deepcopy(v)\n",
        "\n",
        "            # Update weights and biases\n",
        "            m.W1 = oldm.W1 + v.W1\n",
        "            m.b1 = oldm.b1 + v.b1\n",
        "            m.w2 = oldm.w2 + v.w2\n",
        "            m.b2 = oldm.b2 + v.b2\n",
        "        \n",
        "        end\n",
        "\n",
        "        # store losses on training and validation set\n",
        "        for j in 1:length(trainys)\n",
        "            trainloss[iteration] += loss(m, trainx[:,j], trainys[j])/length(trainys)\n",
        "        end \n",
        "        for j in 1:length(devys)\n",
        "            valiloss[iteration] += loss(m, devx[:,j], devys[j])/length(devys)\n",
        "        end\n",
        "\n",
        "        # store accuracies on training and validation set\n",
        "        trainacc[iteration] = accuracy(trainx, trainys, m)\n",
        "        valiacc[iteration]  = accuracy(devx, devys, m)\n",
        "\n",
        "        @show iteration currentvalacc = valiacc[iteration]\n",
        "        if currentvalacc > bestacc \n",
        "            bestm   = deepcopy(m)\n",
        "            bestacc = currentvalacc\n",
        "        end\n",
        "\n",
        "        # stop optimising if model has converged\n",
        "        if iteration > 80 && abs(trainloss[iteration] - trainloss[iteration-80]) < 0.0001\n",
        "            convergence = 1\n",
        "            convergence_epoch = iteration\n",
        "            break\n",
        "        end\n",
        "\n",
        "    end\n",
        "\n",
        "    if convergence == 1 \n",
        "        println(\"Convergence after $convergence_epoch epochs\")\n",
        "    else\n",
        "        println(\"No convergence after $epochs epochs\")\n",
        "    end\n",
        "\n",
        "    m.W1[:,:] = bestm.W1[:,:]\n",
        "    m.b1[:]   = bestm.b1[:]\n",
        "    m.w2[:]   = bestm.w2[:]\n",
        "    m.b2      = bestm.b2;\n",
        "\n",
        "end"
      ],
      "execution_count": 0,
      "outputs": []
    },
    {
      "cell_type": "code",
      "metadata": {
        "id": "tDF1V2FK5KYi",
        "colab_type": "code",
        "outputId": "7531aaed-ac84-442c-f4bb-a39b526ea70e",
        "colab": {
          "base_uri": "https://localhost:8080/",
          "height": 421
        }
      },
      "source": [
        "# plot the loss for training and validation set\n",
        "let\n",
        "    x = 1:convergence_epoch\n",
        "    y = hcat(trainloss[1:convergence_epoch], valiloss[1:convergence_epoch])\n",
        "    plot(x, y, label = [\"training set\",\"validation set\"], xlabel = \"epochs\", ylabel = \"loss\")\n",
        "end"
      ],
      "execution_count": 0,
      "outputs": [
        {
          "output_type": "execute_result",
          "data": {
            "image/svg+xml": "<?xml version=\"1.0\" encoding=\"utf-8\"?>\n<svg xmlns=\"http://www.w3.org/2000/svg\" xmlns:xlink=\"http://www.w3.org/1999/xlink\" width=\"600\" height=\"400\" viewBox=\"0 0 2400 1600\">\n<defs>\n  <clipPath id=\"clip8500\">\n    <rect x=\"0\" y=\"0\" width=\"2400\" height=\"1600\"/>\n  </clipPath>\n</defs>\n<path clip-path=\"url(#clip8500)\" d=\"\nM0 1600 L2400 1600 L2400 0 L0 0  Z\n  \" fill=\"#ffffff\" fill-rule=\"evenodd\" fill-opacity=\"1\"/>\n<defs>\n  <clipPath id=\"clip8501\">\n    <rect x=\"480\" y=\"0\" width=\"1681\" height=\"1600\"/>\n  </clipPath>\n</defs>\n<path clip-path=\"url(#clip8500)\" d=\"\nM215.754 1425.62 L2352.76 1425.62 L2352.76 47.2441 L215.754 47.2441  Z\n  \" fill=\"#ffffff\" fill-rule=\"evenodd\" fill-opacity=\"1\"/>\n<defs>\n  <clipPath id=\"clip8502\">\n    <rect x=\"215\" y=\"47\" width=\"2138\" height=\"1379\"/>\n  </clipPath>\n</defs>\n<polyline clip-path=\"url(#clip8502)\" style=\"stroke:#000000; stroke-width:2; stroke-opacity:0.1; fill:none\" points=\"\n  274.144,1425.62 274.144,47.2441 \n  \"/>\n<polyline clip-path=\"url(#clip8502)\" style=\"stroke:#000000; stroke-width:2; stroke-opacity:0.1; fill:none\" points=\"\n  692.409,1425.62 692.409,47.2441 \n  \"/>\n<polyline clip-path=\"url(#clip8502)\" style=\"stroke:#000000; stroke-width:2; stroke-opacity:0.1; fill:none\" points=\"\n  1110.67,1425.62 1110.67,47.2441 \n  \"/>\n<polyline clip-path=\"url(#clip8502)\" style=\"stroke:#000000; stroke-width:2; stroke-opacity:0.1; fill:none\" points=\"\n  1528.94,1425.62 1528.94,47.2441 \n  \"/>\n<polyline clip-path=\"url(#clip8502)\" style=\"stroke:#000000; stroke-width:2; stroke-opacity:0.1; fill:none\" points=\"\n  1947.21,1425.62 1947.21,47.2441 \n  \"/>\n<polyline clip-path=\"url(#clip8502)\" style=\"stroke:#000000; stroke-width:2; stroke-opacity:0.1; fill:none\" points=\"\n  215.754,1205.45 2352.76,1205.45 \n  \"/>\n<polyline clip-path=\"url(#clip8502)\" style=\"stroke:#000000; stroke-width:2; stroke-opacity:0.1; fill:none\" points=\"\n  215.754,978.529 2352.76,978.529 \n  \"/>\n<polyline clip-path=\"url(#clip8502)\" style=\"stroke:#000000; stroke-width:2; stroke-opacity:0.1; fill:none\" points=\"\n  215.754,751.604 2352.76,751.604 \n  \"/>\n<polyline clip-path=\"url(#clip8502)\" style=\"stroke:#000000; stroke-width:2; stroke-opacity:0.1; fill:none\" points=\"\n  215.754,524.68 2352.76,524.68 \n  \"/>\n<polyline clip-path=\"url(#clip8502)\" style=\"stroke:#000000; stroke-width:2; stroke-opacity:0.1; fill:none\" points=\"\n  215.754,297.756 2352.76,297.756 \n  \"/>\n<polyline clip-path=\"url(#clip8502)\" style=\"stroke:#000000; stroke-width:2; stroke-opacity:0.1; fill:none\" points=\"\n  215.754,70.8315 2352.76,70.8315 \n  \"/>\n<polyline clip-path=\"url(#clip8500)\" style=\"stroke:#000000; stroke-width:4; stroke-opacity:1; fill:none\" points=\"\n  215.754,1425.62 2352.76,1425.62 \n  \"/>\n<polyline clip-path=\"url(#clip8500)\" style=\"stroke:#000000; stroke-width:4; stroke-opacity:1; fill:none\" points=\"\n  215.754,1425.62 215.754,47.2441 \n  \"/>\n<polyline clip-path=\"url(#clip8500)\" style=\"stroke:#000000; stroke-width:4; stroke-opacity:1; fill:none\" points=\"\n  274.144,1425.62 274.144,1404.94 \n  \"/>\n<polyline clip-path=\"url(#clip8500)\" style=\"stroke:#000000; stroke-width:4; stroke-opacity:1; fill:none\" points=\"\n  692.409,1425.62 692.409,1404.94 \n  \"/>\n<polyline clip-path=\"url(#clip8500)\" style=\"stroke:#000000; stroke-width:4; stroke-opacity:1; fill:none\" points=\"\n  1110.67,1425.62 1110.67,1404.94 \n  \"/>\n<polyline clip-path=\"url(#clip8500)\" style=\"stroke:#000000; stroke-width:4; stroke-opacity:1; fill:none\" points=\"\n  1528.94,1425.62 1528.94,1404.94 \n  \"/>\n<polyline clip-path=\"url(#clip8500)\" style=\"stroke:#000000; stroke-width:4; stroke-opacity:1; fill:none\" points=\"\n  1947.21,1425.62 1947.21,1404.94 \n  \"/>\n<polyline clip-path=\"url(#clip8500)\" style=\"stroke:#000000; stroke-width:4; stroke-opacity:1; fill:none\" points=\"\n  215.754,1205.45 247.809,1205.45 \n  \"/>\n<polyline clip-path=\"url(#clip8500)\" style=\"stroke:#000000; stroke-width:4; stroke-opacity:1; fill:none\" points=\"\n  215.754,978.529 247.809,978.529 \n  \"/>\n<polyline clip-path=\"url(#clip8500)\" style=\"stroke:#000000; stroke-width:4; stroke-opacity:1; fill:none\" points=\"\n  215.754,751.604 247.809,751.604 \n  \"/>\n<polyline clip-path=\"url(#clip8500)\" style=\"stroke:#000000; stroke-width:4; stroke-opacity:1; fill:none\" points=\"\n  215.754,524.68 247.809,524.68 \n  \"/>\n<polyline clip-path=\"url(#clip8500)\" style=\"stroke:#000000; stroke-width:4; stroke-opacity:1; fill:none\" points=\"\n  215.754,297.756 247.809,297.756 \n  \"/>\n<polyline clip-path=\"url(#clip8500)\" style=\"stroke:#000000; stroke-width:4; stroke-opacity:1; fill:none\" points=\"\n  215.754,70.8315 247.809,70.8315 \n  \"/>\n<g clip-path=\"url(#clip8500)\">\n<text style=\"fill:#000000; fill-opacity:1; font-family:Arial,Helvetica Neue,Helvetica,sans-serif; font-size:48px; text-anchor:middle;\" transform=\"rotate(0, 274.144, 1479.62)\" x=\"274.144\" y=\"1479.62\">0</text>\n</g>\n<g clip-path=\"url(#clip8500)\">\n<text style=\"fill:#000000; fill-opacity:1; font-family:Arial,Helvetica Neue,Helvetica,sans-serif; font-size:48px; text-anchor:middle;\" transform=\"rotate(0, 692.409, 1479.62)\" x=\"692.409\" y=\"1479.62\">200</text>\n</g>\n<g clip-path=\"url(#clip8500)\">\n<text style=\"fill:#000000; fill-opacity:1; font-family:Arial,Helvetica Neue,Helvetica,sans-serif; font-size:48px; text-anchor:middle;\" transform=\"rotate(0, 1110.67, 1479.62)\" x=\"1110.67\" y=\"1479.62\">400</text>\n</g>\n<g clip-path=\"url(#clip8500)\">\n<text style=\"fill:#000000; fill-opacity:1; font-family:Arial,Helvetica Neue,Helvetica,sans-serif; font-size:48px; text-anchor:middle;\" transform=\"rotate(0, 1528.94, 1479.62)\" x=\"1528.94\" y=\"1479.62\">600</text>\n</g>\n<g clip-path=\"url(#clip8500)\">\n<text style=\"fill:#000000; fill-opacity:1; font-family:Arial,Helvetica Neue,Helvetica,sans-serif; font-size:48px; text-anchor:middle;\" transform=\"rotate(0, 1947.21, 1479.62)\" x=\"1947.21\" y=\"1479.62\">800</text>\n</g>\n<g clip-path=\"url(#clip8500)\">\n<text style=\"fill:#000000; fill-opacity:1; font-family:Arial,Helvetica Neue,Helvetica,sans-serif; font-size:48px; text-anchor:end;\" transform=\"rotate(0, 191.754, 1222.95)\" x=\"191.754\" y=\"1222.95\">0.2</text>\n</g>\n<g clip-path=\"url(#clip8500)\">\n<text style=\"fill:#000000; fill-opacity:1; font-family:Arial,Helvetica Neue,Helvetica,sans-serif; font-size:48px; text-anchor:end;\" transform=\"rotate(0, 191.754, 996.029)\" x=\"191.754\" y=\"996.029\">0.3</text>\n</g>\n<g clip-path=\"url(#clip8500)\">\n<text style=\"fill:#000000; fill-opacity:1; font-family:Arial,Helvetica Neue,Helvetica,sans-serif; font-size:48px; text-anchor:end;\" transform=\"rotate(0, 191.754, 769.104)\" x=\"191.754\" y=\"769.104\">0.4</text>\n</g>\n<g clip-path=\"url(#clip8500)\">\n<text style=\"fill:#000000; fill-opacity:1; font-family:Arial,Helvetica Neue,Helvetica,sans-serif; font-size:48px; text-anchor:end;\" transform=\"rotate(0, 191.754, 542.18)\" x=\"191.754\" y=\"542.18\">0.5</text>\n</g>\n<g clip-path=\"url(#clip8500)\">\n<text style=\"fill:#000000; fill-opacity:1; font-family:Arial,Helvetica Neue,Helvetica,sans-serif; font-size:48px; text-anchor:end;\" transform=\"rotate(0, 191.754, 315.256)\" x=\"191.754\" y=\"315.256\">0.6</text>\n</g>\n<g clip-path=\"url(#clip8500)\">\n<text style=\"fill:#000000; fill-opacity:1; font-family:Arial,Helvetica Neue,Helvetica,sans-serif; font-size:48px; text-anchor:end;\" transform=\"rotate(0, 191.754, 88.3315)\" x=\"191.754\" y=\"88.3315\">0.7</text>\n</g>\n<g clip-path=\"url(#clip8500)\">\n<text style=\"fill:#000000; fill-opacity:1; font-family:Arial,Helvetica Neue,Helvetica,sans-serif; font-size:66px; text-anchor:middle;\" transform=\"rotate(0, 1284.25, 1559.48)\" x=\"1284.25\" y=\"1559.48\">epochs</text>\n</g>\n<g clip-path=\"url(#clip8500)\">\n<text style=\"fill:#000000; fill-opacity:1; font-family:Arial,Helvetica Neue,Helvetica,sans-serif; font-size:66px; text-anchor:middle;\" transform=\"rotate(-90, 89.2861, 736.431)\" x=\"89.2861\" y=\"736.431\">loss</text>\n</g>\n<polyline clip-path=\"url(#clip8502)\" style=\"stroke:#009af9; stroke-width:4; stroke-opacity:1; fill:none\" points=\"\n  276.235,86.2547 278.327,86.2839 280.418,86.3218 282.509,86.3623 284.601,86.4019 286.692,86.4393 288.783,86.4751 290.875,86.5102 292.966,86.5461 295.057,86.5848 \n  297.149,86.6279 299.24,86.6772 301.331,86.7343 303.423,86.8012 305.514,86.8797 307.605,86.9721 309.697,87.081 311.788,87.2095 313.879,87.3611 315.97,87.5401 \n  318.062,87.7511 320.153,87.9998 322.244,88.2928 324.336,88.638 326.427,89.0441 328.518,89.5207 330.61,90.0784 332.701,90.7293 334.792,91.4876 336.884,92.3679 \n  338.975,93.386 341.066,94.5567 343.158,95.8951 345.249,97.4162 347.34,99.1312 349.432,101.049 351.523,103.172 353.614,105.501 355.706,108.029 357.797,110.744 \n  359.888,113.631 361.98,116.668 364.071,119.835 366.162,123.112 368.254,126.482 370.345,129.931 372.436,133.453 374.528,137.048 376.619,140.726 378.71,144.497 \n  380.802,148.382 382.893,152.403 384.984,156.587 387.076,160.96 389.167,165.547 391.258,170.376 393.35,175.472 395.441,180.859 397.532,186.561 399.624,192.596 \n  401.715,198.983 403.806,205.738 405.898,212.871 407.989,220.394 410.08,228.312 412.172,236.627 414.263,245.336 416.354,254.433 418.446,263.901 420.537,273.722 \n  422.628,283.866 424.72,294.297 426.811,304.971 428.902,315.837 430.993,326.836 433.085,337.905 435.176,348.981 437.267,360.005 439.359,370.921 441.45,381.682 \n  443.541,392.253 445.633,402.609 447.724,412.738 449.815,422.637 451.907,432.312 453.998,441.778 456.089,451.048 458.181,460.147 460.272,469.094 462.363,477.912 \n  464.455,486.624 466.546,495.248 468.637,503.806 470.729,512.313 472.82,520.785 474.911,529.233 477.003,537.664 479.094,546.088 481.185,554.511 483.277,562.933 \n  485.368,571.355 487.459,579.777 489.551,588.195 491.642,596.607 493.733,605.007 495.825,613.392 497.916,621.754 500.007,630.087 502.099,638.385 504.19,646.639 \n  506.281,654.846 508.373,662.999 510.464,671.094 512.555,679.124 514.647,687.086 516.738,694.972 518.829,702.779 520.921,710.503 523.012,718.141 525.103,725.689 \n  527.195,733.146 529.286,740.51 531.377,747.779 533.469,754.951 535.56,762.025 537.651,768.999 539.743,775.874 541.834,782.651 543.925,789.326 546.016,795.903 \n  548.108,802.383 550.199,808.767 552.29,815.052 554.382,821.241 556.473,827.334 558.564,833.332 560.656,839.238 562.747,845.05 564.838,850.772 566.93,856.403 \n  569.021,861.948 571.112,867.407 573.204,872.781 575.295,878.071 577.386,883.278 579.478,888.403 581.569,893.447 583.66,898.413 585.752,903.301 587.843,908.11 \n  589.934,912.843 592.026,917.5 594.117,922.085 596.208,926.599 598.3,931.044 600.391,935.421 602.482,939.728 604.574,943.969 606.665,948.142 608.756,952.251 \n  610.848,956.296 612.939,960.279 615.03,964.2 617.122,968.061 619.213,971.862 621.304,975.604 623.396,979.29 625.487,982.922 627.578,986.499 629.67,990.022 \n  631.761,993.492 633.852,996.91 635.944,1000.28 638.035,1003.6 640.126,1006.87 642.218,1010.09 644.309,1013.27 646.4,1016.39 648.492,1019.48 650.583,1022.51 \n  652.674,1025.51 654.765,1028.46 656.857,1031.37 658.948,1034.23 661.039,1037.06 663.131,1039.84 665.222,1042.59 667.313,1045.29 669.405,1047.96 671.496,1050.59 \n  673.587,1053.18 675.679,1055.73 677.77,1058.25 679.861,1060.74 681.953,1063.18 684.044,1065.6 686.135,1067.98 688.227,1070.33 690.318,1072.64 692.409,1074.92 \n  694.501,1077.17 696.592,1079.39 698.683,1081.57 700.775,1083.73 702.866,1085.86 704.957,1087.96 707.049,1090.03 709.14,1092.08 711.231,1094.09 713.323,1096.08 \n  715.414,1098.04 717.505,1099.98 719.597,1101.89 721.688,1103.77 723.779,1105.63 725.871,1107.47 727.962,1109.28 730.053,1111.07 732.145,1112.83 734.236,1114.57 \n  736.327,1116.29 738.419,1117.99 740.51,1119.66 742.601,1121.32 744.693,1122.95 746.784,1124.56 748.875,1126.15 750.967,1127.72 753.058,1129.27 755.149,1130.81 \n  757.241,1132.32 759.332,1133.81 761.423,1135.29 763.515,1136.74 765.606,1138.18 767.697,1139.59 769.788,1140.99 771.88,1142.38 773.971,1143.74 776.062,1145.09 \n  778.154,1146.42 780.245,1147.74 782.336,1149.04 784.428,1150.32 786.519,1151.59 788.61,1152.84 790.702,1154.08 792.793,1155.3 794.884,1156.51 796.976,1157.71 \n  799.067,1158.89 801.158,1160.06 803.25,1161.21 805.341,1162.36 807.432,1163.49 809.524,1164.61 811.615,1165.71 813.706,1166.81 815.798,1167.89 817.889,1168.96 \n  819.98,1170.02 822.072,1171.08 824.163,1172.12 826.254,1173.14 828.346,1174.16 830.437,1175.17 832.528,1176.17 834.62,1177.16 836.711,1178.14 838.802,1179.11 \n  840.894,1180.07 842.985,1181.02 845.076,1181.96 847.168,1182.89 849.259,1183.82 851.35,1184.73 853.442,1185.64 855.533,1186.54 857.624,1187.43 859.716,1188.31 \n  861.807,1189.18 863.898,1190.05 865.99,1190.91 868.081,1191.76 870.172,1192.61 872.264,1193.44 874.355,1194.27 876.446,1195.1 878.538,1195.91 880.629,1196.72 \n  882.72,1197.53 884.811,1198.33 886.903,1199.12 888.994,1199.9 891.085,1200.68 893.177,1201.46 895.268,1202.22 897.359,1202.98 899.451,1203.74 901.542,1204.49 \n  903.633,1205.24 905.725,1205.97 907.816,1206.71 909.907,1207.43 911.999,1208.16 914.09,1208.87 916.181,1209.58 918.273,1210.29 920.364,1210.98 922.455,1211.68 \n  924.547,1212.36 926.638,1213.04 928.729,1213.72 930.821,1214.38 932.912,1215.05 935.003,1215.7 937.095,1216.35 939.186,1217 941.277,1217.64 943.369,1218.27 \n  945.46,1218.9 947.551,1219.52 949.643,1220.14 951.734,1220.75 953.825,1221.36 955.917,1221.96 958.008,1222.55 960.099,1223.14 962.191,1223.73 964.282,1224.3 \n  966.373,1224.88 968.465,1225.45 970.556,1226.01 972.647,1226.57 974.739,1227.12 976.83,1227.67 978.921,1228.22 981.013,1228.76 983.104,1229.29 985.195,1229.82 \n  987.287,1230.34 989.378,1230.86 991.469,1231.38 993.561,1231.89 995.652,1232.39 997.743,1232.89 999.834,1233.39 1001.93,1233.88 1004.02,1234.37 1006.11,1234.85 \n  1008.2,1235.33 1010.29,1235.81 1012.38,1236.28 1014.47,1236.74 1016.57,1237.2 1018.66,1237.66 1020.75,1238.11 1022.84,1238.56 1024.93,1239.01 1027.02,1239.45 \n  1029.11,1239.89 1031.2,1240.32 1033.3,1240.75 1035.39,1241.17 1037.48,1241.59 1039.57,1242.01 1041.66,1242.42 1043.75,1242.83 1045.84,1243.24 1047.94,1243.64 \n  1050.03,1244.04 1052.12,1244.44 1054.21,1244.83 1056.3,1245.22 1058.39,1245.61 1060.48,1245.99 1062.57,1246.37 1064.67,1246.75 1066.76,1247.12 1068.85,1247.49 \n  1070.94,1247.86 1073.03,1248.23 1075.12,1248.6 1077.21,1248.96 1079.3,1249.32 1081.4,1249.68 1083.49,1250.04 1085.58,1250.39 1087.67,1250.74 1089.76,1251.1 \n  1091.85,1251.45 1093.94,1251.8 1096.04,1252.14 1098.13,1252.49 1100.22,1252.84 1102.31,1253.18 1104.4,1253.52 1106.49,1253.87 1108.58,1254.21 1110.67,1254.55 \n  1112.77,1254.89 1114.86,1255.23 1116.95,1255.56 1119.04,1255.9 1121.13,1256.24 1123.22,1256.57 1125.31,1256.91 1127.41,1257.24 1129.5,1257.57 1131.59,1257.9 \n  1133.68,1258.23 1135.77,1258.56 1137.86,1258.89 1139.95,1259.22 1142.04,1259.54 1144.14,1259.87 1146.23,1260.19 1148.32,1260.52 1150.41,1260.84 1152.5,1261.16 \n  1154.59,1261.48 1156.68,1261.8 1158.78,1262.12 1160.87,1262.44 1162.96,1262.75 1165.05,1263.07 1167.14,1263.39 1169.23,1263.7 1171.32,1264.01 1173.41,1264.33 \n  1175.51,1264.64 1177.6,1264.95 1179.69,1265.26 1181.78,1265.57 1183.87,1265.88 1185.96,1266.2 1188.05,1266.51 1190.15,1266.81 1192.24,1267.12 1194.33,1267.43 \n  1196.42,1267.74 1198.51,1268.05 1200.6,1268.36 1202.69,1268.67 1204.78,1268.98 1206.88,1269.29 1208.97,1269.6 1211.06,1269.91 1213.15,1270.22 1215.24,1270.52 \n  1217.33,1270.83 1219.42,1271.14 1221.52,1271.45 1223.61,1271.76 1225.7,1272.07 1227.79,1272.38 1229.88,1272.69 1231.97,1272.99 1234.06,1273.3 1236.15,1273.61 \n  1238.25,1273.92 1240.34,1274.23 1242.43,1274.53 1244.52,1274.84 1246.61,1275.15 1248.7,1275.45 1250.79,1275.76 1252.89,1276.07 1254.98,1276.37 1257.07,1276.68 \n  1259.16,1276.99 1261.25,1277.29 1263.34,1277.6 1265.43,1277.9 1267.52,1278.21 1269.62,1278.51 1271.71,1278.82 1273.8,1279.12 1275.89,1279.43 1277.98,1279.73 \n  1280.07,1280.04 1282.16,1280.34 1284.25,1280.64 1286.35,1280.95 1288.44,1281.25 1290.53,1281.55 1292.62,1281.85 1294.71,1282.16 1296.8,1282.46 1298.89,1282.76 \n  1300.99,1283.06 1303.08,1283.36 1305.17,1283.66 1307.26,1283.96 1309.35,1284.26 1311.44,1284.55 1313.53,1284.85 1315.62,1285.15 1317.72,1285.44 1319.81,1285.74 \n  1321.9,1286.03 1323.99,1286.33 1326.08,1286.62 1328.17,1286.91 1330.26,1287.2 1332.36,1287.49 1334.45,1287.78 1336.54,1288.06 1338.63,1288.35 1340.72,1288.63 \n  1342.81,1288.92 1344.9,1289.2 1346.99,1289.48 1349.09,1289.76 1351.18,1290.04 1353.27,1290.32 1355.36,1290.59 1357.45,1290.86 1359.54,1291.14 1361.63,1291.41 \n  1363.73,1291.68 1365.82,1291.95 1367.91,1292.21 1370,1292.48 1372.09,1292.74 1374.18,1293 1376.27,1293.27 1378.36,1293.52 1380.46,1293.78 1382.55,1294.04 \n  1384.64,1294.29 1386.73,1294.55 1388.82,1294.8 1390.91,1295.05 1393,1295.3 1395.1,1295.55 1397.19,1295.79 1399.28,1296.04 1401.37,1296.28 1403.46,1296.52 \n  1405.55,1296.76 1407.64,1297 1409.73,1297.24 1411.83,1297.48 1413.92,1297.71 1416.01,1297.95 1418.1,1298.18 1420.19,1298.41 1422.28,1298.64 1424.37,1298.87 \n  1426.47,1299.1 1428.56,1299.33 1430.65,1299.56 1432.74,1299.78 1434.83,1300.01 1436.92,1300.23 1439.01,1300.45 1441.1,1300.67 1443.2,1300.89 1445.29,1301.11 \n  1447.38,1301.33 1449.47,1301.54 1451.56,1301.76 1453.65,1301.97 1455.74,1302.19 1457.84,1302.4 1459.93,1302.61 1462.02,1302.82 1464.11,1303.02 1466.2,1303.23 \n  1468.29,1303.43 1470.38,1303.64 1472.47,1303.84 1474.57,1304.04 1476.66,1304.24 1478.75,1304.44 1480.84,1304.64 1482.93,1304.83 1485.02,1305.03 1487.11,1305.22 \n  1489.21,1305.42 1491.3,1305.61 1493.39,1305.8 1495.48,1305.99 1497.57,1306.17 1499.66,1306.36 1501.75,1306.54 1503.84,1306.73 1505.94,1306.91 1508.03,1307.09 \n  1510.12,1307.27 1512.21,1307.44 1514.3,1307.62 1516.39,1307.8 1518.48,1307.97 1520.57,1308.14 1522.67,1308.31 1524.76,1308.48 1526.85,1308.65 1528.94,1308.82 \n  1531.03,1308.98 1533.12,1309.15 1535.21,1309.31 1537.31,1309.47 1539.4,1309.63 1541.49,1309.79 1543.58,1309.95 1545.67,1310.11 1547.76,1310.26 1549.85,1310.42 \n  1551.94,1310.57 1554.04,1310.72 1556.13,1310.87 1558.22,1311.02 1560.31,1311.17 1562.4,1311.32 1564.49,1311.46 1566.58,1311.61 1568.68,1311.75 1570.77,1311.89 \n  1572.86,1312.04 1574.95,1312.18 1577.04,1312.32 1579.13,1312.45 1581.22,1312.59 1583.31,1312.73 1585.41,1312.86 1587.5,1313 1589.59,1313.13 1591.68,1313.26 \n  1593.77,1313.4 1595.86,1313.53 1597.95,1313.66 1600.05,1313.79 1602.14,1313.91 1604.23,1314.04 1606.32,1314.17 1608.41,1314.3 1610.5,1314.42 1612.59,1314.55 \n  1614.68,1314.67 1616.78,1314.79 1618.87,1314.92 1620.96,1315.04 1623.05,1315.16 1625.14,1315.28 1627.23,1315.4 1629.32,1315.52 1631.42,1315.64 1633.51,1315.76 \n  1635.6,1315.88 1637.69,1316 1639.78,1316.12 1641.87,1316.23 1643.96,1316.35 1646.05,1316.47 1648.15,1316.58 1650.24,1316.7 1652.33,1316.81 1654.42,1316.93 \n  1656.51,1317.04 1658.6,1317.16 1660.69,1317.27 1662.79,1317.39 1664.88,1317.5 1666.97,1317.61 1669.06,1317.72 1671.15,1317.83 1673.24,1317.94 1675.33,1318.05 \n  1677.42,1318.16 1679.52,1318.27 1681.61,1318.38 1683.7,1318.49 1685.79,1318.6 1687.88,1318.71 1689.97,1318.81 1692.06,1318.92 1694.16,1319.02 1696.25,1319.13 \n  1698.34,1319.23 1700.43,1319.34 1702.52,1319.44 1704.61,1319.54 1706.7,1319.65 1708.79,1319.75 1710.89,1319.85 1712.98,1319.95 1715.07,1320.05 1717.16,1320.15 \n  1719.25,1320.25 1721.34,1320.35 1723.43,1320.45 1725.53,1320.54 1727.62,1320.64 1729.71,1320.74 1731.8,1320.83 1733.89,1320.93 1735.98,1321.02 1738.07,1321.12 \n  1740.16,1321.21 1742.26,1321.3 1744.35,1321.4 1746.44,1321.49 1748.53,1321.58 1750.62,1321.67 1752.71,1321.76 1754.8,1321.86 1756.89,1321.95 1758.99,1322.04 \n  1761.08,1322.13 1763.17,1322.22 1765.26,1322.31 1767.35,1322.4 1769.44,1322.49 1771.53,1322.58 1773.63,1322.67 1775.72,1322.76 1777.81,1322.85 1779.9,1322.94 \n  1781.99,1323.02 1784.08,1323.11 1786.17,1323.2 1788.26,1323.29 1790.36,1323.38 1792.45,1323.47 1794.54,1323.56 1796.63,1323.65 1798.72,1323.74 1800.81,1323.83 \n  1802.9,1323.92 1805,1324.02 1807.09,1324.11 1809.18,1324.2 1811.27,1324.29 1813.36,1324.39 1815.45,1324.48 1817.54,1324.57 1819.63,1324.67 1821.73,1324.76 \n  1823.82,1324.86 1825.91,1324.95 1828,1325.05 1830.09,1325.15 1832.18,1325.24 1834.27,1325.34 1836.37,1325.44 1838.46,1325.54 1840.55,1325.64 1842.64,1325.74 \n  1844.73,1325.84 1846.82,1325.94 1848.91,1326.05 1851,1326.15 1853.1,1326.25 1855.19,1326.36 1857.28,1326.46 1859.37,1326.56 1861.46,1326.67 1863.55,1326.77 \n  1865.64,1326.88 1867.74,1326.98 1869.83,1327.09 1871.92,1327.19 1874.01,1327.3 1876.1,1327.41 1878.19,1327.51 1880.28,1327.62 1882.37,1327.72 1884.47,1327.83 \n  1886.56,1327.93 1888.65,1328.04 1890.74,1328.14 1892.83,1328.25 1894.92,1328.35 1897.01,1328.45 1899.11,1328.55 1901.2,1328.65 1903.29,1328.75 1905.38,1328.85 \n  1907.47,1328.95 1909.56,1329.05 1911.65,1329.15 1913.74,1329.24 1915.84,1329.34 1917.93,1329.43 1920.02,1329.52 1922.11,1329.62 1924.2,1329.71 1926.29,1329.79 \n  1928.38,1329.88 1930.48,1329.97 1932.57,1330.05 1934.66,1330.14 1936.75,1330.22 1938.84,1330.3 1940.93,1330.38 1943.02,1330.46 1945.11,1330.53 1947.21,1330.61 \n  1949.3,1330.68 1951.39,1330.75 1953.48,1330.82 1955.57,1330.89 1957.66,1330.96 1959.75,1331.03 1961.85,1331.1 1963.94,1331.16 1966.03,1331.23 1968.12,1331.29 \n  1970.21,1331.35 1972.3,1331.41 1974.39,1331.47 1976.48,1331.52 1978.58,1331.58 1980.67,1331.63 1982.76,1331.69 1984.85,1331.74 1986.94,1331.79 1989.03,1331.84 \n  1991.12,1331.89 1993.21,1331.94 1995.31,1331.99 1997.4,1332.03 1999.49,1332.08 2001.58,1332.12 2003.67,1332.16 2005.76,1332.21 2007.85,1332.25 2009.95,1332.29 \n  2012.04,1332.33 2014.13,1332.37 2016.22,1332.41 2018.31,1332.45 2020.4,1332.49 2022.49,1332.52 2024.58,1332.56 2026.68,1332.6 2028.77,1332.63 2030.86,1332.67 \n  2032.95,1332.7 2035.04,1332.74 2037.13,1332.77 2039.22,1332.8 2041.32,1332.83 2043.41,1332.86 2045.5,1332.9 2047.59,1332.93 2049.68,1332.96 2051.77,1332.99 \n  2053.86,1333.01 2055.95,1333.04 2058.05,1333.07 2060.14,1333.1 2062.23,1333.13 2064.32,1333.16 2066.41,1333.19 2068.5,1333.21 2070.59,1333.24 2072.69,1333.27 \n  2074.78,1333.29 2076.87,1333.32 2078.96,1333.35 2081.05,1333.37 2083.14,1333.4 2085.23,1333.42 2087.32,1333.45 2089.42,1333.47 2091.51,1333.5 2093.6,1333.52 \n  2095.69,1333.54 2097.78,1333.57 2099.87,1333.59 2101.96,1333.62 2104.06,1333.64 2106.15,1333.66 2108.24,1333.68 2110.33,1333.71 2112.42,1333.73 2114.51,1333.75 \n  2116.6,1333.77 2118.69,1333.79 2120.79,1333.82 2122.88,1333.84 2124.97,1333.86 2127.06,1333.88 2129.15,1333.9 2131.24,1333.91 2133.33,1333.93 2135.43,1333.95 \n  2137.52,1333.97 2139.61,1333.99 2141.7,1334 2143.79,1334.02 2145.88,1334.04 2147.97,1334.05 2150.06,1334.07 2152.16,1334.08 2154.25,1334.1 2156.34,1334.11 \n  2158.43,1334.13 2160.52,1334.14 2162.61,1334.15 2164.7,1334.16 2166.8,1334.18 2168.89,1334.19 2170.98,1334.2 2173.07,1334.21 2175.16,1334.22 2177.25,1334.23 \n  2179.34,1334.24 2181.43,1334.25 2183.53,1334.25 2185.62,1334.26 2187.71,1334.27 2189.8,1334.28 2191.89,1334.28 2193.98,1334.29 2196.07,1334.29 2198.16,1334.3 \n  2200.26,1334.3 2202.35,1334.31 2204.44,1334.31 2206.53,1334.31 2208.62,1334.32 2210.71,1334.32 2212.8,1334.32 2214.9,1334.32 2216.99,1334.32 2219.08,1334.32 \n  2221.17,1334.32 2223.26,1334.32 2225.35,1334.32 2227.44,1334.32 2229.53,1334.32 2231.63,1334.31 2233.72,1334.31 2235.81,1334.31 2237.9,1334.3 2239.99,1334.3 \n  2242.08,1334.29 2244.17,1334.29 2246.27,1334.28 2248.36,1334.28 2250.45,1334.27 2252.54,1334.26 2254.63,1334.26 2256.72,1334.25 2258.81,1334.24 2260.9,1334.23 \n  2263,1334.22 2265.09,1334.22 2267.18,1334.21 2269.27,1334.2 2271.36,1334.18 2273.45,1334.17 2275.54,1334.16 2277.64,1334.15 2279.73,1334.14 2281.82,1334.13 \n  2283.91,1334.11 2286,1334.1 2288.09,1334.09 2290.18,1334.08 2292.27,1334.06 \n  \"/>\n<polyline clip-path=\"url(#clip8502)\" style=\"stroke:#e26f46; stroke-width:4; stroke-opacity:1; fill:none\" points=\"\n  276.235,86.3604 278.327,86.3748 280.418,86.3925 282.509,86.4103 284.601,86.4266 286.692,86.4417 288.783,86.4571 290.875,86.4742 292.966,86.495 295.057,86.5213 \n  297.149,86.5544 299.24,86.5961 301.331,86.6479 303.423,86.7111 305.514,86.7876 307.605,86.8793 309.697,86.9885 311.788,87.1182 313.879,87.2716 315.97,87.4532 \n  318.062,87.6674 320.153,87.9201 322.244,88.2182 324.336,88.5698 326.427,88.9837 328.518,89.4702 330.61,90.0404 332.701,90.7071 334.792,91.485 336.884,92.3898 \n  338.975,93.438 341.066,94.6455 343.158,96.0288 345.249,97.604 347.34,99.384 349.432,101.378 351.523,103.592 353.614,106.027 355.706,108.675 357.797,111.527 \n  359.888,114.568 361.98,117.775 364.071,121.128 366.162,124.604 368.254,128.187 370.345,131.862 372.436,135.619 374.528,139.458 376.619,143.387 378.71,147.415 \n  380.802,151.562 382.893,155.848 384.984,160.3 387.076,164.944 389.167,169.803 391.258,174.904 393.35,180.272 395.441,185.931 397.532,191.901 399.624,198.201 \n  401.715,204.85 403.806,211.86 405.898,219.24 407.989,227.001 410.08,235.148 412.172,243.681 414.263,252.595 416.354,261.885 418.446,271.535 420.537,281.528 \n  422.628,291.84 424.72,302.441 426.811,313.294 428.902,324.358 430.993,335.585 433.085,346.921 435.176,358.315 437.267,369.712 439.359,381.063 441.45,392.322 \n  443.541,403.453 445.633,414.427 447.724,425.227 449.815,435.842 451.907,446.272 453.998,456.524 456.089,466.605 458.181,476.53 460.272,486.314 462.363,495.974 \n  464.455,505.528 466.546,514.989 468.637,524.372 470.729,533.691 472.82,542.958 474.911,552.179 477.003,561.36 479.094,570.509 481.185,579.63 483.277,588.722 \n  485.368,597.785 487.459,606.819 489.551,615.821 491.642,624.79 493.733,633.72 495.825,642.609 497.916,651.452 500.007,660.244 502.099,668.982 504.19,677.659 \n  506.281,686.273 508.373,694.82 510.464,703.299 512.555,711.703 514.647,720.032 516.738,728.28 518.829,736.444 520.921,744.521 523.012,752.511 525.103,760.411 \n  527.195,768.22 529.286,775.936 531.377,783.559 533.469,791.088 535.56,798.519 537.651,805.854 539.743,813.092 541.834,820.235 543.925,827.28 546.016,834.228 \n  548.108,841.083 550.199,847.845 552.29,854.51 554.382,861.081 556.473,867.558 558.564,873.943 560.656,880.235 562.747,886.437 564.838,892.548 566.93,898.57 \n  569.021,904.507 571.112,910.358 573.204,916.125 575.295,921.808 577.386,927.408 579.478,932.926 581.569,938.363 583.66,943.72 585.752,948.999 587.843,954.199 \n  589.934,959.321 592.026,964.366 594.117,969.338 596.208,974.238 598.3,979.067 600.391,983.826 602.482,988.514 604.574,993.132 606.665,997.681 608.756,1002.16 \n  610.848,1006.58 612.939,1010.92 615.03,1015.2 617.122,1019.42 619.213,1023.57 621.304,1027.66 623.396,1031.69 625.487,1035.66 627.578,1039.56 629.67,1043.41 \n  631.761,1047.2 633.852,1050.93 635.944,1054.6 638.035,1058.22 640.126,1061.78 642.218,1065.28 644.309,1068.74 646.4,1072.13 648.492,1075.48 650.583,1078.77 \n  652.674,1082.02 654.765,1085.21 656.857,1088.36 658.948,1091.45 661.039,1094.5 663.131,1097.51 665.222,1100.46 667.313,1103.37 669.405,1106.24 671.496,1109.06 \n  673.587,1111.84 675.679,1114.57 677.77,1117.26 679.861,1119.92 681.953,1122.53 684.044,1125.1 686.135,1127.63 688.227,1130.12 690.318,1132.58 692.409,1134.99 \n  694.501,1137.38 696.592,1139.72 698.683,1142.04 700.775,1144.32 702.866,1146.56 704.957,1148.78 707.049,1150.97 709.14,1153.12 711.231,1155.25 713.323,1157.35 \n  715.414,1159.41 717.505,1161.45 719.597,1163.47 721.688,1165.45 723.779,1167.41 725.871,1169.35 727.962,1171.26 730.053,1173.14 732.145,1175 734.236,1176.83 \n  736.327,1178.65 738.419,1180.43 740.51,1182.2 742.601,1183.94 744.693,1185.66 746.784,1187.35 748.875,1189.03 750.967,1190.68 753.058,1192.31 755.149,1193.92 \n  757.241,1195.51 759.332,1197.08 761.423,1198.62 763.515,1200.15 765.606,1201.65 767.697,1203.14 769.788,1204.6 771.88,1206.05 773.971,1207.48 776.062,1208.89 \n  778.154,1210.28 780.245,1211.65 782.336,1213.01 784.428,1214.35 786.519,1215.67 788.61,1216.97 790.702,1218.26 792.793,1219.54 794.884,1220.79 796.976,1222.04 \n  799.067,1223.27 801.158,1224.48 803.25,1225.68 805.341,1226.87 807.432,1228.04 809.524,1229.2 811.615,1230.35 813.706,1231.49 815.798,1232.62 817.889,1233.73 \n  819.98,1234.84 822.072,1235.93 824.163,1237.02 826.254,1238.09 828.346,1239.16 830.437,1240.22 832.528,1241.27 834.62,1242.31 836.711,1243.35 838.802,1244.38 \n  840.894,1245.4 842.985,1246.41 845.076,1247.42 847.168,1248.42 849.259,1249.41 851.35,1250.41 853.442,1251.39 855.533,1252.37 857.624,1253.35 859.716,1254.32 \n  861.807,1255.29 863.898,1256.25 865.99,1257.21 868.081,1258.16 870.172,1259.11 872.264,1260.06 874.355,1261.01 876.446,1261.95 878.538,1262.88 880.629,1263.82 \n  882.72,1264.75 884.811,1265.67 886.903,1266.6 888.994,1267.52 891.085,1268.43 893.177,1269.34 895.268,1270.25 897.359,1271.16 899.451,1272.06 901.542,1272.96 \n  903.633,1273.85 905.725,1274.74 907.816,1275.62 909.907,1276.5 911.999,1277.38 914.09,1278.25 916.181,1279.12 918.273,1279.99 920.364,1280.85 922.455,1281.71 \n  924.547,1282.56 926.638,1283.42 928.729,1284.26 930.821,1285.11 932.912,1285.94 935.003,1286.78 937.095,1287.61 939.186,1288.44 941.277,1289.26 943.369,1290.09 \n  945.46,1290.9 947.551,1291.71 949.643,1292.52 951.734,1293.32 953.825,1294.12 955.917,1294.91 958.008,1295.7 960.099,1296.48 962.191,1297.25 964.282,1298.02 \n  966.373,1298.78 968.465,1299.53 970.556,1300.28 972.647,1301.01 974.739,1301.74 976.83,1302.46 978.921,1303.17 981.013,1303.87 983.104,1304.56 985.195,1305.24 \n  987.287,1305.91 989.378,1306.57 991.469,1307.22 993.561,1307.86 995.652,1308.49 997.743,1309.11 999.834,1309.72 1001.93,1310.32 1004.02,1310.9 1006.11,1311.48 \n  1008.2,1312.06 1010.29,1312.62 1012.38,1313.17 1014.47,1313.72 1016.57,1314.25 1018.66,1314.78 1020.75,1315.3 1022.84,1315.81 1024.93,1316.32 1027.02,1316.81 \n  1029.11,1317.31 1031.2,1317.79 1033.3,1318.27 1035.39,1318.74 1037.48,1319.2 1039.57,1319.66 1041.66,1320.11 1043.75,1320.55 1045.84,1320.99 1047.94,1321.42 \n  1050.03,1321.85 1052.12,1322.27 1054.21,1322.68 1056.3,1323.09 1058.39,1323.5 1060.48,1323.9 1062.57,1324.29 1064.67,1324.68 1066.76,1325.06 1068.85,1325.44 \n  1070.94,1325.82 1073.03,1326.18 1075.12,1326.55 1077.21,1326.91 1079.3,1327.26 1081.4,1327.61 1083.49,1327.96 1085.58,1328.3 1087.67,1328.64 1089.76,1328.97 \n  1091.85,1329.3 1093.94,1329.62 1096.04,1329.94 1098.13,1330.26 1100.22,1330.57 1102.31,1330.87 1104.4,1331.17 1106.49,1331.47 1108.58,1331.76 1110.67,1332.05 \n  1112.77,1332.34 1114.86,1332.62 1116.95,1332.89 1119.04,1333.16 1121.13,1333.43 1123.22,1333.7 1125.31,1333.95 1127.41,1334.21 1129.5,1334.46 1131.59,1334.71 \n  1133.68,1334.95 1135.77,1335.19 1137.86,1335.42 1139.95,1335.65 1142.04,1335.87 1144.14,1336.1 1146.23,1336.31 1148.32,1336.52 1150.41,1336.73 1152.5,1336.93 \n  1154.59,1337.13 1156.68,1337.32 1158.78,1337.51 1160.87,1337.69 1162.96,1337.87 1165.05,1338.05 1167.14,1338.22 1169.23,1338.38 1171.32,1338.54 1173.41,1338.69 \n  1175.51,1338.84 1177.6,1338.99 1179.69,1339.13 1181.78,1339.26 1183.87,1339.39 1185.96,1339.51 1188.05,1339.63 1190.15,1339.74 1192.24,1339.85 1194.33,1339.96 \n  1196.42,1340.06 1198.51,1340.15 1200.6,1340.25 1202.69,1340.33 1204.78,1340.42 1206.88,1340.5 1208.97,1340.57 1211.06,1340.65 1213.15,1340.72 1215.24,1340.79 \n  1217.33,1340.85 1219.42,1340.92 1221.52,1340.98 1223.61,1341.04 1225.7,1341.09 1227.79,1341.15 1229.88,1341.21 1231.97,1341.26 1234.06,1341.32 1236.15,1341.37 \n  1238.25,1341.43 1240.34,1341.48 1242.43,1341.53 1244.52,1341.59 1246.61,1341.64 1248.7,1341.7 1250.79,1341.76 1252.89,1341.82 1254.98,1341.88 1257.07,1341.94 \n  1259.16,1342 1261.25,1342.06 1263.34,1342.13 1265.43,1342.2 1267.52,1342.27 1269.62,1342.34 1271.71,1342.41 1273.8,1342.49 1275.89,1342.56 1277.98,1342.64 \n  1280.07,1342.73 1282.16,1342.81 1284.25,1342.9 1286.35,1342.99 1288.44,1343.08 1290.53,1343.17 1292.62,1343.27 1294.71,1343.37 1296.8,1343.47 1298.89,1343.57 \n  1300.99,1343.68 1303.08,1343.79 1305.17,1343.9 1307.26,1344.01 1309.35,1344.12 1311.44,1344.24 1313.53,1344.35 1315.62,1344.47 1317.72,1344.59 1319.81,1344.71 \n  1321.9,1344.84 1323.99,1344.96 1326.08,1345.09 1328.17,1345.22 1330.26,1345.35 1332.36,1345.48 1334.45,1345.61 1336.54,1345.74 1338.63,1345.87 1340.72,1346.01 \n  1342.81,1346.14 1344.9,1346.28 1346.99,1346.42 1349.09,1346.56 1351.18,1346.7 1353.27,1346.84 1355.36,1346.98 1357.45,1347.12 1359.54,1347.26 1361.63,1347.4 \n  1363.73,1347.54 1365.82,1347.69 1367.91,1347.83 1370,1347.98 1372.09,1348.12 1374.18,1348.27 1376.27,1348.42 1378.36,1348.56 1380.46,1348.71 1382.55,1348.86 \n  1384.64,1349.01 1386.73,1349.16 1388.82,1349.31 1390.91,1349.46 1393,1349.61 1395.1,1349.76 1397.19,1349.91 1399.28,1350.07 1401.37,1350.22 1403.46,1350.37 \n  1405.55,1350.53 1407.64,1350.68 1409.73,1350.84 1411.83,1350.99 1413.92,1351.15 1416.01,1351.31 1418.1,1351.47 1420.19,1351.63 1422.28,1351.79 1424.37,1351.95 \n  1426.47,1352.11 1428.56,1352.27 1430.65,1352.43 1432.74,1352.59 1434.83,1352.75 1436.92,1352.92 1439.01,1353.08 1441.1,1353.25 1443.2,1353.41 1445.29,1353.58 \n  1447.38,1353.74 1449.47,1353.91 1451.56,1354.07 1453.65,1354.24 1455.74,1354.4 1457.84,1354.57 1459.93,1354.74 1462.02,1354.9 1464.11,1355.07 1466.2,1355.24 \n  1468.29,1355.4 1470.38,1355.57 1472.47,1355.74 1474.57,1355.9 1476.66,1356.07 1478.75,1356.24 1480.84,1356.4 1482.93,1356.57 1485.02,1356.74 1487.11,1356.9 \n  1489.21,1357.07 1491.3,1357.23 1493.39,1357.4 1495.48,1357.56 1497.57,1357.73 1499.66,1357.89 1501.75,1358.06 1503.84,1358.22 1505.94,1358.38 1508.03,1358.54 \n  1510.12,1358.7 1512.21,1358.86 1514.3,1359.02 1516.39,1359.18 1518.48,1359.34 1520.57,1359.49 1522.67,1359.65 1524.76,1359.8 1526.85,1359.96 1528.94,1360.11 \n  1531.03,1360.26 1533.12,1360.42 1535.21,1360.57 1537.31,1360.72 1539.4,1360.87 1541.49,1361.01 1543.58,1361.16 1545.67,1361.31 1547.76,1361.46 1549.85,1361.6 \n  1551.94,1361.75 1554.04,1361.89 1556.13,1362.03 1558.22,1362.18 1560.31,1362.32 1562.4,1362.46 1564.49,1362.6 1566.58,1362.74 1568.68,1362.88 1570.77,1363.02 \n  1572.86,1363.16 1574.95,1363.3 1577.04,1363.44 1579.13,1363.58 1581.22,1363.72 1583.31,1363.86 1585.41,1364.01 1587.5,1364.15 1589.59,1364.29 1591.68,1364.44 \n  1593.77,1364.58 1595.86,1364.72 1597.95,1364.87 1600.05,1365.02 1602.14,1365.16 1604.23,1365.31 1606.32,1365.46 1608.41,1365.62 1610.5,1365.77 1612.59,1365.92 \n  1614.68,1366.08 1616.78,1366.24 1618.87,1366.39 1620.96,1366.55 1623.05,1366.71 1625.14,1366.88 1627.23,1367.04 1629.32,1367.21 1631.42,1367.38 1633.51,1367.55 \n  1635.6,1367.72 1637.69,1367.89 1639.78,1368.07 1641.87,1368.24 1643.96,1368.42 1646.05,1368.6 1648.15,1368.78 1650.24,1368.96 1652.33,1369.14 1654.42,1369.33 \n  1656.51,1369.51 1658.6,1369.7 1660.69,1369.88 1662.79,1370.07 1664.88,1370.26 1666.97,1370.45 1669.06,1370.64 1671.15,1370.83 1673.24,1371.02 1675.33,1371.21 \n  1677.42,1371.4 1679.52,1371.58 1681.61,1371.77 1683.7,1371.96 1685.79,1372.15 1687.88,1372.34 1689.97,1372.53 1692.06,1372.71 1694.16,1372.9 1696.25,1373.09 \n  1698.34,1373.27 1700.43,1373.46 1702.52,1373.64 1704.61,1373.82 1706.7,1374 1708.79,1374.18 1710.89,1374.36 1712.98,1374.54 1715.07,1374.72 1717.16,1374.9 \n  1719.25,1375.07 1721.34,1375.25 1723.43,1375.42 1725.53,1375.6 1727.62,1375.77 1729.71,1375.94 1731.8,1376.11 1733.89,1376.28 1735.98,1376.45 1738.07,1376.62 \n  1740.16,1376.78 1742.26,1376.95 1744.35,1377.12 1746.44,1377.28 1748.53,1377.45 1750.62,1377.61 1752.71,1377.77 1754.8,1377.93 1756.89,1378.1 1758.99,1378.26 \n  1761.08,1378.42 1763.17,1378.58 1765.26,1378.73 1767.35,1378.89 1769.44,1379.05 1771.53,1379.2 1773.63,1379.36 1775.72,1379.51 1777.81,1379.67 1779.9,1379.82 \n  1781.99,1379.97 1784.08,1380.12 1786.17,1380.27 1788.26,1380.42 1790.36,1380.57 1792.45,1380.71 1794.54,1380.85 1796.63,1381 1798.72,1381.14 1800.81,1381.28 \n  1802.9,1381.41 1805,1381.55 1807.09,1381.69 1809.18,1381.82 1811.27,1381.95 1813.36,1382.08 1815.45,1382.21 1817.54,1382.34 1819.63,1382.46 1821.73,1382.58 \n  1823.82,1382.7 1825.91,1382.82 1828,1382.94 1830.09,1383.06 1832.18,1383.17 1834.27,1383.28 1836.37,1383.39 1838.46,1383.5 1840.55,1383.61 1842.64,1383.71 \n  1844.73,1383.82 1846.82,1383.92 1848.91,1384.02 1851,1384.12 1853.1,1384.21 1855.19,1384.31 1857.28,1384.4 1859.37,1384.49 1861.46,1384.58 1863.55,1384.67 \n  1865.64,1384.75 1867.74,1384.84 1869.83,1384.92 1871.92,1385 1874.01,1385.08 1876.1,1385.15 1878.19,1385.23 1880.28,1385.3 1882.37,1385.37 1884.47,1385.44 \n  1886.56,1385.51 1888.65,1385.57 1890.74,1385.63 1892.83,1385.69 1894.92,1385.75 1897.01,1385.81 1899.11,1385.86 1901.2,1385.91 1903.29,1385.96 1905.38,1386.01 \n  1907.47,1386.05 1909.56,1386.1 1911.65,1386.14 1913.74,1386.18 1915.84,1386.22 1917.93,1386.25 1920.02,1386.29 1922.11,1386.32 1924.2,1386.35 1926.29,1386.38 \n  1928.38,1386.4 1930.48,1386.43 1932.57,1386.45 1934.66,1386.47 1936.75,1386.49 1938.84,1386.51 1940.93,1386.52 1943.02,1386.54 1945.11,1386.55 1947.21,1386.56 \n  1949.3,1386.57 1951.39,1386.58 1953.48,1386.59 1955.57,1386.59 1957.66,1386.6 1959.75,1386.6 1961.85,1386.61 1963.94,1386.61 1966.03,1386.61 1968.12,1386.61 \n  1970.21,1386.61 1972.3,1386.6 1974.39,1386.6 1976.48,1386.6 1978.58,1386.59 1980.67,1386.58 1982.76,1386.58 1984.85,1386.57 1986.94,1386.56 1989.03,1386.55 \n  1991.12,1386.54 1993.21,1386.52 1995.31,1386.51 1997.4,1386.5 1999.49,1386.48 2001.58,1386.47 2003.67,1386.45 2005.76,1386.43 2007.85,1386.41 2009.95,1386.4 \n  2012.04,1386.38 2014.13,1386.35 2016.22,1386.33 2018.31,1386.31 2020.4,1386.29 2022.49,1386.26 2024.58,1386.24 2026.68,1386.21 2028.77,1386.19 2030.86,1386.16 \n  2032.95,1386.13 2035.04,1386.1 2037.13,1386.07 2039.22,1386.04 2041.32,1386 2043.41,1385.97 2045.5,1385.93 2047.59,1385.89 2049.68,1385.85 2051.77,1385.82 \n  2053.86,1385.78 2055.95,1385.73 2058.05,1385.69 2060.14,1385.65 2062.23,1385.61 2064.32,1385.56 2066.41,1385.51 2068.5,1385.47 2070.59,1385.42 2072.69,1385.37 \n  2074.78,1385.32 2076.87,1385.26 2078.96,1385.21 2081.05,1385.15 2083.14,1385.1 2085.23,1385.04 2087.32,1384.98 2089.42,1384.92 2091.51,1384.86 2093.6,1384.8 \n  2095.69,1384.73 2097.78,1384.67 2099.87,1384.6 2101.96,1384.54 2104.06,1384.47 2106.15,1384.4 2108.24,1384.33 2110.33,1384.25 2112.42,1384.18 2114.51,1384.1 \n  2116.6,1384.03 2118.69,1383.95 2120.79,1383.87 2122.88,1383.79 2124.97,1383.71 2127.06,1383.63 2129.15,1383.55 2131.24,1383.46 2133.33,1383.38 2135.43,1383.29 \n  2137.52,1383.2 2139.61,1383.11 2141.7,1383.03 2143.79,1382.93 2145.88,1382.84 2147.97,1382.75 2150.06,1382.66 2152.16,1382.56 2154.25,1382.47 2156.34,1382.37 \n  2158.43,1382.28 2160.52,1382.18 2162.61,1382.08 2164.7,1381.99 2166.8,1381.89 2168.89,1381.79 2170.98,1381.69 2173.07,1381.59 2175.16,1381.49 2177.25,1381.39 \n  2179.34,1381.29 2181.43,1381.19 2183.53,1381.09 2185.62,1380.99 2187.71,1380.89 2189.8,1380.79 2191.89,1380.69 2193.98,1380.59 2196.07,1380.49 2198.16,1380.39 \n  2200.26,1380.29 2202.35,1380.19 2204.44,1380.09 2206.53,1380 2208.62,1379.9 2210.71,1379.8 2212.8,1379.7 2214.9,1379.61 2216.99,1379.51 2219.08,1379.42 \n  2221.17,1379.32 2223.26,1379.23 2225.35,1379.14 2227.44,1379.04 2229.53,1378.95 2231.63,1378.86 2233.72,1378.77 2235.81,1378.68 2237.9,1378.59 2239.99,1378.51 \n  2242.08,1378.42 2244.17,1378.34 2246.27,1378.25 2248.36,1378.17 2250.45,1378.09 2252.54,1378 2254.63,1377.92 2256.72,1377.84 2258.81,1377.77 2260.9,1377.69 \n  2263,1377.61 2265.09,1377.54 2267.18,1377.46 2269.27,1377.39 2271.36,1377.32 2273.45,1377.25 2275.54,1377.18 2277.64,1377.11 2279.73,1377.05 2281.82,1376.98 \n  2283.91,1376.92 2286,1376.86 2288.09,1376.79 2290.18,1376.73 2292.27,1376.67 \n  \"/>\n<path clip-path=\"url(#clip8500)\" d=\"\nM1759.85 312.204 L2280.76 312.204 L2280.76 130.764 L1759.85 130.764  Z\n  \" fill=\"#ffffff\" fill-rule=\"evenodd\" fill-opacity=\"1\"/>\n<polyline clip-path=\"url(#clip8500)\" style=\"stroke:#000000; stroke-width:4; stroke-opacity:1; fill:none\" points=\"\n  1759.85,312.204 2280.76,312.204 2280.76,130.764 1759.85,130.764 1759.85,312.204 \n  \"/>\n<polyline clip-path=\"url(#clip8500)\" style=\"stroke:#009af9; stroke-width:4; stroke-opacity:1; fill:none\" points=\"\n  1783.85,191.244 1927.85,191.244 \n  \"/>\n<g clip-path=\"url(#clip8500)\">\n<text style=\"fill:#000000; fill-opacity:1; font-family:Arial,Helvetica Neue,Helvetica,sans-serif; font-size:48px; text-anchor:start;\" transform=\"rotate(0, 1951.85, 208.744)\" x=\"1951.85\" y=\"208.744\">training set</text>\n</g>\n<polyline clip-path=\"url(#clip8500)\" style=\"stroke:#e26f46; stroke-width:4; stroke-opacity:1; fill:none\" points=\"\n  1783.85,251.724 1927.85,251.724 \n  \"/>\n<g clip-path=\"url(#clip8500)\">\n<text style=\"fill:#000000; fill-opacity:1; font-family:Arial,Helvetica Neue,Helvetica,sans-serif; font-size:48px; text-anchor:start;\" transform=\"rotate(0, 1951.85, 269.224)\" x=\"1951.85\" y=\"269.224\">validation set</text>\n</g>\n</svg>\n"
          },
          "metadata": {
            "tags": []
          },
          "execution_count": 24
        }
      ]
    },
    {
      "cell_type": "markdown",
      "metadata": {
        "id": "mYb3dQFpD7JT",
        "colab_type": "text"
      },
      "source": [
        "**Exercise 5**\n",
        "\n",
        "Plot of the accuracy on training and validation set for each epoch for the \"good\" parameters:"
      ]
    },
    {
      "cell_type": "code",
      "metadata": {
        "id": "IPXxRr5Q66cO",
        "colab_type": "code",
        "outputId": "c200242f-ed3d-435b-d75b-944f383a1e9e",
        "colab": {
          "base_uri": "https://localhost:8080/",
          "height": 421
        }
      },
      "source": [
        "# plot accuracy on training and validation set\n",
        "let\n",
        "    x = 1:convergence_epoch\n",
        "    y = hcat(trainacc[1:convergence_epoch], valiacc[1:convergence_epoch])\n",
        "    plot(x, y, label = [\"training set\",\"validation set\"])\n",
        "    xlabel!(\"epochs\")\n",
        "    ylabel!(\"accuracy\")\n",
        "    title!(\"Accuracy on training and validation sets\")\n",
        "end"
      ],
      "execution_count": 0,
      "outputs": [
        {
          "output_type": "execute_result",
          "data": {
            "image/svg+xml": "<?xml version=\"1.0\" encoding=\"utf-8\"?>\n<svg xmlns=\"http://www.w3.org/2000/svg\" xmlns:xlink=\"http://www.w3.org/1999/xlink\" width=\"600\" height=\"400\" viewBox=\"0 0 2400 1600\">\n<defs>\n  <clipPath id=\"clip8900\">\n    <rect x=\"0\" y=\"0\" width=\"2400\" height=\"1600\"/>\n  </clipPath>\n</defs>\n<path clip-path=\"url(#clip8900)\" d=\"\nM0 1600 L2400 1600 L2400 0 L0 0  Z\n  \" fill=\"#ffffff\" fill-rule=\"evenodd\" fill-opacity=\"1\"/>\n<defs>\n  <clipPath id=\"clip8901\">\n    <rect x=\"480\" y=\"0\" width=\"1681\" height=\"1600\"/>\n  </clipPath>\n</defs>\n<path clip-path=\"url(#clip8900)\" d=\"\nM202.373 1425.62 L2352.76 1425.62 L2352.76 121.675 L202.373 121.675  Z\n  \" fill=\"#ffffff\" fill-rule=\"evenodd\" fill-opacity=\"1\"/>\n<defs>\n  <clipPath id=\"clip8902\">\n    <rect x=\"202\" y=\"121\" width=\"2151\" height=\"1305\"/>\n  </clipPath>\n</defs>\n<polyline clip-path=\"url(#clip8902)\" style=\"stroke:#000000; stroke-width:2; stroke-opacity:0.1; fill:none\" points=\"\n  261.128,1425.62 261.128,121.675 \n  \"/>\n<polyline clip-path=\"url(#clip8902)\" style=\"stroke:#000000; stroke-width:2; stroke-opacity:0.1; fill:none\" points=\"\n  682.013,1425.62 682.013,121.675 \n  \"/>\n<polyline clip-path=\"url(#clip8902)\" style=\"stroke:#000000; stroke-width:2; stroke-opacity:0.1; fill:none\" points=\"\n  1102.9,1425.62 1102.9,121.675 \n  \"/>\n<polyline clip-path=\"url(#clip8902)\" style=\"stroke:#000000; stroke-width:2; stroke-opacity:0.1; fill:none\" points=\"\n  1523.78,1425.62 1523.78,121.675 \n  \"/>\n<polyline clip-path=\"url(#clip8902)\" style=\"stroke:#000000; stroke-width:2; stroke-opacity:0.1; fill:none\" points=\"\n  1944.67,1425.62 1944.67,121.675 \n  \"/>\n<polyline clip-path=\"url(#clip8902)\" style=\"stroke:#000000; stroke-width:2; stroke-opacity:0.1; fill:none\" points=\"\n  202.373,1375.63 2352.76,1375.63 \n  \"/>\n<polyline clip-path=\"url(#clip8902)\" style=\"stroke:#000000; stroke-width:2; stroke-opacity:0.1; fill:none\" points=\"\n  202.373,1113.9 2352.76,1113.9 \n  \"/>\n<polyline clip-path=\"url(#clip8902)\" style=\"stroke:#000000; stroke-width:2; stroke-opacity:0.1; fill:none\" points=\"\n  202.373,852.166 2352.76,852.166 \n  \"/>\n<polyline clip-path=\"url(#clip8902)\" style=\"stroke:#000000; stroke-width:2; stroke-opacity:0.1; fill:none\" points=\"\n  202.373,590.435 2352.76,590.435 \n  \"/>\n<polyline clip-path=\"url(#clip8902)\" style=\"stroke:#000000; stroke-width:2; stroke-opacity:0.1; fill:none\" points=\"\n  202.373,328.704 2352.76,328.704 \n  \"/>\n<polyline clip-path=\"url(#clip8900)\" style=\"stroke:#000000; stroke-width:4; stroke-opacity:1; fill:none\" points=\"\n  202.373,1425.62 2352.76,1425.62 \n  \"/>\n<polyline clip-path=\"url(#clip8900)\" style=\"stroke:#000000; stroke-width:4; stroke-opacity:1; fill:none\" points=\"\n  202.373,1425.62 202.373,121.675 \n  \"/>\n<polyline clip-path=\"url(#clip8900)\" style=\"stroke:#000000; stroke-width:4; stroke-opacity:1; fill:none\" points=\"\n  261.128,1425.62 261.128,1406.06 \n  \"/>\n<polyline clip-path=\"url(#clip8900)\" style=\"stroke:#000000; stroke-width:4; stroke-opacity:1; fill:none\" points=\"\n  682.013,1425.62 682.013,1406.06 \n  \"/>\n<polyline clip-path=\"url(#clip8900)\" style=\"stroke:#000000; stroke-width:4; stroke-opacity:1; fill:none\" points=\"\n  1102.9,1425.62 1102.9,1406.06 \n  \"/>\n<polyline clip-path=\"url(#clip8900)\" style=\"stroke:#000000; stroke-width:4; stroke-opacity:1; fill:none\" points=\"\n  1523.78,1425.62 1523.78,1406.06 \n  \"/>\n<polyline clip-path=\"url(#clip8900)\" style=\"stroke:#000000; stroke-width:4; stroke-opacity:1; fill:none\" points=\"\n  1944.67,1425.62 1944.67,1406.06 \n  \"/>\n<polyline clip-path=\"url(#clip8900)\" style=\"stroke:#000000; stroke-width:4; stroke-opacity:1; fill:none\" points=\"\n  202.373,1375.63 234.629,1375.63 \n  \"/>\n<polyline clip-path=\"url(#clip8900)\" style=\"stroke:#000000; stroke-width:4; stroke-opacity:1; fill:none\" points=\"\n  202.373,1113.9 234.629,1113.9 \n  \"/>\n<polyline clip-path=\"url(#clip8900)\" style=\"stroke:#000000; stroke-width:4; stroke-opacity:1; fill:none\" points=\"\n  202.373,852.166 234.629,852.166 \n  \"/>\n<polyline clip-path=\"url(#clip8900)\" style=\"stroke:#000000; stroke-width:4; stroke-opacity:1; fill:none\" points=\"\n  202.373,590.435 234.629,590.435 \n  \"/>\n<polyline clip-path=\"url(#clip8900)\" style=\"stroke:#000000; stroke-width:4; stroke-opacity:1; fill:none\" points=\"\n  202.373,328.704 234.629,328.704 \n  \"/>\n<g clip-path=\"url(#clip8900)\">\n<text style=\"fill:#000000; fill-opacity:1; font-family:Arial,Helvetica Neue,Helvetica,sans-serif; font-size:48px; text-anchor:middle;\" transform=\"rotate(0, 261.128, 1479.62)\" x=\"261.128\" y=\"1479.62\">0</text>\n</g>\n<g clip-path=\"url(#clip8900)\">\n<text style=\"fill:#000000; fill-opacity:1; font-family:Arial,Helvetica Neue,Helvetica,sans-serif; font-size:48px; text-anchor:middle;\" transform=\"rotate(0, 682.013, 1479.62)\" x=\"682.013\" y=\"1479.62\">200</text>\n</g>\n<g clip-path=\"url(#clip8900)\">\n<text style=\"fill:#000000; fill-opacity:1; font-family:Arial,Helvetica Neue,Helvetica,sans-serif; font-size:48px; text-anchor:middle;\" transform=\"rotate(0, 1102.9, 1479.62)\" x=\"1102.9\" y=\"1479.62\">400</text>\n</g>\n<g clip-path=\"url(#clip8900)\">\n<text style=\"fill:#000000; fill-opacity:1; font-family:Arial,Helvetica Neue,Helvetica,sans-serif; font-size:48px; text-anchor:middle;\" transform=\"rotate(0, 1523.78, 1479.62)\" x=\"1523.78\" y=\"1479.62\">600</text>\n</g>\n<g clip-path=\"url(#clip8900)\">\n<text style=\"fill:#000000; fill-opacity:1; font-family:Arial,Helvetica Neue,Helvetica,sans-serif; font-size:48px; text-anchor:middle;\" transform=\"rotate(0, 1944.67, 1479.62)\" x=\"1944.67\" y=\"1479.62\">800</text>\n</g>\n<g clip-path=\"url(#clip8900)\">\n<text style=\"fill:#000000; fill-opacity:1; font-family:Arial,Helvetica Neue,Helvetica,sans-serif; font-size:48px; text-anchor:end;\" transform=\"rotate(0, 178.373, 1393.13)\" x=\"178.373\" y=\"1393.13\">50</text>\n</g>\n<g clip-path=\"url(#clip8900)\">\n<text style=\"fill:#000000; fill-opacity:1; font-family:Arial,Helvetica Neue,Helvetica,sans-serif; font-size:48px; text-anchor:end;\" transform=\"rotate(0, 178.373, 1131.4)\" x=\"178.373\" y=\"1131.4\">60</text>\n</g>\n<g clip-path=\"url(#clip8900)\">\n<text style=\"fill:#000000; fill-opacity:1; font-family:Arial,Helvetica Neue,Helvetica,sans-serif; font-size:48px; text-anchor:end;\" transform=\"rotate(0, 178.373, 869.666)\" x=\"178.373\" y=\"869.666\">70</text>\n</g>\n<g clip-path=\"url(#clip8900)\">\n<text style=\"fill:#000000; fill-opacity:1; font-family:Arial,Helvetica Neue,Helvetica,sans-serif; font-size:48px; text-anchor:end;\" transform=\"rotate(0, 178.373, 607.935)\" x=\"178.373\" y=\"607.935\">80</text>\n</g>\n<g clip-path=\"url(#clip8900)\">\n<text style=\"fill:#000000; fill-opacity:1; font-family:Arial,Helvetica Neue,Helvetica,sans-serif; font-size:48px; text-anchor:end;\" transform=\"rotate(0, 178.373, 346.204)\" x=\"178.373\" y=\"346.204\">90</text>\n</g>\n<g clip-path=\"url(#clip8900)\">\n<text style=\"fill:#000000; fill-opacity:1; font-family:Arial,Helvetica Neue,Helvetica,sans-serif; font-size:84px; text-anchor:middle;\" transform=\"rotate(0, 1277.56, 73.2)\" x=\"1277.56\" y=\"73.2\">Accuracy on training and validation sets</text>\n</g>\n<g clip-path=\"url(#clip8900)\">\n<text style=\"fill:#000000; fill-opacity:1; font-family:Arial,Helvetica Neue,Helvetica,sans-serif; font-size:66px; text-anchor:middle;\" transform=\"rotate(0, 1277.56, 1559.48)\" x=\"1277.56\" y=\"1559.48\">epochs</text>\n</g>\n<g clip-path=\"url(#clip8900)\">\n<text style=\"fill:#000000; fill-opacity:1; font-family:Arial,Helvetica Neue,Helvetica,sans-serif; font-size:66px; text-anchor:middle;\" transform=\"rotate(-90, 89.2861, 773.647)\" x=\"89.2861\" y=\"773.647\">accuracy</text>\n</g>\n<polyline clip-path=\"url(#clip8902)\" style=\"stroke:#009af9; stroke-width:4; stroke-opacity:1; fill:none\" points=\"\n  263.233,1375.63 265.337,1375.63 267.442,1375.63 269.546,1375.63 271.651,1375.63 273.755,1375.63 275.859,1351.2 277.964,1375.63 280.068,1375.63 282.173,1375.63 \n  284.277,1375.63 286.381,1375.63 288.486,1375.63 290.59,1375.63 292.695,1375.63 294.799,1375.63 296.904,1375.63 299.008,1375.63 301.112,1375.63 303.217,1375.63 \n  305.321,1375.63 307.426,1375.63 309.53,1375.41 311.635,1368.65 313.739,1301.91 315.843,1159.26 317.948,969.727 320.052,807.454 322.157,677.897 324.261,584.546 \n  326.365,534.163 328.47,514.097 330.574,508.862 332.679,511.916 334.783,538.525 336.888,581.493 338.992,615.082 341.096,641.037 343.201,673.971 345.305,702.761 \n  347.41,730.679 349.514,755.762 351.619,781.935 353.723,800.256 355.827,815.306 357.932,833.191 360.036,848.24 362.141,857.401 364.245,862.635 366.35,869.179 \n  368.454,872.014 370.558,874.85 372.663,878.775 374.767,880.084 376.872,882.265 378.976,882.92 381.08,882.047 383.185,879.866 385.289,876.594 387.394,875.068 \n  389.498,871.578 391.603,868.742 393.707,866.561 395.811,865.471 397.916,858.055 400.02,851.73 402.125,845.187 404.229,835.808 406.334,824.248 408.438,813.343 \n  410.542,797.857 412.647,781.281 414.751,763.832 416.856,739.186 418.96,710.613 421.064,683.35 423.169,661.539 425.273,640.6 427.378,620.316 429.482,608.32 \n  431.587,598.505 433.691,585.855 435.795,578.875 437.9,575.168 440.004,571.896 442.109,570.151 444.213,567.752 446.318,567.534 448.422,567.098 450.526,564.916 \n  452.631,566.879 454.735,568.188 456.84,567.534 458.944,569.279 461.049,566.879 463.153,567.316 465.257,567.97 467.362,567.752 469.466,565.353 471.571,561.863 \n  473.675,560.118 475.779,558.373 477.884,555.32 479.988,553.139 482.093,541.143 484.197,538.307 486.302,533.073 488.406,526.311 490.51,519.55 492.615,512.57 \n  494.719,507.772 496.824,503.628 498.928,496.43 501.033,490.759 503.137,484.652 505.241,479.418 507.346,472.656 509.45,466.767 511.555,459.352 513.659,454.771 \n  515.763,449.537 517.868,442.993 519.972,438.413 522.077,433.615 524.181,428.38 526.286,425.763 528.39,422.273 530.494,417.911 532.599,415.294 534.703,411.368 \n  536.808,406.787 538.912,404.824 541.017,403.08 543.121,399.808 545.225,395.882 547.33,393.265 549.434,389.339 551.539,386.503 553.643,385.631 555.748,384.758 \n  557.852,382.577 559.956,379.088 562.061,376.034 564.165,374.725 566.27,371.236 568.374,367.964 570.478,365.347 572.583,364.038 574.687,362.729 576.792,361.203 \n  578.896,358.585 581.001,356.186 583.105,353.787 585.209,351.606 587.314,350.079 589.418,347.462 591.523,345.281 593.627,343.318 595.732,342.009 597.836,340.482 \n  599.94,339.174 602.045,338.083 604.149,336.556 606.254,336.12 608.358,335.466 610.463,334.375 612.567,333.066 614.671,331.758 616.776,330.231 618.88,329.141 \n  620.985,326.741 623.089,325.215 625.193,323.033 627.298,321.289 629.402,320.634 631.507,317.799 633.611,316.926 635.716,315.836 637.82,314.963 639.924,313.873 \n  642.029,313 644.133,311.037 646.238,309.511 648.342,307.984 650.447,307.33 652.551,306.893 654.655,305.367 656.76,304.93 658.864,303.622 660.969,302.531 \n  663.073,301.441 665.177,299.914 667.282,299.26 669.386,297.951 671.491,297.297 673.595,295.77 675.7,294.461 677.804,292.28 679.908,292.28 682.013,292.062 \n  684.117,291.408 686.222,290.753 688.326,289.881 690.431,288.572 692.535,288.136 694.639,287.482 696.744,287.045 698.848,286.173 700.953,285.737 703.057,284.21 \n  705.162,283.992 707.266,283.119 709.37,282.683 711.475,282.247 713.579,280.066 715.684,278.539 717.788,278.321 719.892,276.14 721.997,274.613 724.101,273.741 \n  726.206,272.432 728.31,271.342 730.415,270.033 732.519,269.161 734.623,268.942 736.728,268.288 738.832,267.852 740.937,267.416 743.041,266.761 745.146,266.543 \n  747.25,265.889 749.354,265.235 751.459,264.58 753.563,264.362 755.668,263.49 757.772,262.399 759.876,260.436 761.981,260.218 764.085,260 766.19,259.127 \n  768.294,258.473 770.399,258.037 772.503,256.946 774.607,256.946 776.712,256.51 778.816,256.074 780.921,255.42 783.025,254.983 785.13,253.893 787.234,253.239 \n  789.338,252.802 791.443,252.366 793.547,251.712 795.652,251.057 797.756,250.403 799.861,249.531 801.965,248.876 804.069,248.44 806.174,247.35 808.278,246.913 \n  810.383,246.913 812.487,246.259 814.591,246.477 816.696,245.605 818.8,244.95 820.905,244.296 823.009,243.86 825.114,242.769 827.218,242.551 829.322,241.679 \n  831.427,241.243 833.531,240.588 835.636,239.934 837.74,239.498 839.845,239.061 841.949,238.189 844.053,237.753 846.158,237.753 848.262,237.317 850.367,237.098 \n  852.471,236.662 854.576,236.662 856.68,236.444 858.784,236.226 860.889,235.79 862.993,234.699 865.098,234.045 867.202,233.173 869.306,233.391 871.411,232.954 \n  873.515,232.3 875.62,232.518 877.724,232.3 879.829,231.864 881.933,231.646 884.037,231.21 886.142,230.773 888.246,230.555 890.351,230.337 892.455,229.683 \n  894.56,229.247 896.664,229.465 898.768,228.81 900.873,228.592 902.977,228.81 905.082,228.592 907.186,228.156 909.29,227.502 911.395,227.065 913.499,226.629 \n  915.604,225.975 917.708,225.539 919.813,224.884 921.917,224.666 924.021,224.666 926.126,224.884 928.23,224.666 930.335,224.23 932.439,224.448 934.544,224.23 \n  936.648,224.666 938.752,224.448 940.857,224.23 942.961,223.358 945.066,222.921 947.17,222.267 949.275,221.831 951.379,221.613 953.483,222.049 955.588,222.049 \n  957.692,222.703 959.797,222.485 961.901,222.267 964.005,221.831 966.11,221.613 968.214,221.395 970.319,221.831 972.423,221.395 974.528,221.177 976.632,221.177 \n  978.736,220.304 980.841,219.868 982.945,220.086 985.05,219.65 987.154,219.214 989.259,218.995 991.363,218.559 993.467,217.905 995.572,217.469 997.676,217.032 \n  999.781,217.469 1001.89,216.814 1003.99,215.942 1006.09,215.942 1008.2,215.506 1010.3,215.506 1012.41,215.288 1014.51,215.288 1016.62,215.069 1018.72,215.069 \n  1020.82,214.851 1022.93,214.851 1025.03,214.197 1027.14,213.979 1029.24,213.761 1031.35,213.543 1033.45,212.452 1035.56,212.452 1037.66,212.234 1039.76,212.452 \n  1041.87,212.67 1043.97,212.888 1046.08,212.67 1048.18,212.67 1050.29,212.888 1052.39,212.888 1054.5,212.67 1056.6,212.234 1058.7,211.58 1060.81,211.362 \n  1062.91,210.925 1065.02,211.143 1067.12,210.925 1069.23,210.925 1071.33,210.925 1073.44,210.707 1075.54,210.925 1077.64,211.143 1079.75,210.925 1081.85,210.925 \n  1083.96,210.707 1086.06,210.707 1088.17,210.707 1090.27,210.053 1092.38,210.271 1094.48,210.271 1096.58,209.617 1098.69,209.181 1100.79,209.181 1102.9,208.962 \n  1105,208.962 1107.11,208.744 1109.21,208.308 1111.32,207.872 1113.42,207.872 1115.52,207.436 1117.63,207.218 1119.73,206.781 1121.84,206.563 1123.94,206.563 \n  1126.05,206.345 1128.15,206.345 1130.25,206.345 1132.36,205.473 1134.46,205.473 1136.57,205.691 1138.67,206.127 1140.78,205.691 1142.88,205.255 1144.99,205.036 \n  1147.09,204.818 1149.19,204.382 1151.3,204.382 1153.4,204.382 1155.51,204.382 1157.61,204.6 1159.72,204.164 1161.82,204.164 1163.93,203.946 1166.03,203.728 \n  1168.13,203.51 1170.24,203.292 1172.34,202.855 1174.45,202.855 1176.55,202.637 1178.66,202.637 1180.76,202.855 1182.87,202.855 1184.97,202.855 1187.07,202.855 \n  1189.18,203.073 1191.28,203.292 1193.39,203.292 1195.49,203.073 1197.6,203.073 1199.7,202.855 1201.81,202.855 1203.91,202.855 1206.01,203.073 1208.12,202.855 \n  1210.22,202.419 1212.33,202.201 1214.43,202.419 1216.54,202.419 1218.64,202.419 1220.75,201.983 1222.85,201.765 1224.95,201.329 1227.06,201.329 1229.16,201.329 \n  1231.27,200.892 1233.37,200.892 1235.48,200.892 1237.58,200.674 1239.68,200.892 1241.79,200.456 1243.89,200.02 1246,199.584 1248.1,199.584 1250.21,199.366 \n  1252.31,199.366 1254.42,199.584 1256.52,199.584 1258.62,199.584 1260.73,199.366 1262.83,199.147 1264.94,199.147 1267.04,198.929 1269.15,198.711 1271.25,198.493 \n  1273.36,198.493 1275.46,198.275 1277.56,197.621 1279.67,197.621 1281.77,197.839 1283.88,198.057 1285.98,197.403 1288.09,197.403 1290.19,197.621 1292.3,197.403 \n  1294.4,197.403 1296.5,197.185 1298.61,197.403 1300.71,197.185 1302.82,196.966 1304.92,196.966 1307.03,196.966 1309.13,196.748 1311.24,196.312 1313.34,195.876 \n  1315.44,195.876 1317.55,195.658 1319.65,195.658 1321.76,195.44 1323.86,195.44 1325.97,195.222 1328.07,194.785 1330.17,194.785 1332.28,194.349 1334.38,194.131 \n  1336.49,194.567 1338.59,194.567 1340.7,194.349 1342.8,194.131 1344.91,194.567 1347.01,194.349 1349.11,194.349 1351.22,193.913 1353.32,193.913 1355.43,194.349 \n  1357.53,194.131 1359.64,194.131 1361.74,193.913 1363.85,193.913 1365.95,193.913 1368.05,193.913 1370.16,193.913 1372.26,193.477 1374.37,193.477 1376.47,193.04 \n  1378.58,192.822 1380.68,192.168 1382.79,192.386 1384.89,192.386 1386.99,192.386 1389.1,192.386 1391.2,191.95 1393.31,191.732 1395.41,191.732 1397.52,191.296 \n  1399.62,191.077 1401.73,191.077 1403.83,191.077 1405.93,191.077 1408.04,190.641 1410.14,190.423 1412.25,190.423 1414.35,190.641 1416.46,190.641 1418.56,190.205 \n  1420.67,190.423 1422.77,190.205 1424.87,189.987 1426.98,190.423 1429.08,190.423 1431.19,190.641 1433.29,190.423 1435.4,189.769 1437.5,190.205 1439.6,190.641 \n  1441.71,190.423 1443.81,189.987 1445.92,189.769 1448.02,190.205 1450.13,189.987 1452.23,189.987 1454.34,190.205 1456.44,190.205 1458.54,189.987 1460.65,189.769 \n  1462.75,189.769 1464.86,189.769 1466.96,189.769 1469.07,189.769 1471.17,189.769 1473.28,189.769 1475.38,189.551 1477.48,189.551 1479.59,189.769 1481.69,189.769 \n  1483.8,189.769 1485.9,189.551 1488.01,189.769 1490.11,189.987 1492.22,190.205 1494.32,189.987 1496.42,189.987 1498.53,189.987 1500.63,189.987 1502.74,190.423 \n  1504.84,190.423 1506.95,190.423 1509.05,190.423 1511.16,190.205 1513.26,190.205 1515.36,190.205 1517.47,190.423 1519.57,190.205 1521.68,190.205 1523.78,190.205 \n  1525.89,190.205 1527.99,190.205 1530.1,190.423 1532.2,190.423 1534.3,190.205 1536.41,190.641 1538.51,190.641 1540.62,190.423 1542.72,190.423 1544.83,190.641 \n  1546.93,190.859 1549.03,190.859 1551.14,190.859 1553.24,191.077 1555.35,191.514 1557.45,191.732 1559.56,191.95 1561.66,191.95 1563.77,192.168 1565.87,192.168 \n  1567.97,192.168 1570.08,191.95 1572.18,192.168 1574.29,192.386 1576.39,192.386 1578.5,192.386 1580.6,191.514 1582.71,191.514 1584.81,191.514 1586.91,191.296 \n  1589.02,191.732 1591.12,192.168 1593.23,192.168 1595.33,191.95 1597.44,191.514 1599.54,191.514 1601.65,191.296 1603.75,191.296 1605.85,191.514 1607.96,191.296 \n  1610.06,191.514 1612.17,191.514 1614.27,191.514 1616.38,191.514 1618.48,191.732 1620.59,191.514 1622.69,191.514 1624.79,191.296 1626.9,191.296 1629,191.077 \n  1631.11,190.859 1633.21,190.859 1635.32,190.641 1637.42,190.641 1639.53,190.423 1641.63,190.423 1643.73,190.423 1645.84,190.423 1647.94,190.423 1650.05,190.641 \n  1652.15,190.859 1654.26,191.296 1656.36,191.296 1658.46,191.514 1660.57,191.514 1662.67,191.514 1664.78,191.732 1666.88,191.514 1668.99,191.514 1671.09,191.514 \n  1673.2,191.732 1675.3,192.168 1677.4,192.168 1679.51,192.168 1681.61,192.168 1683.72,192.168 1685.82,192.168 1687.93,192.168 1690.03,192.168 1692.14,192.386 \n  1694.24,192.386 1696.34,192.604 1698.45,192.604 1700.55,192.168 1702.66,192.168 1704.76,192.168 1706.87,192.168 1708.97,192.168 1711.08,192.168 1713.18,191.95 \n  1715.28,191.95 1717.39,191.95 1719.49,191.732 1721.6,191.732 1723.7,191.732 1725.81,191.95 1727.91,191.514 1730.02,191.514 1732.12,191.514 1734.22,191.732 \n  1736.33,191.514 1738.43,191.732 1740.54,191.732 1742.64,191.732 1744.75,191.732 1746.85,192.168 1748.96,192.168 1751.06,192.386 1753.16,192.168 1755.27,192.168 \n  1757.37,192.386 1759.48,192.386 1761.58,192.386 1763.69,192.168 1765.79,191.95 1767.89,191.95 1770,191.732 1772.1,191.732 1774.21,191.514 1776.31,191.296 \n  1778.42,191.296 1780.52,191.077 1782.63,191.077 1784.73,190.859 1786.83,190.859 1788.94,190.859 1791.04,190.859 1793.15,190.641 1795.25,190.641 1797.36,190.205 \n  1799.46,190.205 1801.57,189.769 1803.67,189.114 1805.77,188.896 1807.88,188.678 1809.98,187.588 1812.09,187.151 1814.19,187.37 1816.3,187.37 1818.4,187.37 \n  1820.51,186.933 1822.61,186.933 1824.71,186.279 1826.82,185.843 1828.92,183.662 1831.03,183.007 1833.13,181.917 1835.24,181.917 1837.34,182.353 1839.45,182.571 \n  1841.55,182.135 1843.65,181.481 1845.76,181.263 1847.86,180.608 1849.97,179.954 1852.07,179.954 1854.18,179.736 1856.28,179.518 1858.38,179.3 1860.49,178.863 \n  1862.59,179.3 1864.7,178.427 1866.8,178.427 1868.91,178.427 1871.01,178.209 1873.12,178.645 1875.22,178.209 1877.32,177.118 1879.43,177.337 1881.53,177.337 \n  1883.64,177.118 1885.74,177.555 1887.85,177.555 1889.95,177.773 1892.06,177.773 1894.16,177.555 1896.26,177.555 1898.37,177.773 1900.47,178.209 1902.58,177.991 \n  1904.68,178.209 1906.79,178.209 1908.89,178.645 1911,178.645 1913.1,178.645 1915.2,178.427 1917.31,178.427 1919.41,178.427 1921.52,178.645 1923.62,178.427 \n  1925.73,178.209 1927.83,178.209 1929.94,178.427 1932.04,177.773 1934.14,177.555 1936.25,177.555 1938.35,178.209 1940.46,178.209 1942.56,178.209 1944.67,178.209 \n  1946.77,178.427 1948.88,178.209 1950.98,178.209 1953.08,178.645 1955.19,179.3 1957.29,179.518 1959.4,179.518 1961.5,179.736 1963.61,179.736 1965.71,179.736 \n  1967.81,179.736 1969.92,179.3 1972.02,179.3 1974.13,179.736 1976.23,179.518 1978.34,178.863 1980.44,178.863 1982.55,178.645 1984.65,178.645 1986.75,177.991 \n  1988.86,177.991 1990.96,177.991 1993.07,177.991 1995.17,177.773 1997.28,177.991 1999.38,177.991 2001.49,177.991 2003.59,178.209 2005.69,178.427 2007.8,179.081 \n  2009.9,179.081 2012.01,179.081 2014.11,179.081 2016.22,179.3 2018.32,178.863 2020.43,178.427 2022.53,178.209 2024.63,178.427 2026.74,178.427 2028.84,178.645 \n  2030.95,178.863 2033.05,178.863 2035.16,178.645 2037.26,178.427 2039.37,178.209 2041.47,178.427 2043.57,178.427 2045.68,178.427 2047.78,178.427 2049.89,178.863 \n  2051.99,178.863 2054.1,178.863 2056.2,178.427 2058.31,178.427 2060.41,178.209 2062.51,178.645 2064.62,178.209 2066.72,178.209 2068.83,178.427 2070.93,178.209 \n  2073.04,178.209 2075.14,178.209 2077.24,178.427 2079.35,178.427 2081.45,178.427 2083.56,178.645 2085.66,179.081 2087.77,179.081 2089.87,179.3 2091.98,179.3 \n  2094.08,179.081 2096.18,179.518 2098.29,179.518 2100.39,179.3 2102.5,179.3 2104.6,179.081 2106.71,179.081 2108.81,179.3 2110.92,179.081 2113.02,179.081 \n  2115.12,179.736 2117.23,179.736 2119.33,179.954 2121.44,179.736 2123.54,179.736 2125.65,179.736 2127.75,180.172 2129.86,179.954 2131.96,179.736 2134.06,179.736 \n  2136.17,179.954 2138.27,179.954 2140.38,180.172 2142.48,180.39 2144.59,180.39 2146.69,180.608 2148.8,180.608 2150.9,180.608 2153,180.608 2155.11,180.172 \n  2157.21,180.39 2159.32,180.39 2161.42,180.608 2163.53,180.608 2165.63,180.826 2167.74,180.826 2169.84,180.608 2171.94,180.608 2174.05,180.608 2176.15,180.608 \n  2178.26,180.608 2180.36,180.608 2182.47,180.608 2184.57,180.608 2186.67,180.608 2188.78,180.39 2190.88,180.39 2192.99,180.608 2195.09,180.608 2197.2,180.39 \n  2199.3,180.39 2201.41,180.39 2203.51,180.172 2205.61,180.172 2207.72,180.172 2209.82,180.172 2211.93,180.172 2214.03,180.172 2216.14,180.172 2218.24,180.172 \n  2220.35,180.172 2222.45,180.39 2224.55,180.39 2226.66,180.39 2228.76,180.39 2230.87,180.172 2232.97,180.172 2235.08,180.39 2237.18,180.39 2239.29,180.826 \n  2241.39,181.044 2243.49,181.044 2245.6,181.044 2247.7,181.044 2249.81,181.044 2251.91,180.826 2254.02,180.826 2256.12,180.826 2258.23,180.608 2260.33,180.39 \n  2262.43,180.39 2264.54,180.39 2266.64,180.39 2268.75,180.608 2270.85,180.826 2272.96,180.608 2275.06,180.39 2277.17,180.39 2279.27,180.826 2281.37,181.044 \n  2283.48,181.044 2285.58,181.044 2287.69,181.263 2289.79,181.481 2291.9,181.699 \n  \"/>\n<polyline clip-path=\"url(#clip8902)\" style=\"stroke:#e26f46; stroke-width:4; stroke-opacity:1; fill:none\" points=\"\n  263.233,1362.54 265.337,1362.54 267.442,1362.54 269.546,1362.54 271.651,1362.54 273.755,1362.54 275.859,1354.69 277.964,1388.71 280.068,1388.71 282.173,1388.71 \n  284.277,1388.71 286.381,1388.71 288.486,1388.71 290.59,1388.71 292.695,1388.71 294.799,1388.71 296.904,1388.71 299.008,1388.71 301.112,1388.71 303.217,1388.71 \n  305.321,1388.71 307.426,1388.71 309.53,1388.71 311.635,1378.25 313.739,1315.43 315.843,1176.71 317.948,1024.91 320.052,810.289 322.157,666.337 324.261,577.349 \n  326.365,519.768 328.47,490.977 330.574,496.212 332.679,504.064 334.783,553.793 336.888,572.114 338.992,621.843 341.096,637.547 343.201,653.251 345.305,668.955 \n  347.41,700.362 349.514,723.918 351.619,731.77 353.723,739.622 355.827,752.708 357.932,763.178 360.036,768.412 362.141,781.499 364.245,794.585 366.35,807.672 \n  368.454,810.289 370.558,825.993 372.663,831.228 374.767,828.61 376.872,836.462 378.976,841.697 381.08,839.08 383.185,833.845 385.289,836.462 387.394,836.462 \n  389.498,831.228 391.603,833.845 393.707,833.845 395.811,825.993 397.916,820.758 400.02,818.141 402.125,815.524 404.229,812.907 406.334,805.055 408.438,789.351 \n  410.542,784.116 412.647,773.647 414.751,755.326 416.856,737.005 418.96,718.683 421.064,684.658 423.169,671.572 425.273,640.164 427.378,621.843 429.482,603.522 \n  431.587,595.67 433.691,572.114 435.795,566.879 437.9,548.558 440.004,553.793 442.109,548.558 444.213,543.324 446.318,545.941 448.422,538.089 450.526,540.706 \n  452.631,545.941 454.735,538.089 456.84,532.854 458.944,538.089 461.049,538.089 463.153,532.854 465.257,532.854 467.362,540.706 469.466,530.237 471.571,525.002 \n  473.675,506.681 475.779,498.829 477.884,490.977 479.988,493.595 482.093,477.891 484.197,475.274 486.302,467.422 488.406,446.483 490.51,438.631 492.615,433.397 \n  494.719,430.779 496.824,425.545 498.928,415.076 501.033,412.458 503.137,404.606 505.241,401.989 507.346,394.137 509.45,386.285 511.555,378.433 513.659,378.433 \n  515.763,365.347 517.868,357.495 519.972,349.643 522.077,347.025 524.181,347.025 526.286,347.025 528.39,349.643 530.494,352.26 532.599,349.643 534.703,347.025 \n  536.808,344.408 538.912,344.408 541.017,344.408 543.121,344.408 545.225,344.408 547.33,339.174 549.434,336.556 551.539,333.939 553.643,333.939 555.748,333.939 \n  557.852,331.322 559.956,328.704 562.061,323.47 564.165,323.47 566.27,323.47 568.374,320.852 570.478,320.852 572.583,320.852 574.687,318.235 576.792,318.235 \n  578.896,313 581.001,310.383 583.105,310.383 585.209,307.766 587.314,307.766 589.418,302.531 591.523,297.297 593.627,297.297 595.732,294.679 597.836,292.062 \n  599.94,292.062 602.045,292.062 604.149,292.062 606.254,289.445 608.358,286.827 610.463,286.827 612.567,286.827 614.671,286.827 616.776,284.21 618.88,278.975 \n  620.985,276.358 623.089,273.741 625.193,273.741 627.298,265.889 629.402,265.889 631.507,265.889 633.611,265.889 635.716,265.889 637.82,260.654 639.924,260.654 \n  642.029,260.654 644.133,260.654 646.238,260.654 648.342,260.654 650.447,260.654 652.551,258.037 654.655,258.037 656.76,258.037 658.864,258.037 660.969,255.42 \n  663.073,252.802 665.177,252.802 667.282,252.802 669.386,252.802 671.491,252.802 673.595,250.185 675.7,250.185 677.804,247.568 679.908,247.568 682.013,247.568 \n  684.117,247.568 686.222,239.716 688.326,239.716 690.431,237.098 692.535,237.098 694.639,234.481 696.744,234.481 698.848,234.481 700.953,234.481 703.057,234.481 \n  705.162,234.481 707.266,234.481 709.37,234.481 711.475,234.481 713.579,234.481 715.684,231.864 717.788,231.864 719.892,231.864 721.997,226.629 724.101,226.629 \n  726.206,224.012 728.31,224.012 730.415,224.012 732.519,224.012 734.623,226.629 736.728,226.629 738.832,224.012 740.937,224.012 743.041,224.012 745.146,224.012 \n  747.25,224.012 749.354,224.012 751.459,224.012 753.563,221.395 755.668,218.777 757.772,216.16 759.876,216.16 761.981,216.16 764.085,216.16 766.19,216.16 \n  768.294,216.16 770.399,213.543 772.503,213.543 774.607,210.925 776.712,210.925 778.816,210.925 780.921,210.925 783.025,210.925 785.13,210.925 787.234,210.925 \n  789.338,210.925 791.443,210.925 793.547,210.925 795.652,210.925 797.756,208.308 799.861,208.308 801.965,208.308 804.069,208.308 806.174,208.308 808.278,208.308 \n  810.383,208.308 812.487,208.308 814.591,208.308 816.696,208.308 818.8,208.308 820.905,208.308 823.009,208.308 825.114,205.691 827.218,205.691 829.322,205.691 \n  831.427,205.691 833.531,205.691 835.636,205.691 837.74,205.691 839.845,205.691 841.949,205.691 844.053,205.691 846.158,205.691 848.262,200.456 850.367,200.456 \n  852.471,200.456 854.576,197.839 856.68,195.222 858.784,195.222 860.889,195.222 862.993,192.604 865.098,192.604 867.202,192.604 869.306,192.604 871.411,192.604 \n  873.515,192.604 875.62,192.604 877.724,192.604 879.829,192.604 881.933,192.604 884.037,192.604 886.142,192.604 888.246,192.604 890.351,192.604 892.455,192.604 \n  894.56,192.604 896.664,192.604 898.768,192.604 900.873,192.604 902.977,192.604 905.082,192.604 907.186,189.987 909.29,189.987 911.395,189.987 913.499,184.752 \n  915.604,184.752 917.708,184.752 919.813,184.752 921.917,184.752 924.021,184.752 926.126,184.752 928.23,184.752 930.335,184.752 932.439,182.135 934.544,179.518 \n  936.648,179.518 938.752,179.518 940.857,179.518 942.961,179.518 945.066,176.9 947.17,176.9 949.275,176.9 951.379,179.518 953.483,176.9 955.588,176.9 \n  957.692,174.283 959.797,174.283 961.901,171.666 964.005,171.666 966.11,171.666 968.214,171.666 970.319,171.666 972.423,171.666 974.528,171.666 976.632,169.048 \n  978.736,169.048 980.841,169.048 982.945,169.048 985.05,169.048 987.154,169.048 989.259,169.048 991.363,166.431 993.467,169.048 995.572,169.048 997.676,169.048 \n  999.781,169.048 1001.89,169.048 1003.99,169.048 1006.09,169.048 1008.2,169.048 1010.3,169.048 1012.41,169.048 1014.51,169.048 1016.62,169.048 1018.72,169.048 \n  1020.82,169.048 1022.93,169.048 1025.03,169.048 1027.14,169.048 1029.24,169.048 1031.35,169.048 1033.45,169.048 1035.56,169.048 1037.66,169.048 1039.76,169.048 \n  1041.87,169.048 1043.97,169.048 1046.08,169.048 1048.18,174.283 1050.29,171.666 1052.39,171.666 1054.5,171.666 1056.6,171.666 1058.7,171.666 1060.81,171.666 \n  1062.91,171.666 1065.02,171.666 1067.12,171.666 1069.23,171.666 1071.33,171.666 1073.44,171.666 1075.54,171.666 1077.64,171.666 1079.75,171.666 1081.85,171.666 \n  1083.96,171.666 1086.06,171.666 1088.17,171.666 1090.27,171.666 1092.38,171.666 1094.48,169.048 1096.58,169.048 1098.69,169.048 1100.79,169.048 1102.9,169.048 \n  1105,169.048 1107.11,166.431 1109.21,166.431 1111.32,166.431 1113.42,166.431 1115.52,166.431 1117.63,166.431 1119.73,166.431 1121.84,166.431 1123.94,166.431 \n  1126.05,166.431 1128.15,166.431 1130.25,166.431 1132.36,166.431 1134.46,166.431 1136.57,166.431 1138.67,166.431 1140.78,166.431 1142.88,161.197 1144.99,161.197 \n  1147.09,161.197 1149.19,161.197 1151.3,161.197 1153.4,161.197 1155.51,161.197 1157.61,161.197 1159.72,161.197 1161.82,161.197 1163.93,161.197 1166.03,161.197 \n  1168.13,161.197 1170.24,161.197 1172.34,161.197 1174.45,161.197 1176.55,163.814 1178.66,163.814 1180.76,163.814 1182.87,163.814 1184.97,163.814 1187.07,166.431 \n  1189.18,166.431 1191.28,163.814 1193.39,166.431 1195.49,169.048 1197.6,169.048 1199.7,169.048 1201.81,174.283 1203.91,174.283 1206.01,174.283 1208.12,174.283 \n  1210.22,174.283 1212.33,174.283 1214.43,174.283 1216.54,174.283 1218.64,174.283 1220.75,174.283 1222.85,174.283 1224.95,174.283 1227.06,174.283 1229.16,174.283 \n  1231.27,174.283 1233.37,174.283 1235.48,174.283 1237.58,174.283 1239.68,174.283 1241.79,174.283 1243.89,174.283 1246,174.283 1248.1,174.283 1250.21,174.283 \n  1252.31,174.283 1254.42,174.283 1256.52,174.283 1258.62,174.283 1260.73,174.283 1262.83,174.283 1264.94,174.283 1267.04,174.283 1269.15,174.283 1271.25,171.666 \n  1273.36,171.666 1275.46,171.666 1277.56,171.666 1279.67,171.666 1281.77,171.666 1283.88,171.666 1285.98,171.666 1288.09,171.666 1290.19,171.666 1292.3,171.666 \n  1294.4,171.666 1296.5,171.666 1298.61,171.666 1300.71,169.048 1302.82,169.048 1304.92,169.048 1307.03,169.048 1309.13,169.048 1311.24,169.048 1313.34,169.048 \n  1315.44,169.048 1317.55,169.048 1319.65,169.048 1321.76,169.048 1323.86,169.048 1325.97,169.048 1328.07,169.048 1330.17,169.048 1332.28,166.431 1334.38,166.431 \n  1336.49,166.431 1338.59,166.431 1340.7,166.431 1342.8,166.431 1344.91,166.431 1347.01,166.431 1349.11,166.431 1351.22,166.431 1353.32,166.431 1355.43,166.431 \n  1357.53,169.048 1359.64,169.048 1361.74,169.048 1363.85,169.048 1365.95,169.048 1368.05,169.048 1370.16,169.048 1372.26,169.048 1374.37,169.048 1376.47,169.048 \n  1378.58,169.048 1380.68,169.048 1382.79,169.048 1384.89,169.048 1386.99,169.048 1389.1,169.048 1391.2,169.048 1393.31,169.048 1395.41,169.048 1397.52,169.048 \n  1399.62,169.048 1401.73,169.048 1403.83,169.048 1405.93,166.431 1408.04,166.431 1410.14,166.431 1412.25,163.814 1414.35,163.814 1416.46,163.814 1418.56,163.814 \n  1420.67,163.814 1422.77,163.814 1424.87,163.814 1426.98,163.814 1429.08,163.814 1431.19,163.814 1433.29,163.814 1435.4,163.814 1437.5,163.814 1439.6,163.814 \n  1441.71,163.814 1443.81,163.814 1445.92,163.814 1448.02,163.814 1450.13,163.814 1452.23,163.814 1454.34,163.814 1456.44,163.814 1458.54,163.814 1460.65,163.814 \n  1462.75,163.814 1464.86,163.814 1466.96,163.814 1469.07,163.814 1471.17,163.814 1473.28,163.814 1475.38,163.814 1477.48,163.814 1479.59,163.814 1481.69,163.814 \n  1483.8,163.814 1485.9,163.814 1488.01,163.814 1490.11,163.814 1492.22,163.814 1494.32,163.814 1496.42,163.814 1498.53,163.814 1500.63,163.814 1502.74,163.814 \n  1504.84,163.814 1506.95,163.814 1509.05,163.814 1511.16,163.814 1513.26,163.814 1515.36,163.814 1517.47,163.814 1519.57,163.814 1521.68,163.814 1523.78,163.814 \n  1525.89,161.197 1527.99,161.197 1530.1,161.197 1532.2,161.197 1534.3,161.197 1536.41,161.197 1538.51,161.197 1540.62,161.197 1542.72,163.814 1544.83,163.814 \n  1546.93,163.814 1549.03,163.814 1551.14,163.814 1553.24,163.814 1555.35,163.814 1557.45,163.814 1559.56,163.814 1561.66,163.814 1563.77,163.814 1565.87,163.814 \n  1567.97,166.431 1570.08,166.431 1572.18,166.431 1574.29,166.431 1576.39,166.431 1578.5,166.431 1580.6,166.431 1582.71,166.431 1584.81,166.431 1586.91,166.431 \n  1589.02,166.431 1591.12,166.431 1593.23,166.431 1595.33,166.431 1597.44,166.431 1599.54,166.431 1601.65,166.431 1603.75,166.431 1605.85,166.431 1607.96,166.431 \n  1610.06,166.431 1612.17,166.431 1614.27,166.431 1616.38,166.431 1618.48,166.431 1620.59,166.431 1622.69,163.814 1624.79,163.814 1626.9,163.814 1629,163.814 \n  1631.11,163.814 1633.21,163.814 1635.32,163.814 1637.42,163.814 1639.53,163.814 1641.63,163.814 1643.73,163.814 1645.84,163.814 1647.94,163.814 1650.05,163.814 \n  1652.15,163.814 1654.26,166.431 1656.36,166.431 1658.46,166.431 1660.57,166.431 1662.67,166.431 1664.78,166.431 1666.88,166.431 1668.99,166.431 1671.09,166.431 \n  1673.2,166.431 1675.3,166.431 1677.4,166.431 1679.51,166.431 1681.61,166.431 1683.72,166.431 1685.82,166.431 1687.93,166.431 1690.03,166.431 1692.14,166.431 \n  1694.24,166.431 1696.34,166.431 1698.45,166.431 1700.55,166.431 1702.66,166.431 1704.76,166.431 1706.87,166.431 1708.97,166.431 1711.08,166.431 1713.18,166.431 \n  1715.28,166.431 1717.39,166.431 1719.49,166.431 1721.6,166.431 1723.7,166.431 1725.81,166.431 1727.91,166.431 1730.02,166.431 1732.12,166.431 1734.22,166.431 \n  1736.33,166.431 1738.43,166.431 1740.54,166.431 1742.64,166.431 1744.75,166.431 1746.85,166.431 1748.96,166.431 1751.06,166.431 1753.16,166.431 1755.27,166.431 \n  1757.37,166.431 1759.48,166.431 1761.58,166.431 1763.69,166.431 1765.79,166.431 1767.89,166.431 1770,166.431 1772.1,166.431 1774.21,166.431 1776.31,166.431 \n  1778.42,166.431 1780.52,166.431 1782.63,166.431 1784.73,166.431 1786.83,166.431 1788.94,166.431 1791.04,166.431 1793.15,166.431 1795.25,166.431 1797.36,166.431 \n  1799.46,166.431 1801.57,166.431 1803.67,166.431 1805.77,166.431 1807.88,166.431 1809.98,166.431 1812.09,166.431 1814.19,163.814 1816.3,163.814 1818.4,163.814 \n  1820.51,163.814 1822.61,163.814 1824.71,163.814 1826.82,163.814 1828.92,163.814 1831.03,166.431 1833.13,166.431 1835.24,166.431 1837.34,166.431 1839.45,169.048 \n  1841.55,166.431 1843.65,166.431 1845.76,166.431 1847.86,166.431 1849.97,163.814 1852.07,163.814 1854.18,166.431 1856.28,166.431 1858.38,163.814 1860.49,161.197 \n  1862.59,161.197 1864.7,161.197 1866.8,161.197 1868.91,161.197 1871.01,161.197 1873.12,161.197 1875.22,161.197 1877.32,161.197 1879.43,161.197 1881.53,161.197 \n  1883.64,161.197 1885.74,161.197 1887.85,158.579 1889.95,161.197 1892.06,161.197 1894.16,161.197 1896.26,158.579 1898.37,158.579 1900.47,158.579 1902.58,158.579 \n  1904.68,158.579 1906.79,158.579 1908.89,158.579 1911,158.579 1913.1,158.579 1915.2,161.197 1917.31,161.197 1919.41,161.197 1921.52,161.197 1923.62,161.197 \n  1925.73,161.197 1927.83,161.197 1929.94,163.814 1932.04,163.814 1934.14,163.814 1936.25,163.814 1938.35,163.814 1940.46,163.814 1942.56,163.814 1944.67,161.197 \n  1946.77,161.197 1948.88,161.197 1950.98,161.197 1953.08,161.197 1955.19,161.197 1957.29,161.197 1959.4,161.197 1961.5,161.197 1963.61,161.197 1965.71,161.197 \n  1967.81,161.197 1969.92,161.197 1972.02,161.197 1974.13,161.197 1976.23,161.197 1978.34,161.197 1980.44,161.197 1982.55,161.197 1984.65,161.197 1986.75,158.579 \n  1988.86,158.579 1990.96,161.197 1993.07,161.197 1995.17,161.197 1997.28,161.197 1999.38,161.197 2001.49,161.197 2003.59,161.197 2005.69,161.197 2007.8,161.197 \n  2009.9,161.197 2012.01,161.197 2014.11,161.197 2016.22,161.197 2018.32,161.197 2020.43,161.197 2022.53,161.197 2024.63,161.197 2026.74,161.197 2028.84,161.197 \n  2030.95,161.197 2033.05,161.197 2035.16,161.197 2037.26,161.197 2039.37,161.197 2041.47,161.197 2043.57,161.197 2045.68,161.197 2047.78,161.197 2049.89,161.197 \n  2051.99,161.197 2054.1,161.197 2056.2,161.197 2058.31,161.197 2060.41,161.197 2062.51,161.197 2064.62,161.197 2066.72,163.814 2068.83,163.814 2070.93,163.814 \n  2073.04,163.814 2075.14,163.814 2077.24,166.431 2079.35,166.431 2081.45,163.814 2083.56,163.814 2085.66,163.814 2087.77,163.814 2089.87,163.814 2091.98,163.814 \n  2094.08,163.814 2096.18,163.814 2098.29,163.814 2100.39,163.814 2102.5,163.814 2104.6,163.814 2106.71,163.814 2108.81,163.814 2110.92,163.814 2113.02,163.814 \n  2115.12,163.814 2117.23,163.814 2119.33,163.814 2121.44,166.431 2123.54,169.048 2125.65,169.048 2127.75,169.048 2129.86,169.048 2131.96,169.048 2134.06,169.048 \n  2136.17,169.048 2138.27,169.048 2140.38,169.048 2142.48,169.048 2144.59,169.048 2146.69,166.431 2148.8,166.431 2150.9,166.431 2153,163.814 2155.11,163.814 \n  2157.21,163.814 2159.32,163.814 2161.42,163.814 2163.53,163.814 2165.63,163.814 2167.74,163.814 2169.84,163.814 2171.94,163.814 2174.05,163.814 2176.15,163.814 \n  2178.26,163.814 2180.36,163.814 2182.47,163.814 2184.57,163.814 2186.67,163.814 2188.78,163.814 2190.88,163.814 2192.99,163.814 2195.09,163.814 2197.2,163.814 \n  2199.3,163.814 2201.41,161.197 2203.51,161.197 2205.61,161.197 2207.72,161.197 2209.82,161.197 2211.93,161.197 2214.03,161.197 2216.14,161.197 2218.24,158.579 \n  2220.35,158.579 2222.45,161.197 2224.55,161.197 2226.66,158.579 2228.76,158.579 2230.87,158.579 2232.97,161.197 2235.08,161.197 2237.18,161.197 2239.29,161.197 \n  2241.39,161.197 2243.49,161.197 2245.6,161.197 2247.7,161.197 2249.81,161.197 2251.91,161.197 2254.02,161.197 2256.12,161.197 2258.23,161.197 2260.33,161.197 \n  2262.43,161.197 2264.54,161.197 2266.64,161.197 2268.75,161.197 2270.85,161.197 2272.96,161.197 2275.06,161.197 2277.17,161.197 2279.27,161.197 2281.37,161.197 \n  2283.48,161.197 2285.58,161.197 2287.69,163.814 2289.79,163.814 2291.9,163.814 \n  \"/>\n<path clip-path=\"url(#clip8900)\" d=\"\nM1759.85 386.635 L2280.76 386.635 L2280.76 205.195 L1759.85 205.195  Z\n  \" fill=\"#ffffff\" fill-rule=\"evenodd\" fill-opacity=\"1\"/>\n<polyline clip-path=\"url(#clip8900)\" style=\"stroke:#000000; stroke-width:4; stroke-opacity:1; fill:none\" points=\"\n  1759.85,386.635 2280.76,386.635 2280.76,205.195 1759.85,205.195 1759.85,386.635 \n  \"/>\n<polyline clip-path=\"url(#clip8900)\" style=\"stroke:#009af9; stroke-width:4; stroke-opacity:1; fill:none\" points=\"\n  1783.85,265.675 1927.85,265.675 \n  \"/>\n<g clip-path=\"url(#clip8900)\">\n<text style=\"fill:#000000; fill-opacity:1; font-family:Arial,Helvetica Neue,Helvetica,sans-serif; font-size:48px; text-anchor:start;\" transform=\"rotate(0, 1951.85, 283.175)\" x=\"1951.85\" y=\"283.175\">training set</text>\n</g>\n<polyline clip-path=\"url(#clip8900)\" style=\"stroke:#e26f46; stroke-width:4; stroke-opacity:1; fill:none\" points=\"\n  1783.85,326.155 1927.85,326.155 \n  \"/>\n<g clip-path=\"url(#clip8900)\">\n<text style=\"fill:#000000; fill-opacity:1; font-family:Arial,Helvetica Neue,Helvetica,sans-serif; font-size:48px; text-anchor:start;\" transform=\"rotate(0, 1951.85, 343.655)\" x=\"1951.85\" y=\"343.655\">validation set</text>\n</g>\n</svg>\n"
          },
          "metadata": {
            "tags": []
          },
          "execution_count": 26
        }
      ]
    },
    {
      "cell_type": "markdown",
      "metadata": {
        "id": "s8kDwM_TEEqb",
        "colab_type": "text"
      },
      "source": [
        "**Exercise 6**\n",
        "\n",
        "Final accuracy on training and validation set for \"good\" hyperparameters:"
      ]
    },
    {
      "cell_type": "code",
      "metadata": {
        "id": "wJ99WyO45XC_",
        "colab_type": "code",
        "outputId": "a15be041-327e-4814-9252-31c2e5112118",
        "colab": {
          "base_uri": "https://localhost:8080/",
          "height": 85
        }
      },
      "source": [
        "println(\"Accuracy on training set:\")\n",
        "@show accuracy(trainx, trainys, mlp)\n",
        "println(\"Accuracy on validation set:\")\n",
        "@show  accuracy(devx, devys, mlp);"
      ],
      "execution_count": 0,
      "outputs": [
        {
          "output_type": "stream",
          "text": [
            "Accuracy on training set:\n",
            "accuracy(trainx, trainys, mlp) = 95.775\n",
            "Accuracy on validation set:\n",
            "accuracy(devx, devys, mlp) = 96.5\n"
          ],
          "name": "stdout"
        }
      ]
    },
    {
      "cell_type": "markdown",
      "metadata": {
        "id": "1Wtv3SkRjb_-",
        "colab_type": "text"
      },
      "source": [
        "## Assignment 1.5: Model shootout ##\n"
      ]
    },
    {
      "cell_type": "markdown",
      "metadata": {
        "id": "Ct7oZPBvt-3V",
        "colab_type": "text"
      },
      "source": [
        "###1 & 2. Implement a “vanilla” perceptron model in your Colaboratory notebook, we will refer to this as our baseline model. Train your baseline model on the training set and use the validation set to determine when to stop training."
      ]
    },
    {
      "cell_type": "code",
      "metadata": {
        "id": "l9pYkmDD0Z85",
        "colab_type": "code",
        "colab": {}
      },
      "source": [
        "# Initialise \"vanilla\" perceptron parameters\n",
        "\n",
        "w = zeros(size(trainx)[1])\n",
        "b = 0.0\n",
        "w_best = copy(w)\n",
        "b_best = copy(b)\n",
        "best_accuracy = 0.0\n",
        "\n",
        "isbag(w,b,x) = dot(w, x) + b > 0"
      ],
      "execution_count": 0,
      "outputs": []
    },
    {
      "cell_type": "markdown",
      "metadata": {
        "id": "gyxap3gY9214",
        "colab_type": "text"
      },
      "source": [
        "Accuracy for the vanilla perceptron:"
      ]
    },
    {
      "cell_type": "code",
      "metadata": {
        "colab_type": "code",
        "id": "K-vDFFa34SRx",
        "colab": {}
      },
      "source": [
        "function vanilla_accuracy(datax, datay, w, b)\n",
        "    correct = 0\n",
        "    for i in 1:length(datay)\n",
        "        isbag(w, b, datax[:, i]) == datay[i] || continue\n",
        "        correct += 1\n",
        "    end\n",
        "    correct/length(datay)*100\n",
        "end"
      ],
      "execution_count": 0,
      "outputs": []
    },
    {
      "cell_type": "markdown",
      "metadata": {
        "id": "xM9D8woruRYf",
        "colab_type": "text"
      },
      "source": [
        "Training of the \"vanilla\" perceptron:"
      ]
    },
    {
      "cell_type": "code",
      "metadata": {
        "id": "fbp1B7W17Px8",
        "colab_type": "code",
        "colab": {}
      },
      "source": [
        "epochs = 5000\n",
        "valid_accuracy = []\n",
        "\n",
        "for iteration in 1:epochs\n",
        "    for i in 1:length(trainys)\n",
        "        x  = trainx[:,i]\n",
        "        y = trainys[i]\n",
        "        isbag(w, b, x) != y || continue\n",
        "        if y == 1\n",
        "            w .+= x\n",
        "            b += 1\n",
        "        else\n",
        "            w .-=x\n",
        "            b -= 1\n",
        "        end\n",
        "    end\n",
        "    push!(valid_accuracy, vanilla_accuracy(devx, devys, w, b))\n",
        "\n",
        "    #Saving the parameters for the best iteration in terms of validation accuracy\n",
        "    if (valid_accuracy[iteration] > best_accuracy)\n",
        "        w_best = copy(w)\n",
        "        b_best = copy(b)\n",
        "        best_accuracy = copy(valid_accuracy[iteration])\n",
        "    end\n",
        "\n",
        "    # Break if validation accuracy is no longer increasing. \n",
        "    if((iteration > 80) && (valid_accuracy[end] - valid_accuracy[end-80] < 0))\n",
        "      println(\"Convergence after $iteration epochs\")\n",
        "      break \n",
        "    end\n",
        "end"
      ],
      "execution_count": 0,
      "outputs": []
    },
    {
      "cell_type": "code",
      "metadata": {
        "id": "tY4h72t1f8og",
        "colab_type": "code",
        "outputId": "a7f257e5-8ab0-408f-d544-224eb23eac45",
        "colab": {
          "base_uri": "https://localhost:8080/",
          "height": 421
        }
      },
      "source": [
        "plot(1:length(valid_accuracy), valid_accuracy, label=\"Validation Accuracy\", legend = :bottomright)  "
      ],
      "execution_count": 0,
      "outputs": [
        {
          "output_type": "execute_result",
          "data": {
            "image/svg+xml": "<?xml version=\"1.0\" encoding=\"utf-8\"?>\n<svg xmlns=\"http://www.w3.org/2000/svg\" xmlns:xlink=\"http://www.w3.org/1999/xlink\" width=\"600\" height=\"400\" viewBox=\"0 0 2400 1600\">\n<defs>\n  <clipPath id=\"clip8400\">\n    <rect x=\"0\" y=\"0\" width=\"2400\" height=\"1600\"/>\n  </clipPath>\n</defs>\n<path clip-path=\"url(#clip8400)\" d=\"\nM0 1600 L2400 1600 L2400 0 L0 0  Z\n  \" fill=\"#ffffff\" fill-rule=\"evenodd\" fill-opacity=\"1\"/>\n<defs>\n  <clipPath id=\"clip8401\">\n    <rect x=\"480\" y=\"0\" width=\"1681\" height=\"1600\"/>\n  </clipPath>\n</defs>\n<path clip-path=\"url(#clip8400)\" d=\"\nM180.66 1487.47 L2352.76 1487.47 L2352.76 47.2441 L180.66 47.2441  Z\n  \" fill=\"#ffffff\" fill-rule=\"evenodd\" fill-opacity=\"1\"/>\n<defs>\n  <clipPath id=\"clip8402\">\n    <rect x=\"180\" y=\"47\" width=\"2173\" height=\"1441\"/>\n  </clipPath>\n</defs>\n<polyline clip-path=\"url(#clip8402)\" style=\"stroke:#000000; stroke-width:2; stroke-opacity:0.1; fill:none\" points=\"\n  216.52,1487.47 216.52,47.2441 \n  \"/>\n<polyline clip-path=\"url(#clip8402)\" style=\"stroke:#000000; stroke-width:2; stroke-opacity:0.1; fill:none\" points=\"\n  728.807,1487.47 728.807,47.2441 \n  \"/>\n<polyline clip-path=\"url(#clip8402)\" style=\"stroke:#000000; stroke-width:2; stroke-opacity:0.1; fill:none\" points=\"\n  1241.09,1487.47 1241.09,47.2441 \n  \"/>\n<polyline clip-path=\"url(#clip8402)\" style=\"stroke:#000000; stroke-width:2; stroke-opacity:0.1; fill:none\" points=\"\n  1753.38,1487.47 1753.38,47.2441 \n  \"/>\n<polyline clip-path=\"url(#clip8402)\" style=\"stroke:#000000; stroke-width:2; stroke-opacity:0.1; fill:none\" points=\"\n  2265.67,1487.47 2265.67,47.2441 \n  \"/>\n<polyline clip-path=\"url(#clip8402)\" style=\"stroke:#000000; stroke-width:2; stroke-opacity:0.1; fill:none\" points=\"\n  180.66,1333.49 2352.76,1333.49 \n  \"/>\n<polyline clip-path=\"url(#clip8402)\" style=\"stroke:#000000; stroke-width:2; stroke-opacity:0.1; fill:none\" points=\"\n  180.66,1144.78 2352.76,1144.78 \n  \"/>\n<polyline clip-path=\"url(#clip8402)\" style=\"stroke:#000000; stroke-width:2; stroke-opacity:0.1; fill:none\" points=\"\n  180.66,956.069 2352.76,956.069 \n  \"/>\n<polyline clip-path=\"url(#clip8402)\" style=\"stroke:#000000; stroke-width:2; stroke-opacity:0.1; fill:none\" points=\"\n  180.66,767.359 2352.76,767.359 \n  \"/>\n<polyline clip-path=\"url(#clip8402)\" style=\"stroke:#000000; stroke-width:2; stroke-opacity:0.1; fill:none\" points=\"\n  180.66,578.65 2352.76,578.65 \n  \"/>\n<polyline clip-path=\"url(#clip8402)\" style=\"stroke:#000000; stroke-width:2; stroke-opacity:0.1; fill:none\" points=\"\n  180.66,389.94 2352.76,389.94 \n  \"/>\n<polyline clip-path=\"url(#clip8402)\" style=\"stroke:#000000; stroke-width:2; stroke-opacity:0.1; fill:none\" points=\"\n  180.66,201.231 2352.76,201.231 \n  \"/>\n<polyline clip-path=\"url(#clip8400)\" style=\"stroke:#000000; stroke-width:4; stroke-opacity:1; fill:none\" points=\"\n  180.66,1487.47 2352.76,1487.47 \n  \"/>\n<polyline clip-path=\"url(#clip8400)\" style=\"stroke:#000000; stroke-width:4; stroke-opacity:1; fill:none\" points=\"\n  180.66,1487.47 180.66,47.2441 \n  \"/>\n<polyline clip-path=\"url(#clip8400)\" style=\"stroke:#000000; stroke-width:4; stroke-opacity:1; fill:none\" points=\"\n  216.52,1487.47 216.52,1465.87 \n  \"/>\n<polyline clip-path=\"url(#clip8400)\" style=\"stroke:#000000; stroke-width:4; stroke-opacity:1; fill:none\" points=\"\n  728.807,1487.47 728.807,1465.87 \n  \"/>\n<polyline clip-path=\"url(#clip8400)\" style=\"stroke:#000000; stroke-width:4; stroke-opacity:1; fill:none\" points=\"\n  1241.09,1487.47 1241.09,1465.87 \n  \"/>\n<polyline clip-path=\"url(#clip8400)\" style=\"stroke:#000000; stroke-width:4; stroke-opacity:1; fill:none\" points=\"\n  1753.38,1487.47 1753.38,1465.87 \n  \"/>\n<polyline clip-path=\"url(#clip8400)\" style=\"stroke:#000000; stroke-width:4; stroke-opacity:1; fill:none\" points=\"\n  2265.67,1487.47 2265.67,1465.87 \n  \"/>\n<polyline clip-path=\"url(#clip8400)\" style=\"stroke:#000000; stroke-width:4; stroke-opacity:1; fill:none\" points=\"\n  180.66,1333.49 213.242,1333.49 \n  \"/>\n<polyline clip-path=\"url(#clip8400)\" style=\"stroke:#000000; stroke-width:4; stroke-opacity:1; fill:none\" points=\"\n  180.66,1144.78 213.242,1144.78 \n  \"/>\n<polyline clip-path=\"url(#clip8400)\" style=\"stroke:#000000; stroke-width:4; stroke-opacity:1; fill:none\" points=\"\n  180.66,956.069 213.242,956.069 \n  \"/>\n<polyline clip-path=\"url(#clip8400)\" style=\"stroke:#000000; stroke-width:4; stroke-opacity:1; fill:none\" points=\"\n  180.66,767.359 213.242,767.359 \n  \"/>\n<polyline clip-path=\"url(#clip8400)\" style=\"stroke:#000000; stroke-width:4; stroke-opacity:1; fill:none\" points=\"\n  180.66,578.65 213.242,578.65 \n  \"/>\n<polyline clip-path=\"url(#clip8400)\" style=\"stroke:#000000; stroke-width:4; stroke-opacity:1; fill:none\" points=\"\n  180.66,389.94 213.242,389.94 \n  \"/>\n<polyline clip-path=\"url(#clip8400)\" style=\"stroke:#000000; stroke-width:4; stroke-opacity:1; fill:none\" points=\"\n  180.66,201.231 213.242,201.231 \n  \"/>\n<g clip-path=\"url(#clip8400)\">\n<text style=\"fill:#000000; fill-opacity:1; font-family:Arial,Helvetica Neue,Helvetica,sans-serif; font-size:48px; text-anchor:middle;\" transform=\"rotate(0, 216.52, 1541.47)\" x=\"216.52\" y=\"1541.47\">0</text>\n</g>\n<g clip-path=\"url(#clip8400)\">\n<text style=\"fill:#000000; fill-opacity:1; font-family:Arial,Helvetica Neue,Helvetica,sans-serif; font-size:48px; text-anchor:middle;\" transform=\"rotate(0, 728.807, 1541.47)\" x=\"728.807\" y=\"1541.47\">20</text>\n</g>\n<g clip-path=\"url(#clip8400)\">\n<text style=\"fill:#000000; fill-opacity:1; font-family:Arial,Helvetica Neue,Helvetica,sans-serif; font-size:48px; text-anchor:middle;\" transform=\"rotate(0, 1241.09, 1541.47)\" x=\"1241.09\" y=\"1541.47\">40</text>\n</g>\n<g clip-path=\"url(#clip8400)\">\n<text style=\"fill:#000000; fill-opacity:1; font-family:Arial,Helvetica Neue,Helvetica,sans-serif; font-size:48px; text-anchor:middle;\" transform=\"rotate(0, 1753.38, 1541.47)\" x=\"1753.38\" y=\"1541.47\">60</text>\n</g>\n<g clip-path=\"url(#clip8400)\">\n<text style=\"fill:#000000; fill-opacity:1; font-family:Arial,Helvetica Neue,Helvetica,sans-serif; font-size:48px; text-anchor:middle;\" transform=\"rotate(0, 2265.67, 1541.47)\" x=\"2265.67\" y=\"1541.47\">80</text>\n</g>\n<g clip-path=\"url(#clip8400)\">\n<text style=\"fill:#000000; fill-opacity:1; font-family:Arial,Helvetica Neue,Helvetica,sans-serif; font-size:48px; text-anchor:end;\" transform=\"rotate(0, 156.66, 1350.99)\" x=\"156.66\" y=\"1350.99\">94.5</text>\n</g>\n<g clip-path=\"url(#clip8400)\">\n<text style=\"fill:#000000; fill-opacity:1; font-family:Arial,Helvetica Neue,Helvetica,sans-serif; font-size:48px; text-anchor:end;\" transform=\"rotate(0, 156.66, 1162.28)\" x=\"156.66\" y=\"1162.28\">95.0</text>\n</g>\n<g clip-path=\"url(#clip8400)\">\n<text style=\"fill:#000000; fill-opacity:1; font-family:Arial,Helvetica Neue,Helvetica,sans-serif; font-size:48px; text-anchor:end;\" transform=\"rotate(0, 156.66, 973.569)\" x=\"156.66\" y=\"973.569\">95.5</text>\n</g>\n<g clip-path=\"url(#clip8400)\">\n<text style=\"fill:#000000; fill-opacity:1; font-family:Arial,Helvetica Neue,Helvetica,sans-serif; font-size:48px; text-anchor:end;\" transform=\"rotate(0, 156.66, 784.859)\" x=\"156.66\" y=\"784.859\">96.0</text>\n</g>\n<g clip-path=\"url(#clip8400)\">\n<text style=\"fill:#000000; fill-opacity:1; font-family:Arial,Helvetica Neue,Helvetica,sans-serif; font-size:48px; text-anchor:end;\" transform=\"rotate(0, 156.66, 596.15)\" x=\"156.66\" y=\"596.15\">96.5</text>\n</g>\n<g clip-path=\"url(#clip8400)\">\n<text style=\"fill:#000000; fill-opacity:1; font-family:Arial,Helvetica Neue,Helvetica,sans-serif; font-size:48px; text-anchor:end;\" transform=\"rotate(0, 156.66, 407.44)\" x=\"156.66\" y=\"407.44\">97.0</text>\n</g>\n<g clip-path=\"url(#clip8400)\">\n<text style=\"fill:#000000; fill-opacity:1; font-family:Arial,Helvetica Neue,Helvetica,sans-serif; font-size:48px; text-anchor:end;\" transform=\"rotate(0, 156.66, 218.731)\" x=\"156.66\" y=\"218.731\">97.5</text>\n</g>\n<polyline clip-path=\"url(#clip8402)\" style=\"stroke:#009af9; stroke-width:4; stroke-opacity:1; fill:none\" points=\"\n  242.135,691.876 267.749,1107.04 293.363,238.973 318.978,352.199 344.592,88.0053 370.206,238.973 395.821,691.876 421.435,503.166 447.049,503.166 472.664,389.94 \n  498.278,276.715 523.892,389.94 549.507,1031.55 575.121,1408.97 600.735,503.166 626.35,465.424 651.964,616.392 677.578,427.682 703.193,465.424 728.807,314.457 \n  754.421,880.585 780.036,352.199 805.65,1258 831.264,389.94 856.879,1144.78 882.493,616.392 908.107,503.166 933.722,729.618 959.336,540.908 984.95,616.392 \n  1010.56,503.166 1036.18,503.166 1061.79,1031.55 1087.41,805.101 1113.02,427.682 1138.64,503.166 1164.25,389.94 1189.87,578.65 1215.48,654.134 1241.09,503.166 \n  1266.71,616.392 1292.32,616.392 1317.94,691.876 1343.55,578.65 1369.17,578.65 1394.78,767.359 1420.39,1107.04 1446.01,767.359 1471.62,956.069 1497.24,993.811 \n  1522.85,1069.29 1548.47,616.392 1574.08,729.618 1599.69,993.811 1625.31,729.618 1650.92,578.65 1676.54,918.327 1702.15,578.65 1727.77,918.327 1753.38,956.069 \n  1778.99,956.069 1804.61,578.65 1830.22,842.843 1855.84,918.327 1881.45,767.359 1907.07,918.327 1932.68,918.327 1958.3,1031.55 1983.91,842.843 2009.52,1031.55 \n  2035.14,729.618 2060.75,956.069 2086.37,729.618 2111.98,993.811 2137.6,1069.29 2163.21,842.843 2188.82,767.359 2214.44,654.134 2240.05,1069.29 2265.67,805.101 \n  2291.28,1446.71 \n  \"/>\n<path clip-path=\"url(#clip8400)\" d=\"\nM1618.09 1343.47 L2280.76 1343.47 L2280.76 1222.51 L1618.09 1222.51  Z\n  \" fill=\"#ffffff\" fill-rule=\"evenodd\" fill-opacity=\"1\"/>\n<polyline clip-path=\"url(#clip8400)\" style=\"stroke:#000000; stroke-width:4; stroke-opacity:1; fill:none\" points=\"\n  1618.09,1343.47 2280.76,1343.47 2280.76,1222.51 1618.09,1222.51 1618.09,1343.47 \n  \"/>\n<polyline clip-path=\"url(#clip8400)\" style=\"stroke:#009af9; stroke-width:4; stroke-opacity:1; fill:none\" points=\"\n  1642.09,1282.99 1786.09,1282.99 \n  \"/>\n<g clip-path=\"url(#clip8400)\">\n<text style=\"fill:#000000; fill-opacity:1; font-family:Arial,Helvetica Neue,Helvetica,sans-serif; font-size:48px; text-anchor:start;\" transform=\"rotate(0, 1810.09, 1300.49)\" x=\"1810.09\" y=\"1300.49\">Validation Accuracy</text>\n</g>\n</svg>\n"
          },
          "metadata": {
            "tags": []
          },
          "execution_count": 159
        }
      ]
    },
    {
      "cell_type": "markdown",
      "metadata": {
        "colab_type": "text",
        "id": "LP1q97Q0gUa7"
      },
      "source": [
        "The accuracy is highest on the validation set for:"
      ]
    },
    {
      "cell_type": "code",
      "metadata": {
        "colab_type": "code",
        "outputId": "bc50e5a1-55b1-4cd4-944a-962ddc04ba10",
        "id": "aF_WqwZDgUa-",
        "colab": {
          "base_uri": "https://localhost:8080/",
          "height": 34
        }
      },
      "source": [
        "println(\"Epoch \", argmax(valid_accuracy))"
      ],
      "execution_count": 0,
      "outputs": [
        {
          "output_type": "stream",
          "text": [
            "Epoch 5\n"
          ],
          "name": "stdout"
        }
      ]
    },
    {
      "cell_type": "code",
      "metadata": {
        "colab_type": "code",
        "outputId": "42aea264-638a-4277-f5c8-f982f6ddfa16",
        "id": "I5HDGjTugUbD",
        "colab": {
          "base_uri": "https://localhost:8080/",
          "height": 34
        }
      },
      "source": [
        "println(\"Validation accuracy: \", vanilla_accuracy(devx, devys, w_best, b_best), \"%\")"
      ],
      "execution_count": 0,
      "outputs": [
        {
          "output_type": "stream",
          "text": [
            "Validation accuracy: 97.8%\n"
          ],
          "name": "stdout"
        }
      ]
    },
    {
      "cell_type": "code",
      "metadata": {
        "id": "f6E_EpuMg2Yw",
        "colab_type": "code",
        "outputId": "9e6b82b9-ef92-40c7-bd66-0d3d47b1f92f",
        "colab": {
          "base_uri": "https://localhost:8080/",
          "height": 34
        }
      },
      "source": [
        "println(\"Training accuracy: \", vanilla_accuracy(trainx, trainys, w_best, b_best), \"%\")"
      ],
      "execution_count": 0,
      "outputs": [
        {
          "output_type": "stream",
          "text": [
            "Training accuracy: 97.43333333333334%\n"
          ],
          "name": "stdout"
        }
      ]
    },
    {
      "cell_type": "markdown",
      "metadata": {
        "id": "0Zgutre1ubat",
        "colab_type": "text"
      },
      "source": [
        "### 3. Consider the models we have covered so far and attempt to significantly outperform the baseline model on the validation set.\n",
        "\n",
        "Implementing a Three-Layer-Perceptron with hidden layers of 256 and 128 nodes respectively:"
      ]
    },
    {
      "cell_type": "code",
      "metadata": {
        "id": "-GV920vw9PEP",
        "colab_type": "code",
        "colab": {}
      },
      "source": [
        "# Define logistic and logisticprime operations\n",
        "\n",
        "logistic(x)      = 1/(1 + exp(-x))\n",
        "logisticprime(x) = logistic(x)*(1 - logistic(x))"
      ],
      "execution_count": 0,
      "outputs": []
    },
    {
      "cell_type": "code",
      "metadata": {
        "id": "Ku1mxC9C9PWf",
        "colab_type": "code",
        "colab": {}
      },
      "source": [
        "# Reshape data so that each 28*28 image is a 748-length vector\n",
        "\n",
        "trainx = zeros((size(trainxs)[1]*size(trainxs)[2],size(trainxs)[3]))\n",
        "devx = zeros((size(devxs)[1]*size(devxs)[2],size(devxs)[3]))\n",
        "testx = zeros((size(testxs)[1]*size(testxs)[2],size(testxs)[3]))\n",
        "\n",
        "for i in 1:size(trainxs)[3]\n",
        "    trainx[:,i] = reshape(trainxs[:,:,i], size(trainxs)[1]*size(trainxs)[2], 1)\n",
        "end\n",
        "for i in 1:size(devxs)[3]\n",
        "    devx[:,i] = reshape(devxs[:,:,i], size(devxs)[1]*size(devxs)[2], 1)\n",
        "end\n",
        "for i in 1:size(testxs)[3]\n",
        "    testx[:,i] = reshape(testxs[:,:,i], size(testxs)[1]*size(testxs)[2], 1)\n",
        "end"
      ],
      "execution_count": 0,
      "outputs": []
    },
    {
      "cell_type": "code",
      "metadata": {
        "id": "DIptdb6ZeySf",
        "colab_type": "code",
        "colab": {}
      },
      "source": [
        "# glorot initialisation\n",
        "fanin(W::Matrix)  = size(W)[2]\n",
        "fanin(W::Vector)  = size(W)[1]\n",
        "fanout(W::Matrix) = size(W)[1]\n",
        "fanout(W::Vector) = 1\n",
        "\n",
        "function glorot!(W; islogistic=true)\n",
        "    x = sqrt(6/(fanin(W) + fanout(W)))*(islogistic ? 4 : 1)\n",
        "    W[:] = -2x .* rand(size(W)...) .+ x\n",
        "end"
      ],
      "execution_count": 0,
      "outputs": []
    },
    {
      "cell_type": "code",
      "metadata": {
        "id": "prMn8U_n9Ps-",
        "colab_type": "code",
        "colab": {}
      },
      "source": [
        "# Define the three layer perceptron\n",
        "\n",
        "mutable struct ThreeLayerPerceptron\n",
        "    W1 ::Matrix{Float64}\n",
        "    b1 ::Vector{Float64}\n",
        "    W2 ::Matrix{Float64}\n",
        "    b2 ::Vector{Float64}\n",
        "    w3 ::Vector{Float64}\n",
        "    b3 ::Float64\n",
        "end\n",
        "\n",
        "ThreeLayerPerceptron(h1,h2) = ThreeLayerPerceptron(\n",
        "    randn(h1, size(trainxs)[1]*size(trainxs)[2])./100,\n",
        "    zeros(h1),\n",
        "    randn(h2, h1)./100,\n",
        "    zeros(h2),\n",
        "    randn(h2)./100,\n",
        "    0.0,\n",
        "    )\n"
      ],
      "execution_count": 0,
      "outputs": []
    },
    {
      "cell_type": "code",
      "metadata": {
        "id": "n8LMW8o69QC5",
        "colab_type": "code",
        "colab": {}
      },
      "source": [
        "# Define the f and p functions\n",
        "\n",
        "function f(m::ThreeLayerPerceptron, x)\n",
        "  s1 = logistic.(m.W1*x + m.b1)\n",
        "  s2 = logistic.(m.W2*s1 + m.b2)\n",
        "  return logistic(dot(m.w3,s2) + m.b3)\n",
        "end\n",
        "\n",
        "p(m::ThreeLayerPerceptron, x) = f(m, x) >= .5"
      ],
      "execution_count": 0,
      "outputs": []
    },
    {
      "cell_type": "code",
      "metadata": {
        "id": "vzKSD2Pj9QQS",
        "colab_type": "code",
        "colab": {}
      },
      "source": [
        "# Define the loss function\n",
        "loss(m, x, y) = -log((1 - f(m, x))^(1 - y)) + -log(f(m, x)^y)"
      ],
      "execution_count": 0,
      "outputs": []
    },
    {
      "cell_type": "code",
      "metadata": {
        "id": "ry228UKr9Qo7",
        "colab_type": "code",
        "colab": {}
      },
      "source": [
        "# Convenience function to zero out perceptron\n",
        "import Base: zero\n",
        "function zero(m::ThreeLayerPerceptron)\n",
        "    gradm = deepcopy(m)\n",
        "    fill!(gradm.W1, 0)\n",
        "    fill!(gradm.b1, 0)\n",
        "    fill!(gradm.W2, 0)\n",
        "    fill!(gradm.b2, 0)\n",
        "    fill!(gradm.w3, 0)\n",
        "    gradm.b3 = 0\n",
        "    gradm\n",
        "end"
      ],
      "execution_count": 0,
      "outputs": []
    },
    {
      "cell_type": "code",
      "metadata": {
        "id": "dYGLaC4R9P87",
        "colab_type": "code",
        "colab": {}
      },
      "source": [
        "# Calculate gradients on zero perceptron\n",
        "fprime(m, x, y) = fprime!(zero(m), m, x, y)\n",
        "\n",
        "# Update gradients on gradm\n",
        "function fprime!(gradm, m, x, y)\n",
        "    # Forward pass\n",
        "    h1     = logistic.(m.W1*x + m.b1)         # activations of first layer\n",
        "    h2     = logistic.(m.W2*h1 + m.b2)        # activations of second layer\n",
        "    h3     = dot(m.w3, h2) + m.b3            # activations of third layer\n",
        "    yprime = logistic(h3)                     # output \n",
        "\n",
        "    # Backwards pass  \n",
        "    error3        = yprime - y                 \n",
        "    gradm.b3      += error3\n",
        "    gradm.w3[:]   += error3*h2\n",
        "    error2        = (m.w3*error3).*logisticprime.(h2)\n",
        "    gradm.b2[:]   += error2\n",
        "    gradm.W2[:,:] += error2*transpose(h1)\n",
        "    error1        = transpose(sum((m.W2.*error2).*transpose(logisticprime.(h1)),dims=1))\n",
        "    gradm.b1[:]   += error1\n",
        "    gradm.W1[:,:] += error1*transpose(x)\n",
        "\n",
        "    gradm\n",
        "end"
      ],
      "execution_count": 0,
      "outputs": []
    },
    {
      "cell_type": "code",
      "metadata": {
        "id": "oG3Lqw4L9jXJ",
        "colab_type": "code",
        "colab": {}
      },
      "source": [
        "# Define accuracy of model\n",
        "\n",
        "function accuracy(datax, datay, m)\n",
        "    correct = 0\n",
        "    for i in 1:length(datay)\n",
        "        p(m, datax[:, i]) == datay[i] || continue\n",
        "        correct += 1\n",
        "    end\n",
        "    correct/length(datay)*100\n",
        "end"
      ],
      "execution_count": 0,
      "outputs": []
    },
    {
      "cell_type": "code",
      "metadata": {
        "id": "-PmVkymUyoq0",
        "colab_type": "code",
        "colab": {}
      },
      "source": [
        "batchify(x, n) = [x[i:min(i + n - 1, length(x))] for i in 1:n:length(x)]"
      ],
      "execution_count": 0,
      "outputs": []
    },
    {
      "cell_type": "code",
      "metadata": {
        "colab_type": "code",
        "id": "OMu9aWJ54JSP",
        "colab": {}
      },
      "source": [
        "mlp_3layer = ThreeLayerPerceptron(256, 128) # Initialise new mlp\n",
        "m = mlp_3layer \n",
        "bestm   = deepcopy(m)\n",
        "bestacc = 0.0\n",
        "oldv    = deepcopy(m)\n",
        "fill!(oldv.W1, 0)\n",
        "fill!(oldv.b1, 0)\n",
        "fill!(oldv.W2, 0)\n",
        "fill!(oldv.b2, 0)\n",
        "fill!(oldv.w3, 0)\n",
        "oldv.b3 = 0\n",
        "\n",
        "glorot!(m.W1) # Intialize W1 using glorot\n",
        "glorot!(m.W2) # Intialize W2 using glorot\n",
        "glorot!(m.w3) # Intialize w3 using glorot\n",
        "bestm   = deepcopy(m) # This will store best-trained mlp\n",
        "bestacc = 0.0 # This will store the best accuracy\n",
        "epochs = 50 # Set number of epochs\n",
        "\n",
        "# This will store the losses for each epoch\n",
        "train_losses = zeros(epochs)  \n",
        "valid_losses = zeros(epochs)\n",
        "test_losses = zeros(epochs)\n",
        "\n",
        "# This will store the accuracies for each epoch\n",
        "train_accuracies = zeros(epochs) \n",
        "valid_accuracies = zeros(epochs)\n",
        "test_accuracies = zeros(epochs)\n",
        "\n",
        "# Define convergence features\n",
        "convergence = 0\n",
        "convergence_epoch = 0\n",
        "\n",
        "learningrate = .05\n",
        "batchsize    = 32\n",
        "momentum     = 0.95\n",
        "\n",
        "for iteration in 1:epochs\n",
        "    train_loss = 0\n",
        "\n",
        "    #Learning rate is lowered for more precise updates later on in the process\n",
        "    if iteration > 25\n",
        "      learningrate = .01\n",
        "    end\n",
        "    trainindx = shuffle(collect(1:1:length(trainys)))\n",
        "\n",
        "    # Define mini-batches\n",
        "    batches = batchify(trainindx, batchsize)\n",
        "\n",
        "    # Process and update per Full-batch\n",
        "    for batch in batches\n",
        "      # initialise gradient and velocity\n",
        "      gradm = deepcopy(m)\n",
        "      oldm = deepcopy(m)\n",
        "      v = deepcopy(oldv)\n",
        "      fill!(v.W1, 0)\n",
        "      fill!(v.b1, 0)\n",
        "      fill!(v.W2, 0)\n",
        "      fill!(v.b2, 0)\n",
        "      fill!(v.w3, 0)\n",
        "      v.b3 = 0\n",
        "\n",
        "      gradm = fprime(gradm, trainx[:,1], trainys[1])\n",
        "\n",
        "      # Process batch\n",
        "      for i in batch\n",
        "        x  = trainx[:,i]\n",
        "        y = trainys[i]\n",
        "        gradm = fprime!(gradm, m, x, y)\n",
        "        train_loss  += loss(m, x, y)\n",
        "      end\n",
        "\n",
        "      # Scale gradient by size of training data\n",
        "      gradm.W1 ./= length(batch)\n",
        "      gradm.b1 ./= length(batch)\n",
        "      gradm.W2 ./= length(batch)\n",
        "      gradm.b2  /= length(batch)\n",
        "      gradm.w3 ./= length(batch)\n",
        "      gradm.b3  /= length(batch)\n",
        "\n",
        "      # update velocity and store it\n",
        "      v.W1 = momentum.*oldv.W1-(1-momentum)*learningrate.*gradm.W1\n",
        "      v.b1 = momentum.*oldv.b1-(1-momentum)*learningrate.*gradm.b1\n",
        "      v.W2 = momentum.*oldv.W2-(1-momentum)*learningrate.*gradm.W2\n",
        "      v.b2 = momentum.*oldv.b2-(1-momentum)*learningrate*gradm.b2\n",
        "      v.w3 = momentum.*oldv.w3-(1-momentum)*learningrate.*gradm.w3\n",
        "      v.b3 = momentum*oldv.b3-(1-momentum)*learningrate*gradm.b3\n",
        "      oldv = deepcopy(v)\n",
        "\n",
        "      # Update weights and biases\n",
        "      m.W1 = oldm.W1 + v.W1\n",
        "      m.b1 = oldm.b1 + v.b1\n",
        "      m.W2 = oldm.W2 + v.W2\n",
        "      m.b2 = oldm.b2 + v.b2\n",
        "      m.w3 = oldm.w3 + v.w3\n",
        "      m.b3 = oldm.b3 + v.b3\n",
        "        \n",
        "    end\n",
        "    \n",
        "    #Calculating and storing the losses for the training, validation and test sets\n",
        "\n",
        "    train_loss /= length(trainys) \n",
        "    train_losses[iteration] = train_loss\n",
        " \n",
        "    for i in 1:size(devys)[1]\n",
        "      x  = devx[:,i]\n",
        "      y = devys[i]\n",
        "      valid_losses[iteration] += loss(m, x, y)/size(devys)[1]\n",
        "    end\n",
        "\n",
        "    for i in 1:size(testys)[1]\n",
        "      x  = testx[:,i]\n",
        "      y = testys[i]\n",
        "      test_losses[iteration] += loss(m, x, y)/size(testys)[1]\n",
        "    end\n",
        "\n",
        "    #Calculating and storing the accuracies for the training, validation and test sets\n",
        "\n",
        "    train_accuracies[iteration] = accuracy(trainx, trainys, m)\n",
        "    valid_accuracies[iteration] = accuracy(devx, devys, m)\n",
        "    test_accuracies[iteration] = accuracy(testx, testys, m)\n",
        "    \n",
        "\n",
        "    # Show iteration number and current validation accuracy\n",
        "    @show iteration \n",
        "    @show valid_accuracies[iteration]\n",
        "    @show train_losses[iteration]\n",
        "\n",
        "\n",
        "    # Update best model and accuracy if necessary\n",
        "    valid_accuracies[iteration] > bestacc || continue\n",
        "    bestm   = deepcopy(m)\n",
        "    bestacc = valid_accuracies[iteration]\n",
        "\n",
        "    if iteration > 10 && abs(train_losses[iteration] - train_losses[iteration-10]) < 1.0e-7\n",
        "      convergence = 1\n",
        "      convergence_epoch = iteration\n",
        "      break\n",
        "    end\n",
        "    \n",
        "end\n",
        "\n",
        "if convergence == 1 \n",
        "  println(\"Convergence after $convergence_epoch epochs\")\n",
        "else\n",
        "  println(\"No convergence after $epochs epochs\")\n",
        "end\n",
        "\n",
        "# Update perceptron values to best model\n",
        "m.W1[:,:] = bestm.W1[:,:]\n",
        "m.b1[:]   = bestm.b1[:]\n",
        "m.W2[:,:] = bestm.W2[:,:]\n",
        "m.b2[:]   = bestm.b2[:]\n",
        "m.w3[:]   = bestm.w3[:]\n",
        "m.b3      = bestm.b3;"
      ],
      "execution_count": 0,
      "outputs": []
    },
    {
      "cell_type": "markdown",
      "metadata": {
        "id": "TB26uBacs_uS",
        "colab_type": "text"
      },
      "source": [
        "### 4. Briefly describe in one or three paragraphs how you approached the task and what your final best model is, also listing its hyperparameters."
      ]
    },
    {
      "cell_type": "markdown",
      "metadata": {
        "id": "ngS1Br4kt2zS",
        "colab_type": "text"
      },
      "source": [
        "The \"vanilla\" perceptron performs well on the data despite just being a linear classifier. Therefore we decided that we should not need to increase the number of hidden layers further (from the three-layer MLP in Question 3) and fit excessively complex functions. \n",
        "\n",
        "In Question 3 we trained a 3-layer MLP with 6 & 6 nodes in the hidden layers. This is essentially dimensionality reduction and may have been detrimentally reducing the information in the data during the transition from the input vector to the first hidden layer. Therefore we increased the number of nodes in the hidden layers to 256 & 128 in order utilise the 784-dimensional input vectors more effectively.\n",
        "\n",
        "This larger model naturally trains slower so we have attempted to choose hyperparameters in order to speed up the process whilst not damaging performance. For fast training we ran mini-batch gradient descent with momentum using a relatively high learning rate of 0.05 (which falls to 0.01 by epoch 25), a low batch-size of 32 and a momentum constant of 0.95. Note that the model trains for just 50 epochs and does not completely converge due to time-constraints."
      ]
    },
    {
      "cell_type": "markdown",
      "metadata": {
        "colab_type": "text",
        "id": "ydwfYR_h4JSR"
      },
      "source": [
        "### 5. Provide a plot of the loss on the training, validation, and test set for each epoch for your best model."
      ]
    },
    {
      "cell_type": "code",
      "metadata": {
        "colab_type": "code",
        "outputId": "da1bd589-62c0-479d-a49e-2917cefce0bb",
        "id": "hAm-t4HI4JSS",
        "colab": {
          "base_uri": "https://localhost:8080/",
          "height": 420
        }
      },
      "source": [
        "plot(1:length(train_losses), [train_losses, valid_losses, test_losses], xlabel = \"Epochs\",label=[\"Training Loss\", \"Validation Loss\", \"Test Loss\"])"
      ],
      "execution_count": 0,
      "outputs": [
        {
          "output_type": "execute_result",
          "data": {
            "image/svg+xml": "<?xml version=\"1.0\" encoding=\"utf-8\"?>\n<svg xmlns=\"http://www.w3.org/2000/svg\" xmlns:xlink=\"http://www.w3.org/1999/xlink\" width=\"600\" height=\"400\" viewBox=\"0 0 2400 1600\">\n<defs>\n  <clipPath id=\"clip5500\">\n    <rect x=\"0\" y=\"0\" width=\"2400\" height=\"1600\"/>\n  </clipPath>\n</defs>\n<path clip-path=\"url(#clip5500)\" d=\"\nM0 1600 L2400 1600 L2400 0 L0 0  Z\n  \" fill=\"#ffffff\" fill-rule=\"evenodd\" fill-opacity=\"1\"/>\n<defs>\n  <clipPath id=\"clip5501\">\n    <rect x=\"480\" y=\"0\" width=\"1681\" height=\"1600\"/>\n  </clipPath>\n</defs>\n<path clip-path=\"url(#clip5500)\" d=\"\nM153.898 1425.62 L2352.76 1425.62 L2352.76 47.2441 L153.898 47.2441  Z\n  \" fill=\"#ffffff\" fill-rule=\"evenodd\" fill-opacity=\"1\"/>\n<defs>\n  <clipPath id=\"clip5502\">\n    <rect x=\"153\" y=\"47\" width=\"2200\" height=\"1379\"/>\n  </clipPath>\n</defs>\n<polyline clip-path=\"url(#clip5502)\" style=\"stroke:#000000; stroke-width:2; stroke-opacity:0.1; fill:none\" points=\"\n  173.795,1425.62 173.795,47.2441 \n  \"/>\n<polyline clip-path=\"url(#clip5502)\" style=\"stroke:#000000; stroke-width:2; stroke-opacity:0.1; fill:none\" points=\"\n  597.141,1425.62 597.141,47.2441 \n  \"/>\n<polyline clip-path=\"url(#clip5502)\" style=\"stroke:#000000; stroke-width:2; stroke-opacity:0.1; fill:none\" points=\"\n  1020.49,1425.62 1020.49,47.2441 \n  \"/>\n<polyline clip-path=\"url(#clip5502)\" style=\"stroke:#000000; stroke-width:2; stroke-opacity:0.1; fill:none\" points=\"\n  1443.83,1425.62 1443.83,47.2441 \n  \"/>\n<polyline clip-path=\"url(#clip5502)\" style=\"stroke:#000000; stroke-width:2; stroke-opacity:0.1; fill:none\" points=\"\n  1867.18,1425.62 1867.18,47.2441 \n  \"/>\n<polyline clip-path=\"url(#clip5502)\" style=\"stroke:#000000; stroke-width:2; stroke-opacity:0.1; fill:none\" points=\"\n  2290.52,1425.62 2290.52,47.2441 \n  \"/>\n<polyline clip-path=\"url(#clip5502)\" style=\"stroke:#000000; stroke-width:2; stroke-opacity:0.1; fill:none\" points=\"\n  153.898,1113.64 2352.76,1113.64 \n  \"/>\n<polyline clip-path=\"url(#clip5502)\" style=\"stroke:#000000; stroke-width:2; stroke-opacity:0.1; fill:none\" points=\"\n  153.898,800.792 2352.76,800.792 \n  \"/>\n<polyline clip-path=\"url(#clip5502)\" style=\"stroke:#000000; stroke-width:2; stroke-opacity:0.1; fill:none\" points=\"\n  153.898,487.947 2352.76,487.947 \n  \"/>\n<polyline clip-path=\"url(#clip5502)\" style=\"stroke:#000000; stroke-width:2; stroke-opacity:0.1; fill:none\" points=\"\n  153.898,175.101 2352.76,175.101 \n  \"/>\n<polyline clip-path=\"url(#clip5500)\" style=\"stroke:#000000; stroke-width:4; stroke-opacity:1; fill:none\" points=\"\n  153.898,1425.62 2352.76,1425.62 \n  \"/>\n<polyline clip-path=\"url(#clip5500)\" style=\"stroke:#000000; stroke-width:4; stroke-opacity:1; fill:none\" points=\"\n  153.898,1425.62 153.898,47.2441 \n  \"/>\n<polyline clip-path=\"url(#clip5500)\" style=\"stroke:#000000; stroke-width:4; stroke-opacity:1; fill:none\" points=\"\n  173.795,1425.62 173.795,1404.94 \n  \"/>\n<polyline clip-path=\"url(#clip5500)\" style=\"stroke:#000000; stroke-width:4; stroke-opacity:1; fill:none\" points=\"\n  597.141,1425.62 597.141,1404.94 \n  \"/>\n<polyline clip-path=\"url(#clip5500)\" style=\"stroke:#000000; stroke-width:4; stroke-opacity:1; fill:none\" points=\"\n  1020.49,1425.62 1020.49,1404.94 \n  \"/>\n<polyline clip-path=\"url(#clip5500)\" style=\"stroke:#000000; stroke-width:4; stroke-opacity:1; fill:none\" points=\"\n  1443.83,1425.62 1443.83,1404.94 \n  \"/>\n<polyline clip-path=\"url(#clip5500)\" style=\"stroke:#000000; stroke-width:4; stroke-opacity:1; fill:none\" points=\"\n  1867.18,1425.62 1867.18,1404.94 \n  \"/>\n<polyline clip-path=\"url(#clip5500)\" style=\"stroke:#000000; stroke-width:4; stroke-opacity:1; fill:none\" points=\"\n  2290.52,1425.62 2290.52,1404.94 \n  \"/>\n<polyline clip-path=\"url(#clip5500)\" style=\"stroke:#000000; stroke-width:4; stroke-opacity:1; fill:none\" points=\"\n  153.898,1113.64 186.881,1113.64 \n  \"/>\n<polyline clip-path=\"url(#clip5500)\" style=\"stroke:#000000; stroke-width:4; stroke-opacity:1; fill:none\" points=\"\n  153.898,800.792 186.881,800.792 \n  \"/>\n<polyline clip-path=\"url(#clip5500)\" style=\"stroke:#000000; stroke-width:4; stroke-opacity:1; fill:none\" points=\"\n  153.898,487.947 186.881,487.947 \n  \"/>\n<polyline clip-path=\"url(#clip5500)\" style=\"stroke:#000000; stroke-width:4; stroke-opacity:1; fill:none\" points=\"\n  153.898,175.101 186.881,175.101 \n  \"/>\n<g clip-path=\"url(#clip5500)\">\n<text style=\"fill:#000000; fill-opacity:1; font-family:Arial,Helvetica Neue,Helvetica,sans-serif; font-size:48px; text-anchor:middle;\" transform=\"rotate(0, 173.795, 1479.62)\" x=\"173.795\" y=\"1479.62\">0</text>\n</g>\n<g clip-path=\"url(#clip5500)\">\n<text style=\"fill:#000000; fill-opacity:1; font-family:Arial,Helvetica Neue,Helvetica,sans-serif; font-size:48px; text-anchor:middle;\" transform=\"rotate(0, 597.141, 1479.62)\" x=\"597.141\" y=\"1479.62\">10</text>\n</g>\n<g clip-path=\"url(#clip5500)\">\n<text style=\"fill:#000000; fill-opacity:1; font-family:Arial,Helvetica Neue,Helvetica,sans-serif; font-size:48px; text-anchor:middle;\" transform=\"rotate(0, 1020.49, 1479.62)\" x=\"1020.49\" y=\"1479.62\">20</text>\n</g>\n<g clip-path=\"url(#clip5500)\">\n<text style=\"fill:#000000; fill-opacity:1; font-family:Arial,Helvetica Neue,Helvetica,sans-serif; font-size:48px; text-anchor:middle;\" transform=\"rotate(0, 1443.83, 1479.62)\" x=\"1443.83\" y=\"1479.62\">30</text>\n</g>\n<g clip-path=\"url(#clip5500)\">\n<text style=\"fill:#000000; fill-opacity:1; font-family:Arial,Helvetica Neue,Helvetica,sans-serif; font-size:48px; text-anchor:middle;\" transform=\"rotate(0, 1867.18, 1479.62)\" x=\"1867.18\" y=\"1479.62\">40</text>\n</g>\n<g clip-path=\"url(#clip5500)\">\n<text style=\"fill:#000000; fill-opacity:1; font-family:Arial,Helvetica Neue,Helvetica,sans-serif; font-size:48px; text-anchor:middle;\" transform=\"rotate(0, 2290.52, 1479.62)\" x=\"2290.52\" y=\"1479.62\">50</text>\n</g>\n<g clip-path=\"url(#clip5500)\">\n<text style=\"fill:#000000; fill-opacity:1; font-family:Arial,Helvetica Neue,Helvetica,sans-serif; font-size:48px; text-anchor:end;\" transform=\"rotate(0, 129.898, 1131.14)\" x=\"129.898\" y=\"1131.14\">0.5</text>\n</g>\n<g clip-path=\"url(#clip5500)\">\n<text style=\"fill:#000000; fill-opacity:1; font-family:Arial,Helvetica Neue,Helvetica,sans-serif; font-size:48px; text-anchor:end;\" transform=\"rotate(0, 129.898, 818.292)\" x=\"129.898\" y=\"818.292\">1.0</text>\n</g>\n<g clip-path=\"url(#clip5500)\">\n<text style=\"fill:#000000; fill-opacity:1; font-family:Arial,Helvetica Neue,Helvetica,sans-serif; font-size:48px; text-anchor:end;\" transform=\"rotate(0, 129.898, 505.447)\" x=\"129.898\" y=\"505.447\">1.5</text>\n</g>\n<g clip-path=\"url(#clip5500)\">\n<text style=\"fill:#000000; fill-opacity:1; font-family:Arial,Helvetica Neue,Helvetica,sans-serif; font-size:48px; text-anchor:end;\" transform=\"rotate(0, 129.898, 192.601)\" x=\"129.898\" y=\"192.601\">2.0</text>\n</g>\n<g clip-path=\"url(#clip5500)\">\n<text style=\"fill:#000000; fill-opacity:1; font-family:Arial,Helvetica Neue,Helvetica,sans-serif; font-size:66px; text-anchor:middle;\" transform=\"rotate(0, 1253.33, 1559.48)\" x=\"1253.33\" y=\"1559.48\">Epochs</text>\n</g>\n<polyline clip-path=\"url(#clip5502)\" style=\"stroke:#009af9; stroke-width:4; stroke-opacity:1; fill:none\" points=\"\n  216.13,1287.76 258.464,1344.64 300.799,1352.57 343.134,1356.66 385.468,1360.8 427.803,1364.19 470.137,1365.86 512.472,1367.74 554.806,1369.34 597.141,1369.42 \n  639.476,1371.07 681.81,1370.99 724.145,1372.65 766.479,1372.12 808.814,1373.26 851.148,1375.27 893.483,1375.36 935.818,1376.63 978.152,1376.36 1020.49,1376.2 \n  1062.82,1377.41 1105.16,1377.35 1147.49,1377.74 1189.83,1377.37 1232.16,1379.4 1274.49,1380.49 1316.83,1381.58 1359.16,1381.46 1401.5,1381.98 1443.83,1381.82 \n  1486.17,1382.02 1528.5,1382.1 1570.84,1382.1 1613.17,1382.28 1655.51,1382.24 1697.84,1382.17 1740.17,1382.54 1782.51,1382.41 1824.84,1382.65 1867.18,1382.58 \n  1909.51,1382.91 1951.85,1382.61 1994.18,1383.18 2036.52,1382.75 2078.85,1383.03 2121.19,1383.27 2163.52,1383.35 2205.85,1383.52 2248.19,1383.15 2290.52,1383.47 \n  \n  \"/>\n<polyline clip-path=\"url(#clip5502)\" style=\"stroke:#e26f46; stroke-width:4; stroke-opacity:1; fill:none\" points=\"\n  216.13,1347.34 258.464,1359.1 300.799,1366.37 343.134,1368.88 385.468,1370.49 427.803,1374.07 470.137,1374.94 512.472,1376.64 554.806,1378.93 597.141,1380.55 \n  639.476,1375.18 681.81,1377.82 724.145,1379.47 766.479,1372.34 808.814,1383.81 851.148,1384.09 893.483,1384.52 935.818,1384.93 978.152,1382.38 1020.49,1385.66 \n  1062.82,1381.56 1105.16,1384.57 1147.49,1385 1189.83,1385.82 1232.16,1385.62 1274.49,1386.32 1316.83,1386.46 1359.16,1386.61 1401.5,1386.36 1443.83,1386.38 \n  1486.17,1386.26 1528.5,1385.54 1570.84,1386.16 1613.17,1385.27 1655.51,1386.05 1697.84,1386.48 1740.17,1386.18 1782.51,1384.63 1824.84,1386.31 1867.18,1386.37 \n  1909.51,1385.87 1951.85,1383.62 1994.18,1385.41 2036.52,1386.59 2078.85,1386.44 2121.19,1386.4 2163.52,1385.67 2205.85,1386.54 2248.19,1386.57 2290.52,1386.46 \n  \n  \"/>\n<polyline clip-path=\"url(#clip5502)\" style=\"stroke:#3da44d; stroke-width:4; stroke-opacity:1; fill:none\" points=\"\n  216.13,531.404 258.464,513.113 300.799,565.369 343.134,537.221 385.468,514.869 427.803,521.789 470.137,458.593 512.472,474.502 554.806,468.331 597.141,422.209 \n  639.476,449.127 681.81,390.102 724.145,360.281 766.479,315.598 808.814,330.756 851.148,304.565 893.483,287.055 935.818,278.986 978.152,240.865 1020.49,251.742 \n  1062.82,271.835 1105.16,216.09 1147.49,225.717 1189.83,177.601 1232.16,154.6 1274.49,140.812 1316.83,150.445 1359.16,157.744 1401.5,163.199 1443.83,146.166 \n  1486.17,156.553 1528.5,158.237 1570.84,154.656 1613.17,159.455 1655.51,146.932 1697.84,133.345 1740.17,135.111 1782.51,146.883 1824.84,124.976 1867.18,133.308 \n  1909.51,136.962 1951.85,130.368 1994.18,108.687 2036.52,112.271 2078.85,115.033 2121.19,105.444 2163.52,90.5482 2205.85,89.1298 2248.19,101.693 2290.52,86.2547 \n  \n  \"/>\n<path clip-path=\"url(#clip5500)\" d=\"\nM1714.36 372.684 L2280.76 372.684 L2280.76 130.764 L1714.36 130.764  Z\n  \" fill=\"#ffffff\" fill-rule=\"evenodd\" fill-opacity=\"1\"/>\n<polyline clip-path=\"url(#clip5500)\" style=\"stroke:#000000; stroke-width:4; stroke-opacity:1; fill:none\" points=\"\n  1714.36,372.684 2280.76,372.684 2280.76,130.764 1714.36,130.764 1714.36,372.684 \n  \"/>\n<polyline clip-path=\"url(#clip5500)\" style=\"stroke:#009af9; stroke-width:4; stroke-opacity:1; fill:none\" points=\"\n  1738.36,191.244 1882.36,191.244 \n  \"/>\n<g clip-path=\"url(#clip5500)\">\n<text style=\"fill:#000000; fill-opacity:1; font-family:Arial,Helvetica Neue,Helvetica,sans-serif; font-size:48px; text-anchor:start;\" transform=\"rotate(0, 1906.36, 208.744)\" x=\"1906.36\" y=\"208.744\">Training Loss</text>\n</g>\n<polyline clip-path=\"url(#clip5500)\" style=\"stroke:#e26f46; stroke-width:4; stroke-opacity:1; fill:none\" points=\"\n  1738.36,251.724 1882.36,251.724 \n  \"/>\n<g clip-path=\"url(#clip5500)\">\n<text style=\"fill:#000000; fill-opacity:1; font-family:Arial,Helvetica Neue,Helvetica,sans-serif; font-size:48px; text-anchor:start;\" transform=\"rotate(0, 1906.36, 269.224)\" x=\"1906.36\" y=\"269.224\">Validation Loss</text>\n</g>\n<polyline clip-path=\"url(#clip5500)\" style=\"stroke:#3da44d; stroke-width:4; stroke-opacity:1; fill:none\" points=\"\n  1738.36,312.204 1882.36,312.204 \n  \"/>\n<g clip-path=\"url(#clip5500)\">\n<text style=\"fill:#000000; fill-opacity:1; font-family:Arial,Helvetica Neue,Helvetica,sans-serif; font-size:48px; text-anchor:start;\" transform=\"rotate(0, 1906.36, 329.704)\" x=\"1906.36\" y=\"329.704\">Test Loss</text>\n</g>\n</svg>\n"
          },
          "metadata": {
            "tags": []
          },
          "execution_count": 17
        }
      ]
    },
    {
      "cell_type": "markdown",
      "metadata": {
        "colab_type": "text",
        "id": "SSIZRr6V4JSV"
      },
      "source": [
        "####6. Provide a plot of the accuracy on the training, validation, and test set for each epoch for your best model."
      ]
    },
    {
      "cell_type": "code",
      "metadata": {
        "colab_type": "code",
        "id": "edyUJ0mj4JSZ",
        "outputId": "54f95328-c805-43ba-9c9b-34c11745d731",
        "colab": {
          "base_uri": "https://localhost:8080/",
          "height": 420
        }
      },
      "source": [
        "plot(1:length(train_accuracies), [train_accuracies, valid_accuracies, test_accuracies], ylims = (0,100),xlabel = \"Epochs\",label=[\"Training Accuracy\", \"Validation Accuracy\", \"Test Accuracy\"])"
      ],
      "execution_count": 0,
      "outputs": [
        {
          "output_type": "execute_result",
          "data": {
            "image/svg+xml": "<?xml version=\"1.0\" encoding=\"utf-8\"?>\n<svg xmlns=\"http://www.w3.org/2000/svg\" xmlns:xlink=\"http://www.w3.org/1999/xlink\" width=\"600\" height=\"400\" viewBox=\"0 0 2400 1600\">\n<defs>\n  <clipPath id=\"clip5900\">\n    <rect x=\"0\" y=\"0\" width=\"2400\" height=\"1600\"/>\n  </clipPath>\n</defs>\n<path clip-path=\"url(#clip5900)\" d=\"\nM0 1600 L2400 1600 L2400 0 L0 0  Z\n  \" fill=\"#ffffff\" fill-rule=\"evenodd\" fill-opacity=\"1\"/>\n<defs>\n  <clipPath id=\"clip5901\">\n    <rect x=\"480\" y=\"0\" width=\"1681\" height=\"1600\"/>\n  </clipPath>\n</defs>\n<path clip-path=\"url(#clip5900)\" d=\"\nM167.279 1425.62 L2352.76 1425.62 L2352.76 47.2441 L167.279 47.2441  Z\n  \" fill=\"#ffffff\" fill-rule=\"evenodd\" fill-opacity=\"1\"/>\n<defs>\n  <clipPath id=\"clip5902\">\n    <rect x=\"167\" y=\"47\" width=\"2186\" height=\"1379\"/>\n  </clipPath>\n</defs>\n<polyline clip-path=\"url(#clip5902)\" style=\"stroke:#000000; stroke-width:2; stroke-opacity:0.1; fill:none\" points=\"\n  187.055,1425.62 187.055,47.2441 \n  \"/>\n<polyline clip-path=\"url(#clip5902)\" style=\"stroke:#000000; stroke-width:2; stroke-opacity:0.1; fill:none\" points=\"\n  607.825,1425.62 607.825,47.2441 \n  \"/>\n<polyline clip-path=\"url(#clip5902)\" style=\"stroke:#000000; stroke-width:2; stroke-opacity:0.1; fill:none\" points=\"\n  1028.59,1425.62 1028.59,47.2441 \n  \"/>\n<polyline clip-path=\"url(#clip5902)\" style=\"stroke:#000000; stroke-width:2; stroke-opacity:0.1; fill:none\" points=\"\n  1449.36,1425.62 1449.36,47.2441 \n  \"/>\n<polyline clip-path=\"url(#clip5902)\" style=\"stroke:#000000; stroke-width:2; stroke-opacity:0.1; fill:none\" points=\"\n  1870.13,1425.62 1870.13,47.2441 \n  \"/>\n<polyline clip-path=\"url(#clip5902)\" style=\"stroke:#000000; stroke-width:2; stroke-opacity:0.1; fill:none\" points=\"\n  2290.9,1425.62 2290.9,47.2441 \n  \"/>\n<polyline clip-path=\"url(#clip5902)\" style=\"stroke:#000000; stroke-width:2; stroke-opacity:0.1; fill:none\" points=\"\n  167.279,1425.62 2352.76,1425.62 \n  \"/>\n<polyline clip-path=\"url(#clip5902)\" style=\"stroke:#000000; stroke-width:2; stroke-opacity:0.1; fill:none\" points=\"\n  167.279,1149.94 2352.76,1149.94 \n  \"/>\n<polyline clip-path=\"url(#clip5902)\" style=\"stroke:#000000; stroke-width:2; stroke-opacity:0.1; fill:none\" points=\"\n  167.279,874.269 2352.76,874.269 \n  \"/>\n<polyline clip-path=\"url(#clip5902)\" style=\"stroke:#000000; stroke-width:2; stroke-opacity:0.1; fill:none\" points=\"\n  167.279,598.594 2352.76,598.594 \n  \"/>\n<polyline clip-path=\"url(#clip5902)\" style=\"stroke:#000000; stroke-width:2; stroke-opacity:0.1; fill:none\" points=\"\n  167.279,322.919 2352.76,322.919 \n  \"/>\n<polyline clip-path=\"url(#clip5902)\" style=\"stroke:#000000; stroke-width:2; stroke-opacity:0.1; fill:none\" points=\"\n  167.279,47.2441 2352.76,47.2441 \n  \"/>\n<polyline clip-path=\"url(#clip5900)\" style=\"stroke:#000000; stroke-width:4; stroke-opacity:1; fill:none\" points=\"\n  167.279,1425.62 2352.76,1425.62 \n  \"/>\n<polyline clip-path=\"url(#clip5900)\" style=\"stroke:#000000; stroke-width:4; stroke-opacity:1; fill:none\" points=\"\n  167.279,1425.62 167.279,47.2441 \n  \"/>\n<polyline clip-path=\"url(#clip5900)\" style=\"stroke:#000000; stroke-width:4; stroke-opacity:1; fill:none\" points=\"\n  187.055,1425.62 187.055,1404.94 \n  \"/>\n<polyline clip-path=\"url(#clip5900)\" style=\"stroke:#000000; stroke-width:4; stroke-opacity:1; fill:none\" points=\"\n  607.825,1425.62 607.825,1404.94 \n  \"/>\n<polyline clip-path=\"url(#clip5900)\" style=\"stroke:#000000; stroke-width:4; stroke-opacity:1; fill:none\" points=\"\n  1028.59,1425.62 1028.59,1404.94 \n  \"/>\n<polyline clip-path=\"url(#clip5900)\" style=\"stroke:#000000; stroke-width:4; stroke-opacity:1; fill:none\" points=\"\n  1449.36,1425.62 1449.36,1404.94 \n  \"/>\n<polyline clip-path=\"url(#clip5900)\" style=\"stroke:#000000; stroke-width:4; stroke-opacity:1; fill:none\" points=\"\n  1870.13,1425.62 1870.13,1404.94 \n  \"/>\n<polyline clip-path=\"url(#clip5900)\" style=\"stroke:#000000; stroke-width:4; stroke-opacity:1; fill:none\" points=\"\n  2290.9,1425.62 2290.9,1404.94 \n  \"/>\n<polyline clip-path=\"url(#clip5900)\" style=\"stroke:#000000; stroke-width:4; stroke-opacity:1; fill:none\" points=\"\n  167.279,1425.62 200.061,1425.62 \n  \"/>\n<polyline clip-path=\"url(#clip5900)\" style=\"stroke:#000000; stroke-width:4; stroke-opacity:1; fill:none\" points=\"\n  167.279,1149.94 200.061,1149.94 \n  \"/>\n<polyline clip-path=\"url(#clip5900)\" style=\"stroke:#000000; stroke-width:4; stroke-opacity:1; fill:none\" points=\"\n  167.279,874.269 200.061,874.269 \n  \"/>\n<polyline clip-path=\"url(#clip5900)\" style=\"stroke:#000000; stroke-width:4; stroke-opacity:1; fill:none\" points=\"\n  167.279,598.594 200.061,598.594 \n  \"/>\n<polyline clip-path=\"url(#clip5900)\" style=\"stroke:#000000; stroke-width:4; stroke-opacity:1; fill:none\" points=\"\n  167.279,322.919 200.061,322.919 \n  \"/>\n<polyline clip-path=\"url(#clip5900)\" style=\"stroke:#000000; stroke-width:4; stroke-opacity:1; fill:none\" points=\"\n  167.279,47.2441 200.061,47.2441 \n  \"/>\n<g clip-path=\"url(#clip5900)\">\n<text style=\"fill:#000000; fill-opacity:1; font-family:Arial,Helvetica Neue,Helvetica,sans-serif; font-size:48px; text-anchor:middle;\" transform=\"rotate(0, 187.055, 1479.62)\" x=\"187.055\" y=\"1479.62\">0</text>\n</g>\n<g clip-path=\"url(#clip5900)\">\n<text style=\"fill:#000000; fill-opacity:1; font-family:Arial,Helvetica Neue,Helvetica,sans-serif; font-size:48px; text-anchor:middle;\" transform=\"rotate(0, 607.825, 1479.62)\" x=\"607.825\" y=\"1479.62\">10</text>\n</g>\n<g clip-path=\"url(#clip5900)\">\n<text style=\"fill:#000000; fill-opacity:1; font-family:Arial,Helvetica Neue,Helvetica,sans-serif; font-size:48px; text-anchor:middle;\" transform=\"rotate(0, 1028.59, 1479.62)\" x=\"1028.59\" y=\"1479.62\">20</text>\n</g>\n<g clip-path=\"url(#clip5900)\">\n<text style=\"fill:#000000; fill-opacity:1; font-family:Arial,Helvetica Neue,Helvetica,sans-serif; font-size:48px; text-anchor:middle;\" transform=\"rotate(0, 1449.36, 1479.62)\" x=\"1449.36\" y=\"1479.62\">30</text>\n</g>\n<g clip-path=\"url(#clip5900)\">\n<text style=\"fill:#000000; fill-opacity:1; font-family:Arial,Helvetica Neue,Helvetica,sans-serif; font-size:48px; text-anchor:middle;\" transform=\"rotate(0, 1870.13, 1479.62)\" x=\"1870.13\" y=\"1479.62\">40</text>\n</g>\n<g clip-path=\"url(#clip5900)\">\n<text style=\"fill:#000000; fill-opacity:1; font-family:Arial,Helvetica Neue,Helvetica,sans-serif; font-size:48px; text-anchor:middle;\" transform=\"rotate(0, 2290.9, 1479.62)\" x=\"2290.9\" y=\"1479.62\">50</text>\n</g>\n<g clip-path=\"url(#clip5900)\">\n<text style=\"fill:#000000; fill-opacity:1; font-family:Arial,Helvetica Neue,Helvetica,sans-serif; font-size:48px; text-anchor:end;\" transform=\"rotate(0, 143.279, 1443.12)\" x=\"143.279\" y=\"1443.12\">0</text>\n</g>\n<g clip-path=\"url(#clip5900)\">\n<text style=\"fill:#000000; fill-opacity:1; font-family:Arial,Helvetica Neue,Helvetica,sans-serif; font-size:48px; text-anchor:end;\" transform=\"rotate(0, 143.279, 1167.44)\" x=\"143.279\" y=\"1167.44\">20</text>\n</g>\n<g clip-path=\"url(#clip5900)\">\n<text style=\"fill:#000000; fill-opacity:1; font-family:Arial,Helvetica Neue,Helvetica,sans-serif; font-size:48px; text-anchor:end;\" transform=\"rotate(0, 143.279, 891.769)\" x=\"143.279\" y=\"891.769\">40</text>\n</g>\n<g clip-path=\"url(#clip5900)\">\n<text style=\"fill:#000000; fill-opacity:1; font-family:Arial,Helvetica Neue,Helvetica,sans-serif; font-size:48px; text-anchor:end;\" transform=\"rotate(0, 143.279, 616.094)\" x=\"143.279\" y=\"616.094\">60</text>\n</g>\n<g clip-path=\"url(#clip5900)\">\n<text style=\"fill:#000000; fill-opacity:1; font-family:Arial,Helvetica Neue,Helvetica,sans-serif; font-size:48px; text-anchor:end;\" transform=\"rotate(0, 143.279, 340.419)\" x=\"143.279\" y=\"340.419\">80</text>\n</g>\n<g clip-path=\"url(#clip5900)\">\n<text style=\"fill:#000000; fill-opacity:1; font-family:Arial,Helvetica Neue,Helvetica,sans-serif; font-size:48px; text-anchor:end;\" transform=\"rotate(0, 143.279, 64.7441)\" x=\"143.279\" y=\"64.7441\">100</text>\n</g>\n<g clip-path=\"url(#clip5900)\">\n<text style=\"fill:#000000; fill-opacity:1; font-family:Arial,Helvetica Neue,Helvetica,sans-serif; font-size:66px; text-anchor:middle;\" transform=\"rotate(0, 1260.02, 1559.48)\" x=\"1260.02\" y=\"1559.48\">Epochs</text>\n</g>\n<polyline clip-path=\"url(#clip5902)\" style=\"stroke:#009af9; stroke-width:4; stroke-opacity:1; fill:none\" points=\"\n  229.132,110.764 271.209,101.46 313.286,93.6494 355.363,94.3386 397.44,91.9264 439.517,89.744 481.594,89.6291 523.671,86.298 565.748,85.3791 607.825,84.4602 \n  649.902,88.9399 691.979,89.0548 734.056,87.1021 776.133,93.1899 818.21,81.9332 860.287,80.8994 902.363,81.3589 944.44,81.4737 986.517,84.3453 1028.59,79.9805 \n  1070.67,83.1967 1112.75,80.7845 1154.83,78.8318 1196.9,79.0616 1238.98,79.4062 1281.06,77.6832 1323.13,78.9467 1365.21,77.4535 1407.29,77.4535 1449.36,78.4873 \n  1491.44,77.5683 1533.52,78.2575 1575.59,77.7981 1617.67,78.3724 1659.75,77.6832 1701.83,76.994 1743.9,77.3386 1785.98,78.4873 1828.06,77.3386 1870.13,76.5346 \n  1912.21,77.3386 1954.29,79.1764 1996.36,79.0616 2038.44,76.5346 2080.52,76.8791 2122.59,76.994 2164.67,78.4873 2206.75,76.19 2248.83,75.7305 2290.9,75.9602 \n  \n  \"/>\n<polyline clip-path=\"url(#clip5902)\" style=\"stroke:#e26f46; stroke-width:4; stroke-opacity:1; fill:none\" points=\"\n  229.132,110.649 271.209,98.244 313.286,95.4872 355.363,91.3521 397.44,88.5953 439.517,84.4602 481.594,83.0818 523.671,85.8386 565.748,83.0818 607.825,83.0818 \n  649.902,85.8386 691.979,80.3251 734.056,80.3251 776.133,91.3521 818.21,78.9467 860.287,80.3251 902.363,76.19 944.44,78.9467 986.517,76.19 1028.59,77.5683 \n  1070.67,80.3251 1112.75,76.19 1154.83,80.3251 1196.9,77.5683 1238.98,78.9467 1281.06,78.9467 1323.13,80.3251 1365.21,80.3251 1407.29,77.5683 1449.36,80.3251 \n  1491.44,78.9467 1533.52,78.9467 1575.59,78.9467 1617.67,80.3251 1659.75,78.9467 1701.83,81.7035 1743.9,80.3251 1785.98,80.3251 1828.06,80.3251 1870.13,80.3251 \n  1912.21,78.9467 1954.29,81.7035 1996.36,77.5683 2038.44,81.7035 2080.52,80.3251 2122.59,80.3251 2164.67,78.9467 2206.75,77.5683 2248.83,78.9467 2290.9,78.9467 \n  \n  \"/>\n<polyline clip-path=\"url(#clip5902)\" style=\"stroke:#3da44d; stroke-width:4; stroke-opacity:1; fill:none\" points=\"\n  229.132,719.891 271.209,732.296 313.286,733.675 355.363,737.81 397.44,733.675 439.517,733.675 481.594,732.296 523.671,733.675 565.748,741.945 607.825,740.566 \n  649.902,757.107 691.979,752.972 734.056,750.215 776.133,748.837 818.21,755.729 860.287,757.107 902.363,768.134 944.44,761.242 986.517,763.999 1028.59,759.864 \n  1070.67,758.485 1112.75,762.62 1154.83,759.864 1196.9,757.107 1238.98,761.242 1281.06,755.729 1323.13,758.485 1365.21,765.377 1407.29,766.756 1449.36,763.999 \n  1491.44,763.999 1533.52,759.864 1575.59,761.242 1617.67,759.864 1659.75,763.999 1701.83,759.864 1743.9,758.485 1785.98,759.864 1828.06,757.107 1870.13,761.242 \n  1912.21,762.62 1954.29,762.62 1996.36,765.377 2038.44,761.242 2080.52,761.242 2122.59,765.377 2164.67,765.377 2206.75,762.62 2248.83,762.62 2290.9,766.756 \n  \n  \"/>\n<path clip-path=\"url(#clip5900)\" d=\"\nM1618.09 372.684 L2280.76 372.684 L2280.76 130.764 L1618.09 130.764  Z\n  \" fill=\"#ffffff\" fill-rule=\"evenodd\" fill-opacity=\"1\"/>\n<polyline clip-path=\"url(#clip5900)\" style=\"stroke:#000000; stroke-width:4; stroke-opacity:1; fill:none\" points=\"\n  1618.09,372.684 2280.76,372.684 2280.76,130.764 1618.09,130.764 1618.09,372.684 \n  \"/>\n<polyline clip-path=\"url(#clip5900)\" style=\"stroke:#009af9; stroke-width:4; stroke-opacity:1; fill:none\" points=\"\n  1642.09,191.244 1786.09,191.244 \n  \"/>\n<g clip-path=\"url(#clip5900)\">\n<text style=\"fill:#000000; fill-opacity:1; font-family:Arial,Helvetica Neue,Helvetica,sans-serif; font-size:48px; text-anchor:start;\" transform=\"rotate(0, 1810.09, 208.744)\" x=\"1810.09\" y=\"208.744\">Training Accuracy</text>\n</g>\n<polyline clip-path=\"url(#clip5900)\" style=\"stroke:#e26f46; stroke-width:4; stroke-opacity:1; fill:none\" points=\"\n  1642.09,251.724 1786.09,251.724 \n  \"/>\n<g clip-path=\"url(#clip5900)\">\n<text style=\"fill:#000000; fill-opacity:1; font-family:Arial,Helvetica Neue,Helvetica,sans-serif; font-size:48px; text-anchor:start;\" transform=\"rotate(0, 1810.09, 269.224)\" x=\"1810.09\" y=\"269.224\">Validation Accuracy</text>\n</g>\n<polyline clip-path=\"url(#clip5900)\" style=\"stroke:#3da44d; stroke-width:4; stroke-opacity:1; fill:none\" points=\"\n  1642.09,312.204 1786.09,312.204 \n  \"/>\n<g clip-path=\"url(#clip5900)\">\n<text style=\"fill:#000000; fill-opacity:1; font-family:Arial,Helvetica Neue,Helvetica,sans-serif; font-size:48px; text-anchor:start;\" transform=\"rotate(0, 1810.09, 329.704)\" x=\"1810.09\" y=\"329.704\">Test Accuracy</text>\n</g>\n</svg>\n"
          },
          "metadata": {
            "tags": []
          },
          "execution_count": 18
        }
      ]
    },
    {
      "cell_type": "markdown",
      "metadata": {
        "colab_type": "text",
        "id": "pGXfYqlM4JSu"
      },
      "source": [
        "####Provide the accuracy on the training, validation, and test set for your best model, for the epoch on which you obtain your highest accuracy on the validation set."
      ]
    },
    {
      "cell_type": "code",
      "metadata": {
        "colab_type": "code",
        "id": "JkMyK3bT4JSv",
        "outputId": "8916aec4-3c95-45ca-adcc-4f4d65daa827",
        "colab": {
          "base_uri": "https://localhost:8080/",
          "height": 32
        }
      },
      "source": [
        "print(\"Train accuracy: \",accuracy(trainx, trainys, bestm),\"%\")"
      ],
      "execution_count": 0,
      "outputs": [
        {
          "output_type": "stream",
          "text": [
            "Train accuracy: 97.52499999999999%"
          ],
          "name": "stdout"
        }
      ]
    },
    {
      "cell_type": "code",
      "metadata": {
        "colab_type": "code",
        "id": "qY7tT_qa4JSx",
        "outputId": "a764d209-24d9-481e-c4b2-d1727ffa4730",
        "colab": {
          "base_uri": "https://localhost:8080/",
          "height": 32
        }
      },
      "source": [
        "print(\"Validation accuracy: \",accuracy(devx, devys, bestm),\"%\")"
      ],
      "execution_count": 0,
      "outputs": [
        {
          "output_type": "stream",
          "text": [
            "Validation accuracy: 97.89999999999999%"
          ],
          "name": "stdout"
        }
      ]
    },
    {
      "cell_type": "code",
      "metadata": {
        "colab_type": "code",
        "id": "hqdkREEtDfu_",
        "outputId": "328f245d-549d-4807-d932-00f6126905de",
        "colab": {
          "base_uri": "https://localhost:8080/",
          "height": 32
        }
      },
      "source": [
        "print(\"Test accuracy: \",accuracy(testx, testys, bestm),\"%\")"
      ],
      "execution_count": 0,
      "outputs": [
        {
          "output_type": "stream",
          "text": [
            "Test accuracy: 47.699999999999996%"
          ],
          "name": "stdout"
        }
      ]
    }
  ]
}